{
 "cells": [
  {
   "cell_type": "markdown",
   "id": "894f75c7e901a116",
   "metadata": {},
   "source": [
    "# Pandas & Preprocessing Checkpoint Task\n",
    "\n",
    "In this notebook you will be applying your knowledge to analyse a real dataset. Take a few minutes to read about the dataset here: https://scikit-learn.org/stable/datasets/toy_dataset.html#diabetes-dataset"
   ]
  },
  {
   "cell_type": "code",
   "execution_count": 1,
   "id": "cb36f91af23274f7",
   "metadata": {
    "ExecuteTime": {
     "end_time": "2024-05-13T06:15:47.556452500Z",
     "start_time": "2024-05-13T06:15:44.312393400Z"
    }
   },
   "outputs": [],
   "source": [
    "import numpy as np\n",
    "import pandas as pd\n",
    "from sklearn.datasets import load_diabetes\n",
    "\n",
    "def load_dataset() -> pd.DataFrame:\n",
    "    \"\"\"\n",
    "    Load the diabetes dataset and introduce NaN values randomly into the DataFrame.\n",
    "\n",
    "    Returns:\n",
    "        pd.DataFrame: DataFrame containing the diabetes dataset with NaN values.\n",
    "    \"\"\"\n",
    "    df = load_diabetes(as_frame=True, scaled=False).frame\n",
    "\n",
    "    num_nans = int(df.size * 0.05) # number of values to make nan (5%)\n",
    "    \n",
    "    nan_indices = np.random.choice(range(df.size), size=num_nans, replace=False)\n",
    "    \n",
    "    for index in nan_indices:\n",
    "        x, y = divmod(index, df.shape[1])\n",
    "        df.iloc[x, y] = np.nan\n",
    "        \n",
    "    return df"
   ]
  },
  {
   "cell_type": "markdown",
   "id": "fb036aeee619df3",
   "metadata": {},
   "source": [
    "Read through the function `load_dataset` and try to understand what it's doing. When you're happy, call it below to create your dataset with the variable name `df`"
   ]
  },
  {
   "cell_type": "code",
   "execution_count": 2,
   "id": "f0a1b99e848685f2",
   "metadata": {
    "ExecuteTime": {
     "end_time": "2024-05-13T06:15:47.556452500Z",
     "start_time": "2024-05-13T06:15:46.813019100Z"
    }
   },
   "outputs": [],
   "source": [
    "# Your code here"
   ]
  },
  {
   "cell_type": "markdown",
   "id": "813a7e557aa99b87",
   "metadata": {},
   "source": [
    "Examine at the first 10 rows of the dataset and answer the following (using code):\n",
    "\n",
    "How many features and samples are there?\n",
    "What are the names of the features?"
   ]
  },
  {
   "cell_type": "code",
   "execution_count": 3,
   "id": "1534a46d3006f378",
   "metadata": {
    "ExecuteTime": {
     "end_time": "2024-05-13T06:15:47.556452500Z",
     "start_time": "2024-05-13T06:15:46.817462400Z"
    }
   },
   "outputs": [],
   "source": [
    "# Your code here"
   ]
  },
  {
   "cell_type": "markdown",
   "id": "d798da5808f565e",
   "metadata": {},
   "source": [
    "From the documentation, the feature names have been abbreviated from:\n",
    "\n",
    "- bmi: body mass index\n",
    "- bp: average blood pressure\n",
    "- s1: tc, total serum cholesterol\n",
    "- s2: ldl, low-density lipoproteins\n",
    "- s3: hdl, high-density lipoproteins\n",
    "- s4: tch, total cholesterol / HDL\n",
    "- s5: ltg, possibly log of serum triglycerides level\n",
    "- s6: glu, blood sugar level\n",
    "- target: qualitative measure of disease progression one year after baseline\n",
    "\n",
    "Rename the features to something that you'll find more helpful, e.g. s1 -> total_serum_cholesterol"
   ]
  },
  {
   "cell_type": "code",
   "execution_count": 4,
   "id": "17b3f04657cb384f",
   "metadata": {
    "ExecuteTime": {
     "end_time": "2024-05-13T06:15:47.556452500Z",
     "start_time": "2024-05-13T06:15:46.849950800Z"
    }
   },
   "outputs": [],
   "source": [
    "# Your code here"
   ]
  },
  {
   "cell_type": "markdown",
   "id": "9076c6931c0e44fd",
   "metadata": {},
   "source": [
    "Identify how much of the data is missing"
   ]
  },
  {
   "cell_type": "code",
   "execution_count": 5,
   "id": "5ccb70ac9f31dc12",
   "metadata": {
    "ExecuteTime": {
     "end_time": "2024-05-13T06:15:47.556452500Z",
     "start_time": "2024-05-13T06:15:46.857914100Z"
    }
   },
   "outputs": [],
   "source": [
    "# Your code here"
   ]
  },
  {
   "cell_type": "markdown",
   "id": "ce74e80da84c5be6",
   "metadata": {},
   "source": [
    "Using your knowledge of imputation, fill in the missing data. \n",
    "Be prepared to justify why you've used your chosen method!"
   ]
  },
  {
   "cell_type": "code",
   "execution_count": 6,
   "id": "447dfb737ea8a0b1",
   "metadata": {
    "ExecuteTime": {
     "end_time": "2024-05-13T06:15:49.198220Z",
     "start_time": "2024-05-13T06:15:49.197713100Z"
    }
   },
   "outputs": [],
   "source": [
    "# Your code here"
   ]
  },
  {
   "cell_type": "code",
   "execution_count": 7,
   "id": "b39e7f2783a84a55",
   "metadata": {
    "ExecuteTime": {
     "end_time": "2024-05-13T06:15:52.462784Z",
     "start_time": "2024-05-13T06:15:51.424029300Z"
    }
   },
   "outputs": [
    {
     "ename": "NameError",
     "evalue": "name 'df' is not defined",
     "output_type": "error",
     "traceback": [
      "\u001B[1;31m---------------------------------------------------------------------------\u001B[0m",
      "\u001B[1;31mNameError\u001B[0m                                 Traceback (most recent call last)",
      "Cell \u001B[1;32mIn[7], line 3\u001B[0m\n\u001B[0;32m      1\u001B[0m \u001B[38;5;66;03m# Run this cell to make sure you have no missing data.\u001B[39;00m\n\u001B[1;32m----> 3\u001B[0m \u001B[38;5;28;01massert\u001B[39;00m df\u001B[38;5;241m.\u001B[39misna()\u001B[38;5;241m.\u001B[39mvalues\u001B[38;5;241m.\u001B[39msum() \u001B[38;5;241m==\u001B[39m \u001B[38;5;241m0\u001B[39m, \u001B[38;5;124m\"\u001B[39m\u001B[38;5;124mLooks like some of your data is still missing!\u001B[39m\u001B[38;5;124m\"\u001B[39m\n",
      "\u001B[1;31mNameError\u001B[0m: name 'df' is not defined"
     ]
    }
   ],
   "source": [
    "# Run this cell to make sure you have no missing data.\n",
    "\n",
    "assert df.isna().values.sum() == 0, \"Looks like some of your data is still missing!\""
   ]
  },
  {
   "cell_type": "markdown",
   "id": "35ec5d19a37289af",
   "metadata": {},
   "source": [
    "Pandas will try to infer the datatype from the data, but sometimes gets it wrong, check the datatypes of the data"
   ]
  },
  {
   "cell_type": "code",
   "execution_count": 8,
   "id": "53ca5938753b24ab",
   "metadata": {
    "ExecuteTime": {
     "end_time": "2024-05-13T06:15:54.699075400Z",
     "start_time": "2024-05-13T06:15:54.682820900Z"
    }
   },
   "outputs": [],
   "source": [
    "# Your code here"
   ]
  },
  {
   "cell_type": "markdown",
   "id": "3e1bcf605d218f25",
   "metadata": {},
   "source": [
    "If you're happy with the datatypes of your features, then move on the next question. If not, convert them here."
   ]
  },
  {
   "cell_type": "code",
   "execution_count": 9,
   "id": "281fad08a3d01d70",
   "metadata": {
    "ExecuteTime": {
     "end_time": "2024-05-13T06:15:56.873416700Z",
     "start_time": "2024-05-13T06:15:56.872404300Z"
    }
   },
   "outputs": [],
   "source": [
    "# Your code here"
   ]
  },
  {
   "cell_type": "markdown",
   "id": "2ab5d7ff0d65ee27",
   "metadata": {},
   "source": [
    "Create a function to calculate the mean, median, std deviation, min, max and range, pass your data frame to the function and examine the results."
   ]
  },
  {
   "cell_type": "code",
   "execution_count": 10,
   "id": "d98d78abfd947d9f",
   "metadata": {
    "ExecuteTime": {
     "end_time": "2024-05-13T06:16:00.929934700Z",
     "start_time": "2024-05-13T06:16:00.914277Z"
    }
   },
   "outputs": [],
   "source": [
    "# Your code here"
   ]
  },
  {
   "cell_type": "markdown",
   "id": "925cdaa9d2e87b54",
   "metadata": {},
   "source": [
    "Depending on your dtype conversions, you may see a mean value for `sex`, this is not a meaningful value, can you create the value counts for `sex`."
   ]
  },
  {
   "cell_type": "code",
   "execution_count": 11,
   "id": "ade22bccb2d2ba12",
   "metadata": {
    "ExecuteTime": {
     "end_time": "2024-05-13T06:16:03.475249900Z",
     "start_time": "2024-05-13T06:16:03.439800700Z"
    }
   },
   "outputs": [],
   "source": [
    "# Your code here"
   ]
  },
  {
   "cell_type": "markdown",
   "id": "636b475db719c3d6",
   "metadata": {},
   "source": [
    "What do you notice? Is this dataset a fair representation?\n",
    "\n",
    "Can you calculate the value counts for age:"
   ]
  },
  {
   "cell_type": "code",
   "execution_count": 12,
   "id": "ab9ea0e09b3d9793",
   "metadata": {
    "ExecuteTime": {
     "end_time": "2024-05-13T06:16:06.179986500Z",
     "start_time": "2024-05-13T06:16:06.132724Z"
    }
   },
   "outputs": [],
   "source": [
    "# Your code here"
   ]
  },
  {
   "cell_type": "markdown",
   "id": "af911c5694c4208",
   "metadata": {},
   "source": [
    "This is a little tricky to see the details of, can you generate a histogram for age:"
   ]
  },
  {
   "cell_type": "code",
   "execution_count": 13,
   "id": "10e6105ce4ee9504",
   "metadata": {
    "ExecuteTime": {
     "end_time": "2024-05-13T06:16:09.063949800Z",
     "start_time": "2024-05-13T06:16:09.048283700Z"
    }
   },
   "outputs": [],
   "source": [
    "# Your code here"
   ]
  },
  {
   "cell_type": "markdown",
   "id": "13889e3a3c8e42d4",
   "metadata": {},
   "source": [
    "Let's examine if there's any correlation with age and our 'target'.\n",
    "Group by ages, calculate the mean value for the target and plot the resulting graph"
   ]
  },
  {
   "cell_type": "code",
   "execution_count": 14,
   "id": "87fceab9ac13afe7",
   "metadata": {
    "ExecuteTime": {
     "end_time": "2024-05-13T06:16:11.111778700Z",
     "start_time": "2024-05-13T06:16:11.079935100Z"
    }
   },
   "outputs": [],
   "source": [
    "# Your code here"
   ]
  },
  {
   "cell_type": "markdown",
   "id": "52112dcd2f04864a",
   "metadata": {},
   "source": [
    "From this graph, it's hard to see any trends present, try to group these ages into categories, 18-28, 28-30 etc... Put this into the dataframe as a new feature with the name \"age_group\"\n",
    "\n",
    "HINT: Look at the documentation for `pd.cut`"
   ]
  },
  {
   "cell_type": "code",
   "execution_count": 15,
   "id": "d7a7645c05f2750",
   "metadata": {
    "ExecuteTime": {
     "end_time": "2024-05-13T06:16:14.691025100Z",
     "start_time": "2024-05-13T06:16:14.671420700Z"
    }
   },
   "outputs": [],
   "source": [
    "# Your code here"
   ]
  },
  {
   "cell_type": "markdown",
   "id": "f901ec9447757a84",
   "metadata": {},
   "source": [
    "Plot a bar chart showing the counts for each of the categories in the age group?"
   ]
  },
  {
   "cell_type": "code",
   "execution_count": 16,
   "id": "ca4e24edf5901ce1",
   "metadata": {
    "ExecuteTime": {
     "end_time": "2024-05-13T06:16:16.476108300Z",
     "start_time": "2024-05-13T06:16:16.443235300Z"
    }
   },
   "outputs": [],
   "source": [
    "# Your code here"
   ]
  },
  {
   "cell_type": "markdown",
   "id": "5ef7b649cd23bf94",
   "metadata": {},
   "source": [
    "Now let's compare our new feature with the target.\n",
    "Group by the age group, calculate the mean and plot the resulting graph."
   ]
  },
  {
   "cell_type": "code",
   "execution_count": 17,
   "id": "3f10bcea0305f35e",
   "metadata": {
    "ExecuteTime": {
     "end_time": "2024-05-13T06:16:18.375854Z",
     "start_time": "2024-05-13T06:16:18.349319100Z"
    }
   },
   "outputs": [],
   "source": [
    "# Your code here"
   ]
  },
  {
   "cell_type": "markdown",
   "id": "70218e249476504",
   "metadata": {},
   "source": [
    "-----------------------------------\n",
    "EXTENSION QUESTION\n",
    "\n",
    "Perform a one-way chi-square test to get an indication for statistical significance of this data."
   ]
  },
  {
   "cell_type": "code",
   "execution_count": 18,
   "id": "e99c6ea550797cea",
   "metadata": {
    "ExecuteTime": {
     "end_time": "2024-05-13T06:16:20.595926200Z",
     "start_time": "2024-05-13T06:16:20.575737100Z"
    }
   },
   "outputs": [],
   "source": [
    "from scipy.stats import chisquare\n",
    "\n",
    "# Your code here"
   ]
  },
  {
   "cell_type": "markdown",
   "id": "52a77f8457310fee",
   "metadata": {},
   "source": [
    "-----------------------------------\n",
    "\n",
    "Taking an approach like this can help to iron out some outliers in the data. \n",
    "It is clear from the results above that age does have a correlation with the target. Let's convert the categorical column `age_group` to use the categorical codes:"
   ]
  },
  {
   "cell_type": "code",
   "execution_count": 19,
   "id": "f8e3def0",
   "metadata": {
    "ExecuteTime": {
     "end_time": "2024-05-13T06:16:31.114775Z",
     "start_time": "2024-05-13T06:16:31.077294100Z"
    }
   },
   "outputs": [],
   "source": [
    "# Your code here"
   ]
  },
  {
   "cell_type": "markdown",
   "id": "0f36d418",
   "metadata": {},
   "source": [
    "Try to identify any other correlations that exist in the dataframe by calculating the correlation matrix."
   ]
  },
  {
   "cell_type": "code",
   "execution_count": 20,
   "id": "9eed3b8c8e854509",
   "metadata": {
    "ExecuteTime": {
     "end_time": "2024-05-13T06:16:36.712053200Z",
     "start_time": "2024-05-13T06:16:36.658581800Z"
    }
   },
   "outputs": [],
   "source": [
    "# Your code here"
   ]
  },
  {
   "cell_type": "markdown",
   "id": "423f0ffb",
   "metadata": {},
   "source": [
    "This is easier to visualise in a plot, a convenience function has been created for you (`plot_correlation_matrix`), you don't need to worry about the details of the function at this time, but pass your correlation matrix to the function and observe the plot"
   ]
  },
  {
   "cell_type": "code",
   "execution_count": 24,
   "id": "a25e36ed",
   "metadata": {
    "tags": [
     "hide-cell"
    ],
    "ExecuteTime": {
     "end_time": "2024-05-13T06:17:39.233558200Z",
     "start_time": "2024-05-13T06:17:39.213425200Z"
    }
   },
   "outputs": [],
   "source": [
    "import seaborn as sns\n",
    "from matplotlib import pyplot as plt\n",
    "\n",
    "def plot_correlation_matrix(corr):\n",
    "    \"\"\"\n",
    "    Plots a correlation matrix as a heatmap.\n",
    "    \n",
    "    Parameters:\n",
    "        corr (DataFrame): The correlation matrix to be plotted.\n",
    "    \n",
    "    Returns:\n",
    "        None: The function displays the correlation matrix heatmap.\n",
    "    \"\"\"\n",
    "    fig = plt.figure(figsize=(7,7))\n",
    "\n",
    "    sns.heatmap(corr, annot=True, fmt='.1f', vmin=-1, vmax=1, cmap='RdBu')\n",
    "    plt.show()"
   ]
  },
  {
   "cell_type": "code",
   "execution_count": 25,
   "id": "30f5ed77",
   "metadata": {
    "ExecuteTime": {
     "end_time": "2024-05-13T06:17:41.146050Z",
     "start_time": "2024-05-13T06:17:41.123126400Z"
    }
   },
   "outputs": [],
   "source": [
    "# Your code here"
   ]
  },
  {
   "cell_type": "markdown",
   "id": "4e814f5cbef1d37",
   "metadata": {},
   "source": [
    "Pick 2 features with a high correlation with the target. \n",
    "Comment on these correlations using graphs to justify your comments."
   ]
  },
  {
   "cell_type": "code",
   "execution_count": 26,
   "id": "e6a4bd06889dd5c",
   "metadata": {
    "ExecuteTime": {
     "end_time": "2024-05-13T06:17:44.937843400Z",
     "start_time": "2024-05-13T06:17:44.914227500Z"
    }
   },
   "outputs": [],
   "source": [
    "# Your code here"
   ]
  },
  {
   "cell_type": "markdown",
   "id": "adc79cfc",
   "metadata": {},
   "source": [
    "Machine learning algorithms tend to behave poorly when there are columns with strong correlation between each other, can you identify and remove any columns that display such behaviour?"
   ]
  },
  {
   "cell_type": "code",
   "execution_count": 27,
   "id": "4134bd19",
   "metadata": {
    "ExecuteTime": {
     "end_time": "2024-05-13T06:17:50.946253300Z",
     "start_time": "2024-05-13T06:17:50.924321800Z"
    }
   },
   "outputs": [],
   "source": [
    "# Your code here"
   ]
  },
  {
   "cell_type": "markdown",
   "id": "80350411",
   "metadata": {},
   "source": [
    "Let's examine how spread each feature is by using box plots:"
   ]
  },
  {
   "cell_type": "code",
   "execution_count": 28,
   "id": "6e258e0845348362",
   "metadata": {
    "ExecuteTime": {
     "end_time": "2024-05-13T06:17:53.575988100Z",
     "start_time": "2024-05-13T06:17:53.575988100Z"
    }
   },
   "outputs": [],
   "source": [
    "# Your code here"
   ]
  },
  {
   "cell_type": "markdown",
   "id": "0155b33d",
   "metadata": {},
   "source": [
    "The problem is, each feature is on a different scale, can you standardise the numerical features such that they're mean centered and have a standard deviation of 1?\n",
    "\n",
    "NOTE: Categorical variables should not be standardised"
   ]
  },
  {
   "cell_type": "code",
   "execution_count": 29,
   "id": "6183dcb77a74b5e9",
   "metadata": {
    "ExecuteTime": {
     "end_time": "2024-05-13T06:17:58.245488200Z",
     "start_time": "2024-05-13T06:17:58.207034200Z"
    }
   },
   "outputs": [],
   "source": [
    "# Your code here"
   ]
  },
  {
   "cell_type": "markdown",
   "id": "a9e53054",
   "metadata": {},
   "source": [
    "Now, re-examine the box plot:"
   ]
  },
  {
   "cell_type": "code",
   "execution_count": 30,
   "id": "99c22869",
   "metadata": {
    "ExecuteTime": {
     "end_time": "2024-05-13T06:18:01.682998800Z",
     "start_time": "2024-05-13T06:18:01.647529300Z"
    }
   },
   "outputs": [],
   "source": [
    "# Your code here"
   ]
  },
  {
   "cell_type": "markdown",
   "id": "59e97811",
   "metadata": {},
   "source": [
    "Congratulations on reaching this point! Now the data would be ready to input into a machine learning model (or dimensionality reduction). You'll cover some of these in an upcoming session."
   ]
  }
 ],
 "metadata": {
  "celltoolbar": "Edit Metadata",
  "kernelspec": {
   "display_name": "Python 3 (ipykernel)",
   "language": "python",
   "name": "python3"
  },
  "language_info": {
   "codemirror_mode": {
    "name": "ipython",
    "version": 3
   },
   "file_extension": ".py",
   "mimetype": "text/x-python",
   "name": "python",
   "nbconvert_exporter": "python",
   "pygments_lexer": "ipython3",
   "version": "3.11.5"
  }
 },
 "nbformat": 4,
 "nbformat_minor": 5
}
