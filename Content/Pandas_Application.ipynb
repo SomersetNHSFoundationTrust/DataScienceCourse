{
 "cells": [
  {
   "cell_type": "markdown",
   "id": "894f75c7e901a116",
   "metadata": {},
   "source": [
    "# Pandas & Preprocessing Checkpoint Task\n",
    "\n",
    "In this notebook you will be applying your knowledge to analyse a real dataset. Take a few minutes to read about the dataset here: https://scikit-learn.org/stable/datasets/toy_dataset.html#diabetes-dataset"
   ]
  },
  {
   "cell_type": "code",
   "execution_count": null,
   "id": "cb36f91af23274f7",
   "metadata": {
    "ExecuteTime": {
     "end_time": "2024-04-18T13:05:12.029968300Z",
     "start_time": "2024-04-18T13:05:12.029445500Z"
    }
   },
   "outputs": [],
   "source": [
    "import numpy as np\n",
    "import pandas as pd\n",
    "from sklearn.datasets import load_diabetes\n",
    "\n",
    "def load_dataset() -> pd.DataFrame:\n",
    "    \"\"\"\n",
    "    Load the diabetes dataset and introduce NaN values randomly into the DataFrame.\n",
    "\n",
    "    Returns:\n",
    "        pd.DataFrame: DataFrame containing the diabetes dataset with NaN values.\n",
    "    \"\"\"\n",
    "    df = load_diabetes(as_frame=True, scaled=False).frame\n",
    "\n",
    "    num_nans = int(df.size * 0.05) # number of values to make nan (5%)\n",
    "    \n",
    "    nan_indices = np.random.choice(range(df.size), size=num_nans, replace=False)\n",
    "    \n",
    "    for index in nan_indices:\n",
    "        x, y = divmod(index, df.shape[1])\n",
    "        df.iloc[x, y] = np.nan\n",
    "        \n",
    "    return df"
   ]
  },
  {
   "cell_type": "markdown",
   "id": "fb036aeee619df3",
   "metadata": {},
   "source": [
    "Read through the function `load_dataset` and try to understand what it's doing. When you're happy, call it below to create your dataset with the variable name `df`"
   ]
  },
  {
   "cell_type": "code",
   "execution_count": null,
   "id": "f0a1b99e848685f2",
   "metadata": {
    "ExecuteTime": {
     "end_time": "2024-04-18T13:05:13.897289500Z",
     "start_time": "2024-04-18T13:05:13.873657700Z"
    }
   },
   "outputs": [],
   "source": [
    "# Your code here"
   ]
  },
  {
   "cell_type": "markdown",
   "id": "813a7e557aa99b87",
   "metadata": {},
   "source": [
    "Examine at the first 10 rows of the dataset and answer the following (using code):\n",
    "\n",
    "How many features and samples are there?\n",
    "What are the names of the features?"
   ]
  },
  {
   "cell_type": "code",
   "execution_count": null,
   "id": "1534a46d3006f378",
   "metadata": {
    "ExecuteTime": {
     "end_time": "2024-04-18T13:05:16.177377100Z",
     "start_time": "2024-04-18T13:05:16.154373600Z"
    }
   },
   "outputs": [],
   "source": [
    "# Your code here"
   ]
  },
  {
   "cell_type": "markdown",
   "id": "d798da5808f565e",
   "metadata": {},
   "source": [
    "From the documentation, the feature names have been abbreviated from:\n",
    "\n",
    "- bmi: body mass index\n",
    "- bp: average blood pressure\n",
    "- s1: tc, total serum cholesterol\n",
    "- s2: ldl, low-density lipoproteins\n",
    "- s3: hdl, high-density lipoproteins\n",
    "- s4: tch, total cholesterol / HDL\n",
    "- s5: ltg, possibly log of serum triglycerides level\n",
    "- s6: glu, blood sugar level\n",
    "- target: qualitative measure of disease progression one year after baseline\n",
    "\n",
    "Rename the features to something that you'll find more helpful, e.g. s1 -> total_serum_cholesterol"
   ]
  },
  {
   "cell_type": "code",
   "execution_count": null,
   "id": "17b3f04657cb384f",
   "metadata": {
    "ExecuteTime": {
     "end_time": "2024-04-18T13:05:23.086123700Z",
     "start_time": "2024-04-18T13:05:23.070382100Z"
    }
   },
   "outputs": [],
   "source": [
    "# Your code here"
   ]
  },
  {
   "cell_type": "markdown",
   "id": "9076c6931c0e44fd",
   "metadata": {},
   "source": [
    "Identify how much of the data is missing"
   ]
  },
  {
   "cell_type": "code",
   "execution_count": null,
   "id": "5ccb70ac9f31dc12",
   "metadata": {
    "ExecuteTime": {
     "end_time": "2024-04-18T13:05:25.387174400Z",
     "start_time": "2024-04-18T13:05:25.359493900Z"
    }
   },
   "outputs": [],
   "source": [
    "# Your code here"
   ]
  },
  {
   "cell_type": "markdown",
   "id": "ce74e80da84c5be6",
   "metadata": {},
   "source": [
    "Using your knowledge of imputation, fill in the missing data. \n",
    "Be prepared to justify why you've used your chosen method!"
   ]
  },
  {
   "cell_type": "code",
   "execution_count": null,
   "id": "447dfb737ea8a0b1",
   "metadata": {
    "ExecuteTime": {
     "end_time": "2024-04-18T13:05:27.930804600Z",
     "start_time": "2024-04-18T13:05:27.905195200Z"
    }
   },
   "outputs": [],
   "source": [
    "# Your code here"
   ]
  },
  {
   "cell_type": "code",
   "execution_count": null,
   "id": "b39e7f2783a84a55",
   "metadata": {
    "ExecuteTime": {
     "end_time": "2024-04-18T13:05:30.250721600Z",
     "start_time": "2024-04-18T13:05:30.191888400Z"
    }
   },
   "outputs": [],
   "source": [
    "# Run this cell to make sure you have no missing data.\n",
    "\n",
    "assert df.isna().values.sum() == 0, \"Looks like some of your data is still missing!\""
   ]
  },
  {
   "cell_type": "markdown",
   "id": "35ec5d19a37289af",
   "metadata": {},
   "source": [
    "Pandas will try to infer the datatype from the data, but sometimes gets it wrong, check the datatypes of the data"
   ]
  },
  {
   "cell_type": "code",
   "execution_count": null,
   "id": "53ca5938753b24ab",
   "metadata": {
    "ExecuteTime": {
     "end_time": "2024-04-18T13:05:36.542774800Z",
     "start_time": "2024-04-18T13:05:36.518021400Z"
    }
   },
   "outputs": [],
   "source": [
    "# Your code here"
   ]
  },
  {
   "cell_type": "markdown",
   "id": "3e1bcf605d218f25",
   "metadata": {},
   "source": [
    "If you're happy with the datatypes of your features, then move on the next question. If not, convert them here."
   ]
  },
  {
   "cell_type": "code",
   "execution_count": null,
   "id": "281fad08a3d01d70",
   "metadata": {
    "ExecuteTime": {
     "end_time": "2024-04-18T13:05:44.642007Z",
     "start_time": "2024-04-18T13:05:44.619637800Z"
    }
   },
   "outputs": [],
   "source": [
    "# Your code here"
   ]
  },
  {
   "cell_type": "markdown",
   "id": "2ab5d7ff0d65ee27",
   "metadata": {},
   "source": [
    "Create a function to calculate the mean, median, std deviation, min, max and range, pass your data frame to the function and examine the results."
   ]
  },
  {
   "cell_type": "code",
   "execution_count": null,
   "id": "d98d78abfd947d9f",
   "metadata": {
    "ExecuteTime": {
     "end_time": "2024-04-18T13:05:54.353816400Z",
     "start_time": "2024-04-18T13:05:54.328929500Z"
    }
   },
   "outputs": [],
   "source": [
    "# Your code here"
   ]
  },
  {
   "cell_type": "markdown",
   "id": "925cdaa9d2e87b54",
   "metadata": {},
   "source": [
    "Depending on your dtype conversions, you may see a mean value for `sex`, this is not a meaningful value, can you create the value counts for `sex`."
   ]
  },
  {
   "cell_type": "code",
   "execution_count": null,
   "id": "ade22bccb2d2ba12",
   "metadata": {
    "ExecuteTime": {
     "end_time": "2024-04-18T13:05:57.716608700Z",
     "start_time": "2024-04-18T13:05:57.683004500Z"
    }
   },
   "outputs": [],
   "source": [
    "# Your code here"
   ]
  },
  {
   "cell_type": "markdown",
   "id": "636b475db719c3d6",
   "metadata": {},
   "source": [
    "What do you notice? Is this dataset a fair representation?\n",
    "\n",
    "Can you calculate the value counts for age:"
   ]
  },
  {
   "cell_type": "code",
   "execution_count": null,
   "id": "ab9ea0e09b3d9793",
   "metadata": {
    "ExecuteTime": {
     "end_time": "2024-04-18T13:06:02.478564300Z",
     "start_time": "2024-04-18T13:06:02.361050200Z"
    }
   },
   "outputs": [],
   "source": [
    "# Your code here"
   ]
  },
  {
   "cell_type": "markdown",
   "id": "af911c5694c4208",
   "metadata": {},
   "source": [
    "This is a little tricky to see the details of, can you generate a histogram for age:"
   ]
  },
  {
   "cell_type": "code",
   "execution_count": null,
   "id": "10e6105ce4ee9504",
   "metadata": {},
   "outputs": [],
   "source": [
    "# Your code here"
   ]
  },
  {
   "cell_type": "markdown",
   "id": "13889e3a3c8e42d4",
   "metadata": {},
   "source": [
    "Let's examine if there's any correlation with age and our 'target'.\n",
    "Group by ages, calculate the mean value for the target and plot the resulting graph"
   ]
  },
  {
   "cell_type": "code",
   "execution_count": null,
   "id": "87fceab9ac13afe7",
   "metadata": {
    "ExecuteTime": {
     "end_time": "2024-04-18T13:08:28.495489500Z",
     "start_time": "2024-04-18T13:08:26.668505400Z"
    }
   },
   "outputs": [],
   "source": [
    "# Your code here"
   ]
  },
  {
   "cell_type": "markdown",
   "id": "52112dcd2f04864a",
   "metadata": {},
   "source": [
    "From this graph, it's hard to see any trends present, try to group these ages into categories, 18-28, 28-30 etc... Put this into the dataframe as a new feature with the name \"age_group\"\n",
    "\n",
    "HINT: Look at the documentation for `pd.cut`"
   ]
  },
  {
   "cell_type": "code",
   "execution_count": null,
   "id": "d7a7645c05f2750",
   "metadata": {
    "ExecuteTime": {
     "end_time": "2024-04-18T13:13:17.428669600Z",
     "start_time": "2024-04-18T13:13:17.420351700Z"
    }
   },
   "outputs": [],
   "source": [
    "# Your code here"
   ]
  },
  {
   "cell_type": "markdown",
   "id": "f901ec9447757a84",
   "metadata": {},
   "source": [
    "Plot a bar chart showing the counts for each of the categories in the age group?"
   ]
  },
  {
   "cell_type": "code",
   "execution_count": null,
   "id": "ca4e24edf5901ce1",
   "metadata": {
    "ExecuteTime": {
     "end_time": "2024-04-18T13:13:20.100910500Z",
     "start_time": "2024-04-18T13:13:20.010532100Z"
    }
   },
   "outputs": [],
   "source": [
    "# Your code here"
   ]
  },
  {
   "cell_type": "markdown",
   "id": "5ef7b649cd23bf94",
   "metadata": {},
   "source": [
    "Now let's compare our new feature with the target.\n",
    "Group by the age group, calculate the mean and plot the resulting graph."
   ]
  },
  {
   "cell_type": "code",
   "execution_count": null,
   "id": "3f10bcea0305f35e",
   "metadata": {
    "ExecuteTime": {
     "end_time": "2024-04-18T13:38:00.192191600Z",
     "start_time": "2024-04-18T13:37:58.423197500Z"
    }
   },
   "outputs": [],
   "source": [
    "# Your code here"
   ]
  },
  {
   "cell_type": "markdown",
   "id": "70218e249476504",
   "metadata": {},
   "source": [
    "-----------------------------------\n",
    "EXTENSION QUESTION\n",
    "\n",
    "Perform a one-way chi-square test to get an indication for statistical significance of this data."
   ]
  },
  {
   "cell_type": "code",
   "execution_count": null,
   "id": "e99c6ea550797cea",
   "metadata": {
    "ExecuteTime": {
     "end_time": "2024-04-18T13:38:44.503902Z",
     "start_time": "2024-04-18T13:38:44.494743500Z"
    }
   },
   "outputs": [],
   "source": [
    "from scipy.stats import chisquare\n",
    "\n",
    "# Your code here"
   ]
  },
  {
   "cell_type": "markdown",
   "id": "52a77f8457310fee",
   "metadata": {},
   "source": [
    "-----------------------------------\n",
    "\n",
    "Taking an approach like this can help to iron out some outliers in the data. \n",
    "It is clear from the results above that age does have a correlation with the target. Let's convert the categorical column `age_group` to use the categorical codes:"
   ]
  },
  {
   "cell_type": "code",
   "execution_count": null,
   "id": "f8e3def0",
   "metadata": {},
   "outputs": [],
   "source": [
    "# Your code here"
   ]
  },
  {
   "cell_type": "markdown",
   "id": "0f36d418",
   "metadata": {},
   "source": [
    "Try to identify any other correlations that exist in the dataframe by calculating the correlation matrix."
   ]
  },
  {
   "cell_type": "code",
   "execution_count": null,
   "id": "9eed3b8c8e854509",
   "metadata": {
    "ExecuteTime": {
     "end_time": "2024-04-18T13:18:56.038626100Z",
     "start_time": "2024-04-18T13:18:54.271350900Z"
    }
   },
   "outputs": [],
   "source": [
    "# Your code here"
   ]
  },
  {
   "cell_type": "markdown",
   "id": "423f0ffb",
   "metadata": {},
   "source": [
    "This is easier to visualise in a plot, a convenience function has been created for you (`plot_correlation_matrix`), you don't need to worry about the details of the function at this time, but pass your correlation matrix to the function and observe the plot"
   ]
  },
  {
   "cell_type": "code",
   "execution_count": null,
   "id": "a25e36ed",
   "metadata": {
    "tags": [
     "hide-cell"
    ]
   },
   "outputs": [],
   "source": [
    "import seaborn as sns\n",
    "from matplotlib import pyplot as plt\n",
    "\n",
    "def plot_correlation_matrix(corr):\n",
    "    fig = plt.figure(figsize=(7,7))\n",
    "\n",
    "    sns.heatmap(corr(), annot=True, fmt='.1f', vmin=-1, vmax=1, cmap='RdBu')\n",
    "    plt.show()"
   ]
  },
  {
   "cell_type": "code",
   "execution_count": null,
   "id": "30f5ed77",
   "metadata": {},
   "outputs": [],
   "source": [
    "# Your code here"
   ]
  },
  {
   "cell_type": "markdown",
   "id": "4e814f5cbef1d37",
   "metadata": {},
   "source": [
    "Pick 2 features with a high correlation with the target. \n",
    "Comment on these correlations using graphs to justify your comments."
   ]
  },
  {
   "cell_type": "code",
   "execution_count": null,
   "id": "e6a4bd06889dd5c",
   "metadata": {},
   "outputs": [],
   "source": [
    "# Your code here"
   ]
  },
  {
   "cell_type": "markdown",
   "id": "adc79cfc",
   "metadata": {},
   "source": [
    "Machine learning algorithms tend to behave poorly when there are columns with strong correlation between each other, can you identify and remove any columns that display such behaviour?"
   ]
  },
  {
   "cell_type": "code",
   "execution_count": null,
   "id": "4134bd19",
   "metadata": {},
   "outputs": [],
   "source": [
    "# Your code here"
   ]
  },
  {
   "cell_type": "markdown",
   "id": "80350411",
   "metadata": {},
   "source": [
    "Let's examine how spread each feature is by using box plots:"
   ]
  },
  {
   "cell_type": "code",
   "execution_count": null,
   "id": "6e258e0845348362",
   "metadata": {
    "ExecuteTime": {
     "end_time": "2024-04-18T12:55:55.983752400Z",
     "start_time": "2024-04-18T12:55:54.755187200Z"
    }
   },
   "outputs": [],
   "source": [
    "# Your code here"
   ]
  },
  {
   "cell_type": "markdown",
   "id": "0155b33d",
   "metadata": {},
   "source": [
    "The problem is, each feature is on a different scale, can you standardise the numerical features such that they're mean centered and have a standard deviation of 1?\n",
    "\n",
    "NOTE: Categorical variables should not be standardised"
   ]
  },
  {
   "cell_type": "code",
   "execution_count": null,
   "id": "6183dcb77a74b5e9",
   "metadata": {},
   "outputs": [],
   "source": [
    "# Your code here"
   ]
  },
  {
   "cell_type": "markdown",
   "id": "a9e53054",
   "metadata": {},
   "source": [
    "Now, re-examine the box plot:"
   ]
  },
  {
   "cell_type": "code",
   "execution_count": null,
   "id": "99c22869",
   "metadata": {},
   "outputs": [],
   "source": [
    "# Your code here"
   ]
  },
  {
   "cell_type": "markdown",
   "id": "59e97811",
   "metadata": {},
   "source": [
    "Congratulations on reaching this point! Now the data would be ready to input into a machine learning model (or dimensionality reduction). You'll cover some of these in an upcoming session."
   ]
  }
 ],
 "metadata": {
  "celltoolbar": "Edit Metadata",
  "kernelspec": {
   "display_name": "Python 3 (ipykernel)",
   "language": "python",
   "name": "python3"
  },
  "language_info": {
   "codemirror_mode": {
    "name": "ipython",
    "version": 3
   },
   "file_extension": ".py",
   "mimetype": "text/x-python",
   "name": "python",
   "nbconvert_exporter": "python",
   "pygments_lexer": "ipython3",
   "version": "3.11.5"
  }
 },
 "nbformat": 4,
 "nbformat_minor": 5
}
