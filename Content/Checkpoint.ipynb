{
 "cells": [
  {
   "cell_type": "markdown",
   "source": [
    "# Checkpoint Quiz\n",
    "\n",
    "Use this quiz to test your understanding so far.  \n",
    "\n",
    "1. Using the random library and any data structure you think is appropriate, create some data to represent patients. It should include an ID, their age and their systolic blood pressure.\n",
    "\n",
    "(OPTIONAL CHALLENGE: Instead of randomly selecting the patients age, generate a DoB and calculate their age today."
   ],
   "metadata": {
    "collapsed": false
   },
   "id": "d81a9d42ef574db3"
  },
  {
   "cell_type": "code",
   "execution_count": null,
   "outputs": [],
   "source": [
    "# Your code here"
   ],
   "metadata": {
    "collapsed": false
   },
   "id": "3d34d23576865c64"
  },
  {
   "cell_type": "markdown",
   "source": [
    "2. Calculate some summary statistics for the patients age and blood pressures. "
   ],
   "metadata": {
    "collapsed": false
   },
   "id": "1e8987e3a3878f2d"
  },
  {
   "cell_type": "code",
   "execution_count": null,
   "outputs": [],
   "source": [
    "# Your code here"
   ],
   "metadata": {
    "collapsed": false
   },
   "id": "b7af76d01e6d4c57"
  },
  {
   "cell_type": "markdown",
   "source": [
    "3. Categorise the blood pressures as \"low\", normal\", \"pre-high\", \"high\"."
   ],
   "metadata": {
    "collapsed": false
   },
   "id": "dcb016cbfca7c5a4"
  },
  {
   "cell_type": "code",
   "execution_count": null,
   "outputs": [],
   "source": [
    "# Your code here"
   ],
   "metadata": {
    "collapsed": false
   },
   "id": "221380678969c2a6"
  },
  {
   "cell_type": "markdown",
   "source": [
    "4. Count the number of patients for each category of blood pressure."
   ],
   "metadata": {
    "collapsed": false
   },
   "id": "48de00e297595ce1"
  },
  {
   "cell_type": "code",
   "execution_count": null,
   "outputs": [],
   "source": [
    "# Your code here"
   ],
   "metadata": {
    "collapsed": false
   },
   "id": "68cf4b2388fd2acd"
  },
  {
   "cell_type": "markdown",
   "source": [
    "5. Group the patients by their blood pressure category and calculate the average age."
   ],
   "metadata": {
    "collapsed": false
   },
   "id": "f8c3e9d4a354d8eb"
  },
  {
   "cell_type": "code",
   "execution_count": null,
   "outputs": [],
   "source": [
    "# Your code here"
   ],
   "metadata": {
    "collapsed": false
   },
   "id": "cbc9e2f32bdcfb03"
  }
 ],
 "metadata": {
  "kernelspec": {
   "display_name": "Python 3",
   "language": "python",
   "name": "python3"
  },
  "language_info": {
   "codemirror_mode": {
    "name": "ipython",
    "version": 2
   },
   "file_extension": ".py",
   "mimetype": "text/x-python",
   "name": "python",
   "nbconvert_exporter": "python",
   "pygments_lexer": "ipython2",
   "version": "2.7.6"
  }
 },
 "nbformat": 4,
 "nbformat_minor": 5
}
