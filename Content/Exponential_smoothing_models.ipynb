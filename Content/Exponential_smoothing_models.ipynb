{
 "cells": [
  {
   "cell_type": "markdown",
   "metadata": {},
   "source": [
    "# Exponential Smoothing"
   ]
  },
  {
   "cell_type": "code",
   "execution_count": null,
   "metadata": {},
   "outputs": [],
   "source": [
    "import warnings\n",
    "\n",
    "warnings.simplefilter(\"ignore\", category=FutureWarning)\n",
    "\n",
    "import numpy as np\n",
    "import pandas as pd\n",
    "from sklearn.metrics import (\n",
    "    mean_absolute_percentage_error,\n",
    "    mean_squared_error,\n",
    ")\n",
    "\n",
    "import plotly.express as px\n",
    "import plotly.graph_objects as go\n",
    "\n",
    "from statsmodels.tsa.api import ExponentialSmoothing, SimpleExpSmoothing, Holt, ETSModel\n",
    "\n",
    "from ipywidgets import interact"
   ]
  },
  {
   "cell_type": "code",
   "execution_count": null,
   "metadata": {},
   "outputs": [],
   "source": [
    "df = pd.read_csv(\n",
    "    \"https://raw.githubusercontent.com/Naren8520/Serie-de-tiempo-con-Machine-Learning/main/Data/ads.csv\"\n",
    ")\n",
    "df.head()"
   ]
  },
  {
   "cell_type": "code",
   "execution_count": null,
   "metadata": {},
   "outputs": [],
   "source": [
    "# Split into training/ testing datasets.\n",
    "train = df[df.Time <= \"2017-09-20 17:00:00\"]\n",
    "test = df[df.Time > \"2017-09-20 17:00:00\"]"
   ]
  },
  {
   "cell_type": "markdown",
   "metadata": {},
   "source": [
    "Exponential smoothing is amonge one of the most widely used techniques in time series forecasting. \n",
    "\n",
    "The exponential smoothing methods use weighted averages of past observations (where weights decay exponentially for older values). In other words, the forecast is more influenced by recent values, compared with older observations."
   ]
  },
  {
   "cell_type": "markdown",
   "metadata": {},
   "source": [
    "* Would you trust a mean forecast?\n",
    "* Would you trust a Naive forecast?\n",
    "  \n",
    "> Exponential Smoothing offers forecasts between these two extremes."
   ]
  },
  {
   "cell_type": "markdown",
   "metadata": {},
   "source": [
    "### Simple Exponential Smoothing (SES)"
   ]
  },
  {
   "cell_type": "markdown",
   "metadata": {},
   "source": [
    "SES is a forecasting method that gives more weight to recent observations."
   ]
  },
  {
   "cell_type": "markdown",
   "metadata": {},
   "source": [
    "$\\hat{y}_{T + 1 | T} = \\alpha y_{T} + \\alpha(1-\\alpha) y_{T-1} + \\alpha(1-\\alpha)^2 y_{T-2} + ...$, where $0\\leq \\alpha \\leq1$ is the smoothing parameter. \n",
    "\n",
    "**N.B:**  $\\hat{y}_{T + 1 | T}$ is our 1-step forecast based on data $y_{1} + y_{2} + ... + y_{T}$"
   ]
  },
  {
   "cell_type": "markdown",
   "metadata": {},
   "source": [
    "* $\\alpha$ is the smoothing factor (between 0 and 1).\n",
    "* More recent values (like  $y_{T}$) get more weight.\n",
    "* Older values get exponentially less weight."
   ]
  },
  {
   "cell_type": "markdown",
   "metadata": {},
   "source": [
    "This can be re-written recursively, making it easier to make a function in python:"
   ]
  },
  {
   "cell_type": "markdown",
   "metadata": {},
   "source": [
    "Forecast equation: $\\hat{y}_{t + h | T} = {l}_{t}$\n",
    "\n",
    "Smoothing equation: ${l}_{t} = \\alpha y_{t} + (1-\\alpha){l}_{t-1}$"
   ]
  },
  {
   "cell_type": "code",
   "execution_count": null,
   "metadata": {},
   "outputs": [],
   "source": [
    "def SES_recurser(obs_series, alpha):\n",
    "    \"\"\"\n",
    "    SES From Scratch.\n",
    "\n",
    "    Inputs:\n",
    "        obs_series (pandas.Series): Observational data.\n",
    "        alpha (float): 0<=alpha<=1, the smoothing parameter.\n",
    "    Output:\n",
    "        list: Level of time series\n",
    "    \"\"\"\n",
    "    level = [obs_series.iloc[0]]  # Initialise first value\n",
    "\n",
    "    for t in range(1, len(obs_series)):\n",
    "\n",
    "        updated_level = (\n",
    "            obs_series.iloc[t] * alpha + (1 - alpha) * level[t - 1]\n",
    "        )  # Level estimate\n",
    "        level.append(updated_level)  # Store updated level\n",
    "\n",
    "    return level"
   ]
  },
  {
   "cell_type": "code",
   "execution_count": null,
   "metadata": {},
   "outputs": [],
   "source": [
    "@interact(alpha=(0, 1, 0.01))\n",
    "def plot_ses(alpha):\n",
    "\n",
    "    level = SES_recurser(train[\"Ads\"], alpha=alpha)\n",
    "\n",
    "    fcst_fig = go.Figure()\n",
    "    fcst_fig.add_trace(go.Scatter(x=train.Time, y=train[\"Ads\"], name=\"Training data\"))\n",
    "    fcst_fig.add_trace(\n",
    "        go.Scatter(x=train.Time, y=[np.nan] + level[:-1], name=\"One-step forecasts (in-sample)\")\n",
    "    )\n",
    "\n",
    "    fcst_fig.add_trace(\n",
    "        go.Scatter(\n",
    "            x=test.Time,\n",
    "            y=[level[-1]] * len(test),\n",
    "            name=\"SES forecast (out-of-sample)\",\n",
    "        )\n",
    "    )\n",
    "\n",
    "    fcst_fig.add_trace(\n",
    "        go.Scatter(\n",
    "            x=test.Time, y=test.Ads, name=\"Test\", line=dict(dash=\"dash\", color=\"orange\")\n",
    "        )\n",
    "    )\n",
    "\n",
    "    fcst_fig.update_layout(\n",
    "        title=\"Simple Exponential Smoothing\",\n",
    "        yaxis_title=\"avg_daily_attendances\",\n",
    "    )\n",
    "    fcst_fig.show()\n",
    "\n",
    "    # One step forecast in-sample error\n",
    "    sse = (([np.nan] + level[:-1] - train[\"Ads\"].values) ** 2)[1:].sum()\n",
    "    print(f\"Sum of Square Error (in-sample) = {sse}\")\n",
    "\n",
    "    # Test accuracy\n",
    "    mape = mean_absolute_percentage_error(test.Ads, [level[-1]] * len(test))\n",
    "    print(f\"MAPE (out of-sample) = {round(mape* 100, 0)}%\")"
   ]
  },
  {
   "cell_type": "markdown",
   "metadata": {},
   "source": [
    "#### Task 1: SES using statsmodels"
   ]
  },
  {
   "cell_type": "markdown",
   "metadata": {},
   "source": [
    "Verify forecasts match (when using the same alpha) when using both the custom recursive function and SES implimentation in statsmodels."
   ]
  },
  {
   "cell_type": "code",
   "execution_count": null,
   "metadata": {},
   "outputs": [],
   "source": [
    "# ses_model = SimpleExpSmoothing(train[\"Ads\"]).fit(\n",
    "#     smoothing_level=0.1\n",
    "# )\n",
    "\n",
    "# ses_series = ses_model.predict(start=test.index[0], end=test.index[-1])\n",
    "# ses_series.index = test.Time\n",
    "# print(ses_series.head())"
   ]
  },
  {
   "cell_type": "code",
   "execution_count": null,
   "metadata": {},
   "outputs": [],
   "source": [
    "# level = SES_recurser(train[\"Ads\"], alpha=0.1)\n",
    "# forecasts = [level[-1]] * (len(test))\n",
    "# custom_ses_series = pd.Series(forecasts)\n",
    "# custom_ses_series.index = test.Time\n",
    "# custom_ses_series.head()"
   ]
  },
  {
   "cell_type": "markdown",
   "metadata": {},
   "source": [
    "Check for best alpha fit using statsmodels"
   ]
  },
  {
   "cell_type": "code",
   "execution_count": null,
   "metadata": {},
   "outputs": [],
   "source": [
    "# ses_model = SimpleExpSmoothing(train[\"Ads\"]).fit(\n",
    "#     optimized=True\n",
    "# )\n",
    "# print(ses_model.params_formatted)\n",
    "# print(ses_model._sse)"
   ]
  },
  {
   "cell_type": "markdown",
   "metadata": {},
   "source": [
    "* SES only forecasts a flat value (like the mean) -> only useful when your data has no trend or seasonality.\n",
    "* A single parameter controls the weighting:\n",
    "    - High alpha = more reactive to recent changed\n",
    "    - Low alpha = more smooth, stable forecast "
   ]
  },
  {
   "cell_type": "markdown",
   "metadata": {},
   "source": [
    "### Double Exponential Smoothing (Holt's linear trend)"
   ]
  },
  {
   "cell_type": "markdown",
   "metadata": {},
   "source": [
    "The previous forecast gave a flat forecast for the weighted average. If our time series if showing a clear trend, how can we include a trend in the forecast?\n",
    "\n",
    "Holt's linear trend is an extension of SES, where we now have two smoothing equations. One for the level ($\\alpha$) and one for the trend ($\\beta$)."
   ]
  },
  {
   "cell_type": "markdown",
   "metadata": {},
   "source": [
    "Forecast equation: $\\hat{y}_{t + h | t} = l_{t} + hb_{t}$\n",
    "\n",
    "Level equation: $l_{t} = \\alpha y_{t} + (1 - \\alpha)(l_{t-1} + b_{t-1})$<br>\n",
    "Trend equation: $b_{t} = \\beta(l_{t} - l_{t-1}) + (1 - \\beta)b_{t-1}$"
   ]
  },
  {
   "cell_type": "code",
   "execution_count": null,
   "metadata": {},
   "outputs": [],
   "source": [
    "def holts_linear_recursor(time_series, alpha, beta):\n",
    "    \"\"\"\n",
    "    Double exponential smoothing from scratch.\n",
    "\n",
    "    Inputs:\n",
    "        time_series (pandas.Series): Observational data.\n",
    "        alpha (float): 0 <= alpha <= 1, smoothing parameter for level.\n",
    "        beta (float): 0 <= beta <= 1, smoothing parameter for trend.\n",
    "    Output:\n",
    "        level: Fitted level\n",
    "        trend: Fitted trend\n",
    "    \"\"\"\n",
    "\n",
    "    level = [time_series.iloc[0]]  # Initial level estimate (at t=0)\n",
    "    trend = [\n",
    "        time_series.iloc[1] - time_series.iloc[0]\n",
    "    ]  # Initial trend estimate (at t=0)\n",
    "\n",
    "    for t in range(1, len(time_series)):\n",
    "        \n",
    "        y = time_series.iloc[t]  # Observed data at t\n",
    "\n",
    "        updated_level = alpha * y + (1 - alpha) * (\n",
    "            level[-1] + trend[-1]\n",
    "        )  # Updated level\n",
    "        updated_trend = (\n",
    "            beta * (updated_level - level[-1])\n",
    "            + (1 - beta) * trend[-1]\n",
    "        )  # Updated trend\n",
    "\n",
    "        level.append(updated_level)\n",
    "        trend.append(updated_trend)\n",
    "\n",
    "    return level, trend"
   ]
  },
  {
   "cell_type": "code",
   "execution_count": null,
   "metadata": {},
   "outputs": [],
   "source": [
    "@interact(alpha=(0, 1, 0.01), beta=(0, 1, 0.01))\n",
    "def plot_double_exp_smoothing(alpha, beta):\n",
    "\n",
    "    level, trend = (holts_linear_recursor(train[\"Ads\"], alpha, beta))\n",
    "\n",
    "    fitted_vals = [np.nan] + [level[i-1] + 1 * trend[i-1] for i in range(1, len(train))]\n",
    "\n",
    "    fcst_fig = go.Figure()\n",
    "\n",
    "    fcst_fig.add_trace(go.Scatter(x=train.Time, y=train[\"Ads\"], name=\"Training data\"))\n",
    "    fcst_fig.add_trace(\n",
    "        go.Scatter(x=train.Time, y=fitted_vals, name=\"Fitted Holts Model\")\n",
    "    )\n",
    "\n",
    "    fcst_fig.add_trace(\n",
    "        go.Scatter(\n",
    "            x=test.Time,\n",
    "            y=[\n",
    "                level[-1] + h * trend[-1]\n",
    "                for h in range(len(test))\n",
    "            ],\n",
    "            name=\"Holts forecast\",\n",
    "        )\n",
    "    )\n",
    "\n",
    "    fcst_fig.add_trace(\n",
    "        go.Scatter(\n",
    "            x=test.Time, y=test.Ads, name=\"Test\", line=dict(dash=\"dash\", color=\"orange\")\n",
    "        )\n",
    "    )\n",
    "\n",
    "    fcst_fig.update_layout(\n",
    "        height=350, width=900, title_text=\"Holt's Linear Trend Method\"\n",
    "    )\n",
    "    fcst_fig.show()\n",
    "\n",
    "    # One step forecast in-sample error\n",
    "    sse = ((pd.Series(fitted_vals).values - train[\"Ads\"].values) ** 2)[1:].sum()\n",
    "    print(f\"Sum of Square Error (in-sample) = {sse}\")\n",
    "\n",
    "    # Test accuracy\n",
    "    mape = mean_absolute_percentage_error(\n",
    "        test.Ads,\n",
    "        [\n",
    "            level[-1] + h * trend[-1]\n",
    "            for h in range(len(test))\n",
    "        ],\n",
    "    )\n",
    "    print(f\"MAPE (out of-sample) = {round(mape* 100, 0)}%\")"
   ]
  },
  {
   "cell_type": "markdown",
   "metadata": {},
   "source": [
    "#### Task 2: Holt method using statsmodels"
   ]
  },
  {
   "cell_type": "markdown",
   "metadata": {},
   "source": [
    "Verify forecasts match (when using the same alpha & beta) when using both the custom recursive function and Holt implimentation in statsmodels.\n",
    "\n",
    "Optional: Redo forecast in statsmodels but set `damped_trend=True` inside `Holt()`. Plot the results and compare."
   ]
  },
  {
   "cell_type": "code",
   "execution_count": null,
   "metadata": {},
   "outputs": [],
   "source": [
    "# holt_model = Holt(endog=train[\"Ads\"],\n",
    "#                   # damped_trend=True\n",
    "#                  ).fit(\n",
    "#     smoothing_level=0.1, smoothing_trend=0.3\n",
    "# )\n",
    "\n",
    "# holt_series = holt_model.predict(start=test.index[0], end=test.index[-1])\n",
    "# print(holt_series.head())"
   ]
  },
  {
   "cell_type": "code",
   "execution_count": null,
   "metadata": {},
   "outputs": [],
   "source": [
    "# level, trend = holts_linear_recursor(\n",
    "#     train[\"Ads\"], alpha=0.1, beta=0.3)\n",
    "\n",
    "# forecasts = [level[-1] + h * trend[-1] for h in range(1, len(test))]\n",
    "# custom_holt_series = pd.Series(forecasts)\n",
    "# custom_holt_series.index = test.Time[1:]\n",
    "# custom_holt_series.head()"
   ]
  },
  {
   "cell_type": "code",
   "execution_count": null,
   "metadata": {},
   "outputs": [],
   "source": [
    "# # Use damped trend\n",
    "# holt_model_damped = Holt(endog=train[\"Ads\"],\n",
    "#                   damped_trend=True\n",
    "#                  ).fit(\n",
    "#     smoothing_level=0.1, smoothing_trend=0.3\n",
    "# )\n",
    "\n",
    "# holt_damped_series = holt_model_damped.predict(start=test.index[0], end=test.index[-1])\n",
    "# print(holt_damped_series.head())\n",
    "\n",
    "# pd.concat([holt_series, holt_damped_series], axis=1).plot(figsize = (15, 5))"
   ]
  },
  {
   "cell_type": "markdown",
   "metadata": {},
   "source": [
    "Check for best alpha & beta"
   ]
  },
  {
   "cell_type": "code",
   "execution_count": null,
   "metadata": {},
   "outputs": [],
   "source": [
    "# holt_model = Holt(train[\"Ads\"]).fit(\n",
    "#     optimized=True\n",
    "# )\n",
    "# print(holt_model.params_formatted)\n",
    "# print(holt_model._sse)"
   ]
  },
  {
   "cell_type": "markdown",
   "metadata": {},
   "source": [
    "* Holt's linear method extends SES by handling trending data, but still assumes no seasonality.\n",
    "* Two parameters control the forecast\n",
    "    - Alpha = How quickly the level reacts to recent data\n",
    "    - Beta = How quickly the slope reacts to recent data\n",
    "* In practice, trends may flatten over time. There is a modification to Holt's method (damping methods) adding a new damping parameter that dampen the trend over time."
   ]
  },
  {
   "cell_type": "markdown",
   "metadata": {},
   "source": [
    "### Triple Exponential Smoothing (Holt-Winters seasonal method)"
   ]
  },
  {
   "cell_type": "markdown",
   "metadata": {},
   "source": [
    "Finally, we consider a model that can incoorperate both seasonal and trend components. Holt-Winters extendes Holt's method, by adding a third smoothing equation for seasonality.\n",
    "\n",
    "We therefore have three smoothing parameters, $\\alpha$ (for level), $\\beta$ (for trend), and $\\gamma$ (for seasonality).\n",
    "\n",
    "Forecast equation: $\\hat{y}_{t + h | t} = l_{t} + hb_{t} + s_{t+h-m(k+1)}$, where k is the integer part from $\\frac{h-1}{m}$.\n",
    "\n",
    "Level equation: $l_{t} = \\alpha (y_{t} - s_{t-m}) + (1 - \\alpha)(l_{t-1} + b_{t-1})$<br>\n",
    "Trend equation: $b_{t} = \\beta(l_{t} - l_{t-1}) + (1 - \\beta)b_{t-1}$<br>\n",
    "Seasonal equation: $s_{t} = \\gamma(y_{t} - l_{t-1} - b_{t-1}) + (1 - \\gamma)s_{t-m}$\n",
    "\n",
    "We can also have a model for multiplicative seasonality, but we will just consider the additive model here."
   ]
  },
  {
   "cell_type": "code",
   "execution_count": null,
   "metadata": {},
   "outputs": [],
   "source": [
    "def holt_winters_recursor(time_series, alpha, beta, gamma, season_length, h=1):\n",
    "    # TODO\n",
    "    pass"
   ]
  },
  {
   "cell_type": "code",
   "execution_count": null,
   "metadata": {},
   "outputs": [],
   "source": [
    "@interact(alpha=(0, 1, 0.01), beta=(0, 1, 0.01), gamma=(0, 1, 0.01))\n",
    "def plot_triple_exp_smoothing(alpha, beta, gamma):\n",
    "\n",
    "    hw_model = ExponentialSmoothing(\n",
    "        endog=train[\"Ads\"],\n",
    "        seasonal_periods=24,\n",
    "        trend=\"add\",\n",
    "        seasonal=\"add\",\n",
    "    ).fit(smoothing_level=alpha, smoothing_trend=beta, smoothing_seasonal=gamma)\n",
    "\n",
    "    level_component = hw_model._level\n",
    "    trend_component = hw_model._trend\n",
    "    season_component = hw_model._season # Components for reference only\n",
    "\n",
    "    fcst_fig = go.Figure()\n",
    "\n",
    "    fcst_fig.add_trace(go.Scatter(x=train.Time, y=train[\"Ads\"], name=\"Training data\"))\n",
    "    fcst_fig.add_trace(\n",
    "        go.Scatter(x=train.Time, y=hw_model.fittedfcast, name=\"Fitted Holts Model\")\n",
    "    )\n",
    "\n",
    "    fcst_fig.add_trace(\n",
    "        go.Scatter(\n",
    "            x=test.Time,\n",
    "            y=hw_model.predict(start=test.index[0], end=test.index[-1]),\n",
    "            name=\"Holts Winters forecast\",\n",
    "        )\n",
    "    )\n",
    "\n",
    "    fcst_fig.add_trace(\n",
    "        go.Scatter(\n",
    "            x=test.Time, y=test.Ads, name=\"Test\", line=dict(dash=\"dash\", color=\"orange\")\n",
    "        )\n",
    "    )\n",
    "\n",
    "    fcst_fig.update_layout(\n",
    "        height=350, width=900, title_text=\"Holt's Winters Linear Trend Method\"\n",
    "    )\n",
    "    fcst_fig.show()\n",
    "\n",
    "    # One step forecast in-sample error\n",
    "    sse = hw_model.sse\n",
    "    print(f\"Sum of Square Error (in-sample) = {sse}\")\n",
    "\n",
    "    # Test accuracy\n",
    "    mape = mean_absolute_percentage_error(\n",
    "        test.Ads, hw_model.predict(start=test.index[0], end=test.index[-1])\n",
    "    )\n",
    "    print(f\"MAPE (out of-sample) = {round(mape* 100, 0)}%\")"
   ]
  },
  {
   "cell_type": "markdown",
   "metadata": {},
   "source": [
    "#### Task 3: Holt-Winters method using statsmodels"
   ]
  },
  {
   "cell_type": "markdown",
   "metadata": {},
   "source": [
    "Check for best fit for parameters alpha, beta, and gamma."
   ]
  },
  {
   "cell_type": "code",
   "execution_count": null,
   "metadata": {},
   "outputs": [],
   "source": [
    "# hw_model = ExponentialSmoothing(\n",
    "#     endog=train[\"Ads\"],\n",
    "#     seasonal_periods=24,\n",
    "#     trend=\"add\",\n",
    "#     seasonal=\"add\",\n",
    "# ).fit(optimized=True)\n",
    "# print(hw_model.params_formatted)\n",
    "# print(hw_model.sse)"
   ]
  },
  {
   "cell_type": "markdown",
   "metadata": {},
   "source": [
    "## The ExponenTialSmoothing (ETS) framework"
   ]
  },
  {
   "cell_type": "markdown",
   "metadata": {},
   "source": [
    "The ExponenTialSmoothing (ETS) is a unifying framework that brings together all the models described above together. It's a statistical framework that allows for probabilistic information (e.g., prediction intervals) rather than point forecasts as above. In practice, you will use some kind of ETS function to make forecasts."
   ]
  },
  {
   "cell_type": "code",
   "execution_count": null,
   "metadata": {},
   "outputs": [],
   "source": [
    "ets_model = ETSModel(\n",
    "    endog=train[\"Ads\"],\n",
    "    # All we need to do is specify the seasonal period,\n",
    "    # And whether the trend/seasonal components are additive or multiplicative\n",
    "    seasonal_periods=24,\n",
    "    trend=\"add\",\n",
    "    seasonal=\"add\",\n",
    ").fit()"
   ]
  },
  {
   "cell_type": "code",
   "execution_count": null,
   "metadata": {},
   "outputs": [],
   "source": [
    "# Predict from trained model\n",
    "pred = ets_model.get_prediction(\n",
    "    start=test.index[1], end=test.index[-1]\n",
    ")  # Prediction intervals\n",
    "ets_prediction = pred.summary_frame(alpha=0.05)\n",
    "ets_prediction.head()"
   ]
  },
  {
   "cell_type": "code",
   "execution_count": null,
   "metadata": {},
   "outputs": [],
   "source": [
    "fig = go.Figure()\n",
    "\n",
    "fig.add_trace(\n",
    "    go.Scatter(\n",
    "        x=test.Time, y=ets_prediction[\"mean\"], mode=\"lines\", name=\"Point forecast\"\n",
    "    )\n",
    ")\n",
    "\n",
    "fig.add_trace(\n",
    "    go.Scatter(\n",
    "        x=test.Time,\n",
    "        y=ets_prediction[\"pi_upper\"],\n",
    "        mode=\"lines\",\n",
    "        line=dict(width=0),\n",
    "        showlegend=False,\n",
    "    )\n",
    ")\n",
    "\n",
    "fig.add_trace(\n",
    "    go.Scatter(\n",
    "        x=test.Time,\n",
    "        y=ets_prediction[\"pi_lower\"],\n",
    "        mode=\"lines\",\n",
    "        line=dict(width=0),\n",
    "        fill=\"tonexty\",\n",
    "        fillcolor=\"rgba(173,216,230,0.5)\",\n",
    "        name=\"Prediction Interval\",\n",
    "    )\n",
    ")\n",
    "\n",
    "fig.add_trace(go.Scatter(x=train.Time, y=train[\"Ads\"], name=\"Training data\"))\n",
    "fig.update_layout(title=\"ETS\")\n",
    "\n",
    "fig.add_trace(\n",
    "    go.Scatter(\n",
    "        x=test.Time, y=test.Ads, name=\"Test\", line=dict(dash=\"dash\", color=\"orange\")\n",
    "    )\n",
    ")\n",
    "\n",
    "fig.show()"
   ]
  },
  {
   "cell_type": "markdown",
   "metadata": {},
   "source": [
    "We can see the parameters the model has selected"
   ]
  },
  {
   "cell_type": "code",
   "execution_count": null,
   "metadata": {},
   "outputs": [],
   "source": [
    "ets_model.summary()"
   ]
  },
  {
   "cell_type": "markdown",
   "metadata": {},
   "source": [
    "#### Optional Task: Use ETS to do SES with prediction intervals"
   ]
  },
  {
   "cell_type": "code",
   "execution_count": null,
   "metadata": {},
   "outputs": [],
   "source": [
    "# ets_model = ETSModel(\n",
    "#     endog=train[\"Ads\"],\n",
    "#     trend=None,\n",
    "#     seasonal=None, # No trend or seasonality for SES\n",
    "# ).fit()\n",
    "\n",
    "# # Predict from trained model\n",
    "\n",
    "# ses_pred = ets_model.get_prediction(\n",
    "#     start=test.index[1], end=test.index[-1]\n",
    "# )  # Prediction intervals\n",
    "# ses_pred_df = ses_pred.summary_frame(alpha=0.05)\n",
    "# ses_pred_df.plot(figsize = (15, 5))"
   ]
  }
 ],
 "metadata": {
  "kernelspec": {
   "display_name": "Python 3 (ipykernel)",
   "language": "python",
   "name": "python3"
  },
  "language_info": {
   "codemirror_mode": {
    "name": "ipython",
    "version": 3
   },
   "file_extension": ".py",
   "mimetype": "text/x-python",
   "name": "python",
   "nbconvert_exporter": "python",
   "pygments_lexer": "ipython3",
   "version": "3.11.13"
  }
 },
 "nbformat": 4,
 "nbformat_minor": 4
}
