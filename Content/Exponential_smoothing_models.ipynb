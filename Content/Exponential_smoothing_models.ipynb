{
 "cells": [
  {
   "cell_type": "markdown",
   "metadata": {},
   "source": [
    "# Exponential Smoothing"
   ]
  },
  {
   "cell_type": "code",
   "execution_count": 1,
   "metadata": {},
   "outputs": [],
   "source": [
    "import warnings\n",
    "\n",
    "warnings.simplefilter(\"ignore\", category=FutureWarning)\n",
    "\n",
    "import numpy as np\n",
    "import pandas as pd\n",
    "from sklearn.metrics import (\n",
    "    mean_absolute_percentage_error,\n",
    "    mean_squared_error,\n",
    ")\n",
    "\n",
    "import plotly.express as px\n",
    "import plotly.graph_objects as go\n",
    "\n",
    "from statsmodels.tsa.api import ExponentialSmoothing, SimpleExpSmoothing, Holt, ETSModel\n",
    "\n",
    "from ipywidgets import interact"
   ]
  },
  {
   "cell_type": "code",
   "execution_count": 2,
   "metadata": {},
   "outputs": [
    {
     "data": {
      "text/html": [
       "<div>\n",
       "<style scoped>\n",
       "    .dataframe tbody tr th:only-of-type {\n",
       "        vertical-align: middle;\n",
       "    }\n",
       "\n",
       "    .dataframe tbody tr th {\n",
       "        vertical-align: top;\n",
       "    }\n",
       "\n",
       "    .dataframe thead th {\n",
       "        text-align: right;\n",
       "    }\n",
       "</style>\n",
       "<table border=\"1\" class=\"dataframe\">\n",
       "  <thead>\n",
       "    <tr style=\"text-align: right;\">\n",
       "      <th></th>\n",
       "      <th>Time</th>\n",
       "      <th>Ads</th>\n",
       "    </tr>\n",
       "  </thead>\n",
       "  <tbody>\n",
       "    <tr>\n",
       "      <th>0</th>\n",
       "      <td>2017-09-13T00:00:00</td>\n",
       "      <td>80115</td>\n",
       "    </tr>\n",
       "    <tr>\n",
       "      <th>1</th>\n",
       "      <td>2017-09-13T01:00:00</td>\n",
       "      <td>79885</td>\n",
       "    </tr>\n",
       "    <tr>\n",
       "      <th>2</th>\n",
       "      <td>2017-09-13T02:00:00</td>\n",
       "      <td>89325</td>\n",
       "    </tr>\n",
       "    <tr>\n",
       "      <th>3</th>\n",
       "      <td>2017-09-13T03:00:00</td>\n",
       "      <td>101930</td>\n",
       "    </tr>\n",
       "    <tr>\n",
       "      <th>4</th>\n",
       "      <td>2017-09-13T04:00:00</td>\n",
       "      <td>121630</td>\n",
       "    </tr>\n",
       "  </tbody>\n",
       "</table>\n",
       "</div>"
      ],
      "text/plain": [
       "                  Time     Ads\n",
       "0  2017-09-13T00:00:00   80115\n",
       "1  2017-09-13T01:00:00   79885\n",
       "2  2017-09-13T02:00:00   89325\n",
       "3  2017-09-13T03:00:00  101930\n",
       "4  2017-09-13T04:00:00  121630"
      ]
     },
     "execution_count": 2,
     "metadata": {},
     "output_type": "execute_result"
    }
   ],
   "source": [
    "df = pd.read_csv(\n",
    "    \"https://raw.githubusercontent.com/Naren8520/Serie-de-tiempo-con-Machine-Learning/main/Data/ads.csv\"\n",
    ")\n",
    "df.head()"
   ]
  },
  {
   "cell_type": "code",
   "execution_count": 3,
   "metadata": {},
   "outputs": [],
   "source": [
    "# Split into training/ testing datasets.\n",
    "train = df[df.Time <= \"2017-09-20 17:00:00\"]\n",
    "test = df[df.Time > \"2017-09-20 17:00:00\"]"
   ]
  },
  {
   "cell_type": "markdown",
   "metadata": {},
   "source": [
    "Exponential smoothing is amonge one of the most widely used techniques in time series forecasting. \n",
    "\n",
    "The exponential smoothing methods use weighted averages of past observations (where weights decay exponentially for older values). In other words, the forecast is more influenced by recent values, compared with older observations."
   ]
  },
  {
   "cell_type": "markdown",
   "metadata": {},
   "source": [
    "* Would you trust a mean forecast?\n",
    "* Would you trust a Naive forecast?\n",
    "  \n",
    "> Exponential Smoothing offers forecasts between these two extremes."
   ]
  },
  {
   "cell_type": "markdown",
   "metadata": {},
   "source": [
    "### Simple Exponential Smoothing (SES)"
   ]
  },
  {
   "cell_type": "markdown",
   "metadata": {},
   "source": [
    "SES is a forecasting method that gives more weight to recent observations."
   ]
  },
  {
   "cell_type": "markdown",
   "metadata": {},
   "source": [
    "$\\hat{y}_{T + 1 | T} = \\alpha y_{T} + \\alpha(1-\\alpha) y_{T-1} + \\alpha(1-\\alpha)^2 y_{T-2} + ...$, where $0\\leq \\alpha \\leq1$ is the smoothing parameter. \n",
    "\n",
    "**N.B:**  $\\hat{y}_{T + 1 | T}$ is our 1-step forecast based on data $y_{1} + y_{2} + ... + y_{T}$"
   ]
  },
  {
   "cell_type": "markdown",
   "metadata": {},
   "source": [
    "* $\\alpha$ is the smoothing factor (between 0 and 1).\n",
    "* More recent values (like  $y_{T}$) get more weight.\n",
    "* Older values get exponentially less weight."
   ]
  },
  {
   "cell_type": "markdown",
   "metadata": {},
   "source": [
    "This can be re-written recursively, making it easier to make a function in python:"
   ]
  },
  {
   "cell_type": "markdown",
   "metadata": {},
   "source": [
    "Forecast equation: $\\hat{y}_{t + h | T} = {l}_{t}$\n",
    "\n",
    "Smoothing equation: ${l}_{t} = \\alpha y_{t} + (1-\\alpha){l}_{t-1}$"
   ]
  },
  {
   "cell_type": "code",
   "execution_count": 4,
   "metadata": {},
   "outputs": [],
   "source": [
    "def SES_recurser(obs_series, alpha):\n",
    "    \"\"\"\n",
    "    SES From Scratch.\n",
    "\n",
    "    Inputs:\n",
    "        obs_series (pandas.Series): Observational data.\n",
    "        alpha (float): 0<=alpha<=1, the smoothing parameter.\n",
    "    Output:\n",
    "        list: Level of time series\n",
    "    \"\"\"\n",
    "    level = [obs_series.iloc[0]]  # Initialise first value\n",
    "\n",
    "    for t in range(1, len(obs_series)):\n",
    "\n",
    "        updated_level = (\n",
    "            obs_series.iloc[t] * alpha + (1 - alpha) * level[t - 1]\n",
    "        )  # Level estimate\n",
    "        level.append(updated_level)  # Store updated level\n",
    "\n",
    "    return level"
   ]
  },
  {
   "cell_type": "code",
   "execution_count": 5,
   "metadata": {},
   "outputs": [
    {
     "data": {
      "application/vnd.jupyter.widget-view+json": {
       "model_id": "e1bbf1154a974ed2972e814af158cb89",
       "version_major": 2,
       "version_minor": 0
      },
      "text/plain": [
       "interactive(children=(FloatSlider(value=0.0, description='alpha', max=1.0, step=0.01), Output()), _dom_classes…"
      ]
     },
     "metadata": {},
     "output_type": "display_data"
    }
   ],
   "source": [
    "@interact(alpha=(0, 1, 0.01))\n",
    "def plot_ses(alpha):\n",
    "\n",
    "    level = SES_recurser(train[\"Ads\"], alpha=alpha)\n",
    "\n",
    "    fcst_fig = go.Figure()\n",
    "    fcst_fig.add_trace(go.Scatter(x=train.Time, y=train[\"Ads\"], name=\"Training data\"))\n",
    "    fcst_fig.add_trace(\n",
    "        go.Scatter(x=train.Time, y=[np.nan] + level[:-1], name=\"One-step forecasts (in-sample)\")\n",
    "    )\n",
    "\n",
    "    fcst_fig.add_trace(\n",
    "        go.Scatter(\n",
    "            x=test.Time,\n",
    "            y=[level[-1]] * len(test),\n",
    "            name=\"SES forecast (out-of-sample)\",\n",
    "        )\n",
    "    )\n",
    "\n",
    "    fcst_fig.add_trace(\n",
    "        go.Scatter(\n",
    "            x=test.Time, y=test.Ads, name=\"Test\", line=dict(dash=\"dash\", color=\"orange\")\n",
    "        )\n",
    "    )\n",
    "\n",
    "    fcst_fig.update_layout(\n",
    "        title=\"Simple Exponential Smoothing\",\n",
    "        yaxis_title=\"avg_daily_attendances\",\n",
    "    )\n",
    "    fcst_fig.show()\n",
    "\n",
    "    # One step forecast in-sample error\n",
    "    sse = (([np.nan] + level[:-1] - train[\"Ads\"].values) ** 2)[1:].sum()\n",
    "    print(f\"Sum of Square Error (in-sample) = {sse}\")\n",
    "\n",
    "    # Test accuracy\n",
    "    mape = mean_absolute_percentage_error(test.Ads, [level[-1]] * len(test))\n",
    "    print(f\"MAPE (out of-sample) = {round(mape* 100, 0)}%\")"
   ]
  },
  {
   "cell_type": "markdown",
   "metadata": {},
   "source": [
    "#### Task 1: SES using statsmodels"
   ]
  },
  {
   "cell_type": "markdown",
   "metadata": {},
   "source": [
    "Verify forecasts match (when using the same alpha) when using both the custom recursive function and SES implimentation in statsmodels."
   ]
  },
  {
   "cell_type": "code",
   "execution_count": 6,
   "metadata": {},
   "outputs": [],
   "source": [
    "# ses_model = SimpleExpSmoothing(train[\"Ads\"]).fit(\n",
    "#     smoothing_level=0.1\n",
    "# )\n",
    "\n",
    "# ses_series = ses_model.predict(start=test.index[0], end=test.index[-1])\n",
    "# ses_series.index = test.Time\n",
    "# print(ses_series.head())"
   ]
  },
  {
   "cell_type": "code",
   "execution_count": 7,
   "metadata": {},
   "outputs": [],
   "source": [
    "# level = SES_recurser(train[\"Ads\"], alpha=0.1)\n",
    "# forecasts = [level[-1]] * (len(test))\n",
    "# custom_ses_series = pd.Series(forecasts)\n",
    "# custom_ses_series.index = test.Time\n",
    "# custom_ses_series.head()"
   ]
  },
  {
   "cell_type": "markdown",
   "metadata": {},
   "source": [
    "Check for best alpha fit using statsmodels"
   ]
  },
  {
   "cell_type": "code",
   "execution_count": 8,
   "metadata": {},
   "outputs": [],
   "source": [
    "# ses_model = SimpleExpSmoothing(train[\"Ads\"]).fit(\n",
    "#     optimized=True\n",
    "# )\n",
    "# print(ses_model.params_formatted)\n",
    "# print(ses_model._sse)"
   ]
  },
  {
   "cell_type": "markdown",
   "metadata": {},
   "source": [
    "* SES only forecasts a flat value (like the mean) -> only useful when your data has no trend or seasonality.\n",
    "* A single parameter controls the weighting:\n",
    "    - High alpha = more reactive to recent changed\n",
    "    - Low alpha = more smooth, stable forecast "
   ]
  },
  {
   "cell_type": "markdown",
   "metadata": {},
   "source": [
    "### Double Exponential Smoothing (Holt's linear trend)"
   ]
  },
  {
   "cell_type": "markdown",
   "metadata": {},
   "source": [
    "The previous forecast gave a flat forecast for the weighted average. If our time series if showing a clear trend, how can we include a trend in the forecast?\n",
    "\n",
    "Holt's linear trend is an extension of SES, where we now have two smoothing equations. One for the level ($\\alpha$) and one for the trend ($\\beta$)."
   ]
  },
  {
   "cell_type": "markdown",
   "metadata": {},
   "source": [
    "Forecast equation: $\\hat{y}_{t + h | t} = l_{t} + hb_{t}$\n",
    "\n",
    "Level equation: $l_{t} = \\alpha y_{t} + (1 - \\alpha)(l_{t-1} + b_{t-1})$<br>\n",
    "Trend equation: $b_{t} = \\beta(l_{t} - l_{t-1}) + (1 - \\beta)b_{t-1}$"
   ]
  },
  {
   "cell_type": "code",
   "execution_count": 9,
   "metadata": {},
   "outputs": [],
   "source": [
    "def holts_linear_recursor(time_series, alpha, beta):\n",
    "    \"\"\"\n",
    "    Double exponential smoothing from scratch.\n",
    "\n",
    "    Inputs:\n",
    "        time_series (pandas.Series): Observational data.\n",
    "        alpha (float): 0 <= alpha <= 1, smoothing parameter for level.\n",
    "        beta (float): 0 <= beta <= 1, smoothing parameter for trend.\n",
    "    Output:\n",
    "        level: Fitted level\n",
    "        trend: Fitted trend\n",
    "    \"\"\"\n",
    "\n",
    "    level = [time_series.iloc[0]]  # Initial level estimate (at t=0)\n",
    "    trend = [\n",
    "        time_series.iloc[1] - time_series.iloc[0]\n",
    "    ]  # Initial trend estimate (at t=0)\n",
    "\n",
    "    for t in range(1, len(time_series)):\n",
    "        \n",
    "        y = time_series.iloc[t]  # Observed data at t\n",
    "\n",
    "        updated_level = alpha * y + (1 - alpha) * (\n",
    "            level[-1] + trend[-1]\n",
    "        )  # Updated level\n",
    "        updated_trend = (\n",
    "            beta * (updated_level - level[-1])\n",
    "            + (1 - beta) * trend[-1]\n",
    "        )  # Updated trend\n",
    "\n",
    "        level.append(updated_level)\n",
    "        trend.append(updated_trend)\n",
    "\n",
    "    return level, trend"
   ]
  },
  {
   "cell_type": "code",
   "execution_count": 10,
   "metadata": {},
   "outputs": [
    {
     "data": {
      "application/vnd.jupyter.widget-view+json": {
       "model_id": "b30d908d49f04ecfb9421a0dc2f01ff0",
       "version_major": 2,
       "version_minor": 0
      },
      "text/plain": [
       "interactive(children=(FloatSlider(value=0.0, description='alpha', max=1.0, step=0.01), FloatSlider(value=0.0, …"
      ]
     },
     "metadata": {},
     "output_type": "display_data"
    }
   ],
   "source": [
    "@interact(alpha=(0, 1, 0.01), beta=(0, 1, 0.01))\n",
    "def plot_double_exp_smoothing(alpha, beta):\n",
    "\n",
    "    level, trend = (holts_linear_recursor(train[\"Ads\"], alpha, beta))\n",
    "\n",
    "    fitted_vals = [np.nan] + [level[i-1] + 1 * trend[i-1] for i in range(1, len(train))]\n",
    "\n",
    "    fcst_fig = go.Figure()\n",
    "\n",
    "    fcst_fig.add_trace(go.Scatter(x=train.Time, y=train[\"Ads\"], name=\"Training data\"))\n",
    "    fcst_fig.add_trace(\n",
    "        go.Scatter(x=train.Time, y=fitted_vals, name=\"Fitted Holts Model\")\n",
    "    )\n",
    "\n",
    "    fcst_fig.add_trace(\n",
    "        go.Scatter(\n",
    "            x=test.Time,\n",
    "            y=[\n",
    "                level[-1] + h * trend[-1]\n",
    "                for h in range(len(test))\n",
    "            ],\n",
    "            name=\"Holts forecast\",\n",
    "        )\n",
    "    )\n",
    "\n",
    "    fcst_fig.add_trace(\n",
    "        go.Scatter(\n",
    "            x=test.Time, y=test.Ads, name=\"Test\", line=dict(dash=\"dash\", color=\"orange\")\n",
    "        )\n",
    "    )\n",
    "\n",
    "    fcst_fig.update_layout(\n",
    "        height=350, width=900, title_text=\"Holt's Linear Trend Method\"\n",
    "    )\n",
    "    fcst_fig.show()\n",
    "\n",
    "    # One step forecast in-sample error\n",
    "    sse = ((pd.Series(fitted_vals).values - train[\"Ads\"].values) ** 2)[1:].sum()\n",
    "    print(f\"Sum of Square Error (in-sample) = {sse}\")\n",
    "\n",
    "    # Test accuracy\n",
    "    mape = mean_absolute_percentage_error(\n",
    "        test.Ads,\n",
    "        [\n",
    "            level[-1] + h * trend[-1]\n",
    "            for h in range(len(test))\n",
    "        ],\n",
    "    )\n",
    "    print(f\"MAPE (out of-sample) = {round(mape* 100, 0)}%\")"
   ]
  },
  {
   "cell_type": "markdown",
   "metadata": {},
   "source": [
    "#### Task 2: Holt method using statsmodels"
   ]
  },
  {
   "cell_type": "markdown",
   "metadata": {},
   "source": [
    "Verify forecasts match (when using the same alpha & beta) when using both the custom recursive function and Holt implimentation in statsmodels.\n",
    "\n",
    "Optional: Redo forecast in statsmodels but set `damped_trend=True` inside `Holt()`. Plot the results and compare."
   ]
  },
  {
   "cell_type": "code",
   "execution_count": 11,
   "metadata": {},
   "outputs": [
    {
     "name": "stdout",
     "output_type": "stream",
     "text": [
      "168    145488.497955\n",
      "169    146342.037668\n",
      "170    147195.577381\n",
      "171    148049.117094\n",
      "172    148902.656807\n",
      "dtype: float64\n"
     ]
    },
    {
     "name": "stderr",
     "output_type": "stream",
     "text": [
      "C:\\Users\\benjamin.holdsworth\\.conda\\envs\\ben_test\\Lib\\site-packages\\pandas\\util\\_decorators.py:213: EstimationWarning:\n",
      "\n",
      "Model has no free parameters to estimate. Set optimized=False to suppress this warning\n",
      "\n"
     ]
    }
   ],
   "source": [
    "holt_model = Holt(endog=train[\"Ads\"],\n",
    "                  # damped_trend=True\n",
    "                 ).fit(\n",
    "    smoothing_level=0.1, smoothing_trend=0.3\n",
    ")\n",
    "\n",
    "holt_series = holt_model.predict(start=test.index[0], end=test.index[-1])\n",
    "print(holt_series.head())"
   ]
  },
  {
   "cell_type": "code",
   "execution_count": 12,
   "metadata": {},
   "outputs": [],
   "source": [
    "# level, trend = holts_linear_recursor(\n",
    "#     train[\"Ads\"], alpha=0.1, beta=0.3)\n",
    "\n",
    "# forecasts = [level[-1] + h * trend[-1] for h in range(1, len(test))]\n",
    "# custom_holt_series = pd.Series(forecasts)\n",
    "# custom_holt_series.index = test.Time[1:]\n",
    "# custom_holt_series.head()"
   ]
  },
  {
   "cell_type": "code",
   "execution_count": 13,
   "metadata": {},
   "outputs": [],
   "source": [
    "# # Use damped trend\n",
    "# holt_model_damped = Holt(endog=train[\"Ads\"],\n",
    "#                   damped_trend=True\n",
    "#                  ).fit(\n",
    "#     smoothing_level=0.1, smoothing_trend=0.3\n",
    "# )\n",
    "\n",
    "# holt_damped_series = holt_model_damped.predict(start=test.index[0], end=test.index[-1])\n",
    "# print(holt_damped_series.head())\n",
    "\n",
    "# pd.concat([holt_series, holt_damped_series], axis=1).plot(figsize = (15, 5))"
   ]
  },
  {
   "cell_type": "markdown",
   "metadata": {},
   "source": [
    "Check for best alpha & beta"
   ]
  },
  {
   "cell_type": "code",
   "execution_count": 14,
   "metadata": {},
   "outputs": [],
   "source": [
    "# holt_model = Holt(train[\"Ads\"]).fit(\n",
    "#     optimized=True\n",
    "# )\n",
    "# print(holt_model.params_formatted)\n",
    "# print(holt_model._sse)"
   ]
  },
  {
   "cell_type": "markdown",
   "metadata": {},
   "source": [
    "* Holt's linear method extends SES by handling trending data, but still assumes no seasonality.\n",
    "* Two parameters control the forecast\n",
    "    - Alpha = How quickly the level reacts to recent data\n",
    "    - Beta = How quickly the slope reacts to recent data\n",
    "* In practice, trends may flatten over time. There is a modification to Holt's method (damping methods) adding a new damping parameter that dampen the trend over time."
   ]
  },
  {
   "cell_type": "markdown",
   "metadata": {},
   "source": [
    "### Triple Exponential Smoothing (Holt-Winters seasonal method)"
   ]
  },
  {
   "cell_type": "markdown",
   "metadata": {},
   "source": [
    "Finally, we consider a model that can incoorperate both seasonal and trend components. Holt-Winters extendes Holt's method, by adding a third smoothing equation for seasonality.\n",
    "\n",
    "We therefore have three smoothing parameters, $\\alpha$ (for level), $\\beta$ (for trend), and $\\gamma$ (for seasonality).\n",
    "\n",
    "Forecast equation: $\\hat{y}_{t + h | t} = l_{t} + hb_{t} + s_{t+h-m(k+1)}$, where k is the integer part from $\\frac{h-1}{m}$.\n",
    "\n",
    "Level equation: $l_{t} = \\alpha (y_{t} - s_{t-m}) + (1 - \\alpha)(l_{t-1} + b_{t-1})$<br>\n",
    "Trend equation: $b_{t} = \\beta(l_{t} - l_{t-1}) + (1 - \\beta)b_{t-1}$<br>\n",
    "Seasonal equation: $s_{t} = \\gamma(y_{t} - l_{t-1} - b_{t-1}) + (1 - \\gamma)s_{t-m}$\n",
    "\n",
    "We can also have a model for multiplicative seasonality, but we will just consider the additive model here."
   ]
  },
  {
   "cell_type": "code",
   "execution_count": 15,
   "metadata": {},
   "outputs": [],
   "source": [
    "def holt_winters_recursor(time_series, alpha, beta, gamma, season_length, h=1):\n",
    "    # TODO\n",
    "    pass"
   ]
  },
  {
   "cell_type": "code",
   "execution_count": 16,
   "metadata": {},
   "outputs": [
    {
     "data": {
      "application/vnd.jupyter.widget-view+json": {
       "model_id": "995c6e9e5dd6491e9b0793064d417523",
       "version_major": 2,
       "version_minor": 0
      },
      "text/plain": [
       "interactive(children=(FloatSlider(value=0.0, description='alpha', max=1.0, step=0.01), FloatSlider(value=0.0, …"
      ]
     },
     "metadata": {},
     "output_type": "display_data"
    }
   ],
   "source": [
    "@interact(alpha=(0, 1, 0.01), beta=(0, 1, 0.01), gamma=(0, 1, 0.01))\n",
    "def plot_triple_exp_smoothing(alpha, beta, gamma):\n",
    "\n",
    "    hw_model = ExponentialSmoothing(\n",
    "        endog=train[\"Ads\"],\n",
    "        seasonal_periods=24,\n",
    "        trend=\"add\",\n",
    "        seasonal=\"add\",\n",
    "    ).fit(smoothing_level=alpha, smoothing_trend=beta, smoothing_seasonal=gamma)\n",
    "\n",
    "    level_component = hw_model._level\n",
    "    trend_component = hw_model._trend\n",
    "    season_component = hw_model._season # Components for reference only\n",
    "\n",
    "    fcst_fig = go.Figure()\n",
    "\n",
    "    fcst_fig.add_trace(go.Scatter(x=train.Time, y=train[\"Ads\"], name=\"Training data\"))\n",
    "    fcst_fig.add_trace(\n",
    "        go.Scatter(x=train.Time, y=hw_model.fittedfcast, name=\"Fitted Holts Model\")\n",
    "    )\n",
    "\n",
    "    fcst_fig.add_trace(\n",
    "        go.Scatter(\n",
    "            x=test.Time,\n",
    "            y=hw_model.predict(start=test.index[0], end=test.index[-1]),\n",
    "            name=\"Holts Winters forecast\",\n",
    "        )\n",
    "    )\n",
    "\n",
    "    fcst_fig.add_trace(\n",
    "        go.Scatter(\n",
    "            x=test.Time, y=test.Ads, name=\"Test\", line=dict(dash=\"dash\", color=\"orange\")\n",
    "        )\n",
    "    )\n",
    "\n",
    "    fcst_fig.update_layout(\n",
    "        height=350, width=900, title_text=\"Holt's Winters Linear Trend Method\"\n",
    "    )\n",
    "    fcst_fig.show()\n",
    "\n",
    "    # One step forecast in-sample error\n",
    "    sse = hw_model.sse\n",
    "    print(f\"Sum of Square Error (in-sample) = {sse}\")\n",
    "\n",
    "    # Test accuracy\n",
    "    mape = mean_absolute_percentage_error(\n",
    "        test.Ads, hw_model.predict(start=test.index[0], end=test.index[-1])\n",
    "    )\n",
    "    print(f\"MAPE (out of-sample) = {round(mape* 100, 0)}%\")"
   ]
  },
  {
   "cell_type": "markdown",
   "metadata": {},
   "source": [
    "#### Task 3: Holt-Winters method using statsmodels"
   ]
  },
  {
   "cell_type": "markdown",
   "metadata": {},
   "source": [
    "Check for best fit for parameters alpha, beta, and gamma."
   ]
  },
  {
   "cell_type": "code",
   "execution_count": 17,
   "metadata": {},
   "outputs": [],
   "source": [
    "# hw_model = ExponentialSmoothing(\n",
    "#     endog=train[\"Ads\"],\n",
    "#     seasonal_periods=24,\n",
    "#     trend=\"add\",\n",
    "#     seasonal=\"add\",\n",
    "# ).fit(optimized=True)\n",
    "# print(hw_model.params_formatted)\n",
    "# print(hw_model.sse)"
   ]
  },
  {
   "cell_type": "markdown",
   "metadata": {},
   "source": [
    "## The ExponenTialSmoothing (ETS) framework"
   ]
  },
  {
   "cell_type": "markdown",
   "metadata": {},
   "source": [
    "The ExponenTialSmoothing (ETS) is a unifying framework that brings together all the models described above together. It's a statistical framework that allows for probabilistic information (e.g., prediction intervals) rather than point forecasts as above. In practice, you will use some kind of ETS function to make forecasts."
   ]
  },
  {
   "cell_type": "code",
   "execution_count": 18,
   "metadata": {},
   "outputs": [],
   "source": [
    "ets_model = ETSModel(\n",
    "    endog=train[\"Ads\"],\n",
    "    # All we need to do is specify the seasonal period,\n",
    "    # And whether the trend/seasonal components are additive or multiplicative\n",
    "    seasonal_periods=24,\n",
    "    trend=\"add\",\n",
    "    seasonal=\"add\",\n",
    ").fit()"
   ]
  },
  {
   "cell_type": "code",
   "execution_count": 19,
   "metadata": {},
   "outputs": [
    {
     "data": {
      "text/html": [
       "<div>\n",
       "<style scoped>\n",
       "    .dataframe tbody tr th:only-of-type {\n",
       "        vertical-align: middle;\n",
       "    }\n",
       "\n",
       "    .dataframe tbody tr th {\n",
       "        vertical-align: top;\n",
       "    }\n",
       "\n",
       "    .dataframe thead th {\n",
       "        text-align: right;\n",
       "    }\n",
       "</style>\n",
       "<table border=\"1\" class=\"dataframe\">\n",
       "  <thead>\n",
       "    <tr style=\"text-align: right;\">\n",
       "      <th></th>\n",
       "      <th>mean</th>\n",
       "      <th>pi_lower</th>\n",
       "      <th>pi_upper</th>\n",
       "    </tr>\n",
       "  </thead>\n",
       "  <tbody>\n",
       "    <tr>\n",
       "      <th>169</th>\n",
       "      <td>92637.981610</td>\n",
       "      <td>63278.569439</td>\n",
       "      <td>121997.393782</td>\n",
       "    </tr>\n",
       "    <tr>\n",
       "      <th>170</th>\n",
       "      <td>106528.347140</td>\n",
       "      <td>70569.359203</td>\n",
       "      <td>142487.335077</td>\n",
       "    </tr>\n",
       "    <tr>\n",
       "      <th>171</th>\n",
       "      <td>129086.401271</td>\n",
       "      <td>87562.808632</td>\n",
       "      <td>170609.993911</td>\n",
       "    </tr>\n",
       "    <tr>\n",
       "      <th>172</th>\n",
       "      <td>153396.845801</td>\n",
       "      <td>106969.969013</td>\n",
       "      <td>199823.722590</td>\n",
       "    </tr>\n",
       "    <tr>\n",
       "      <th>173</th>\n",
       "      <td>154032.951294</td>\n",
       "      <td>103172.482853</td>\n",
       "      <td>204893.419736</td>\n",
       "    </tr>\n",
       "  </tbody>\n",
       "</table>\n",
       "</div>"
      ],
      "text/plain": [
       "              mean       pi_lower       pi_upper\n",
       "169   92637.981610   63278.569439  121997.393782\n",
       "170  106528.347140   70569.359203  142487.335077\n",
       "171  129086.401271   87562.808632  170609.993911\n",
       "172  153396.845801  106969.969013  199823.722590\n",
       "173  154032.951294  103172.482853  204893.419736"
      ]
     },
     "execution_count": 19,
     "metadata": {},
     "output_type": "execute_result"
    }
   ],
   "source": [
    "# Predict from trained model\n",
    "pred = ets_model.get_prediction(\n",
    "    start=test.index[1], end=test.index[-1]\n",
    ")  # Prediction intervals\n",
    "ets_prediction = pred.summary_frame(alpha=0.05)\n",
    "ets_prediction.head()"
   ]
  },
  {
   "cell_type": "code",
   "execution_count": 20,
   "metadata": {},
   "outputs": [
    {
     "data": {
      "application/vnd.plotly.v1+json": {
       "config": {
        "plotlyServerURL": "https://plot.ly"
       },
       "data": [
        {
         "mode": "lines",
         "name": "Point forecast",
         "type": "scatter",
         "x": [
          "2017-09-20T00:00:00",
          "2017-09-20T01:00:00",
          "2017-09-20T02:00:00",
          "2017-09-20T03:00:00",
          "2017-09-20T04:00:00",
          "2017-09-20T05:00:00",
          "2017-09-20T06:00:00",
          "2017-09-20T07:00:00",
          "2017-09-20T08:00:00",
          "2017-09-20T09:00:00",
          "2017-09-20T10:00:00",
          "2017-09-20T11:00:00",
          "2017-09-20T12:00:00",
          "2017-09-20T13:00:00",
          "2017-09-20T14:00:00",
          "2017-09-20T15:00:00",
          "2017-09-20T16:00:00",
          "2017-09-20T17:00:00",
          "2017-09-20T18:00:00",
          "2017-09-20T19:00:00",
          "2017-09-20T20:00:00",
          "2017-09-20T21:00:00",
          "2017-09-20T22:00:00",
          "2017-09-20T23:00:00",
          "2017-09-21T00:00:00",
          "2017-09-21T01:00:00",
          "2017-09-21T02:00:00",
          "2017-09-21T03:00:00",
          "2017-09-21T04:00:00",
          "2017-09-21T05:00:00",
          "2017-09-21T06:00:00",
          "2017-09-21T07:00:00",
          "2017-09-21T08:00:00",
          "2017-09-21T09:00:00",
          "2017-09-21T10:00:00",
          "2017-09-21T11:00:00",
          "2017-09-21T12:00:00",
          "2017-09-21T13:00:00",
          "2017-09-21T14:00:00",
          "2017-09-21T15:00:00",
          "2017-09-21T16:00:00",
          "2017-09-21T17:00:00",
          "2017-09-21T18:00:00",
          "2017-09-21T19:00:00",
          "2017-09-21T20:00:00",
          "2017-09-21T21:00:00",
          "2017-09-21T22:00:00",
          "2017-09-21T23:00:00"
         ],
         "y": [
          92637.9816101917,
          106528.34713980534,
          129086.40127134262,
          153396.845801369,
          154032.9512942037,
          147387.5515098268,
          145651.38710678642,
          147283.56459605787,
          147575.2323709176,
          147514.7928002381,
          152039.986959439,
          142038.8154600972,
          128925.75934580254,
          119678.90255014629,
          120561.08310724684,
          119608.37942338803,
          120795.6208068164,
          118034.69907722066,
          113251.74899621567,
          93735.3987942323,
          83088.11052925805,
          77733.95573133856,
          79019.16956999958,
          82412.30284798844,
          92387.15103145939,
          106277.51656107303,
          128835.57069261032,
          153146.0152226367,
          153782.1207154714,
          147136.7209310945,
          145400.55652805412,
          147032.73401732557,
          147324.4017921853,
          147263.9622215058,
          151789.1563807067,
          141787.9848813649,
          128674.92876707023,
          119428.07197141399,
          120310.25252851454,
          119357.54884465573,
          120544.7902280841,
          117783.86849848836,
          113000.91841748336,
          93484.5682155,
          82837.27995052574,
          77483.12515260626,
          78768.33899126727
         ]
        },
        {
         "line": {
          "width": 0
         },
         "mode": "lines",
         "showlegend": false,
         "type": "scatter",
         "x": [
          "2017-09-20T00:00:00",
          "2017-09-20T01:00:00",
          "2017-09-20T02:00:00",
          "2017-09-20T03:00:00",
          "2017-09-20T04:00:00",
          "2017-09-20T05:00:00",
          "2017-09-20T06:00:00",
          "2017-09-20T07:00:00",
          "2017-09-20T08:00:00",
          "2017-09-20T09:00:00",
          "2017-09-20T10:00:00",
          "2017-09-20T11:00:00",
          "2017-09-20T12:00:00",
          "2017-09-20T13:00:00",
          "2017-09-20T14:00:00",
          "2017-09-20T15:00:00",
          "2017-09-20T16:00:00",
          "2017-09-20T17:00:00",
          "2017-09-20T18:00:00",
          "2017-09-20T19:00:00",
          "2017-09-20T20:00:00",
          "2017-09-20T21:00:00",
          "2017-09-20T22:00:00",
          "2017-09-20T23:00:00",
          "2017-09-21T00:00:00",
          "2017-09-21T01:00:00",
          "2017-09-21T02:00:00",
          "2017-09-21T03:00:00",
          "2017-09-21T04:00:00",
          "2017-09-21T05:00:00",
          "2017-09-21T06:00:00",
          "2017-09-21T07:00:00",
          "2017-09-21T08:00:00",
          "2017-09-21T09:00:00",
          "2017-09-21T10:00:00",
          "2017-09-21T11:00:00",
          "2017-09-21T12:00:00",
          "2017-09-21T13:00:00",
          "2017-09-21T14:00:00",
          "2017-09-21T15:00:00",
          "2017-09-21T16:00:00",
          "2017-09-21T17:00:00",
          "2017-09-21T18:00:00",
          "2017-09-21T19:00:00",
          "2017-09-21T20:00:00",
          "2017-09-21T21:00:00",
          "2017-09-21T22:00:00",
          "2017-09-21T23:00:00"
         ],
         "y": [
          121997.39378165317,
          142487.3350770142,
          170609.99391093128,
          199823.72259016766,
          204893.4197355947,
          202325.75169387765,
          204385.6246955699,
          209583.65878309915,
          213248.5074515508,
          216396.88514694758,
          223988.52761916688,
          216928.9258849474,
          206646.7414794829,
          200131.74454354862,
          203656.5391264467,
          205265.4640755763,
          208940.40972626122,
          208599.35999570932,
          206173.7493008378,
          188956.85027584762,
          180555.2222175559,
          177396.57292058732,
          180830.3823284109,
          186328.5267780014,
          198366.5836984005,
          214281.15122662968,
          238826.55424209763,
          265089.45737385174,
          267644.9260780022,
          262887.44051370025,
          263009.25589114055,
          266470.8757460089,
          268564.7403502809,
          270280.4495585155,
          276556.85691808205,
          268282.9987129075,
          256874.32208048904,
          249309.81384093812,
          251853.15734766205,
          252541.22376819694,
          255349.5870764171,
          254190.83964886548,
          250991.77626703793,
          233041.64785263926,
          223943.5047154539,
          220121.97480572417,
          222923.82024095097
         ]
        },
        {
         "fill": "tonexty",
         "fillcolor": "rgba(173,216,230,0.5)",
         "line": {
          "width": 0
         },
         "mode": "lines",
         "name": "Prediction Interval",
         "type": "scatter",
         "x": [
          "2017-09-20T00:00:00",
          "2017-09-20T01:00:00",
          "2017-09-20T02:00:00",
          "2017-09-20T03:00:00",
          "2017-09-20T04:00:00",
          "2017-09-20T05:00:00",
          "2017-09-20T06:00:00",
          "2017-09-20T07:00:00",
          "2017-09-20T08:00:00",
          "2017-09-20T09:00:00",
          "2017-09-20T10:00:00",
          "2017-09-20T11:00:00",
          "2017-09-20T12:00:00",
          "2017-09-20T13:00:00",
          "2017-09-20T14:00:00",
          "2017-09-20T15:00:00",
          "2017-09-20T16:00:00",
          "2017-09-20T17:00:00",
          "2017-09-20T18:00:00",
          "2017-09-20T19:00:00",
          "2017-09-20T20:00:00",
          "2017-09-20T21:00:00",
          "2017-09-20T22:00:00",
          "2017-09-20T23:00:00",
          "2017-09-21T00:00:00",
          "2017-09-21T01:00:00",
          "2017-09-21T02:00:00",
          "2017-09-21T03:00:00",
          "2017-09-21T04:00:00",
          "2017-09-21T05:00:00",
          "2017-09-21T06:00:00",
          "2017-09-21T07:00:00",
          "2017-09-21T08:00:00",
          "2017-09-21T09:00:00",
          "2017-09-21T10:00:00",
          "2017-09-21T11:00:00",
          "2017-09-21T12:00:00",
          "2017-09-21T13:00:00",
          "2017-09-21T14:00:00",
          "2017-09-21T15:00:00",
          "2017-09-21T16:00:00",
          "2017-09-21T17:00:00",
          "2017-09-21T18:00:00",
          "2017-09-21T19:00:00",
          "2017-09-21T20:00:00",
          "2017-09-21T21:00:00",
          "2017-09-21T22:00:00",
          "2017-09-21T23:00:00"
         ],
         "y": [
          63278.56943873022,
          70569.35920259648,
          87562.80863175397,
          106969.96901257035,
          103172.4828528127,
          92449.35132577593,
          86917.14951800296,
          84983.4704090166,
          81901.95729028438,
          78632.70045352863,
          80091.44629971114,
          67148.70503524698,
          51204.77721212218,
          39226.06055674395,
          37465.62708804697,
          33951.294771199755,
          32650.83188737156,
          27470.038158731986,
          20329.74869159353,
          -1486.052687383024,
          -14379.001159039806,
          -21928.661457910202,
          -22792.043188411742,
          -21503.92108202452,
          -13592.281635481719,
          -1726.1181044835976,
          18844.587143123004,
          41202.57307142163,
          39919.31535294061,
          31386.001348488746,
          27791.857164967703,
          27594.592288642263,
          26084.0632340897,
          24247.474884496056,
          27021.45584333135,
          15292.971049822285,
          475.53545365142054,
          -10453.66989811015,
          -11232.652290632977,
          -13826.1260788855,
          -14260.00662024894,
          -18623.102651888767,
          -24989.9394320712,
          -46072.51142163928,
          -58268.94481440242,
          -65155.72450051166,
          -65387.14225841641
         ]
        },
        {
         "name": "Training data",
         "type": "scatter",
         "x": [
          "2017-09-13T00:00:00",
          "2017-09-13T01:00:00",
          "2017-09-13T02:00:00",
          "2017-09-13T03:00:00",
          "2017-09-13T04:00:00",
          "2017-09-13T05:00:00",
          "2017-09-13T06:00:00",
          "2017-09-13T07:00:00",
          "2017-09-13T08:00:00",
          "2017-09-13T09:00:00",
          "2017-09-13T10:00:00",
          "2017-09-13T11:00:00",
          "2017-09-13T12:00:00",
          "2017-09-13T13:00:00",
          "2017-09-13T14:00:00",
          "2017-09-13T15:00:00",
          "2017-09-13T16:00:00",
          "2017-09-13T17:00:00",
          "2017-09-13T18:00:00",
          "2017-09-13T19:00:00",
          "2017-09-13T20:00:00",
          "2017-09-13T21:00:00",
          "2017-09-13T22:00:00",
          "2017-09-13T23:00:00",
          "2017-09-14T00:00:00",
          "2017-09-14T01:00:00",
          "2017-09-14T02:00:00",
          "2017-09-14T03:00:00",
          "2017-09-14T04:00:00",
          "2017-09-14T05:00:00",
          "2017-09-14T06:00:00",
          "2017-09-14T07:00:00",
          "2017-09-14T08:00:00",
          "2017-09-14T09:00:00",
          "2017-09-14T10:00:00",
          "2017-09-14T11:00:00",
          "2017-09-14T12:00:00",
          "2017-09-14T13:00:00",
          "2017-09-14T14:00:00",
          "2017-09-14T15:00:00",
          "2017-09-14T16:00:00",
          "2017-09-14T17:00:00",
          "2017-09-14T18:00:00",
          "2017-09-14T19:00:00",
          "2017-09-14T20:00:00",
          "2017-09-14T21:00:00",
          "2017-09-14T22:00:00",
          "2017-09-14T23:00:00",
          "2017-09-15T00:00:00",
          "2017-09-15T01:00:00",
          "2017-09-15T02:00:00",
          "2017-09-15T03:00:00",
          "2017-09-15T04:00:00",
          "2017-09-15T05:00:00",
          "2017-09-15T06:00:00",
          "2017-09-15T07:00:00",
          "2017-09-15T08:00:00",
          "2017-09-15T09:00:00",
          "2017-09-15T10:00:00",
          "2017-09-15T11:00:00",
          "2017-09-15T12:00:00",
          "2017-09-15T13:00:00",
          "2017-09-15T14:00:00",
          "2017-09-15T15:00:00",
          "2017-09-15T16:00:00",
          "2017-09-15T17:00:00",
          "2017-09-15T18:00:00",
          "2017-09-15T19:00:00",
          "2017-09-15T20:00:00",
          "2017-09-15T21:00:00",
          "2017-09-15T22:00:00",
          "2017-09-15T23:00:00",
          "2017-09-16T00:00:00",
          "2017-09-16T01:00:00",
          "2017-09-16T02:00:00",
          "2017-09-16T03:00:00",
          "2017-09-16T04:00:00",
          "2017-09-16T05:00:00",
          "2017-09-16T06:00:00",
          "2017-09-16T07:00:00",
          "2017-09-16T08:00:00",
          "2017-09-16T09:00:00",
          "2017-09-16T10:00:00",
          "2017-09-16T11:00:00",
          "2017-09-16T12:00:00",
          "2017-09-16T13:00:00",
          "2017-09-16T14:00:00",
          "2017-09-16T15:00:00",
          "2017-09-16T16:00:00",
          "2017-09-16T17:00:00",
          "2017-09-16T18:00:00",
          "2017-09-16T19:00:00",
          "2017-09-16T20:00:00",
          "2017-09-16T21:00:00",
          "2017-09-16T22:00:00",
          "2017-09-16T23:00:00",
          "2017-09-17T00:00:00",
          "2017-09-17T01:00:00",
          "2017-09-17T02:00:00",
          "2017-09-17T03:00:00",
          "2017-09-17T04:00:00",
          "2017-09-17T05:00:00",
          "2017-09-17T06:00:00",
          "2017-09-17T07:00:00",
          "2017-09-17T08:00:00",
          "2017-09-17T09:00:00",
          "2017-09-17T10:00:00",
          "2017-09-17T11:00:00",
          "2017-09-17T12:00:00",
          "2017-09-17T13:00:00",
          "2017-09-17T14:00:00",
          "2017-09-17T15:00:00",
          "2017-09-17T16:00:00",
          "2017-09-17T17:00:00",
          "2017-09-17T18:00:00",
          "2017-09-17T19:00:00",
          "2017-09-17T20:00:00",
          "2017-09-17T21:00:00",
          "2017-09-17T22:00:00",
          "2017-09-17T23:00:00",
          "2017-09-18T00:00:00",
          "2017-09-18T01:00:00",
          "2017-09-18T02:00:00",
          "2017-09-18T03:00:00",
          "2017-09-18T04:00:00",
          "2017-09-18T05:00:00",
          "2017-09-18T06:00:00",
          "2017-09-18T07:00:00",
          "2017-09-18T08:00:00",
          "2017-09-18T09:00:00",
          "2017-09-18T10:00:00",
          "2017-09-18T11:00:00",
          "2017-09-18T12:00:00",
          "2017-09-18T13:00:00",
          "2017-09-18T14:00:00",
          "2017-09-18T15:00:00",
          "2017-09-18T16:00:00",
          "2017-09-18T17:00:00",
          "2017-09-18T18:00:00",
          "2017-09-18T19:00:00",
          "2017-09-18T20:00:00",
          "2017-09-18T21:00:00",
          "2017-09-18T22:00:00",
          "2017-09-18T23:00:00",
          "2017-09-19T00:00:00",
          "2017-09-19T01:00:00",
          "2017-09-19T02:00:00",
          "2017-09-19T03:00:00",
          "2017-09-19T04:00:00",
          "2017-09-19T05:00:00",
          "2017-09-19T06:00:00",
          "2017-09-19T07:00:00",
          "2017-09-19T08:00:00",
          "2017-09-19T09:00:00",
          "2017-09-19T10:00:00",
          "2017-09-19T11:00:00",
          "2017-09-19T12:00:00",
          "2017-09-19T13:00:00",
          "2017-09-19T14:00:00",
          "2017-09-19T15:00:00",
          "2017-09-19T16:00:00",
          "2017-09-19T17:00:00",
          "2017-09-19T18:00:00",
          "2017-09-19T19:00:00",
          "2017-09-19T20:00:00",
          "2017-09-19T21:00:00",
          "2017-09-19T22:00:00",
          "2017-09-19T23:00:00"
         ],
         "y": [
          80115,
          79885,
          89325,
          101930,
          121630,
          116475,
          106495,
          102795,
          108055,
          116125,
          131030,
          149020,
          157590,
          150715,
          149295,
          150100,
          144780,
          150690,
          163840,
          166235,
          139520,
          105895,
          96780,
          82520,
          80125,
          75335,
          85105,
          102080,
          125135,
          118030,
          109225,
          102475,
          102240,
          115840,
          130540,
          144325,
          148970,
          149150,
          148040,
          148810,
          149830,
          150570,
          149440,
          150520,
          129130,
          103815,
          92175,
          82765,
          76315,
          75130,
          82640,
          88795,
          118430,
          115190,
          110940,
          98860,
          104185,
          108665,
          126640,
          140435,
          152470,
          146275,
          148020,
          147735,
          145750,
          149285,
          159725,
          161085,
          135520,
          112945,
          100200,
          87615,
          87835,
          88845,
          92350,
          104465,
          115940,
          128950,
          141385,
          144440,
          143250,
          133190,
          131240,
          142480,
          157375,
          152500,
          153735,
          151195,
          150645,
          147435,
          152525,
          146875,
          125245,
          117925,
          96700,
          93610,
          89060,
          89345,
          90575,
          98290,
          112570,
          129470,
          141405,
          152560,
          152580,
          141170,
          147550,
          161110,
          166335,
          166780,
          163140,
          157305,
          159055,
          160020,
          168345,
          169900,
          142710,
          112955,
          97345,
          81675,
          79510,
          78350,
          88045,
          99790,
          123780,
          111325,
          99440,
          97655,
          97655,
          102565,
          119930,
          135755,
          140120,
          141730,
          142220,
          145360,
          145335,
          150410,
          161520,
          153415,
          134720,
          107065,
          95045,
          79515,
          78335,
          74670,
          81990,
          97950,
          119345,
          113115,
          98880,
          94000,
          93660,
          104185,
          119750,
          135990,
          146455,
          139165,
          147225,
          144935,
          151370,
          156080,
          161385,
          165010,
          134090,
          105585,
          92855,
          79270
         ]
        },
        {
         "line": {
          "color": "orange",
          "dash": "dash"
         },
         "name": "Test",
         "type": "scatter",
         "x": [
          "2017-09-20T00:00:00",
          "2017-09-20T01:00:00",
          "2017-09-20T02:00:00",
          "2017-09-20T03:00:00",
          "2017-09-20T04:00:00",
          "2017-09-20T05:00:00",
          "2017-09-20T06:00:00",
          "2017-09-20T07:00:00",
          "2017-09-20T08:00:00",
          "2017-09-20T09:00:00",
          "2017-09-20T10:00:00",
          "2017-09-20T11:00:00",
          "2017-09-20T12:00:00",
          "2017-09-20T13:00:00",
          "2017-09-20T14:00:00",
          "2017-09-20T15:00:00",
          "2017-09-20T16:00:00",
          "2017-09-20T17:00:00",
          "2017-09-20T18:00:00",
          "2017-09-20T19:00:00",
          "2017-09-20T20:00:00",
          "2017-09-20T21:00:00",
          "2017-09-20T22:00:00",
          "2017-09-20T23:00:00",
          "2017-09-21T00:00:00",
          "2017-09-21T01:00:00",
          "2017-09-21T02:00:00",
          "2017-09-21T03:00:00",
          "2017-09-21T04:00:00",
          "2017-09-21T05:00:00",
          "2017-09-21T06:00:00",
          "2017-09-21T07:00:00",
          "2017-09-21T08:00:00",
          "2017-09-21T09:00:00",
          "2017-09-21T10:00:00",
          "2017-09-21T11:00:00",
          "2017-09-21T12:00:00",
          "2017-09-21T13:00:00",
          "2017-09-21T14:00:00",
          "2017-09-21T15:00:00",
          "2017-09-21T16:00:00",
          "2017-09-21T17:00:00",
          "2017-09-21T18:00:00",
          "2017-09-21T19:00:00",
          "2017-09-21T20:00:00",
          "2017-09-21T21:00:00",
          "2017-09-21T22:00:00",
          "2017-09-21T23:00:00"
         ],
         "y": [
          79980,
          78110,
          85785,
          100010,
          123880,
          116335,
          104290,
          101440,
          97635,
          108265,
          121250,
          140850,
          138555,
          140990,
          141525,
          141590,
          140610,
          139515,
          146215,
          142425,
          123945,
          101360,
          88170,
          76050,
          70335,
          72150,
          80195,
          94945,
          121910,
          113950,
          106495,
          97290,
          98860,
          105635,
          114380,
          132335,
          146630,
          141995,
          142815,
          146020,
          152120,
          151790,
          155665,
          155890,
          123395,
          103080,
          95155,
          80285
         ]
        }
       ],
       "layout": {
        "template": {
         "data": {
          "bar": [
           {
            "error_x": {
             "color": "#2a3f5f"
            },
            "error_y": {
             "color": "#2a3f5f"
            },
            "marker": {
             "line": {
              "color": "#E5ECF6",
              "width": 0.5
             },
             "pattern": {
              "fillmode": "overlay",
              "size": 10,
              "solidity": 0.2
             }
            },
            "type": "bar"
           }
          ],
          "barpolar": [
           {
            "marker": {
             "line": {
              "color": "#E5ECF6",
              "width": 0.5
             },
             "pattern": {
              "fillmode": "overlay",
              "size": 10,
              "solidity": 0.2
             }
            },
            "type": "barpolar"
           }
          ],
          "carpet": [
           {
            "aaxis": {
             "endlinecolor": "#2a3f5f",
             "gridcolor": "white",
             "linecolor": "white",
             "minorgridcolor": "white",
             "startlinecolor": "#2a3f5f"
            },
            "baxis": {
             "endlinecolor": "#2a3f5f",
             "gridcolor": "white",
             "linecolor": "white",
             "minorgridcolor": "white",
             "startlinecolor": "#2a3f5f"
            },
            "type": "carpet"
           }
          ],
          "choropleth": [
           {
            "colorbar": {
             "outlinewidth": 0,
             "ticks": ""
            },
            "type": "choropleth"
           }
          ],
          "contour": [
           {
            "colorbar": {
             "outlinewidth": 0,
             "ticks": ""
            },
            "colorscale": [
             [
              0,
              "#0d0887"
             ],
             [
              0.1111111111111111,
              "#46039f"
             ],
             [
              0.2222222222222222,
              "#7201a8"
             ],
             [
              0.3333333333333333,
              "#9c179e"
             ],
             [
              0.4444444444444444,
              "#bd3786"
             ],
             [
              0.5555555555555556,
              "#d8576b"
             ],
             [
              0.6666666666666666,
              "#ed7953"
             ],
             [
              0.7777777777777778,
              "#fb9f3a"
             ],
             [
              0.8888888888888888,
              "#fdca26"
             ],
             [
              1,
              "#f0f921"
             ]
            ],
            "type": "contour"
           }
          ],
          "contourcarpet": [
           {
            "colorbar": {
             "outlinewidth": 0,
             "ticks": ""
            },
            "type": "contourcarpet"
           }
          ],
          "heatmap": [
           {
            "colorbar": {
             "outlinewidth": 0,
             "ticks": ""
            },
            "colorscale": [
             [
              0,
              "#0d0887"
             ],
             [
              0.1111111111111111,
              "#46039f"
             ],
             [
              0.2222222222222222,
              "#7201a8"
             ],
             [
              0.3333333333333333,
              "#9c179e"
             ],
             [
              0.4444444444444444,
              "#bd3786"
             ],
             [
              0.5555555555555556,
              "#d8576b"
             ],
             [
              0.6666666666666666,
              "#ed7953"
             ],
             [
              0.7777777777777778,
              "#fb9f3a"
             ],
             [
              0.8888888888888888,
              "#fdca26"
             ],
             [
              1,
              "#f0f921"
             ]
            ],
            "type": "heatmap"
           }
          ],
          "heatmapgl": [
           {
            "colorbar": {
             "outlinewidth": 0,
             "ticks": ""
            },
            "colorscale": [
             [
              0,
              "#0d0887"
             ],
             [
              0.1111111111111111,
              "#46039f"
             ],
             [
              0.2222222222222222,
              "#7201a8"
             ],
             [
              0.3333333333333333,
              "#9c179e"
             ],
             [
              0.4444444444444444,
              "#bd3786"
             ],
             [
              0.5555555555555556,
              "#d8576b"
             ],
             [
              0.6666666666666666,
              "#ed7953"
             ],
             [
              0.7777777777777778,
              "#fb9f3a"
             ],
             [
              0.8888888888888888,
              "#fdca26"
             ],
             [
              1,
              "#f0f921"
             ]
            ],
            "type": "heatmapgl"
           }
          ],
          "histogram": [
           {
            "marker": {
             "pattern": {
              "fillmode": "overlay",
              "size": 10,
              "solidity": 0.2
             }
            },
            "type": "histogram"
           }
          ],
          "histogram2d": [
           {
            "colorbar": {
             "outlinewidth": 0,
             "ticks": ""
            },
            "colorscale": [
             [
              0,
              "#0d0887"
             ],
             [
              0.1111111111111111,
              "#46039f"
             ],
             [
              0.2222222222222222,
              "#7201a8"
             ],
             [
              0.3333333333333333,
              "#9c179e"
             ],
             [
              0.4444444444444444,
              "#bd3786"
             ],
             [
              0.5555555555555556,
              "#d8576b"
             ],
             [
              0.6666666666666666,
              "#ed7953"
             ],
             [
              0.7777777777777778,
              "#fb9f3a"
             ],
             [
              0.8888888888888888,
              "#fdca26"
             ],
             [
              1,
              "#f0f921"
             ]
            ],
            "type": "histogram2d"
           }
          ],
          "histogram2dcontour": [
           {
            "colorbar": {
             "outlinewidth": 0,
             "ticks": ""
            },
            "colorscale": [
             [
              0,
              "#0d0887"
             ],
             [
              0.1111111111111111,
              "#46039f"
             ],
             [
              0.2222222222222222,
              "#7201a8"
             ],
             [
              0.3333333333333333,
              "#9c179e"
             ],
             [
              0.4444444444444444,
              "#bd3786"
             ],
             [
              0.5555555555555556,
              "#d8576b"
             ],
             [
              0.6666666666666666,
              "#ed7953"
             ],
             [
              0.7777777777777778,
              "#fb9f3a"
             ],
             [
              0.8888888888888888,
              "#fdca26"
             ],
             [
              1,
              "#f0f921"
             ]
            ],
            "type": "histogram2dcontour"
           }
          ],
          "mesh3d": [
           {
            "colorbar": {
             "outlinewidth": 0,
             "ticks": ""
            },
            "type": "mesh3d"
           }
          ],
          "parcoords": [
           {
            "line": {
             "colorbar": {
              "outlinewidth": 0,
              "ticks": ""
             }
            },
            "type": "parcoords"
           }
          ],
          "pie": [
           {
            "automargin": true,
            "type": "pie"
           }
          ],
          "scatter": [
           {
            "fillpattern": {
             "fillmode": "overlay",
             "size": 10,
             "solidity": 0.2
            },
            "type": "scatter"
           }
          ],
          "scatter3d": [
           {
            "line": {
             "colorbar": {
              "outlinewidth": 0,
              "ticks": ""
             }
            },
            "marker": {
             "colorbar": {
              "outlinewidth": 0,
              "ticks": ""
             }
            },
            "type": "scatter3d"
           }
          ],
          "scattercarpet": [
           {
            "marker": {
             "colorbar": {
              "outlinewidth": 0,
              "ticks": ""
             }
            },
            "type": "scattercarpet"
           }
          ],
          "scattergeo": [
           {
            "marker": {
             "colorbar": {
              "outlinewidth": 0,
              "ticks": ""
             }
            },
            "type": "scattergeo"
           }
          ],
          "scattergl": [
           {
            "marker": {
             "colorbar": {
              "outlinewidth": 0,
              "ticks": ""
             }
            },
            "type": "scattergl"
           }
          ],
          "scattermapbox": [
           {
            "marker": {
             "colorbar": {
              "outlinewidth": 0,
              "ticks": ""
             }
            },
            "type": "scattermapbox"
           }
          ],
          "scatterpolar": [
           {
            "marker": {
             "colorbar": {
              "outlinewidth": 0,
              "ticks": ""
             }
            },
            "type": "scatterpolar"
           }
          ],
          "scatterpolargl": [
           {
            "marker": {
             "colorbar": {
              "outlinewidth": 0,
              "ticks": ""
             }
            },
            "type": "scatterpolargl"
           }
          ],
          "scatterternary": [
           {
            "marker": {
             "colorbar": {
              "outlinewidth": 0,
              "ticks": ""
             }
            },
            "type": "scatterternary"
           }
          ],
          "surface": [
           {
            "colorbar": {
             "outlinewidth": 0,
             "ticks": ""
            },
            "colorscale": [
             [
              0,
              "#0d0887"
             ],
             [
              0.1111111111111111,
              "#46039f"
             ],
             [
              0.2222222222222222,
              "#7201a8"
             ],
             [
              0.3333333333333333,
              "#9c179e"
             ],
             [
              0.4444444444444444,
              "#bd3786"
             ],
             [
              0.5555555555555556,
              "#d8576b"
             ],
             [
              0.6666666666666666,
              "#ed7953"
             ],
             [
              0.7777777777777778,
              "#fb9f3a"
             ],
             [
              0.8888888888888888,
              "#fdca26"
             ],
             [
              1,
              "#f0f921"
             ]
            ],
            "type": "surface"
           }
          ],
          "table": [
           {
            "cells": {
             "fill": {
              "color": "#EBF0F8"
             },
             "line": {
              "color": "white"
             }
            },
            "header": {
             "fill": {
              "color": "#C8D4E3"
             },
             "line": {
              "color": "white"
             }
            },
            "type": "table"
           }
          ]
         },
         "layout": {
          "annotationdefaults": {
           "arrowcolor": "#2a3f5f",
           "arrowhead": 0,
           "arrowwidth": 1
          },
          "autotypenumbers": "strict",
          "coloraxis": {
           "colorbar": {
            "outlinewidth": 0,
            "ticks": ""
           }
          },
          "colorscale": {
           "diverging": [
            [
             0,
             "#8e0152"
            ],
            [
             0.1,
             "#c51b7d"
            ],
            [
             0.2,
             "#de77ae"
            ],
            [
             0.3,
             "#f1b6da"
            ],
            [
             0.4,
             "#fde0ef"
            ],
            [
             0.5,
             "#f7f7f7"
            ],
            [
             0.6,
             "#e6f5d0"
            ],
            [
             0.7,
             "#b8e186"
            ],
            [
             0.8,
             "#7fbc41"
            ],
            [
             0.9,
             "#4d9221"
            ],
            [
             1,
             "#276419"
            ]
           ],
           "sequential": [
            [
             0,
             "#0d0887"
            ],
            [
             0.1111111111111111,
             "#46039f"
            ],
            [
             0.2222222222222222,
             "#7201a8"
            ],
            [
             0.3333333333333333,
             "#9c179e"
            ],
            [
             0.4444444444444444,
             "#bd3786"
            ],
            [
             0.5555555555555556,
             "#d8576b"
            ],
            [
             0.6666666666666666,
             "#ed7953"
            ],
            [
             0.7777777777777778,
             "#fb9f3a"
            ],
            [
             0.8888888888888888,
             "#fdca26"
            ],
            [
             1,
             "#f0f921"
            ]
           ],
           "sequentialminus": [
            [
             0,
             "#0d0887"
            ],
            [
             0.1111111111111111,
             "#46039f"
            ],
            [
             0.2222222222222222,
             "#7201a8"
            ],
            [
             0.3333333333333333,
             "#9c179e"
            ],
            [
             0.4444444444444444,
             "#bd3786"
            ],
            [
             0.5555555555555556,
             "#d8576b"
            ],
            [
             0.6666666666666666,
             "#ed7953"
            ],
            [
             0.7777777777777778,
             "#fb9f3a"
            ],
            [
             0.8888888888888888,
             "#fdca26"
            ],
            [
             1,
             "#f0f921"
            ]
           ]
          },
          "colorway": [
           "#636efa",
           "#EF553B",
           "#00cc96",
           "#ab63fa",
           "#FFA15A",
           "#19d3f3",
           "#FF6692",
           "#B6E880",
           "#FF97FF",
           "#FECB52"
          ],
          "font": {
           "color": "#2a3f5f"
          },
          "geo": {
           "bgcolor": "white",
           "lakecolor": "white",
           "landcolor": "#E5ECF6",
           "showlakes": true,
           "showland": true,
           "subunitcolor": "white"
          },
          "hoverlabel": {
           "align": "left"
          },
          "hovermode": "closest",
          "mapbox": {
           "style": "light"
          },
          "paper_bgcolor": "white",
          "plot_bgcolor": "#E5ECF6",
          "polar": {
           "angularaxis": {
            "gridcolor": "white",
            "linecolor": "white",
            "ticks": ""
           },
           "bgcolor": "#E5ECF6",
           "radialaxis": {
            "gridcolor": "white",
            "linecolor": "white",
            "ticks": ""
           }
          },
          "scene": {
           "xaxis": {
            "backgroundcolor": "#E5ECF6",
            "gridcolor": "white",
            "gridwidth": 2,
            "linecolor": "white",
            "showbackground": true,
            "ticks": "",
            "zerolinecolor": "white"
           },
           "yaxis": {
            "backgroundcolor": "#E5ECF6",
            "gridcolor": "white",
            "gridwidth": 2,
            "linecolor": "white",
            "showbackground": true,
            "ticks": "",
            "zerolinecolor": "white"
           },
           "zaxis": {
            "backgroundcolor": "#E5ECF6",
            "gridcolor": "white",
            "gridwidth": 2,
            "linecolor": "white",
            "showbackground": true,
            "ticks": "",
            "zerolinecolor": "white"
           }
          },
          "shapedefaults": {
           "line": {
            "color": "#2a3f5f"
           }
          },
          "ternary": {
           "aaxis": {
            "gridcolor": "white",
            "linecolor": "white",
            "ticks": ""
           },
           "baxis": {
            "gridcolor": "white",
            "linecolor": "white",
            "ticks": ""
           },
           "bgcolor": "#E5ECF6",
           "caxis": {
            "gridcolor": "white",
            "linecolor": "white",
            "ticks": ""
           }
          },
          "title": {
           "x": 0.05
          },
          "xaxis": {
           "automargin": true,
           "gridcolor": "white",
           "linecolor": "white",
           "ticks": "",
           "title": {
            "standoff": 15
           },
           "zerolinecolor": "white",
           "zerolinewidth": 2
          },
          "yaxis": {
           "automargin": true,
           "gridcolor": "white",
           "linecolor": "white",
           "ticks": "",
           "title": {
            "standoff": 15
           },
           "zerolinecolor": "white",
           "zerolinewidth": 2
          }
         }
        },
        "title": {
         "text": "ETS"
        }
       }
      },
      "image/png": "[encoded data removed]",
      "text/html": [
       "<div>                            <div id=\"51969bbc-352a-4cab-a468-545ef364f00c\" class=\"plotly-graph-div\" style=\"height:525px; width:100%;\"></div>            <script type=\"text/javascript\">                require([\"plotly\"], function(Plotly) {                    window.PLOTLYENV=window.PLOTLYENV || {};                                    if (document.getElementById(\"51969bbc-352a-4cab-a468-545ef364f00c\")) {                    Plotly.newPlot(                        \"51969bbc-352a-4cab-a468-545ef364f00c\",                        [{\"mode\":\"lines\",\"name\":\"Point forecast\",\"x\":[\"2017-09-20T00:00:00\",\"2017-09-20T01:00:00\",\"2017-09-20T02:00:00\",\"2017-09-20T03:00:00\",\"2017-09-20T04:00:00\",\"2017-09-20T05:00:00\",\"2017-09-20T06:00:00\",\"2017-09-20T07:00:00\",\"2017-09-20T08:00:00\",\"2017-09-20T09:00:00\",\"2017-09-20T10:00:00\",\"2017-09-20T11:00:00\",\"2017-09-20T12:00:00\",\"2017-09-20T13:00:00\",\"2017-09-20T14:00:00\",\"2017-09-20T15:00:00\",\"2017-09-20T16:00:00\",\"2017-09-20T17:00:00\",\"2017-09-20T18:00:00\",\"2017-09-20T19:00:00\",\"2017-09-20T20:00:00\",\"2017-09-20T21:00:00\",\"2017-09-20T22:00:00\",\"2017-09-20T23:00:00\",\"2017-09-21T00:00:00\",\"2017-09-21T01:00:00\",\"2017-09-21T02:00:00\",\"2017-09-21T03:00:00\",\"2017-09-21T04:00:00\",\"2017-09-21T05:00:00\",\"2017-09-21T06:00:00\",\"2017-09-21T07:00:00\",\"2017-09-21T08:00:00\",\"2017-09-21T09:00:00\",\"2017-09-21T10:00:00\",\"2017-09-21T11:00:00\",\"2017-09-21T12:00:00\",\"2017-09-21T13:00:00\",\"2017-09-21T14:00:00\",\"2017-09-21T15:00:00\",\"2017-09-21T16:00:00\",\"2017-09-21T17:00:00\",\"2017-09-21T18:00:00\",\"2017-09-21T19:00:00\",\"2017-09-21T20:00:00\",\"2017-09-21T21:00:00\",\"2017-09-21T22:00:00\",\"2017-09-21T23:00:00\"],\"y\":[92637.9816101917,106528.34713980534,129086.40127134262,153396.845801369,154032.9512942037,147387.5515098268,145651.38710678642,147283.56459605787,147575.2323709176,147514.7928002381,152039.986959439,142038.8154600972,128925.75934580254,119678.90255014629,120561.08310724684,119608.37942338803,120795.6208068164,118034.69907722066,113251.74899621567,93735.3987942323,83088.11052925805,77733.95573133856,79019.16956999958,82412.30284798844,92387.15103145939,106277.51656107303,128835.57069261032,153146.0152226367,153782.1207154714,147136.7209310945,145400.55652805412,147032.73401732557,147324.4017921853,147263.9622215058,151789.1563807067,141787.9848813649,128674.92876707023,119428.07197141399,120310.25252851454,119357.54884465573,120544.7902280841,117783.86849848836,113000.91841748336,93484.5682155,82837.27995052574,77483.12515260626,78768.33899126727],\"type\":\"scatter\"},{\"line\":{\"width\":0},\"mode\":\"lines\",\"showlegend\":false,\"x\":[\"2017-09-20T00:00:00\",\"2017-09-20T01:00:00\",\"2017-09-20T02:00:00\",\"2017-09-20T03:00:00\",\"2017-09-20T04:00:00\",\"2017-09-20T05:00:00\",\"2017-09-20T06:00:00\",\"2017-09-20T07:00:00\",\"2017-09-20T08:00:00\",\"2017-09-20T09:00:00\",\"2017-09-20T10:00:00\",\"2017-09-20T11:00:00\",\"2017-09-20T12:00:00\",\"2017-09-20T13:00:00\",\"2017-09-20T14:00:00\",\"2017-09-20T15:00:00\",\"2017-09-20T16:00:00\",\"2017-09-20T17:00:00\",\"2017-09-20T18:00:00\",\"2017-09-20T19:00:00\",\"2017-09-20T20:00:00\",\"2017-09-20T21:00:00\",\"2017-09-20T22:00:00\",\"2017-09-20T23:00:00\",\"2017-09-21T00:00:00\",\"2017-09-21T01:00:00\",\"2017-09-21T02:00:00\",\"2017-09-21T03:00:00\",\"2017-09-21T04:00:00\",\"2017-09-21T05:00:00\",\"2017-09-21T06:00:00\",\"2017-09-21T07:00:00\",\"2017-09-21T08:00:00\",\"2017-09-21T09:00:00\",\"2017-09-21T10:00:00\",\"2017-09-21T11:00:00\",\"2017-09-21T12:00:00\",\"2017-09-21T13:00:00\",\"2017-09-21T14:00:00\",\"2017-09-21T15:00:00\",\"2017-09-21T16:00:00\",\"2017-09-21T17:00:00\",\"2017-09-21T18:00:00\",\"2017-09-21T19:00:00\",\"2017-09-21T20:00:00\",\"2017-09-21T21:00:00\",\"2017-09-21T22:00:00\",\"2017-09-21T23:00:00\"],\"y\":[121997.39378165317,142487.3350770142,170609.99391093128,199823.72259016766,204893.4197355947,202325.75169387765,204385.6246955699,209583.65878309915,213248.5074515508,216396.88514694758,223988.52761916688,216928.9258849474,206646.7414794829,200131.74454354862,203656.5391264467,205265.4640755763,208940.40972626122,208599.35999570932,206173.7493008378,188956.85027584762,180555.2222175559,177396.57292058732,180830.3823284109,186328.5267780014,198366.5836984005,214281.15122662968,238826.55424209763,265089.45737385174,267644.9260780022,262887.44051370025,263009.25589114055,266470.8757460089,268564.7403502809,270280.4495585155,276556.85691808205,268282.9987129075,256874.32208048904,249309.81384093812,251853.15734766205,252541.22376819694,255349.5870764171,254190.83964886548,250991.77626703793,233041.64785263926,223943.5047154539,220121.97480572417,222923.82024095097],\"type\":\"scatter\"},{\"fill\":\"tonexty\",\"fillcolor\":\"rgba(173,216,230,0.5)\",\"line\":{\"width\":0},\"mode\":\"lines\",\"name\":\"Prediction Interval\",\"x\":[\"2017-09-20T00:00:00\",\"2017-09-20T01:00:00\",\"2017-09-20T02:00:00\",\"2017-09-20T03:00:00\",\"2017-09-20T04:00:00\",\"2017-09-20T05:00:00\",\"2017-09-20T06:00:00\",\"2017-09-20T07:00:00\",\"2017-09-20T08:00:00\",\"2017-09-20T09:00:00\",\"2017-09-20T10:00:00\",\"2017-09-20T11:00:00\",\"2017-09-20T12:00:00\",\"2017-09-20T13:00:00\",\"2017-09-20T14:00:00\",\"2017-09-20T15:00:00\",\"2017-09-20T16:00:00\",\"2017-09-20T17:00:00\",\"2017-09-20T18:00:00\",\"2017-09-20T19:00:00\",\"2017-09-20T20:00:00\",\"2017-09-20T21:00:00\",\"2017-09-20T22:00:00\",\"2017-09-20T23:00:00\",\"2017-09-21T00:00:00\",\"2017-09-21T01:00:00\",\"2017-09-21T02:00:00\",\"2017-09-21T03:00:00\",\"2017-09-21T04:00:00\",\"2017-09-21T05:00:00\",\"2017-09-21T06:00:00\",\"2017-09-21T07:00:00\",\"2017-09-21T08:00:00\",\"2017-09-21T09:00:00\",\"2017-09-21T10:00:00\",\"2017-09-21T11:00:00\",\"2017-09-21T12:00:00\",\"2017-09-21T13:00:00\",\"2017-09-21T14:00:00\",\"2017-09-21T15:00:00\",\"2017-09-21T16:00:00\",\"2017-09-21T17:00:00\",\"2017-09-21T18:00:00\",\"2017-09-21T19:00:00\",\"2017-09-21T20:00:00\",\"2017-09-21T21:00:00\",\"2017-09-21T22:00:00\",\"2017-09-21T23:00:00\"],\"y\":[63278.56943873022,70569.35920259648,87562.80863175397,106969.96901257035,103172.4828528127,92449.35132577593,86917.14951800296,84983.4704090166,81901.95729028438,78632.70045352863,80091.44629971114,67148.70503524698,51204.77721212218,39226.06055674395,37465.62708804697,33951.294771199755,32650.83188737156,27470.038158731986,20329.74869159353,-1486.052687383024,-14379.001159039806,-21928.661457910202,-22792.043188411742,-21503.92108202452,-13592.281635481719,-1726.1181044835976,18844.587143123004,41202.57307142163,39919.31535294061,31386.001348488746,27791.857164967703,27594.592288642263,26084.0632340897,24247.474884496056,27021.45584333135,15292.971049822285,475.53545365142054,-10453.66989811015,-11232.652290632977,-13826.1260788855,-14260.00662024894,-18623.102651888767,-24989.9394320712,-46072.51142163928,-58268.94481440242,-65155.72450051166,-65387.14225841641],\"type\":\"scatter\"},{\"name\":\"Training data\",\"x\":[\"2017-09-13T00:00:00\",\"2017-09-13T01:00:00\",\"2017-09-13T02:00:00\",\"2017-09-13T03:00:00\",\"2017-09-13T04:00:00\",\"2017-09-13T05:00:00\",\"2017-09-13T06:00:00\",\"2017-09-13T07:00:00\",\"2017-09-13T08:00:00\",\"2017-09-13T09:00:00\",\"2017-09-13T10:00:00\",\"2017-09-13T11:00:00\",\"2017-09-13T12:00:00\",\"2017-09-13T13:00:00\",\"2017-09-13T14:00:00\",\"2017-09-13T15:00:00\",\"2017-09-13T16:00:00\",\"2017-09-13T17:00:00\",\"2017-09-13T18:00:00\",\"2017-09-13T19:00:00\",\"2017-09-13T20:00:00\",\"2017-09-13T21:00:00\",\"2017-09-13T22:00:00\",\"2017-09-13T23:00:00\",\"2017-09-14T00:00:00\",\"2017-09-14T01:00:00\",\"2017-09-14T02:00:00\",\"2017-09-14T03:00:00\",\"2017-09-14T04:00:00\",\"2017-09-14T05:00:00\",\"2017-09-14T06:00:00\",\"2017-09-14T07:00:00\",\"2017-09-14T08:00:00\",\"2017-09-14T09:00:00\",\"2017-09-14T10:00:00\",\"2017-09-14T11:00:00\",\"2017-09-14T12:00:00\",\"2017-09-14T13:00:00\",\"2017-09-14T14:00:00\",\"2017-09-14T15:00:00\",\"2017-09-14T16:00:00\",\"2017-09-14T17:00:00\",\"2017-09-14T18:00:00\",\"2017-09-14T19:00:00\",\"2017-09-14T20:00:00\",\"2017-09-14T21:00:00\",\"2017-09-14T22:00:00\",\"2017-09-14T23:00:00\",\"2017-09-15T00:00:00\",\"2017-09-15T01:00:00\",\"2017-09-15T02:00:00\",\"2017-09-15T03:00:00\",\"2017-09-15T04:00:00\",\"2017-09-15T05:00:00\",\"2017-09-15T06:00:00\",\"2017-09-15T07:00:00\",\"2017-09-15T08:00:00\",\"2017-09-15T09:00:00\",\"2017-09-15T10:00:00\",\"2017-09-15T11:00:00\",\"2017-09-15T12:00:00\",\"2017-09-15T13:00:00\",\"2017-09-15T14:00:00\",\"2017-09-15T15:00:00\",\"2017-09-15T16:00:00\",\"2017-09-15T17:00:00\",\"2017-09-15T18:00:00\",\"2017-09-15T19:00:00\",\"2017-09-15T20:00:00\",\"2017-09-15T21:00:00\",\"2017-09-15T22:00:00\",\"2017-09-15T23:00:00\",\"2017-09-16T00:00:00\",\"2017-09-16T01:00:00\",\"2017-09-16T02:00:00\",\"2017-09-16T03:00:00\",\"2017-09-16T04:00:00\",\"2017-09-16T05:00:00\",\"2017-09-16T06:00:00\",\"2017-09-16T07:00:00\",\"2017-09-16T08:00:00\",\"2017-09-16T09:00:00\",\"2017-09-16T10:00:00\",\"2017-09-16T11:00:00\",\"2017-09-16T12:00:00\",\"2017-09-16T13:00:00\",\"2017-09-16T14:00:00\",\"2017-09-16T15:00:00\",\"2017-09-16T16:00:00\",\"2017-09-16T17:00:00\",\"2017-09-16T18:00:00\",\"2017-09-16T19:00:00\",\"2017-09-16T20:00:00\",\"2017-09-16T21:00:00\",\"2017-09-16T22:00:00\",\"2017-09-16T23:00:00\",\"2017-09-17T00:00:00\",\"2017-09-17T01:00:00\",\"2017-09-17T02:00:00\",\"2017-09-17T03:00:00\",\"2017-09-17T04:00:00\",\"2017-09-17T05:00:00\",\"2017-09-17T06:00:00\",\"2017-09-17T07:00:00\",\"2017-09-17T08:00:00\",\"2017-09-17T09:00:00\",\"2017-09-17T10:00:00\",\"2017-09-17T11:00:00\",\"2017-09-17T12:00:00\",\"2017-09-17T13:00:00\",\"2017-09-17T14:00:00\",\"2017-09-17T15:00:00\",\"2017-09-17T16:00:00\",\"2017-09-17T17:00:00\",\"2017-09-17T18:00:00\",\"2017-09-17T19:00:00\",\"2017-09-17T20:00:00\",\"2017-09-17T21:00:00\",\"2017-09-17T22:00:00\",\"2017-09-17T23:00:00\",\"2017-09-18T00:00:00\",\"2017-09-18T01:00:00\",\"2017-09-18T02:00:00\",\"2017-09-18T03:00:00\",\"2017-09-18T04:00:00\",\"2017-09-18T05:00:00\",\"2017-09-18T06:00:00\",\"2017-09-18T07:00:00\",\"2017-09-18T08:00:00\",\"2017-09-18T09:00:00\",\"2017-09-18T10:00:00\",\"2017-09-18T11:00:00\",\"2017-09-18T12:00:00\",\"2017-09-18T13:00:00\",\"2017-09-18T14:00:00\",\"2017-09-18T15:00:00\",\"2017-09-18T16:00:00\",\"2017-09-18T17:00:00\",\"2017-09-18T18:00:00\",\"2017-09-18T19:00:00\",\"2017-09-18T20:00:00\",\"2017-09-18T21:00:00\",\"2017-09-18T22:00:00\",\"2017-09-18T23:00:00\",\"2017-09-19T00:00:00\",\"2017-09-19T01:00:00\",\"2017-09-19T02:00:00\",\"2017-09-19T03:00:00\",\"2017-09-19T04:00:00\",\"2017-09-19T05:00:00\",\"2017-09-19T06:00:00\",\"2017-09-19T07:00:00\",\"2017-09-19T08:00:00\",\"2017-09-19T09:00:00\",\"2017-09-19T10:00:00\",\"2017-09-19T11:00:00\",\"2017-09-19T12:00:00\",\"2017-09-19T13:00:00\",\"2017-09-19T14:00:00\",\"2017-09-19T15:00:00\",\"2017-09-19T16:00:00\",\"2017-09-19T17:00:00\",\"2017-09-19T18:00:00\",\"2017-09-19T19:00:00\",\"2017-09-19T20:00:00\",\"2017-09-19T21:00:00\",\"2017-09-19T22:00:00\",\"2017-09-19T23:00:00\"],\"y\":[80115,79885,89325,101930,121630,116475,106495,102795,108055,116125,131030,149020,157590,150715,149295,150100,144780,150690,163840,166235,139520,105895,96780,82520,80125,75335,85105,102080,125135,118030,109225,102475,102240,115840,130540,144325,148970,149150,148040,148810,149830,150570,149440,150520,129130,103815,92175,82765,76315,75130,82640,88795,118430,115190,110940,98860,104185,108665,126640,140435,152470,146275,148020,147735,145750,149285,159725,161085,135520,112945,100200,87615,87835,88845,92350,104465,115940,128950,141385,144440,143250,133190,131240,142480,157375,152500,153735,151195,150645,147435,152525,146875,125245,117925,96700,93610,89060,89345,90575,98290,112570,129470,141405,152560,152580,141170,147550,161110,166335,166780,163140,157305,159055,160020,168345,169900,142710,112955,97345,81675,79510,78350,88045,99790,123780,111325,99440,97655,97655,102565,119930,135755,140120,141730,142220,145360,145335,150410,161520,153415,134720,107065,95045,79515,78335,74670,81990,97950,119345,113115,98880,94000,93660,104185,119750,135990,146455,139165,147225,144935,151370,156080,161385,165010,134090,105585,92855,79270],\"type\":\"scatter\"},{\"line\":{\"color\":\"orange\",\"dash\":\"dash\"},\"name\":\"Test\",\"x\":[\"2017-09-20T00:00:00\",\"2017-09-20T01:00:00\",\"2017-09-20T02:00:00\",\"2017-09-20T03:00:00\",\"2017-09-20T04:00:00\",\"2017-09-20T05:00:00\",\"2017-09-20T06:00:00\",\"2017-09-20T07:00:00\",\"2017-09-20T08:00:00\",\"2017-09-20T09:00:00\",\"2017-09-20T10:00:00\",\"2017-09-20T11:00:00\",\"2017-09-20T12:00:00\",\"2017-09-20T13:00:00\",\"2017-09-20T14:00:00\",\"2017-09-20T15:00:00\",\"2017-09-20T16:00:00\",\"2017-09-20T17:00:00\",\"2017-09-20T18:00:00\",\"2017-09-20T19:00:00\",\"2017-09-20T20:00:00\",\"2017-09-20T21:00:00\",\"2017-09-20T22:00:00\",\"2017-09-20T23:00:00\",\"2017-09-21T00:00:00\",\"2017-09-21T01:00:00\",\"2017-09-21T02:00:00\",\"2017-09-21T03:00:00\",\"2017-09-21T04:00:00\",\"2017-09-21T05:00:00\",\"2017-09-21T06:00:00\",\"2017-09-21T07:00:00\",\"2017-09-21T08:00:00\",\"2017-09-21T09:00:00\",\"2017-09-21T10:00:00\",\"2017-09-21T11:00:00\",\"2017-09-21T12:00:00\",\"2017-09-21T13:00:00\",\"2017-09-21T14:00:00\",\"2017-09-21T15:00:00\",\"2017-09-21T16:00:00\",\"2017-09-21T17:00:00\",\"2017-09-21T18:00:00\",\"2017-09-21T19:00:00\",\"2017-09-21T20:00:00\",\"2017-09-21T21:00:00\",\"2017-09-21T22:00:00\",\"2017-09-21T23:00:00\"],\"y\":[79980,78110,85785,100010,123880,116335,104290,101440,97635,108265,121250,140850,138555,140990,141525,141590,140610,139515,146215,142425,123945,101360,88170,76050,70335,72150,80195,94945,121910,113950,106495,97290,98860,105635,114380,132335,146630,141995,142815,146020,152120,151790,155665,155890,123395,103080,95155,80285],\"type\":\"scatter\"}],                        {\"template\":{\"data\":{\"histogram2dcontour\":[{\"type\":\"histogram2dcontour\",\"colorbar\":{\"outlinewidth\":0,\"ticks\":\"\"},\"colorscale\":[[0.0,\"#0d0887\"],[0.1111111111111111,\"#46039f\"],[0.2222222222222222,\"#7201a8\"],[0.3333333333333333,\"#9c179e\"],[0.4444444444444444,\"#bd3786\"],[0.5555555555555556,\"#d8576b\"],[0.6666666666666666,\"#ed7953\"],[0.7777777777777778,\"#fb9f3a\"],[0.8888888888888888,\"#fdca26\"],[1.0,\"#f0f921\"]]}],\"choropleth\":[{\"type\":\"choropleth\",\"colorbar\":{\"outlinewidth\":0,\"ticks\":\"\"}}],\"histogram2d\":[{\"type\":\"histogram2d\",\"colorbar\":{\"outlinewidth\":0,\"ticks\":\"\"},\"colorscale\":[[0.0,\"#0d0887\"],[0.1111111111111111,\"#46039f\"],[0.2222222222222222,\"#7201a8\"],[0.3333333333333333,\"#9c179e\"],[0.4444444444444444,\"#bd3786\"],[0.5555555555555556,\"#d8576b\"],[0.6666666666666666,\"#ed7953\"],[0.7777777777777778,\"#fb9f3a\"],[0.8888888888888888,\"#fdca26\"],[1.0,\"#f0f921\"]]}],\"heatmap\":[{\"type\":\"heatmap\",\"colorbar\":{\"outlinewidth\":0,\"ticks\":\"\"},\"colorscale\":[[0.0,\"#0d0887\"],[0.1111111111111111,\"#46039f\"],[0.2222222222222222,\"#7201a8\"],[0.3333333333333333,\"#9c179e\"],[0.4444444444444444,\"#bd3786\"],[0.5555555555555556,\"#d8576b\"],[0.6666666666666666,\"#ed7953\"],[0.7777777777777778,\"#fb9f3a\"],[0.8888888888888888,\"#fdca26\"],[1.0,\"#f0f921\"]]}],\"heatmapgl\":[{\"type\":\"heatmapgl\",\"colorbar\":{\"outlinewidth\":0,\"ticks\":\"\"},\"colorscale\":[[0.0,\"#0d0887\"],[0.1111111111111111,\"#46039f\"],[0.2222222222222222,\"#7201a8\"],[0.3333333333333333,\"#9c179e\"],[0.4444444444444444,\"#bd3786\"],[0.5555555555555556,\"#d8576b\"],[0.6666666666666666,\"#ed7953\"],[0.7777777777777778,\"#fb9f3a\"],[0.8888888888888888,\"#fdca26\"],[1.0,\"#f0f921\"]]}],\"contourcarpet\":[{\"type\":\"contourcarpet\",\"colorbar\":{\"outlinewidth\":0,\"ticks\":\"\"}}],\"contour\":[{\"type\":\"contour\",\"colorbar\":{\"outlinewidth\":0,\"ticks\":\"\"},\"colorscale\":[[0.0,\"#0d0887\"],[0.1111111111111111,\"#46039f\"],[0.2222222222222222,\"#7201a8\"],[0.3333333333333333,\"#9c179e\"],[0.4444444444444444,\"#bd3786\"],[0.5555555555555556,\"#d8576b\"],[0.6666666666666666,\"#ed7953\"],[0.7777777777777778,\"#fb9f3a\"],[0.8888888888888888,\"#fdca26\"],[1.0,\"#f0f921\"]]}],\"surface\":[{\"type\":\"surface\",\"colorbar\":{\"outlinewidth\":0,\"ticks\":\"\"},\"colorscale\":[[0.0,\"#0d0887\"],[0.1111111111111111,\"#46039f\"],[0.2222222222222222,\"#7201a8\"],[0.3333333333333333,\"#9c179e\"],[0.4444444444444444,\"#bd3786\"],[0.5555555555555556,\"#d8576b\"],[0.6666666666666666,\"#ed7953\"],[0.7777777777777778,\"#fb9f3a\"],[0.8888888888888888,\"#fdca26\"],[1.0,\"#f0f921\"]]}],\"mesh3d\":[{\"type\":\"mesh3d\",\"colorbar\":{\"outlinewidth\":0,\"ticks\":\"\"}}],\"scatter\":[{\"fillpattern\":{\"fillmode\":\"overlay\",\"size\":10,\"solidity\":0.2},\"type\":\"scatter\"}],\"parcoords\":[{\"type\":\"parcoords\",\"line\":{\"colorbar\":{\"outlinewidth\":0,\"ticks\":\"\"}}}],\"scatterpolargl\":[{\"type\":\"scatterpolargl\",\"marker\":{\"colorbar\":{\"outlinewidth\":0,\"ticks\":\"\"}}}],\"bar\":[{\"error_x\":{\"color\":\"#2a3f5f\"},\"error_y\":{\"color\":\"#2a3f5f\"},\"marker\":{\"line\":{\"color\":\"#E5ECF6\",\"width\":0.5},\"pattern\":{\"fillmode\":\"overlay\",\"size\":10,\"solidity\":0.2}},\"type\":\"bar\"}],\"scattergeo\":[{\"type\":\"scattergeo\",\"marker\":{\"colorbar\":{\"outlinewidth\":0,\"ticks\":\"\"}}}],\"scatterpolar\":[{\"type\":\"scatterpolar\",\"marker\":{\"colorbar\":{\"outlinewidth\":0,\"ticks\":\"\"}}}],\"histogram\":[{\"marker\":{\"pattern\":{\"fillmode\":\"overlay\",\"size\":10,\"solidity\":0.2}},\"type\":\"histogram\"}],\"scattergl\":[{\"type\":\"scattergl\",\"marker\":{\"colorbar\":{\"outlinewidth\":0,\"ticks\":\"\"}}}],\"scatter3d\":[{\"type\":\"scatter3d\",\"line\":{\"colorbar\":{\"outlinewidth\":0,\"ticks\":\"\"}},\"marker\":{\"colorbar\":{\"outlinewidth\":0,\"ticks\":\"\"}}}],\"scattermapbox\":[{\"type\":\"scattermapbox\",\"marker\":{\"colorbar\":{\"outlinewidth\":0,\"ticks\":\"\"}}}],\"scatterternary\":[{\"type\":\"scatterternary\",\"marker\":{\"colorbar\":{\"outlinewidth\":0,\"ticks\":\"\"}}}],\"scattercarpet\":[{\"type\":\"scattercarpet\",\"marker\":{\"colorbar\":{\"outlinewidth\":0,\"ticks\":\"\"}}}],\"carpet\":[{\"aaxis\":{\"endlinecolor\":\"#2a3f5f\",\"gridcolor\":\"white\",\"linecolor\":\"white\",\"minorgridcolor\":\"white\",\"startlinecolor\":\"#2a3f5f\"},\"baxis\":{\"endlinecolor\":\"#2a3f5f\",\"gridcolor\":\"white\",\"linecolor\":\"white\",\"minorgridcolor\":\"white\",\"startlinecolor\":\"#2a3f5f\"},\"type\":\"carpet\"}],\"table\":[{\"cells\":{\"fill\":{\"color\":\"#EBF0F8\"},\"line\":{\"color\":\"white\"}},\"header\":{\"fill\":{\"color\":\"#C8D4E3\"},\"line\":{\"color\":\"white\"}},\"type\":\"table\"}],\"barpolar\":[{\"marker\":{\"line\":{\"color\":\"#E5ECF6\",\"width\":0.5},\"pattern\":{\"fillmode\":\"overlay\",\"size\":10,\"solidity\":0.2}},\"type\":\"barpolar\"}],\"pie\":[{\"automargin\":true,\"type\":\"pie\"}]},\"layout\":{\"autotypenumbers\":\"strict\",\"colorway\":[\"#636efa\",\"#EF553B\",\"#00cc96\",\"#ab63fa\",\"#FFA15A\",\"#19d3f3\",\"#FF6692\",\"#B6E880\",\"#FF97FF\",\"#FECB52\"],\"font\":{\"color\":\"#2a3f5f\"},\"hovermode\":\"closest\",\"hoverlabel\":{\"align\":\"left\"},\"paper_bgcolor\":\"white\",\"plot_bgcolor\":\"#E5ECF6\",\"polar\":{\"bgcolor\":\"#E5ECF6\",\"angularaxis\":{\"gridcolor\":\"white\",\"linecolor\":\"white\",\"ticks\":\"\"},\"radialaxis\":{\"gridcolor\":\"white\",\"linecolor\":\"white\",\"ticks\":\"\"}},\"ternary\":{\"bgcolor\":\"#E5ECF6\",\"aaxis\":{\"gridcolor\":\"white\",\"linecolor\":\"white\",\"ticks\":\"\"},\"baxis\":{\"gridcolor\":\"white\",\"linecolor\":\"white\",\"ticks\":\"\"},\"caxis\":{\"gridcolor\":\"white\",\"linecolor\":\"white\",\"ticks\":\"\"}},\"coloraxis\":{\"colorbar\":{\"outlinewidth\":0,\"ticks\":\"\"}},\"colorscale\":{\"sequential\":[[0.0,\"#0d0887\"],[0.1111111111111111,\"#46039f\"],[0.2222222222222222,\"#7201a8\"],[0.3333333333333333,\"#9c179e\"],[0.4444444444444444,\"#bd3786\"],[0.5555555555555556,\"#d8576b\"],[0.6666666666666666,\"#ed7953\"],[0.7777777777777778,\"#fb9f3a\"],[0.8888888888888888,\"#fdca26\"],[1.0,\"#f0f921\"]],\"sequentialminus\":[[0.0,\"#0d0887\"],[0.1111111111111111,\"#46039f\"],[0.2222222222222222,\"#7201a8\"],[0.3333333333333333,\"#9c179e\"],[0.4444444444444444,\"#bd3786\"],[0.5555555555555556,\"#d8576b\"],[0.6666666666666666,\"#ed7953\"],[0.7777777777777778,\"#fb9f3a\"],[0.8888888888888888,\"#fdca26\"],[1.0,\"#f0f921\"]],\"diverging\":[[0,\"#8e0152\"],[0.1,\"#c51b7d\"],[0.2,\"#de77ae\"],[0.3,\"#f1b6da\"],[0.4,\"#fde0ef\"],[0.5,\"#f7f7f7\"],[0.6,\"#e6f5d0\"],[0.7,\"#b8e186\"],[0.8,\"#7fbc41\"],[0.9,\"#4d9221\"],[1,\"#276419\"]]},\"xaxis\":{\"gridcolor\":\"white\",\"linecolor\":\"white\",\"ticks\":\"\",\"title\":{\"standoff\":15},\"zerolinecolor\":\"white\",\"automargin\":true,\"zerolinewidth\":2},\"yaxis\":{\"gridcolor\":\"white\",\"linecolor\":\"white\",\"ticks\":\"\",\"title\":{\"standoff\":15},\"zerolinecolor\":\"white\",\"automargin\":true,\"zerolinewidth\":2},\"scene\":{\"xaxis\":{\"backgroundcolor\":\"#E5ECF6\",\"gridcolor\":\"white\",\"linecolor\":\"white\",\"showbackground\":true,\"ticks\":\"\",\"zerolinecolor\":\"white\",\"gridwidth\":2},\"yaxis\":{\"backgroundcolor\":\"#E5ECF6\",\"gridcolor\":\"white\",\"linecolor\":\"white\",\"showbackground\":true,\"ticks\":\"\",\"zerolinecolor\":\"white\",\"gridwidth\":2},\"zaxis\":{\"backgroundcolor\":\"#E5ECF6\",\"gridcolor\":\"white\",\"linecolor\":\"white\",\"showbackground\":true,\"ticks\":\"\",\"zerolinecolor\":\"white\",\"gridwidth\":2}},\"shapedefaults\":{\"line\":{\"color\":\"#2a3f5f\"}},\"annotationdefaults\":{\"arrowcolor\":\"#2a3f5f\",\"arrowhead\":0,\"arrowwidth\":1},\"geo\":{\"bgcolor\":\"white\",\"landcolor\":\"#E5ECF6\",\"subunitcolor\":\"white\",\"showland\":true,\"showlakes\":true,\"lakecolor\":\"white\"},\"title\":{\"x\":0.05},\"mapbox\":{\"style\":\"light\"}}},\"title\":{\"text\":\"ETS\"}},                        {\"responsive\": true}                    ).then(function(){\n",
       "                            \n",
       "var gd = document.getElementById('51969bbc-352a-4cab-a468-545ef364f00c');\n",
       "var x = new MutationObserver(function (mutations, observer) {{\n",
       "        var display = window.getComputedStyle(gd).display;\n",
       "        if (!display || display === 'none') {{\n",
       "            console.log([gd, 'removed!']);\n",
       "            Plotly.purge(gd);\n",
       "            observer.disconnect();\n",
       "        }}\n",
       "}});\n",
       "\n",
       "// Listen for the removal of the full notebook cells\n",
       "var notebookContainer = gd.closest('#notebook-container');\n",
       "if (notebookContainer) {{\n",
       "    x.observe(notebookContainer, {childList: true});\n",
       "}}\n",
       "\n",
       "// Listen for the clearing of the current output cell\n",
       "var outputEl = gd.closest('.output');\n",
       "if (outputEl) {{\n",
       "    x.observe(outputEl, {childList: true});\n",
       "}}\n",
       "\n",
       "                        })                };                });            </script>        </div>"
      ]
     },
     "metadata": {},
     "output_type": "display_data"
    }
   ],
   "source": [
    "fig = go.Figure()\n",
    "\n",
    "fig.add_trace(\n",
    "    go.Scatter(\n",
    "        x=test.Time, y=ets_prediction[\"mean\"], mode=\"lines\", name=\"Point forecast\"\n",
    "    )\n",
    ")\n",
    "\n",
    "fig.add_trace(\n",
    "    go.Scatter(\n",
    "        x=test.Time,\n",
    "        y=ets_prediction[\"pi_upper\"],\n",
    "        mode=\"lines\",\n",
    "        line=dict(width=0),\n",
    "        showlegend=False,\n",
    "    )\n",
    ")\n",
    "\n",
    "fig.add_trace(\n",
    "    go.Scatter(\n",
    "        x=test.Time,\n",
    "        y=ets_prediction[\"pi_lower\"],\n",
    "        mode=\"lines\",\n",
    "        line=dict(width=0),\n",
    "        fill=\"tonexty\",\n",
    "        fillcolor=\"rgba(173,216,230,0.5)\",\n",
    "        name=\"Prediction Interval\",\n",
    "    )\n",
    ")\n",
    "\n",
    "fig.add_trace(go.Scatter(x=train.Time, y=train[\"Ads\"], name=\"Training data\"))\n",
    "fig.update_layout(title=\"ETS\")\n",
    "\n",
    "fig.add_trace(\n",
    "    go.Scatter(\n",
    "        x=test.Time, y=test.Ads, name=\"Test\", line=dict(dash=\"dash\", color=\"orange\")\n",
    "    )\n",
    ")\n",
    "\n",
    "fig.show()"
   ]
  },
  {
   "cell_type": "markdown",
   "metadata": {},
   "source": [
    "We can see the parameters the model has selected"
   ]
  },
  {
   "cell_type": "code",
   "execution_count": 21,
   "metadata": {},
   "outputs": [
    {
     "data": {
      "text/html": [
       "<table class=\"simpletable\">\n",
       "<caption>ETS Results</caption>\n",
       "<tr>\n",
       "  <th>Dep. Variable:</th>          <td>Ads</td>       <th>  No. Observations:  </th>      <td>168</td>     \n",
       "</tr>\n",
       "<tr>\n",
       "  <th>Model:</th>               <td>ETS(AAA)</td>     <th>  Log Likelihood     </th>   <td>-1795.384</td>  \n",
       "</tr>\n",
       "<tr>\n",
       "  <th>Date:</th>            <td>Tue, 21 Oct 2025</td> <th>  AIC                </th>   <td>3650.767</td>   \n",
       "</tr>\n",
       "<tr>\n",
       "  <th>Time:</th>                <td>11:25:16</td>     <th>  BIC                </th>   <td>3744.486</td>   \n",
       "</tr>\n",
       "<tr>\n",
       "  <th>Sample:</th>                  <td>0</td>        <th>  HQIC               </th>   <td>3688.803</td>   \n",
       "</tr>\n",
       "<tr>\n",
       "  <th></th>                      <td> - 168</td>      <th>  Scale              </th> <td>112193717.531</td>\n",
       "</tr>\n",
       "<tr>\n",
       "  <th>Covariance Type:</th>      <td>approx</td>      <th>                     </th>       <td> </td>      \n",
       "</tr>\n",
       "</table>\n",
       "<table class=\"simpletable\">\n",
       "<tr>\n",
       "           <td></td>              <th>coef</th>     <th>std err</th>      <th>z</th>      <th>P>|z|</th>  <th>[0.025</th>    <th>0.975]</th>  \n",
       "</tr>\n",
       "<tr>\n",
       "  <th>smoothing_level</th>     <td>    0.9999</td> <td>    0.032</td> <td>   31.086</td> <td> 0.000</td> <td>    0.937</td> <td>    1.063</td>\n",
       "</tr>\n",
       "<tr>\n",
       "  <th>smoothing_trend</th>     <td> 9.999e-05</td> <td>      nan</td> <td>      nan</td> <td>   nan</td> <td>      nan</td> <td>      nan</td>\n",
       "</tr>\n",
       "<tr>\n",
       "  <th>smoothing_seasonal</th>  <td> 9.999e-05</td> <td>      nan</td> <td>      nan</td> <td>   nan</td> <td>      nan</td> <td>      nan</td>\n",
       "</tr>\n",
       "<tr>\n",
       "  <th>initial_level</th>       <td> 1.232e+05</td> <td>  1.2e+04</td> <td>   10.279</td> <td> 0.000</td> <td> 9.97e+04</td> <td> 1.47e+05</td>\n",
       "</tr>\n",
       "<tr>\n",
       "  <th>initial_trend</th>       <td>   -6.5707</td> <td>      nan</td> <td>      nan</td> <td>   nan</td> <td>      nan</td> <td>      nan</td>\n",
       "</tr>\n",
       "<tr>\n",
       "  <th>initial_seasonal.0</th>  <td>-3402.2656</td> <td> 5421.012</td> <td>   -0.628</td> <td> 0.530</td> <td> -1.4e+04</td> <td> 7222.723</td>\n",
       "</tr>\n",
       "<tr>\n",
       "  <th>initial_seasonal.1</th>  <td>-4701.4844</td> <td> 5104.303</td> <td>   -0.921</td> <td> 0.357</td> <td>-1.47e+04</td> <td> 5302.765</td>\n",
       "</tr>\n",
       "<tr>\n",
       "  <th>initial_seasonal.2</th>  <td>  646.4844</td> <td> 2752.262</td> <td>    0.235</td> <td> 0.814</td> <td>-4747.849</td> <td> 6040.818</td>\n",
       "</tr>\n",
       "<tr>\n",
       "  <th>initial_seasonal.3</th>  <td> 1.128e+04</td> <td>      nan</td> <td>      nan</td> <td>   nan</td> <td>      nan</td> <td>      nan</td>\n",
       "</tr>\n",
       "<tr>\n",
       "  <th>initial_seasonal.4</th>  <td> 3.078e+04</td> <td>      nan</td> <td>      nan</td> <td>   nan</td> <td>      nan</td> <td>      nan</td>\n",
       "</tr>\n",
       "<tr>\n",
       "  <th>initial_seasonal.5</th>  <td> 3.554e+04</td> <td>      nan</td> <td>      nan</td> <td>   nan</td> <td>      nan</td> <td>      nan</td>\n",
       "</tr>\n",
       "<tr>\n",
       "  <th>initial_seasonal.6</th>  <td>  3.83e+04</td> <td>      nan</td> <td>      nan</td> <td>   nan</td> <td>      nan</td> <td>      nan</td>\n",
       "</tr>\n",
       "<tr>\n",
       "  <th>initial_seasonal.7</th>  <td>  3.71e+04</td> <td> 2595.312</td> <td>   14.296</td> <td> 0.000</td> <td>  3.2e+04</td> <td> 4.22e+04</td>\n",
       "</tr>\n",
       "<tr>\n",
       "  <th>initial_seasonal.8</th>  <td> 3.805e+04</td> <td> 2480.063</td> <td>   15.342</td> <td> 0.000</td> <td> 3.32e+04</td> <td> 4.29e+04</td>\n",
       "</tr>\n",
       "<tr>\n",
       "  <th>initial_seasonal.9</th>  <td> 3.715e+04</td> <td> 3917.374</td> <td>    9.483</td> <td> 0.000</td> <td> 2.95e+04</td> <td> 4.48e+04</td>\n",
       "</tr>\n",
       "<tr>\n",
       "  <th>initial_seasonal.10</th> <td> 4.638e+04</td> <td> 4686.063</td> <td>    9.898</td> <td> 0.000</td> <td> 3.72e+04</td> <td> 5.56e+04</td>\n",
       "</tr>\n",
       "<tr>\n",
       "  <th>initial_seasonal.11</th> <td> 5.948e+04</td> <td> 5626.640</td> <td>   10.571</td> <td> 0.000</td> <td> 4.85e+04</td> <td> 7.05e+04</td>\n",
       "</tr>\n",
       "<tr>\n",
       "  <th>initial_seasonal.12</th> <td> 6.948e+04</td> <td> 5551.359</td> <td>   12.515</td> <td> 0.000</td> <td> 5.86e+04</td> <td> 8.04e+04</td>\n",
       "</tr>\n",
       "<tr>\n",
       "  <th>initial_seasonal.13</th> <td> 6.494e+04</td> <td> 3940.495</td> <td>   16.480</td> <td> 0.000</td> <td> 5.72e+04</td> <td> 7.27e+04</td>\n",
       "</tr>\n",
       "<tr>\n",
       "  <th>initial_seasonal.14</th> <td>   6.5e+04</td> <td> 1938.350</td> <td>   33.532</td> <td> 0.000</td> <td> 6.12e+04</td> <td> 6.88e+04</td>\n",
       "</tr>\n",
       "<tr>\n",
       "  <th>initial_seasonal.15</th> <td>  6.47e+04</td> <td>      nan</td> <td>      nan</td> <td>   nan</td> <td>      nan</td> <td>      nan</td>\n",
       "</tr>\n",
       "<tr>\n",
       "  <th>initial_seasonal.16</th> <td> 6.305e+04</td> <td>      nan</td> <td>      nan</td> <td>   nan</td> <td>      nan</td> <td>      nan</td>\n",
       "</tr>\n",
       "<tr>\n",
       "  <th>initial_seasonal.17</th> <td> 6.478e+04</td> <td>      nan</td> <td>      nan</td> <td>   nan</td> <td>      nan</td> <td>      nan</td>\n",
       "</tr>\n",
       "<tr>\n",
       "  <th>initial_seasonal.18</th> <td> 7.141e+04</td> <td>      nan</td> <td>      nan</td> <td>   nan</td> <td>      nan</td> <td>      nan</td>\n",
       "</tr>\n",
       "<tr>\n",
       "  <th>initial_seasonal.19</th> <td> 7.077e+04</td> <td>      nan</td> <td>      nan</td> <td>   nan</td> <td>      nan</td> <td>      nan</td>\n",
       "</tr>\n",
       "<tr>\n",
       "  <th>initial_seasonal.20</th> <td> 4.645e+04</td> <td> 1023.293</td> <td>   45.397</td> <td> 0.000</td> <td> 4.44e+04</td> <td> 4.85e+04</td>\n",
       "</tr>\n",
       "<tr>\n",
       "  <th>initial_seasonal.21</th> <td> 2.388e+04</td> <td> 3217.837</td> <td>    7.422</td> <td> 0.000</td> <td> 1.76e+04</td> <td> 3.02e+04</td>\n",
       "</tr>\n",
       "<tr>\n",
       "  <th>initial_seasonal.22</th> <td> 9985.2604</td> <td> 4960.719</td> <td>    2.013</td> <td> 0.044</td> <td>  262.430</td> <td> 1.97e+04</td>\n",
       "</tr>\n",
       "<tr>\n",
       "  <th>initial_seasonal.23</th> <td>         0</td> <td> 5431.700</td> <td>        0</td> <td> 1.000</td> <td>-1.06e+04</td> <td> 1.06e+04</td>\n",
       "</tr>\n",
       "</table>\n",
       "<table class=\"simpletable\">\n",
       "<tr>\n",
       "  <th>Ljung-Box (Q):</th>          <td>570.01</td> <th>  Jarque-Bera (JB):  </th> <td>2.31</td> \n",
       "</tr>\n",
       "<tr>\n",
       "  <th>Prob(Q):</th>                 <td>0.00</td>  <th>  Prob(JB):          </th> <td>0.31</td> \n",
       "</tr>\n",
       "<tr>\n",
       "  <th>Heteroskedasticity (H):</th>  <td>0.88</td>  <th>  Skew:              </th> <td>-0.16</td>\n",
       "</tr>\n",
       "<tr>\n",
       "  <th>Prob(H) (two-sided):</th>     <td>0.64</td>  <th>  Kurtosis:          </th> <td>3.48</td> \n",
       "</tr>\n",
       "</table><br/><br/>Warnings:<br/>[1] Covariance matrix calculated using numerical (complex-step) differentiation.<br/>[2] Covariance matrix is singular or near-singular, with condition number 4.12e+17. Standard errors may be unstable."
      ],
      "text/latex": [
       "\\begin{center}\n",
       "\\begin{tabular}{lclc}\n",
       "\\toprule\n",
       "\\textbf{Dep. Variable:}          &       Ads        & \\textbf{  No. Observations:  } &      168       \\\\\n",
       "\\textbf{Model:}                  &     ETS(AAA)     & \\textbf{  Log Likelihood     } &   -1795.384    \\\\\n",
       "\\textbf{Date:}                   & Tue, 21 Oct 2025 & \\textbf{  AIC                } &    3650.767    \\\\\n",
       "\\textbf{Time:}                   &     11:25:16     & \\textbf{  BIC                } &    3744.486    \\\\\n",
       "\\textbf{Sample:}                 &        0         & \\textbf{  HQIC               } &    3688.803    \\\\\n",
       "\\textbf{}                        &       - 168      & \\textbf{  Scale              } & 112193717.531  \\\\\n",
       "\\textbf{Covariance Type:}        &      approx      & \\textbf{                     } &                \\\\\n",
       "\\bottomrule\n",
       "\\end{tabular}\n",
       "\\begin{tabular}{lcccccc}\n",
       "                              & \\textbf{coef} & \\textbf{std err} & \\textbf{z} & \\textbf{P$> |$z$|$} & \\textbf{[0.025} & \\textbf{0.975]}  \\\\\n",
       "\\midrule\n",
       "\\textbf{smoothing\\_level}     &       0.9999  &        0.032     &    31.086  &         0.000        &        0.937    &        1.063     \\\\\n",
       "\\textbf{smoothing\\_trend}     &    9.999e-05  &          nan     &       nan  &           nan        &          nan    &          nan     \\\\\n",
       "\\textbf{smoothing\\_seasonal}  &    9.999e-05  &          nan     &       nan  &           nan        &          nan    &          nan     \\\\\n",
       "\\textbf{initial\\_level}       &    1.232e+05  &      1.2e+04     &    10.279  &         0.000        &     9.97e+04    &     1.47e+05     \\\\\n",
       "\\textbf{initial\\_trend}       &      -6.5707  &          nan     &       nan  &           nan        &          nan    &          nan     \\\\\n",
       "\\textbf{initial\\_seasonal.0}  &   -3402.2656  &     5421.012     &    -0.628  &         0.530        &     -1.4e+04    &     7222.723     \\\\\n",
       "\\textbf{initial\\_seasonal.1}  &   -4701.4844  &     5104.303     &    -0.921  &         0.357        &    -1.47e+04    &     5302.765     \\\\\n",
       "\\textbf{initial\\_seasonal.2}  &     646.4844  &     2752.262     &     0.235  &         0.814        &    -4747.849    &     6040.818     \\\\\n",
       "\\textbf{initial\\_seasonal.3}  &    1.128e+04  &          nan     &       nan  &           nan        &          nan    &          nan     \\\\\n",
       "\\textbf{initial\\_seasonal.4}  &    3.078e+04  &          nan     &       nan  &           nan        &          nan    &          nan     \\\\\n",
       "\\textbf{initial\\_seasonal.5}  &    3.554e+04  &          nan     &       nan  &           nan        &          nan    &          nan     \\\\\n",
       "\\textbf{initial\\_seasonal.6}  &     3.83e+04  &          nan     &       nan  &           nan        &          nan    &          nan     \\\\\n",
       "\\textbf{initial\\_seasonal.7}  &     3.71e+04  &     2595.312     &    14.296  &         0.000        &      3.2e+04    &     4.22e+04     \\\\\n",
       "\\textbf{initial\\_seasonal.8}  &    3.805e+04  &     2480.063     &    15.342  &         0.000        &     3.32e+04    &     4.29e+04     \\\\\n",
       "\\textbf{initial\\_seasonal.9}  &    3.715e+04  &     3917.374     &     9.483  &         0.000        &     2.95e+04    &     4.48e+04     \\\\\n",
       "\\textbf{initial\\_seasonal.10} &    4.638e+04  &     4686.063     &     9.898  &         0.000        &     3.72e+04    &     5.56e+04     \\\\\n",
       "\\textbf{initial\\_seasonal.11} &    5.948e+04  &     5626.640     &    10.571  &         0.000        &     4.85e+04    &     7.05e+04     \\\\\n",
       "\\textbf{initial\\_seasonal.12} &    6.948e+04  &     5551.359     &    12.515  &         0.000        &     5.86e+04    &     8.04e+04     \\\\\n",
       "\\textbf{initial\\_seasonal.13} &    6.494e+04  &     3940.495     &    16.480  &         0.000        &     5.72e+04    &     7.27e+04     \\\\\n",
       "\\textbf{initial\\_seasonal.14} &      6.5e+04  &     1938.350     &    33.532  &         0.000        &     6.12e+04    &     6.88e+04     \\\\\n",
       "\\textbf{initial\\_seasonal.15} &     6.47e+04  &          nan     &       nan  &           nan        &          nan    &          nan     \\\\\n",
       "\\textbf{initial\\_seasonal.16} &    6.305e+04  &          nan     &       nan  &           nan        &          nan    &          nan     \\\\\n",
       "\\textbf{initial\\_seasonal.17} &    6.478e+04  &          nan     &       nan  &           nan        &          nan    &          nan     \\\\\n",
       "\\textbf{initial\\_seasonal.18} &    7.141e+04  &          nan     &       nan  &           nan        &          nan    &          nan     \\\\\n",
       "\\textbf{initial\\_seasonal.19} &    7.077e+04  &          nan     &       nan  &           nan        &          nan    &          nan     \\\\\n",
       "\\textbf{initial\\_seasonal.20} &    4.645e+04  &     1023.293     &    45.397  &         0.000        &     4.44e+04    &     4.85e+04     \\\\\n",
       "\\textbf{initial\\_seasonal.21} &    2.388e+04  &     3217.837     &     7.422  &         0.000        &     1.76e+04    &     3.02e+04     \\\\\n",
       "\\textbf{initial\\_seasonal.22} &    9985.2604  &     4960.719     &     2.013  &         0.044        &      262.430    &     1.97e+04     \\\\\n",
       "\\textbf{initial\\_seasonal.23} &            0  &     5431.700     &         0  &         1.000        &    -1.06e+04    &     1.06e+04     \\\\\n",
       "\\bottomrule\n",
       "\\end{tabular}\n",
       "\\begin{tabular}{lclc}\n",
       "\\textbf{Ljung-Box (Q):}          & 570.01 & \\textbf{  Jarque-Bera (JB):  } &  2.31  \\\\\n",
       "\\textbf{Prob(Q):}                &  0.00  & \\textbf{  Prob(JB):          } &  0.31  \\\\\n",
       "\\textbf{Heteroskedasticity (H):} &  0.88  & \\textbf{  Skew:              } & -0.16  \\\\\n",
       "\\textbf{Prob(H) (two-sided):}    &  0.64  & \\textbf{  Kurtosis:          } &  3.48  \\\\\n",
       "\\bottomrule\n",
       "\\end{tabular}\n",
       "%\\caption{ETS Results}\n",
       "\\end{center}\n",
       "\n",
       "Warnings: \\newline\n",
       " [1] Covariance matrix calculated using numerical (complex-step) differentiation. \\newline\n",
       " [2] Covariance matrix is singular or near-singular, with condition number 4.12e+17. Standard errors may be unstable."
      ],
      "text/plain": [
       "<class 'statsmodels.iolib.summary.Summary'>\n",
       "\"\"\"\n",
       "                                 ETS Results                                  \n",
       "==============================================================================\n",
       "Dep. Variable:                    Ads   No. Observations:                  168\n",
       "Model:                       ETS(AAA)   Log Likelihood               -1795.384\n",
       "Date:                Tue, 21 Oct 2025   AIC                           3650.767\n",
       "Time:                        11:25:16   BIC                           3744.486\n",
       "Sample:                             0   HQIC                          3688.803\n",
       "                                - 168   Scale                    112193717.531\n",
       "Covariance Type:               approx                                         \n",
       "=======================================================================================\n",
       "                          coef    std err          z      P>|z|      [0.025      0.975]\n",
       "---------------------------------------------------------------------------------------\n",
       "smoothing_level         0.9999      0.032     31.086      0.000       0.937       1.063\n",
       "smoothing_trend      9.999e-05        nan        nan        nan         nan         nan\n",
       "smoothing_seasonal   9.999e-05        nan        nan        nan         nan         nan\n",
       "initial_level        1.232e+05    1.2e+04     10.279      0.000    9.97e+04    1.47e+05\n",
       "initial_trend          -6.5707        nan        nan        nan         nan         nan\n",
       "initial_seasonal.0  -3402.2656   5421.012     -0.628      0.530    -1.4e+04    7222.723\n",
       "initial_seasonal.1  -4701.4844   5104.303     -0.921      0.357   -1.47e+04    5302.765\n",
       "initial_seasonal.2    646.4844   2752.262      0.235      0.814   -4747.849    6040.818\n",
       "initial_seasonal.3   1.128e+04        nan        nan        nan         nan         nan\n",
       "initial_seasonal.4   3.078e+04        nan        nan        nan         nan         nan\n",
       "initial_seasonal.5   3.554e+04        nan        nan        nan         nan         nan\n",
       "initial_seasonal.6    3.83e+04        nan        nan        nan         nan         nan\n",
       "initial_seasonal.7    3.71e+04   2595.312     14.296      0.000     3.2e+04    4.22e+04\n",
       "initial_seasonal.8   3.805e+04   2480.063     15.342      0.000    3.32e+04    4.29e+04\n",
       "initial_seasonal.9   3.715e+04   3917.374      9.483      0.000    2.95e+04    4.48e+04\n",
       "initial_seasonal.10  4.638e+04   4686.063      9.898      0.000    3.72e+04    5.56e+04\n",
       "initial_seasonal.11  5.948e+04   5626.640     10.571      0.000    4.85e+04    7.05e+04\n",
       "initial_seasonal.12  6.948e+04   5551.359     12.515      0.000    5.86e+04    8.04e+04\n",
       "initial_seasonal.13  6.494e+04   3940.495     16.480      0.000    5.72e+04    7.27e+04\n",
       "initial_seasonal.14    6.5e+04   1938.350     33.532      0.000    6.12e+04    6.88e+04\n",
       "initial_seasonal.15   6.47e+04        nan        nan        nan         nan         nan\n",
       "initial_seasonal.16  6.305e+04        nan        nan        nan         nan         nan\n",
       "initial_seasonal.17  6.478e+04        nan        nan        nan         nan         nan\n",
       "initial_seasonal.18  7.141e+04        nan        nan        nan         nan         nan\n",
       "initial_seasonal.19  7.077e+04        nan        nan        nan         nan         nan\n",
       "initial_seasonal.20  4.645e+04   1023.293     45.397      0.000    4.44e+04    4.85e+04\n",
       "initial_seasonal.21  2.388e+04   3217.837      7.422      0.000    1.76e+04    3.02e+04\n",
       "initial_seasonal.22  9985.2604   4960.719      2.013      0.044     262.430    1.97e+04\n",
       "initial_seasonal.23          0   5431.700          0      1.000   -1.06e+04    1.06e+04\n",
       "===================================================================================\n",
       "Ljung-Box (Q):                      570.01   Jarque-Bera (JB):                 2.31\n",
       "Prob(Q):                              0.00   Prob(JB):                         0.31\n",
       "Heteroskedasticity (H):               0.88   Skew:                            -0.16\n",
       "Prob(H) (two-sided):                  0.64   Kurtosis:                         3.48\n",
       "===================================================================================\n",
       "\n",
       "Warnings:\n",
       "[1] Covariance matrix calculated using numerical (complex-step) differentiation.\n",
       "[2] Covariance matrix is singular or near-singular, with condition number 4.12e+17. Standard errors may be unstable.\n",
       "\"\"\""
      ]
     },
     "execution_count": 21,
     "metadata": {},
     "output_type": "execute_result"
    }
   ],
   "source": [
    "ets_model.summary()"
   ]
  },
  {
   "cell_type": "markdown",
   "metadata": {},
   "source": [
    "#### Optional Task: Use ETS to do SES with prediction intervals"
   ]
  },
  {
   "cell_type": "code",
   "execution_count": 22,
   "metadata": {},
   "outputs": [],
   "source": [
    "# ets_model = ETSModel(\n",
    "#     endog=train[\"Ads\"],\n",
    "#     trend=None,\n",
    "#     seasonal=None, # No trend or seasonality for SES\n",
    "# ).fit()\n",
    "\n",
    "# # Predict from trained model\n",
    "\n",
    "# ses_pred = ets_model.get_prediction(\n",
    "#     start=test.index[1], end=test.index[-1]\n",
    "# )  # Prediction intervals\n",
    "# ses_pred_df = ses_pred.summary_frame(alpha=0.05)\n",
    "# ses_pred_df.plot(figsize = (15, 5))"
   ]
  }
 ],
 "metadata": {
  "kernelspec": {
   "display_name": "Python 3 (ipykernel)",
   "language": "python",
   "name": "python3"
  },
  "language_info": {
   "codemirror_mode": {
    "name": "ipython",
    "version": 3
   },
   "file_extension": ".py",
   "mimetype": "text/x-python",
   "name": "python",
   "nbconvert_exporter": "python",
   "pygments_lexer": "ipython3",
   "version": "3.11.13"
  }
 },
 "nbformat": 4,
 "nbformat_minor": 4
}
