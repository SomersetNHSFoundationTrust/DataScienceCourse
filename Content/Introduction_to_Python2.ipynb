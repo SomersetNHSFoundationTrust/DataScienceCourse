{
 "cells": [
  {
   "cell_type": "markdown",
   "metadata": {},
   "source": [
    "# Introduction to Python Pt. 2\n",
    "\n",
    "In this notebook, we will consider `if`, `for` and `while` statements.\n",
    "\n",
    "## The if statement\n",
    "\n",
    "In the last section, we covered how to compare 2 objects. With that in mind, can you write code in the box below to check whether variables number1 and number2 are equal?"
   ]
  },
  {
   "cell_type": "code",
   "execution_count": null,
   "metadata": {},
   "outputs": [],
   "source": [
    "number1 = 10\n",
    "number2 = 20/2\n",
    "\n",
    "#Put your answer here..."
   ]
  },
  {
   "cell_type": "markdown",
   "metadata": {},
   "source": [
    "If we wanted to do something **ONLY** when number1 is equal to number2 we would need to use an `if` statement, this is exactly what it sounds like, e.g. below only prints out the string \"CONGRATULATIONS\" when number1 divided by 2 is 5."
   ]
  },
  {
   "cell_type": "code",
   "execution_count": null,
   "metadata": {},
   "outputs": [],
   "source": [
    "if number1 / 2 == 5:\n",
    "    print(\"CONGRATULATIONS\")"
   ]
  },
  {
   "cell_type": "markdown",
   "metadata": {},
   "source": [
    "The code above won't print anything unless we change the value assigned to `number1`, can you alter the code so that the message is printed to the screen?\n",
    " \n",
    "Then can you alter the above code to only print out a message when `number1` is equal to `number2`?\n",
    "\n",
    "Often, when using an `if` statement, we want to run a different piece of code when it's true, to when it's false. In this case we can use a few other tricks. For example, we can finish it off with an `else` statement, or carry on using conditional statements `elif`.\n",
    "\n",
    "`else` will run anytime the if statement (or any `elif` statement) is found to be false, it's like the default case.\n",
    "`elif` stands for 'else if', this will run after the initial `if` statement. An example is shown below:"
   ]
  },
  {
   "cell_type": "code",
   "execution_count": null,
   "metadata": {},
   "outputs": [],
   "source": [
    "if number1 == 10:\n",
    "    print(\"number1 = 10\")\n",
    "elif number1 > 5:\n",
    "    print(\"number1 > 5\")\n",
    "else:\n",
    "    print(\"number1 != 10 and < 5\")"
   ]
  },
  {
   "cell_type": "markdown",
   "metadata": {},
   "source": [
    "Note that `if` and `elif` will only run until something is found to be true, then it leaves the `if` statements and moves onto the next bit of code.\n",
    "\n",
    "## The 'for' statement\n",
    "\n",
    "The `for` statement is really useful when you want to do something to a lot of things and you know how many things there are. In order to best show this, we need to introduce a new data structure, known as a list.\n",
    "\n",
    "In python, lists can contain any number of variables (of any type - e.g. numbers (ints or floats), strings (words) and any other objects (remember everything in python is an object). We can make them by in many ways, for example, we can explicitly define them:"
   ]
  },
  {
   "cell_type": "code",
   "execution_count": null,
   "metadata": {},
   "outputs": [],
   "source": [
    "my_first_list = [0, 1, 2, 3, 4]"
   ]
  },
  {
   "cell_type": "markdown",
   "metadata": {},
   "source": [
    "Now, if we wanted to multiply each element of `my_first_list` by 2 we could do the following:"
   ]
  },
  {
   "cell_type": "code",
   "execution_count": null,
   "metadata": {},
   "outputs": [],
   "source": [
    "for item in my_first_list:\n",
    "    print(item*2)"
   ]
  },
  {
   "cell_type": "markdown",
   "metadata": {},
   "source": [
    "That's okay, but what if we need to store our answers in a new array? We can do that too:"
   ]
  },
  {
   "cell_type": "code",
   "execution_count": null,
   "metadata": {},
   "outputs": [],
   "source": [
    "#We need to make an empty list for the results to go into\n",
    "my_second_list = []\n",
    "for item in my_first_list:\n",
    "    #To add items to the end of a python list, we need to 'append' them to the end\n",
    "    my_second_list.append(item*2)\n",
    "print(my_second_list)"
   ]
  },
  {
   "cell_type": "markdown",
   "source": [
    "This does create a second list, `my_second_list`, but it's not the most efficient way, especially for large lists. A much more efficient way is to use a technique called list comprehension."
   ],
   "metadata": {
    "collapsed": false
   }
  },
  {
   "cell_type": "code",
   "execution_count": null,
   "outputs": [],
   "source": [
    "my_second_list = [item * 2 for item in my_first_list]"
   ],
   "metadata": {
    "collapsed": false
   }
  },
  {
   "cell_type": "markdown",
   "source": [
    "This flattens the `for` loop into a single line, specifying what should be stored in the list before the `for` loop.\n",
    "\n",
    "We can also start to combine `for` and `if`:"
   ],
   "metadata": {
    "collapsed": false
   }
  },
  {
   "cell_type": "code",
   "execution_count": null,
   "outputs": [],
   "source": [
    "# Overwrite the my_second_list variable\n",
    "my_second_list = []\n",
    "for item in my_first_list:\n",
    "    if item % 2 == 0:\n",
    "        my_second_list.append(item*2)\n",
    "print(my_second_list)"
   ],
   "metadata": {
    "collapsed": false
   }
  },
  {
   "cell_type": "markdown",
   "source": [
    "Or using list comprehension:"
   ],
   "metadata": {
    "collapsed": false
   }
  },
  {
   "cell_type": "code",
   "execution_count": null,
   "outputs": [],
   "source": [
    "my_second_list = [item * 2 for item in my_first_list if item % 2 == 0]"
   ],
   "metadata": {
    "collapsed": false
   }
  },
  {
   "cell_type": "markdown",
   "metadata": {},
   "source": [
    "## The 'while' statement\n",
    "\n",
    "The while statement also allows you to move through a list or sequence of things, but the length of it doesn't have to be predefined, in pseudocode:\n",
    "\n",
    "While something is true, do something.\n",
    "\n",
    "An example of this:"
   ]
  },
  {
   "cell_type": "code",
   "execution_count": null,
   "metadata": {},
   "outputs": [],
   "source": [
    "x = 0\n",
    "while x < 5:\n",
    "    print(x)\n",
    "    x += 1"
   ]
  },
  {
   "cell_type": "markdown",
   "metadata": {},
   "source": [
    "This will run forever until the conditional is satisfied, so here `x` must be equal or larger than 5. The final statement `x += 1` increases `x` by 1, each time, it's a shorthand way to write `x = x + 1`.\n",
    "\n",
    "Using the knowledge you have gained so far, can you write a short piece of code that will double a variable with a starting value of 2 until it's bigger than 10000, and print out the number of steps it takes?"
   ]
  },
  {
   "cell_type": "code",
   "execution_count": null,
   "metadata": {},
   "outputs": [],
   "source": [
    "#Put your code here - this may require some thought, try to use pseudocode to help you solve it"
   ]
  },
  {
   "cell_type": "markdown",
   "metadata": {},
   "source": [
    "## Task\n",
    "\n",
    "Imagine you have been given a file that contains benchmarking information (testing how fast some code runs). The file defined so that the first line and every second line after that represents the size of the system, and the lines in between contain the time it took to calculate the required property.\n",
    "\n",
    "We have not covered how to load in a file yet, so the code below will recreate the raw data in a list called `raw_data` for you to use."
   ]
  },
  {
   "cell_type": "code",
   "execution_count": null,
   "metadata": {},
   "outputs": [],
   "source": [
    "raw_data = [\n",
    "    1,\n",
    "    0.31,\n",
    "    10,\n",
    "    8.43,\n",
    "    100,\n",
    "    96.38,\n",
    "    1000,\n",
    "    394.45,\n",
    "    10000,\n",
    "    6078.06,\n",
    "]"
   ]
  },
  {
   "cell_type": "markdown",
   "metadata": {},
   "source": [
    "Once you've run the code above, your task is to take data and split it into 2 lists."
   ]
  },
  {
   "cell_type": "code",
   "execution_count": null,
   "metadata": {},
   "outputs": [],
   "source": [
    "#Put your code here"
   ]
  }
 ],
 "metadata": {
  "kernelspec": {
   "display_name": "Python 3",
   "language": "python",
   "name": "python3"
  },
  "language_info": {
   "codemirror_mode": {
    "name": "ipython",
    "version": 3
   },
   "file_extension": ".py",
   "mimetype": "text/x-python",
   "name": "python",
   "nbconvert_exporter": "python",
   "pygments_lexer": "ipython3",
   "version": "3.6.4"
  }
 },
 "nbformat": 4,
 "nbformat_minor": 2
}
