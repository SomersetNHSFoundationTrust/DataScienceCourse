{
 "cells": [
  {
   "cell_type": "markdown",
   "source": [
    "# Introduction to Pandas\n",
    "\n",
    "Knowledge of Pandas is a must-have for anyone wishing to use Python for data analysis! Pandas is a powerful open-source library that provides new data structures, such as the Series and the DataFrame that allows you to efficiently handle relational data. Over the next few cells, you'll discover the key features of Pandas. This notebook is designed to provide you with the basics of Pandas, before we look at a case study with real data in the next notebook."
   ],
   "metadata": {
    "collapsed": false
   },
   "id": "ec5c9e11d1202222"
  },
  {
   "cell_type": "code",
   "execution_count": 1,
   "outputs": [],
   "source": [
    "import pandas as pd # We normally import pandas with the alias 'pd'\n",
    "import numpy as np"
   ],
   "metadata": {
    "collapsed": false,
    "ExecuteTime": {
     "end_time": "2024-04-16T06:55:55.997189600Z",
     "start_time": "2024-04-16T06:55:55.480705900Z"
    }
   },
   "id": "a96d867debb3070d"
  },
  {
   "cell_type": "markdown",
   "source": [
    "### Recap Task\n",
    "\n",
    "Create a function that will take in a tuple containing a shape and returns a random array.\n",
    "E.g., if I pass (5, 5) I should end up with a 5x5 array of random numbers.\n",
    "\n",
    "Then use your function to create a 10x10 array and save it as a variable named `data`"
   ],
   "metadata": {
    "collapsed": false
   },
   "id": "1ea07f2b2ba6d600"
  },
  {
   "cell_type": "code",
   "execution_count": 2,
   "outputs": [],
   "source": [
    "# YOUR CODE HERE"
   ],
   "metadata": {
    "collapsed": false,
    "ExecuteTime": {
     "end_time": "2024-04-16T06:55:56.014115300Z",
     "start_time": "2024-04-16T06:55:55.997189600Z"
    }
   },
   "id": "cd19489a60226d76"
  },
  {
   "cell_type": "markdown",
   "source": [
    "## DataFrames\n",
    "\n",
    "Now we have some data, we can create a DataFrame. This is ordinarily done using a `pd.read_` command, e.g., `pd.read_sql` takes in connection information to a database and a sql query and will return a dataframe containing the results. We'll look more at `read_` later today, but for now, we'll use the random data."
   ],
   "metadata": {
    "collapsed": false
   },
   "id": "17dcee0932e20381"
  },
  {
   "cell_type": "code",
   "execution_count": 3,
   "outputs": [],
   "source": [
    "# We can turn the data into a DataFrame\n",
    "df = pd.DataFrame(data) # df is a standard variable name for a DataFrame"
   ],
   "metadata": {
    "collapsed": false,
    "ExecuteTime": {
     "end_time": "2024-04-16T06:56:03.047451700Z",
     "start_time": "2024-04-16T06:56:02.997322500Z"
    }
   },
   "id": "a7eec7f07d45b73a"
  },
  {
   "cell_type": "code",
   "execution_count": null,
   "outputs": [],
   "source": [
    "# We can take a look at the dataframe by just typing df\n",
    "df"
   ],
   "metadata": {
    "collapsed": false
   },
   "id": "f9319dcd53d91858"
  },
  {
   "cell_type": "code",
   "execution_count": null,
   "outputs": [],
   "source": [
    "# or we can look at the top n rows (default 5)\n",
    "df.head()"
   ],
   "metadata": {
    "collapsed": false
   },
   "id": "7f4b2c07aa7f4469"
  },
  {
   "cell_type": "code",
   "execution_count": null,
   "outputs": [],
   "source": [
    "# or the final n rows (default 5)\n",
    "df.tail()"
   ],
   "metadata": {
    "collapsed": false
   },
   "id": "fbd296cd2f93b3db"
  },
  {
   "cell_type": "markdown",
   "source": [
    "Notice that the columns are 'labelled' as 0 - 9. This is because when we created the DataFrame we didn't provide any labels for the columns, we could reload it with column names, or rename the columns:"
   ],
   "metadata": {
    "collapsed": false
   },
   "id": "4763141a4ef44533"
  },
  {
   "cell_type": "code",
   "execution_count": null,
   "outputs": [],
   "source": [
    "df.rename({0:\"ColumnA\", 1:\"ColumnB\"}, axis=1) # will rename the first 2 columns"
   ],
   "metadata": {
    "collapsed": false
   },
   "id": "911ba2ba47264ef"
  },
  {
   "cell_type": "markdown",
   "source": [
    "### NOTE:\n",
    "\n",
    "This does not save the changes made to the `DataFrame`, lots of commands in Pandas will produce a new `DataFrame` with the changes in, rather than make them in place (it's always worth checking the behaviour though). \n",
    "\n",
    "We could change that by providing the keyword argument `inplace=True` for some functions, or we could save over the variable `df`, e.g., \n",
    "\n",
    "`df = df.rename({0:\"ColumnA\", 1:\"ColumnB\"}, axis=1)`\n",
    "\n",
    "but for now, we'll leave it with the default numeric columns.\n",
    "\n",
    "## Summary Statistics\n",
    "\n",
    "We can also get some summary statistics from the `DataFrame`:"
   ],
   "metadata": {
    "collapsed": false
   },
   "id": "efbffcf30ab61853"
  },
  {
   "cell_type": "code",
   "execution_count": null,
   "outputs": [],
   "source": [
    "df.describe()"
   ],
   "metadata": {
    "collapsed": false
   },
   "id": "51955300a68fe64d"
  },
  {
   "cell_type": "markdown",
   "source": [
    "This works well with numeric data, but let's try with some nominal data."
   ],
   "metadata": {
    "collapsed": false
   },
   "id": "7ae3526e37af864b"
  },
  {
   "cell_type": "code",
   "execution_count": 9,
   "outputs": [
    {
     "name": "stdout",
     "output_type": "stream",
     "text": [
      "0    green\n",
      "1     blue\n",
      "2      red\n",
      "3    green\n",
      "4     blue\n",
      "5    green\n",
      "6      red\n",
      "7      red\n",
      "8    green\n",
      "9     blue\n",
      "Name: colours, dtype: object\n"
     ]
    }
   ],
   "source": [
    "categories = np.random.choice([\"red\", \"blue\", \"green\"], 10) # create a random column containing red, green and blue.\n",
    "\n",
    "categories = pd.Series(categories, name=\"colours\") # turn it into a Pandas series with the label 'colours'\n",
    "\n",
    "print(categories) # take a look at the new column\n",
    "\n",
    "df = pd.concat([df, categories], axis=1) # Creates a new DataFrame with the new column added on the end"
   ],
   "metadata": {
    "collapsed": false,
    "ExecuteTime": {
     "end_time": "2024-04-16T06:56:28.746699400Z",
     "start_time": "2024-04-16T06:56:28.720341100Z"
    }
   },
   "id": "45a60c996af8cef1"
  },
  {
   "cell_type": "markdown",
   "source": [
    "### Task\n",
    "\n",
    "Take a look at the new `DataFrame` to check that the new column is there, then generate the summary statistics, what do you notice?"
   ],
   "metadata": {
    "collapsed": false
   },
   "id": "ba6e56e54fb91341"
  },
  {
   "cell_type": "code",
   "execution_count": 10,
   "outputs": [],
   "source": [
    "# your code here"
   ],
   "metadata": {
    "collapsed": false,
    "ExecuteTime": {
     "end_time": "2024-04-16T06:56:54.863111500Z",
     "start_time": "2024-04-16T06:56:54.827Z"
    }
   },
   "id": "34fcb7a30dec6508"
  },
  {
   "cell_type": "markdown",
   "source": [
    "Let's take a look at the datatypes in the `DataFrame` to try and understand this:"
   ],
   "metadata": {
    "collapsed": false
   },
   "id": "561fa108415e3588"
  },
  {
   "cell_type": "code",
   "execution_count": null,
   "outputs": [],
   "source": [
    "df.dtypes"
   ],
   "metadata": {
    "collapsed": false
   },
   "id": "9ebd3d4a29508195"
  },
  {
   "cell_type": "markdown",
   "source": [
    "You should be able to see that the first 10 columns are of type `float64` and the final type is an `object`. Pandas tries to infer the datatype from the data if it's not explicitly given.\n",
    "\n",
    "## Selecting Data\n",
    "\n",
    "Let's take a closer look at the final 2 columns. There are a few ways to do this:"
   ],
   "metadata": {
    "collapsed": false
   },
   "id": "8aed72b9ca9fdb5d"
  },
  {
   "cell_type": "code",
   "execution_count": null,
   "outputs": [],
   "source": [
    "df.iloc[:, -2:] # iloc allows you to reference [rows, columns] by their index, e.g., here we want all the rows, and from the second to last column onwards."
   ],
   "metadata": {
    "collapsed": false
   },
   "id": "35f43f5c86c0c615"
  },
  {
   "cell_type": "code",
   "execution_count": null,
   "outputs": [],
   "source": [
    "df.loc[:, [9, \"colours\"]] # loc allows you to select columns by name [rows, [column_names]]"
   ],
   "metadata": {
    "collapsed": false
   },
   "id": "7a0aa0ac78b9d85c"
  },
  {
   "cell_type": "code",
   "execution_count": null,
   "outputs": [],
   "source": [
    "df[[9, \"colours\"]] # If you want all rows, you can also just specify the columns [[column_names]]"
   ],
   "metadata": {
    "collapsed": false
   },
   "id": "6f458b9cc8321f95"
  },
  {
   "cell_type": "markdown",
   "source": [
    "`iloc` is the least preferred way to select data, can you think of a reason why?\n",
    "\n",
    "We can use `loc` or column selection to add columns too, if we reference a column that does not yet exist, and set values to it, it will actually create a column in the dataframe!\n",
    "\n",
    "We can also convert data types, for categorical data, pandas has a special dtype:"
   ],
   "metadata": {
    "collapsed": false
   },
   "id": "be82baf7ea26e9a6"
  },
  {
   "cell_type": "code",
   "execution_count": null,
   "outputs": [],
   "source": [
    "df[\"colours\"] = df.loc[:, \"colours\"].astype(\"category\")\n",
    "df.dtypes"
   ],
   "metadata": {
    "collapsed": false
   },
   "id": "5487b82a8f4a9192"
  },
  {
   "cell_type": "markdown",
   "source": [
    "Behind the scenes, this is actually using a code instead of the categories for processing, we can access these codes via:"
   ],
   "metadata": {
    "collapsed": false
   },
   "id": "c71edfc1e06d9321"
  },
  {
   "cell_type": "code",
   "execution_count": null,
   "outputs": [],
   "source": [
    "df.loc[:, \"colours\"].cat.codes"
   ],
   "metadata": {
    "collapsed": false
   },
   "id": "f01010bf66b86282"
  },
  {
   "cell_type": "markdown",
   "source": [
    "Or if we wanted to see a map between the codes and the categories:"
   ],
   "metadata": {
    "collapsed": false
   },
   "id": "68b2f79e7ce4292c"
  },
  {
   "cell_type": "code",
   "execution_count": null,
   "outputs": [],
   "source": [
    "# Create a dictionary by enumerating what every is returned from df[\"colours\"].cat.categories (which will be the categories)\n",
    "dict(enumerate(df[\"colours\"].cat.categories)) "
   ],
   "metadata": {
    "collapsed": false
   },
   "id": "6f4af13dfad6d79d"
  },
  {
   "cell_type": "markdown",
   "source": [
    "Using the final 2 columns, let's see if we can calculate the average value per colour, so in pseudocode we want to:\n",
    "\n",
    "- Select the last 2 columns\n",
    "- group by the colour\n",
    "- calculate the mean"
   ],
   "metadata": {
    "collapsed": false
   },
   "id": "21e100e77e6434ca"
  },
  {
   "cell_type": "code",
   "execution_count": null,
   "outputs": [],
   "source": [
    "# Going through the pseudocode:\n",
    "#  - Select the last 2 columns, we know these are names 9 and \"colours\" and that we want all rows: df.loc[:, [9, \"colours]]\n",
    "#  - group by the colour: pandas has a groupby method for this exact thing!\n",
    "#  - calculate the mean: An object output from groupby needs more information to specify what to do with the groups, \n",
    "#    e.g., we could sum them, in this case, we just want mean().\n",
    "\n",
    "df.loc[:, [9, \"colours\"]].groupby(\"colours\").mean()"
   ],
   "metadata": {
    "collapsed": false
   },
   "id": "8e65e85f67a5c599"
  },
  {
   "cell_type": "markdown",
   "source": [
    "### Task\n",
    "\n",
    "Adapt the above approach to calculate the mean values per colour for 2 columns in a single `DataFrame`.\n",
    "\n",
    "Check the `DataFrame` looks how you expect it to look, then save it as the variable `grouped_df`."
   ],
   "metadata": {
    "collapsed": false
   },
   "id": "a69f026c63b77495"
  },
  {
   "cell_type": "code",
   "execution_count": 101,
   "outputs": [],
   "source": [
    "# your code here"
   ],
   "metadata": {
    "collapsed": false,
    "ExecuteTime": {
     "end_time": "2024-04-16T08:24:33.457653700Z",
     "start_time": "2024-04-16T08:24:33.436851400Z"
    }
   },
   "id": "dce6a41aa625c309"
  },
  {
   "cell_type": "markdown",
   "source": [
    "## Basic Plotting\n",
    "\n",
    "It is possible to generate quick plots using Pandas. The plotting in Pandas is built on top of the common Python plotting library `matplotlib` library, so it is possible to customise these plots, but better approaches to plotting will be covered in forthcoming session. For now, the purpose of this is to get a feel for the data quickly. \n",
    "\n",
    "The basic format to plotting is:\n",
    "\n",
    "`df.plot()` for a line graph, or\n",
    "`df.plot.OTHERGRAPH` where `OTHERGRAPH` could be box, bar, kde etc... (see the [documentation](https://pandas.pydata.org/docs/reference/api/pandas.DataFrame.plot.html) for an extensive list).\n",
    "\n",
    "We'll use a bar plot to compare our average column values for each colour:"
   ],
   "metadata": {
    "collapsed": false
   },
   "id": "4b61538e5dd95588"
  },
  {
   "cell_type": "code",
   "execution_count": null,
   "outputs": [],
   "source": [
    "grouped_df.plot.bar()"
   ],
   "metadata": {
    "collapsed": false
   },
   "id": "879701b5817cda19"
  },
  {
   "cell_type": "markdown",
   "source": [
    "### Task\n",
    "\n",
    "Using the same 2 columns you selected above, create a boxplot. "
   ],
   "metadata": {
    "collapsed": false
   },
   "id": "d94477371349916b"
  },
  {
   "cell_type": "code",
   "execution_count": 21,
   "outputs": [],
   "source": [
    "# Your code here"
   ],
   "metadata": {
    "collapsed": false,
    "ExecuteTime": {
     "end_time": "2024-04-16T07:33:38.956939700Z",
     "start_time": "2024-04-16T07:33:38.925707300Z"
    }
   },
   "id": "fb5e8ba462316e9"
  },
  {
   "cell_type": "markdown",
   "source": [
    "## Pivot and Crosstab\n",
    "\n",
    "We've already seen the `groupby` keyword, but there are other ways to manipulate a `DataFrame`, some of the most common ones are `pivot` and `crosstab`. `pivot` acts exactly like a pivot table in Excel and allows you to choose columns to be the index and columns, and aggregates values together.\n",
    "\n",
    "### Task\n",
    "\n",
    "Start by adding a new column to `df` with a random choice of `\"A\"` or `\"B\"` and call it `\"alpha/beta\"`.\n",
    "\n",
    "For bonus marks, can you save the new column with a categorical data type?"
   ],
   "metadata": {
    "collapsed": false
   },
   "id": "9325ce25719ba1f2"
  },
  {
   "cell_type": "code",
   "execution_count": null,
   "outputs": [],
   "source": [
    "# your code here\n",
    "\n",
    "df.loc[:, \"alpha/beta\"] = np.random.choice([\"A\", \"B\"], 10)\n",
    "df[\"alpha/beta\"] = df[\"alpha/beta\"].astype(\"category\")\n",
    "\n",
    "df"
   ],
   "metadata": {
    "collapsed": false
   },
   "id": "3bf315a59220db71"
  },
  {
   "cell_type": "code",
   "execution_count": null,
   "outputs": [],
   "source": [
    "# This should display a 12 column DataFrame with 10 random float64 columns, a column labelled \"colour\" and a column labelled \"alpha/beta\".\n",
    "df"
   ],
   "metadata": {
    "collapsed": false
   },
   "id": "7a5b5bd0267bcc4a"
  },
  {
   "cell_type": "markdown",
   "source": [
    "We can use our 2 new columns to calculate the mean value in any other column, for instance column 4, for each combination:"
   ],
   "metadata": {
    "collapsed": false
   },
   "id": "ea0d36cc9bb6ecb6"
  },
  {
   "cell_type": "code",
   "execution_count": null,
   "outputs": [],
   "source": [
    "pd.pivot_table(df, index = \"colours\", columns = \"alpha/beta\", values = 4, aggfunc = \"mean\")"
   ],
   "metadata": {
    "collapsed": false
   },
   "id": "57b650400579ca3"
  },
  {
   "cell_type": "markdown",
   "source": [
    "### NOTE\n",
    "\n",
    "You may see `NaN` in our `pivot_table`, this stands for Not A Number, and means there is a missing value, e.g., if green & B is `NaN` there are no values associated when `colours` is green and `alpha/beta` is B.\n",
    "\n",
    "### Task\n",
    "\n",
    "Make a pivot table out of a different column, and use a different aggregation function.\n",
    "\n",
    "HINT: If you're unsure about the options available, check the documentation."
   ],
   "metadata": {
    "collapsed": false
   },
   "id": "dbd1a98c5daf339b"
  },
  {
   "cell_type": "code",
   "execution_count": 25,
   "outputs": [],
   "source": [
    "# Your code here"
   ],
   "metadata": {
    "collapsed": false,
    "ExecuteTime": {
     "end_time": "2024-04-16T07:33:49.040238700Z",
     "start_time": "2024-04-16T07:33:49.022097100Z"
    }
   },
   "id": "bb37a7a47cc0175d"
  },
  {
   "cell_type": "markdown",
   "source": [
    "`crosstab`s are a special case of `pivot_table` that return the count of 2 (or more) variables. You can achieve something very similar with `aggfunc = 'count'` in a `pivot_table`.\n",
    "\n",
    "Notice any 0s in the `DataFrame` below, these will be located in the same places as the `NaN` values above."
   ],
   "metadata": {
    "collapsed": false
   },
   "id": "ed21a14b0b3043bd"
  },
  {
   "cell_type": "code",
   "execution_count": null,
   "outputs": [],
   "source": [
    "pd.crosstab(index = df[\"colours\"], columns = df[\"alpha/beta\"])"
   ],
   "metadata": {
    "collapsed": false
   },
   "id": "261066f72589bbe2"
  },
  {
   "cell_type": "markdown",
   "source": [
    "## Missing Data\n",
    "\n",
    "Let's suppose that some of our data was missing from the original `DataFrame`, say ~10% of our numeric data:"
   ],
   "metadata": {
    "collapsed": false
   },
   "id": "e3257240033cbddd"
  },
  {
   "cell_type": "code",
   "execution_count": null,
   "outputs": [],
   "source": [
    "df_missing_data = df.copy()\n",
    "\n",
    "indices = np.random.choice([*range(10)], (10, 2))\n",
    "\n",
    "for x, y in indices:\n",
    "    df_missing_data.iloc[x, y] = np.nan\n",
    "\n",
    "df_missing_data"
   ],
   "metadata": {
    "collapsed": false
   },
   "id": "94c3cb284ce93e30"
  },
  {
   "cell_type": "markdown",
   "source": [
    "First, let's calculate how much of our data is missing, this won't equal exactly 10% because we're not including the qualitative columns from the missing data."
   ],
   "metadata": {
    "collapsed": false
   },
   "id": "e6567f6823c59e83"
  },
  {
   "cell_type": "code",
   "execution_count": null,
   "outputs": [],
   "source": [
    "f\"Missing data: {df_missing_data.isna().values.sum() / df_missing_data.size * 100 :.2f}%\""
   ],
   "metadata": {
    "collapsed": false
   },
   "id": "2c10ba2a6ca2475d"
  },
  {
   "cell_type": "markdown",
   "source": [
    "Breaking down the above:\n",
    "\n",
    "- `f\"`: Specifies that this is an 'f-string', which is a string that can contain code encapsulated in curly brackets ({}).\n",
    "- `df_missing_data.isna()`: This returns a `DataFrame` containing `True` and `False`, where the `True` values are in the place of any missing data.\n",
    "- `.values`: Retrieves the underlying NumPy array.\n",
    "- `.sum()`: This is a neat little trick in Python, where `True` and `False` is the same as 1 and 0 respectively, so by adding up all the `True` (or 1) values, we get the total number of missing values.\n",
    "- `df_missing_data.size`: Returns the number of elements in the `DataFrame`.\n",
    "- `* 100`: Hopefully by now this is self-explanatory!\n",
    "- `:.2f`: An f-string formatting trick, we're stating that we only want to display 2 decimal places for our #float."
   ],
   "metadata": {
    "collapsed": false
   },
   "id": "4db4f6ad61666b3"
  },
  {
   "cell_type": "markdown",
   "source": [
    "Machine learning algorithms are often very sensitive to missing data, so we need to try and make a 'best-guess' to fill in the data, you will learn more robust algorithms to do this in the future.\n",
    "\n",
    "We have a few options here, perhaps we want to fill in the missing data with the mean per column:"
   ],
   "metadata": {
    "collapsed": false
   },
   "id": "a2658cc4b5654ca6"
  },
  {
   "cell_type": "code",
   "execution_count": null,
   "outputs": [],
   "source": [
    "means = df_missing_data.select_dtypes(np.float64).mean(axis=0)\n",
    "\n",
    "df_means_filled = df_missing_data.fillna(means, axis=0) \n",
    "df_means_filled"
   ],
   "metadata": {
    "collapsed": false
   },
   "id": "18175f57ddca39ae"
  },
  {
   "cell_type": "markdown",
   "source": [
    "Perhaps we want to use our qualitative columns to provide some insight:"
   ],
   "metadata": {
    "collapsed": false
   },
   "id": "f17e8da0535b9f86"
  },
  {
   "cell_type": "code",
   "execution_count": 30,
   "outputs": [],
   "source": [
    "df_category_filled = df_missing_data.copy()\n",
    "\n",
    "colour_alpha_beta_means = df.groupby(\n",
    "    [\"colours\", \"alpha/beta\"]\n",
    ").mean().mean(axis=1).to_dict()\n",
    "\n",
    "for row_index, col_index in zip(*np.where(df_category_filled.isna())):\n",
    "    value = colour_alpha_beta_means[\n",
    "        tuple(\n",
    "            df_category_filled.loc[row_index, [\"colours\", \"alpha/beta\"]].values\n",
    "        )\n",
    "    ]\n",
    "    df_category_filled.iloc[row_index, col_index] = value"
   ],
   "metadata": {
    "collapsed": false,
    "ExecuteTime": {
     "end_time": "2024-04-16T07:33:57.039079600Z",
     "start_time": "2024-04-16T07:33:56.989908700Z"
    }
   },
   "id": "ff4fdbd515acc3e1"
  },
  {
   "cell_type": "markdown",
   "source": [
    "For this, we can easily see which imputation method fit better:"
   ],
   "metadata": {
    "collapsed": false
   },
   "id": "140ece864cf54234"
  },
  {
   "cell_type": "code",
   "execution_count": null,
   "outputs": [],
   "source": [
    "def calculate_rmse(imputed_df, original_df, columns):\n",
    "    \"\"\"\n",
    "    Calculate the Root Mean Square Error (RMSE) between imputed and original DataFrame for specified columns.\n",
    "    \n",
    "    Parameters:\n",
    "        imputed_df (DataFrame): DataFrame with imputed values.\n",
    "        original_df (DataFrame): Original DataFrame with true values.\n",
    "        columns (List[str]): List of column names to calculate RMSE for.\n",
    "    \n",
    "    Returns:\n",
    "        float: Root Mean Square Error (RMSE) value.\n",
    "    \"\"\"\n",
    "    diff = imputed_df.loc[:, columns] - original_df.loc[:, columns]\n",
    "    \n",
    "    rmse = np.sqrt(np.mean(diff**2))\n",
    "    return rmse\n",
    "    \n",
    "\n",
    "print(f\"RMSE when using a category fill imputation: {calculate_rmse(df_category_filled, df, [*range(10)]) :.3f}\")\n",
    "print(f\"RMSE when using a means fill imputation: {calculate_rmse(df_means_filled, df, [*range(10)]) :.3f}\")\n",
    "\n",
    "# In this case, it's likely to be very similar! You'll look at better imputation methods in a forthcoming section."
   ],
   "metadata": {
    "collapsed": false
   },
   "id": "c21ea77e76fbdaa4"
  },
  {
   "cell_type": "markdown",
   "source": [
    "## Time series data\n",
    "\n",
    "Let's say the data we had was actually taken on certain days"
   ],
   "metadata": {
    "collapsed": false
   },
   "id": "4bdeef0d91ac9630"
  },
  {
   "cell_type": "code",
   "execution_count": null,
   "outputs": [],
   "source": [
    "number_of_months = 10\n",
    "years_months_days = {\"year\": [2023]*number_of_months, \"month\": [*range(1, number_of_months+1)], \"day\": [1]*number_of_months}\n",
    "\n",
    "date_df = pd.DataFrame(years_months_days)\n",
    "display(date_df) \n",
    "#  we can convert this into a single column:\n",
    "dates = pd.to_datetime(date_df)\n",
    "dates"
   ],
   "metadata": {
    "collapsed": false
   },
   "id": "cb5b7b6b49fda200"
  },
  {
   "cell_type": "markdown",
   "source": [
    "### TASK\n",
    "\n",
    "Add the new column to your dataframe with the column label of \"dates\" and verify the datatype is what you're expecting."
   ],
   "metadata": {
    "collapsed": false
   },
   "id": "9c243df564d0a16e"
  },
  {
   "cell_type": "code",
   "execution_count": 34,
   "outputs": [],
   "source": [
    "# Your code here"
   ],
   "metadata": {
    "collapsed": false,
    "ExecuteTime": {
     "end_time": "2024-04-16T07:35:20.972581900Z",
     "start_time": "2024-04-16T07:35:20.932560700Z"
    }
   },
   "id": "2d35774aabbbda24"
  },
  {
   "cell_type": "markdown",
   "source": [
    "Pandas has lots of utility functions to deal with time series data, let's create some random data:"
   ],
   "metadata": {
    "collapsed": false
   },
   "id": "dc28c15968336abe"
  },
  {
   "cell_type": "code",
   "execution_count": null,
   "outputs": [],
   "source": [
    "dates = pd.date_range(start='1/1/2023', end='31/1/2023')\n",
    "random_numbers = np.random.rand(dates.shape[0])\n",
    "\n",
    "# notice that we set the dates to the index, this doesn't have to be done at creation, \n",
    "# but makes things easier if we want to take advantage of pandas time series utilities.\n",
    "sample_time_df = pd.DataFrame(index = dates, data=random_numbers)\n",
    "sample_time_df"
   ],
   "metadata": {
    "collapsed": false
   },
   "id": "c18720a3fe083d4"
  },
  {
   "cell_type": "markdown",
   "source": [
    "We'll go through 4 main functions that make working with time series data really easy in pandas.\n",
    "\n",
    "1) `shift`: we can move our values forwards or backwards using shift:"
   ],
   "metadata": {
    "collapsed": false
   },
   "id": "d13f0c9fee7d5ab3"
  },
  {
   "cell_type": "code",
   "execution_count": null,
   "outputs": [],
   "source": [
    "sample_time_df.shift(3)"
   ],
   "metadata": {
    "collapsed": false
   },
   "id": "c91a22411a587481"
  },
  {
   "cell_type": "markdown",
   "source": [
    "2) `resample`: The values can be resampled using a different time frequency, e.g. weekly, and give you values as of the start of the week."
   ],
   "metadata": {
    "collapsed": false
   },
   "id": "1dfef61ef6d30b84"
  },
  {
   "cell_type": "code",
   "execution_count": null,
   "outputs": [],
   "source": [
    "sample_time_df.resample('W').sum()"
   ],
   "metadata": {
    "collapsed": false
   },
   "id": "44ec398df4994d7a"
  },
  {
   "cell_type": "markdown",
   "source": [
    "3) `asfreq`: returns the value at the end of the time period."
   ],
   "metadata": {
    "collapsed": false
   },
   "id": "c57ee0b4f50ecfa0"
  },
  {
   "cell_type": "code",
   "execution_count": null,
   "outputs": [],
   "source": [
    "sample_time_df.asfreq('W')"
   ],
   "metadata": {
    "collapsed": false
   },
   "id": "55fa4fe47f561c5"
  },
  {
   "cell_type": "markdown",
   "source": [
    "4) `rolling`: returns a rolling window that can be used with an aggregation function (e.g., mean)"
   ],
   "metadata": {
    "collapsed": false
   },
   "id": "2d6a0fb3b62da0e7"
  },
  {
   "cell_type": "code",
   "execution_count": null,
   "outputs": [],
   "source": [
    "sample_time_df.rolling(3).mean()"
   ],
   "metadata": {
    "collapsed": false
   },
   "id": "3991168ecb66c5a2"
  },
  {
   "cell_type": "markdown",
   "source": [
    "### TASK\n",
    "\n",
    "1) Can you create a plot that contains all of your numeric columns\n",
    "2) Under that plot, can you also plot the rolling total of the numeric values (TIP: start by writing the pseudocode)"
   ],
   "metadata": {
    "collapsed": false
   },
   "id": "86af4099a63a90f8"
  },
  {
   "cell_type": "code",
   "execution_count": 330,
   "outputs": [],
   "source": [
    "# Your code here"
   ],
   "metadata": {
    "collapsed": false,
    "ExecuteTime": {
     "end_time": "2024-04-02T13:04:04.842255Z",
     "start_time": "2024-04-02T13:04:04.832461400Z"
    }
   },
   "id": "6b006d965b0da656"
  },
  {
   "cell_type": "markdown",
   "source": [
    "## Apply and map\n",
    "\n",
    "If we want to apply a function to each row in a dataframe we could iterate through the rows:"
   ],
   "metadata": {
    "collapsed": false
   },
   "id": "f8054a089fac0f26"
  },
  {
   "cell_type": "code",
   "execution_count": null,
   "outputs": [],
   "source": [
    "add_one = lambda row: row + 1\n",
    "[add_one(row) for row in df[0]]"
   ],
   "metadata": {
    "collapsed": false
   },
   "id": "75e7fb5ffa06c158"
  },
  {
   "cell_type": "markdown",
   "source": [
    "But pandas also provides the `apply` keyword:"
   ],
   "metadata": {
    "collapsed": false
   },
   "id": "178d0177ce01bc6e"
  },
  {
   "cell_type": "code",
   "execution_count": null,
   "outputs": [],
   "source": [
    "df[0].apply(add_one)"
   ],
   "metadata": {
    "collapsed": false
   },
   "id": "2c7d4838c5d9780"
  },
  {
   "cell_type": "markdown",
   "source": [
    "We can apply functions to entire dataframes too:"
   ],
   "metadata": {
    "collapsed": false
   },
   "id": "316bbe09813c407"
  },
  {
   "cell_type": "code",
   "execution_count": null,
   "outputs": [],
   "source": [
    "df.select_dtypes(float).apply(add_one)"
   ],
   "metadata": {
    "collapsed": false
   },
   "id": "fde9646faa94fe1"
  },
  {
   "cell_type": "markdown",
   "source": [
    "Similarly, if we want to map a value to something, we can use a dictionary and iterate:"
   ],
   "metadata": {
    "collapsed": false
   },
   "id": "15ac66402a965a53"
  },
  {
   "cell_type": "code",
   "execution_count": null,
   "outputs": [],
   "source": [
    "mapping_dict = {\"A\": \"alpha\", \"B\":\"beta\"}\n",
    "\n",
    "[mapping_dict[row] for row in df[\"alpha/beta\"]]"
   ],
   "metadata": {
    "collapsed": false
   },
   "id": "227ea45e861ef7aa"
  },
  {
   "cell_type": "markdown",
   "source": [
    "Or we can use the `map` functionality:"
   ],
   "metadata": {
    "collapsed": false
   },
   "id": "1d007f85b70f9c85"
  },
  {
   "cell_type": "code",
   "execution_count": null,
   "outputs": [],
   "source": [
    "df[\"alpha/beta\"].map(mapping_dict)"
   ],
   "metadata": {
    "collapsed": false
   },
   "id": "c5b24b42368938e0"
  },
  {
   "cell_type": "markdown",
   "source": [
    "### TASK\n",
    "\n",
    "Update the colours column of the  dataframe, `df`, to use the first letter of each colour. "
   ],
   "metadata": {
    "collapsed": false
   },
   "id": "4603b537e54b9109"
  },
  {
   "cell_type": "code",
   "execution_count": null,
   "outputs": [],
   "source": [
    "# Your code here"
   ],
   "metadata": {
    "collapsed": false
   },
   "id": "5b2d403aafbf6b"
  },
  {
   "cell_type": "code",
   "execution_count": null,
   "outputs": [],
   "source": [
    "# Once you're finished, run this code. It should be error free if you have done the task successfully.\n",
    "assert not (set(df[\"colours\"]) - {\"r\", \"g\", \"b\"}), \"Looks like you have values other than 'r', 'g', 'b' in your dataframe!\""
   ],
   "metadata": {
    "collapsed": false
   },
   "id": "315332cb96dc3e8c"
  },
  {
   "cell_type": "markdown",
   "source": [
    "## Converting dtypes\n",
    "\n",
    "We touched on this above, but we can convert the type of data stored within a dataframe.\n",
    "For instance,let's create a series of strings:"
   ],
   "metadata": {
    "collapsed": false
   },
   "id": "a8bcf0bcda4c2dd5"
  },
  {
   "cell_type": "code",
   "execution_count": null,
   "outputs": [],
   "source": [
    "values = pd.Series([f\"{num}\" for num in range(10)], name=\"values\")\n",
    "\n",
    "# Let's check the data type of our new series\n",
    "values.dtype"
   ],
   "metadata": {
    "collapsed": false
   },
   "id": "f504728e950d10b"
  },
  {
   "cell_type": "markdown",
   "source": [
    "Looks like we have an `object` data type, so the following will break:"
   ],
   "metadata": {
    "collapsed": false
   },
   "id": "2bc66ac48efe1b1f"
  },
  {
   "cell_type": "code",
   "execution_count": null,
   "outputs": [],
   "source": [
    "values+1"
   ],
   "metadata": {
    "collapsed": false
   },
   "id": "da40284378e567e7"
  },
  {
   "cell_type": "markdown",
   "source": [
    "We can easily convert data types in pandas using the format of `pd.to_XXXX`, so if we want the above series to be a numeric series:"
   ],
   "metadata": {
    "collapsed": false
   },
   "id": "22b69bbc4fcd9c66"
  },
  {
   "cell_type": "code",
   "execution_count": null,
   "outputs": [],
   "source": [
    "values = pd.to_numeric(values)\n",
    "\n",
    "values.dtype"
   ],
   "metadata": {
    "collapsed": false
   },
   "id": "e090b027a2a4c565"
  },
  {
   "cell_type": "markdown",
   "source": [
    "Congratulations on getting this far, this concludes the pandas introduction! This afternoon you'll be putting this all into practice on a real dataset."
   ],
   "metadata": {
    "collapsed": false
   },
   "id": "56aca74761d9aa67"
  }
 ],
 "metadata": {
  "kernelspec": {
   "display_name": "Python 3",
   "language": "python",
   "name": "python3"
  },
  "language_info": {
   "codemirror_mode": {
    "name": "ipython",
    "version": 2
   },
   "file_extension": ".py",
   "mimetype": "text/x-python",
   "name": "python",
   "nbconvert_exporter": "python",
   "pygments_lexer": "ipython2",
   "version": "2.7.6"
  }
 },
 "nbformat": 4,
 "nbformat_minor": 5
}
