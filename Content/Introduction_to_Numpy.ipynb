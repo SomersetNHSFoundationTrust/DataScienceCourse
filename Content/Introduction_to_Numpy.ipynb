{
 "cells": [
  {
   "cell_type": "markdown",
   "id": "be02222c",
   "metadata": {},
   "source": [
    "# Introduction to NumPy\n",
    "\n",
    "NumPy is an open-source library that facilitates efficient numerical processing on multi-dimensional arrays. NumPy is ubiquitous in scientific computing and is used extensively in other common libraries such as SciPy, pandas and scikit-learn. To demonstrate the efficiency of NumPy, let's import it and look at an example."
   ]
  },
  {
   "cell_type": "code",
   "execution_count": 3,
   "id": "343d7eae9dedd6bf",
   "metadata": {
    "ExecuteTime": {
     "end_time": "2024-01-16T09:31:42.946566900Z",
     "start_time": "2024-01-16T09:31:29.689914100Z"
    }
   },
   "outputs": [
    {
     "name": "stdout",
     "output_type": "stream",
     "text": [
      "7.86 µs ± 836 ns per loop (mean ± std. dev. of 7 runs, 100,000 loops each)\n",
      "838 ns ± 98.6 ns per loop (mean ± std. dev. of 7 runs, 1,000,000 loops each)\n"
     ]
    }
   ],
   "source": [
    "import numpy as np\n",
    "\n",
    "# Create 100 random numbers\n",
    "random_numbers = np.random.rand(100)\n",
    "\n",
    "# Let's add 10 to each random number\n",
    "%timeit [x+10 for x in random_numbers]\n",
    "\n",
    "# Now let's add 10 to each random number using NumPy\n",
    "%timeit random_numbers + 10"
   ]
  },
  {
   "cell_type": "markdown",
   "id": "48bc1ca3",
   "metadata": {},
   "source": [
    "We'll go through the details of the code contained in the example throughout this tutorial, but for now it suffices to notice that the second number is lower than the first, i.e., using NumPy was faster than using native Python.\n",
    "\n",
    "In order to obtain faster speeds, NumPy uses its own custom data structure; NumPy arrays. On the face of it, arrays look a lot like lists, but there are some key differences. Arrays stored in RAM (memory) sequentially, whereas lists are stored randomly. That might sound a little complicated, so to give an analogy, consider the time saved if you were making a meal and had all the ingredients lined up in order vs having to find the ingredients all around the house. Lists can store any datatype, but arrays can only store one, so, all elements would need to be e.g., integer, or floats.\n",
    "\n",
    "## Creating Arrays\n",
    "\n",
    "Arrays can be initialised with a list:"
   ]
  },
  {
   "cell_type": "code",
   "execution_count": 4,
   "id": "3626fce4",
   "metadata": {
    "ExecuteTime": {
     "end_time": "2024-01-16T09:31:42.956624100Z",
     "start_time": "2024-01-16T09:31:42.940030100Z"
    }
   },
   "outputs": [
    {
     "data": {
      "text/plain": "array([0, 1, 2, 3, 4])"
     },
     "execution_count": 4,
     "metadata": {},
     "output_type": "execute_result"
    }
   ],
   "source": [
    "np.array([0, 1, 2, 3, 4])"
   ]
  },
  {
   "cell_type": "markdown",
   "id": "7cd3119d",
   "metadata": {},
   "source": [
    "We can also make multidimensional arrays:"
   ]
  },
  {
   "cell_type": "code",
   "execution_count": 5,
   "id": "4bb2d214",
   "metadata": {
    "ExecuteTime": {
     "end_time": "2024-01-16T09:31:42.979385700Z",
     "start_time": "2024-01-16T09:31:42.956624100Z"
    }
   },
   "outputs": [
    {
     "data": {
      "text/plain": "array([[ 0,  1,  2,  3,  4],\n       [ 5,  7,  9, 11, 13]])"
     },
     "execution_count": 5,
     "metadata": {},
     "output_type": "execute_result"
    }
   ],
   "source": [
    "np.array([[0, 1, 2, 3, 4], [5, 7, 9, 11, 13]]) # Creates a 2D array"
   ]
  },
  {
   "cell_type": "markdown",
   "id": "b6088921",
   "metadata": {},
   "source": [
    "Or use Python ranges:"
   ]
  },
  {
   "cell_type": "code",
   "execution_count": 6,
   "id": "eb78d911",
   "metadata": {
    "ExecuteTime": {
     "end_time": "2024-01-16T09:31:43.036971300Z",
     "start_time": "2024-01-16T09:31:42.973316500Z"
    }
   },
   "outputs": [
    {
     "data": {
      "text/plain": "array([0, 1, 2, 3, 4])"
     },
     "execution_count": 6,
     "metadata": {},
     "output_type": "execute_result"
    }
   ],
   "source": [
    "np.array(range(5))"
   ]
  },
  {
   "cell_type": "markdown",
   "id": "916cb7b5",
   "metadata": {},
   "source": [
    "Predict what the result will be before running the following code:"
   ]
  },
  {
   "cell_type": "code",
   "execution_count": 7,
   "id": "d87bb242",
   "metadata": {
    "ExecuteTime": {
     "end_time": "2024-01-16T09:31:43.040023700Z",
     "start_time": "2024-01-16T09:31:42.979385700Z"
    }
   },
   "outputs": [
    {
     "data": {
      "text/plain": "array([[0, 1, 2, 3, 4],\n       [1, 2, 3, 4, 5],\n       [2, 3, 4, 5, 6]])"
     },
     "execution_count": 7,
     "metadata": {},
     "output_type": "execute_result"
    }
   ],
   "source": [
    "np.array([range(5), range(1, 6), range(2, 7)])"
   ]
  },
  {
   "cell_type": "markdown",
   "id": "03a5fd86",
   "metadata": {},
   "source": [
    "## Slicing Arrays\n",
    "\n",
    "Often, you may want to select a section of an array for processing, or to examine the results. In a one-dimensional array this can be done similar to that of a list:"
   ]
  },
  {
   "cell_type": "code",
   "execution_count": 8,
   "id": "85136c0e",
   "metadata": {
    "ExecuteTime": {
     "end_time": "2024-01-16T09:31:43.040023700Z",
     "start_time": "2024-01-16T09:31:42.996628300Z"
    }
   },
   "outputs": [
    {
     "data": {
      "text/plain": "0"
     },
     "execution_count": 8,
     "metadata": {},
     "output_type": "execute_result"
    }
   ],
   "source": [
    "my_array = np.array(range(10))\n",
    "\n",
    "my_array[0] # The first element of the array"
   ]
  },
  {
   "cell_type": "markdown",
   "id": "3fbd54a2",
   "metadata": {},
   "source": [
    "Can you write some code to access the second to the fifth element of the array?"
   ]
  },
  {
   "cell_type": "code",
   "execution_count": 9,
   "id": "bb859c3c",
   "metadata": {
    "ExecuteTime": {
     "end_time": "2024-01-16T09:31:43.040023700Z",
     "start_time": "2024-01-16T09:31:43.019268300Z"
    }
   },
   "outputs": [],
   "source": [
    "# Your code here"
   ]
  },
  {
   "cell_type": "markdown",
   "id": "927d1b7c",
   "metadata": {},
   "source": [
    "In a multi-dimensional array, we can do something very similar, but need to specify the value for multiple dimensions:"
   ]
  },
  {
   "cell_type": "code",
   "execution_count": 10,
   "id": "c101ea32",
   "metadata": {
    "ExecuteTime": {
     "end_time": "2024-01-16T09:31:43.062243800Z",
     "start_time": "2024-01-16T09:31:43.029766600Z"
    }
   },
   "outputs": [
    {
     "data": {
      "text/plain": "5"
     },
     "execution_count": 10,
     "metadata": {},
     "output_type": "execute_result"
    }
   ],
   "source": [
    "my_multidimensional_array = np.array([range(10), range(10, 20)])\n",
    "my_multidimensional_array[0, 5] # gives me the sixth element of the first row"
   ]
  },
  {
   "cell_type": "markdown",
   "id": "88bb8a6a",
   "metadata": {},
   "source": [
    "try printing out the array above to manually verify that the slice is doing what you expect.\n",
    "\n",
    "Slicing more than one dimension can be a little harder to work out, but the format is:\n",
    "\n",
    "`array[row_index, column_index]`.\n",
    "\n",
    "This can be extended to select only ranges:\n",
    "\n",
    "`array[row_index_start:row_index_end, column_index_start:column_index_end]`\n",
    "\n",
    "Above, you wrote code to access the second to the fifth element of an array, using the new notation, can you rewrite this?"
   ]
  },
  {
   "cell_type": "code",
   "execution_count": 11,
   "id": "46e94651",
   "metadata": {
    "ExecuteTime": {
     "end_time": "2024-01-16T09:31:43.062243800Z",
     "start_time": "2024-01-16T09:31:43.048651Z"
    }
   },
   "outputs": [],
   "source": [
    "# Your code here"
   ]
  },
  {
   "cell_type": "markdown",
   "id": "715f1268",
   "metadata": {},
   "source": [
    "Can you do something similar for `my_multidimensional_array`, accessing the second to the fifth of both rows?"
   ]
  },
  {
   "cell_type": "code",
   "execution_count": 12,
   "id": "b53a1f9c",
   "metadata": {
    "ExecuteTime": {
     "end_time": "2024-01-16T09:31:43.139666200Z",
     "start_time": "2024-01-16T09:31:43.056255300Z"
    }
   },
   "outputs": [],
   "source": [
    "# Your code here"
   ]
  },
  {
   "cell_type": "markdown",
   "id": "0578f0ce",
   "metadata": {},
   "source": [
    "## Generating Random Numbers\n",
    "\n",
    "Juat like the random library, NumPy can generate psuedo random numbers (RNGs). Unlike the random library, NumPy can generate an array of these values with any shape. For instance, to generate pseudo-random numbers uniformly distributed between 0 and 1 in an array with 4 rows and 5 columns:"
   ]
  },
  {
   "cell_type": "code",
   "execution_count": 13,
   "id": "61e9c6a8",
   "metadata": {
    "ExecuteTime": {
     "end_time": "2024-01-16T09:31:43.139666200Z",
     "start_time": "2024-01-16T09:31:43.062243800Z"
    }
   },
   "outputs": [
    {
     "data": {
      "text/plain": "array([[0.24981651, 0.74252444, 0.92022188, 0.29470773, 0.7053    ],\n       [0.09514997, 0.58869984, 0.57344754, 0.10857898, 0.49173698],\n       [0.16331256, 0.47903183, 0.02663142, 0.81230587, 0.47626849],\n       [0.42138853, 0.64497593, 0.65040188, 0.39081021, 0.96521297]])"
     },
     "execution_count": 13,
     "metadata": {},
     "output_type": "execute_result"
    }
   ],
   "source": [
    "np.random.rand(4, 5)"
   ]
  },
  {
   "cell_type": "markdown",
   "id": "c2d2b2fc",
   "metadata": {},
   "source": [
    "NumPy also offers other [distributions](https://numpy.org/doc/stable/reference/random/generator.html#distributions), e.g., exponential, laplace etc.."
   ]
  },
  {
   "cell_type": "code",
   "execution_count": 14,
   "id": "bee91c9d",
   "metadata": {
    "ExecuteTime": {
     "end_time": "2024-01-16T09:31:43.139666200Z",
     "start_time": "2024-01-16T09:31:43.073407600Z"
    }
   },
   "outputs": [
    {
     "data": {
      "text/plain": "array([[0.44268865, 0.30300034, 1.33177815, 1.57214184, 0.14762468],\n       [0.28486319, 0.43095905, 0.0440426 , 1.22823918, 1.26418542],\n       [0.84645346, 3.04256211, 0.22721797, 0.92009703, 1.60302769],\n       [1.0175569 , 0.61837204, 1.63300043, 0.57710431, 2.39595737]])"
     },
     "execution_count": 14,
     "metadata": {},
     "output_type": "execute_result"
    }
   ],
   "source": [
    "np.random.exponential(1, (4, 5))"
   ]
  },
  {
   "cell_type": "markdown",
   "id": "a1d64757",
   "metadata": {},
   "source": [
    "## Broadcasting Arrays\n",
    "\n",
    "Element-wise numerical processing can be performed on NumPy arrays"
   ]
  },
  {
   "cell_type": "code",
   "execution_count": 15,
   "id": "b9d7c68b",
   "metadata": {
    "ExecuteTime": {
     "end_time": "2024-01-16T09:31:43.146674Z",
     "start_time": "2024-01-16T09:31:43.083332800Z"
    }
   },
   "outputs": [
    {
     "name": "stdout",
     "output_type": "stream",
     "text": [
      "[1 4 9]\n",
      "[2 4 6]\n",
      "[0 0 0]\n",
      "[1. 1. 1.]\n"
     ]
    }
   ],
   "source": [
    "# multiplication\n",
    "print(np.array([1, 2, 3]) * np.array([1, 2, 3])) # [1*1, 2*2, 3*3]\n",
    "\n",
    "# addition\n",
    "print(np.array([1, 2, 3]) + np.array([1, 2, 3])) # [1+1, 2+2, 3+3]\n",
    "\n",
    "# subtraction\n",
    "print(np.array([1, 2, 3]) - np.array([1, 2, 3])) # [1-1, 2-2, 3-3]\n",
    "\n",
    "# division\n",
    "print(np.array([1, 2, 3]) / np.array([1, 2, 3])) # [1/1, 2/2, 3/3]"
   ]
  },
  {
   "cell_type": "markdown",
   "id": "706eaed4",
   "metadata": {},
   "source": [
    "This is straightforward when arrays are the same shape, when they're not, NumPy does something clever known as broadcasting. For example, when adding a number to an array, behind the scenes the number is broadcasted to the same shape as the array, then added together. So, when we run:"
   ]
  },
  {
   "cell_type": "code",
   "execution_count": 16,
   "id": "246fdc08",
   "metadata": {
    "ExecuteTime": {
     "end_time": "2024-01-16T09:31:43.146684400Z",
     "start_time": "2024-01-16T09:31:43.093688600Z"
    }
   },
   "outputs": [
    {
     "data": {
      "text/plain": "array([ 2,  3,  4,  5,  6,  7,  8,  9, 10, 11])"
     },
     "execution_count": 16,
     "metadata": {},
     "output_type": "execute_result"
    }
   ],
   "source": [
    "my_array + 2"
   ]
  },
  {
   "cell_type": "markdown",
   "id": "90646171",
   "metadata": {},
   "source": [
    "What's actually happening is:"
   ]
  },
  {
   "cell_type": "code",
   "execution_count": 17,
   "id": "a6c5417e",
   "metadata": {
    "ExecuteTime": {
     "end_time": "2024-01-16T09:31:43.146684400Z",
     "start_time": "2024-01-16T09:31:43.106638800Z"
    }
   },
   "outputs": [
    {
     "name": "stdout",
     "output_type": "stream",
     "text": [
      "[2 2 2 2 2 2 2 2 2 2]\n"
     ]
    },
    {
     "data": {
      "text/plain": "array([ 2,  3,  4,  5,  6,  7,  8,  9, 10, 11])"
     },
     "execution_count": 17,
     "metadata": {},
     "output_type": "execute_result"
    }
   ],
   "source": [
    "broadcasted_2s = np.broadcast_to(2, my_array.shape)\n",
    "\n",
    "print(broadcasted_2s)\n",
    "\n",
    "my_array + broadcasted_2s"
   ]
  },
  {
   "cell_type": "markdown",
   "id": "147c11f7",
   "metadata": {},
   "source": [
    "This is incredibly useful, especially when dealing with multiple dimensions, but there are a few caveats, the array shapes must be compatible. A compatible shape is one that has the same dimension shape or is equal 1. For example, these array shapes are compatible:\n",
    "\n",
    "- (5, 4) & (4) \n",
    "- (5, 4) & (5, 1)\n",
    "- (5, 4) & (1)\n",
    "\n",
    "So, in example 1, 5x4 array could be multiplied by a 4 member array, because each row is multiplied individually by the array with 4 members.\n",
    "In example 2, each column is multiplied by the 5x1 array, and in the final example, the whole array is multiplied by a scalar value."
   ]
  },
  {
   "cell_type": "code",
   "execution_count": 18,
   "id": "baf7deaa",
   "metadata": {
    "ExecuteTime": {
     "end_time": "2024-01-16T09:32:15.289213500Z",
     "start_time": "2024-01-16T09:32:15.239447300Z"
    }
   },
   "outputs": [
    {
     "name": "stdout",
     "output_type": "stream",
     "text": [
      "The shape of my_multidimensional_array: (2, 10)\n",
      "Multiplying by an array of shape (10)\n",
      "[[  0   1   4   9  16  25  36  49  64  81]\n",
      " [  0  11  24  39  56  75  96 119 144 171]]\n",
      "Multiplying by an array of shape (2, 1)\n",
      "[[ 0  0  0  0  0  0  0  0  0  0]\n",
      " [10 11 12 13 14 15 16 17 18 19]]\n",
      "Multiplying by an array of shape (1)\n",
      "[[ 0  5 10 15 20 25 30 35 40 45]\n",
      " [50 55 60 65 70 75 80 85 90 95]]\n"
     ]
    }
   ],
   "source": [
    "print(f\"The shape of my_multidimensional_array: {my_multidimensional_array.shape}\")\n",
    "\n",
    "# compatible shapes are, (10), (2, 1), and (1)\n",
    "\n",
    "print(f\"Multiplying by an array of shape (10)\")\n",
    "print(my_multidimensional_array * np.array(range(10)))\n",
    "\n",
    "print(f\"Multiplying by an array of shape (2, 1)\")\n",
    "print(my_multidimensional_array * np.array(range(2)).reshape(2, 1))\n",
    "\n",
    "print(f\"Multiplying by an array of shape (1)\")\n",
    "print(my_multidimensional_array * 5)"
   ]
  },
  {
   "cell_type": "markdown",
   "id": "a74d4b7a",
   "metadata": {},
   "source": [
    "Create a new array with shape (8, 5) and add, subtract, divide, and multiply the array by relevant sized arrays. You may want to use `np.random` with your favourite distribution to do this!"
   ]
  },
  {
   "cell_type": "code",
   "execution_count": null,
   "id": "da1f8a39",
   "metadata": {},
   "outputs": [],
   "source": [
    "# Your code here"
   ]
  },
  {
   "cell_type": "markdown",
   "source": [
    "## Useful Mathematical Functions\n",
    "\n",
    "NumPy contains a number of useful mathematical functions including:\n",
    "\n",
    "- mean\n",
    "- median\n",
    "- min\n",
    "- max\n",
    "- sum\n",
    "- std dev\n",
    "- variance\n",
    "- percentiles\n",
    "\n",
    "all following the format:"
   ],
   "metadata": {
    "collapsed": false
   },
   "id": "a4fbe6d27ae92fbd"
  },
  {
   "cell_type": "code",
   "execution_count": 31,
   "outputs": [
    {
     "name": "stdout",
     "output_type": "stream",
     "text": [
      "Mean: 0.34421688368517994\n"
     ]
    }
   ],
   "source": [
    "random_array = np.random.rand(10)\n",
    "\n",
    "print(f\"Mean: {np.mean(random_array)}\")"
   ],
   "metadata": {
    "collapsed": false,
    "ExecuteTime": {
     "end_time": "2024-01-16T09:43:09.830853800Z",
     "start_time": "2024-01-16T09:43:09.714165200Z"
    }
   },
   "id": "cb25af3368e522a7"
  },
  {
   "cell_type": "markdown",
   "source": [
    "Create a function that summarises some data, include any metrics you may find useful, but include the range and the IQR."
   ],
   "metadata": {
    "collapsed": false
   },
   "id": "dae60bf0adb04d7f"
  },
  {
   "cell_type": "code",
   "execution_count": null,
   "outputs": [],
   "source": [
    "# Your code here"
   ],
   "metadata": {
    "collapsed": false
   },
   "id": "429c9ff8369aa280"
  },
  {
   "cell_type": "markdown",
   "source": [
    "## I/O\n",
    "\n",
    "I/O stands for Input/Output, which essentially is reading and writing to files. We don't tend to use NumPy for this, generally we'll use the Pandas library, but you don't learn that until day 3!\n",
    "\n",
    "One common format for data to be stored in is a \"csv\" format"
   ],
   "metadata": {
    "collapsed": false
   },
   "id": "5fb499ca26c20c49"
  },
  {
   "cell_type": "code",
   "execution_count": 43,
   "outputs": [],
   "source": [
    "np.savetxt(\"random_data.csv\", random_array, delimiter=\",\") # Creates a random array and saves it in a file called random_data.csv\n",
    "\n",
    "array_from_disk = np.genfromtxt(\"random_data.csv\", delimiter=\",\") # Reads in the csv file \"random_data.csv\""
   ],
   "metadata": {
    "collapsed": false,
    "ExecuteTime": {
     "end_time": "2024-01-16T10:19:48.438639600Z",
     "start_time": "2024-01-16T10:19:48.405118800Z"
    }
   },
   "id": "5136f8c92b811859"
  },
  {
   "cell_type": "markdown",
   "source": [
    "Verify that `random_array` and `array_from_disk` are indeed the same."
   ],
   "metadata": {
    "collapsed": false
   },
   "id": "3e3dd389f6d9b952"
  },
  {
   "cell_type": "code",
   "execution_count": null,
   "outputs": [],
   "source": [
    "# Your code here"
   ],
   "metadata": {
    "collapsed": false
   },
   "id": "bfdc2e59d2e82cee"
  },
  {
   "cell_type": "markdown",
   "source": [
    "## Memory Management\n",
    "\n",
    "It's more efficient to process NumPy arrays row by row rather than column by column, this is due to the way the arrays are stored in memory (RAM), if you're interested, please see [advanced numpy](Content/Advanced_NumPy.ipynb)."
   ],
   "metadata": {
    "collapsed": false
   },
   "id": "7d6782f14fc39642"
  },
  {
   "cell_type": "markdown",
   "id": "6a11ac81",
   "metadata": {},
   "source": [
    "## Task\n",
    "\n",
    "Consider the following scenario, patients have been enrolled on a weight-loss programme and their BMI is tracked each week. We have been tasked with providing information on the data.\n",
    "\n",
    "Each row represents a different patient, each column represents a different week."
   ]
  },
  {
   "cell_type": "code",
   "execution_count": 57,
   "id": "4d8ced43",
   "metadata": {
    "ExecuteTime": {
     "end_time": "2024-01-16T12:06:40.508460Z",
     "start_time": "2024-01-16T12:06:40.415290100Z"
    }
   },
   "outputs": [],
   "source": [
    "patient_data = np.array(\n",
    "    [\n",
    "        [26.2, 26.1, 25.8, 25.9, 25.7],\n",
    "        [30.3, 30.4, 30.1, 30.2, 30.1],\n",
    "        [27.1, 26.2, 25.6, 24.0, 23.4],\n",
    "        [25.1, 24.3, 24.3, 24.0, 24.1],\n",
    "        [29.4, 30.1, 29.5, 29.5, 29.5],\n",
    "    ]\n",
    ")"
   ]
  },
  {
   "cell_type": "markdown",
   "id": "93cee8ca",
   "metadata": {},
   "source": [
    "Use the function you wrote earlier as a starting point, can you generalise it to provide summary statistics for each patient?"
   ]
  },
  {
   "cell_type": "code",
   "execution_count": 77,
   "id": "f7142e33",
   "metadata": {},
   "outputs": [
    {
     "data": {
      "text/plain": [
       "array([-0.5, -0.2, -3.7, -1. ,  0.1])"
      ]
     },
     "execution_count": 77,
     "metadata": {},
     "output_type": "execute_result"
    }
   ],
   "source": [
    "# Your code here"
   ]
  },
  {
   "cell_type": "markdown",
   "id": "ea969495",
   "metadata": {},
   "source": [
    "What was the \n",
    "- largest change in BMI?\n",
    "- smallest change in BMI?\n",
    "- average change in BMI?\n",
    "\n",
    "HINT: Think carefully about these questions and whether the answers make sense"
   ]
  },
  {
   "cell_type": "code",
   "execution_count": 33,
   "id": "009ad705",
   "metadata": {
    "ExecuteTime": {
     "end_time": "2024-01-16T09:57:19.122767800Z",
     "start_time": "2024-01-16T09:57:19.112509800Z"
    }
   },
   "outputs": [],
   "source": [
    "# Your code here"
   ]
  }
 ],
 "metadata": {
  "kernelspec": {
   "display_name": "Python 3 (ipykernel)",
   "language": "python",
   "name": "python3"
  },
  "language_info": {
   "codemirror_mode": {
    "name": "ipython",
    "version": 3
   },
   "file_extension": ".py",
   "mimetype": "text/x-python",
   "name": "python",
   "nbconvert_exporter": "python",
   "pygments_lexer": "ipython3",
   "version": "3.11.5"
  }
 },
 "nbformat": 4,
 "nbformat_minor": 5
}
