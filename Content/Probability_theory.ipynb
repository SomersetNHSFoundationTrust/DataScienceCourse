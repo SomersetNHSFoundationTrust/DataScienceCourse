{
 "cells": [
  {
   "cell_type": "markdown",
   "metadata": {},
   "source": [
    "# Probability theory"
   ]
  },
  {
   "cell_type": "markdown",
   "metadata": {},
   "source": [
    "<b>Probability is how strongly we believe an event will happen (usually expressed as a percentage)</b>"
   ]
  },
  {
   "cell_type": "markdown",
   "metadata": {},
   "source": [
    "For example:\n",
    "* What is the probability patient X arriving to A&E will require a bed?\n",
    "* Will patient Y cancel their appointment?\n",
    "* What is the likelihood patient Z has O negative blood type?"
   ]
  },
  {
   "cell_type": "markdown",
   "metadata": {},
   "source": [
    "<div class=\"alert alert-block alert-warning\">\n",
    "<b>Probability theory is a difficult and unintuitive area of statistics!</b>\n",
    "</div>"
   ]
  },
  {
   "cell_type": "markdown",
   "metadata": {},
   "source": [
    "## What is the probabilty of someone having a certain blood type?"
   ]
  },
  {
   "cell_type": "code",
   "execution_count": 1,
   "metadata": {},
   "outputs": [],
   "source": [
    "# Reference: https://www.blood.co.uk/why-give-blood/blood-types/\n",
    "blood_type_data = {\n",
    "  \"Blood Type\": ['O positive', 'O negative', 'A positive', 'A negative', 'B positive',\n",
    "                 'B negative', 'AB positive', 'AB negative'],\n",
    "  \"Prevailance\": [0.35, 0.13, 0.3, 0.08, 0.08, 0.02, 0.02, 0.01]\n",
    "}"
   ]
  },
  {
   "cell_type": "markdown",
   "metadata": {},
   "source": [
    "Using our above definition and assuming the population of Somerset has the same proportions. Lets consider the following event:\n",
    "* Randomly selecting someone in Somerset and finding they are O positive\n",
    "\n",
    "Mathematically, this is written as:\n",
    "<br>\n",
    "$P(X) = 0.35$, where X is the event of interest (person selected being O positive)."
   ]
  },
  {
   "cell_type": "markdown",
   "metadata": {},
   "source": [
    "There are a number of rules of probability. We'll cover some of these rules and see how they can be applied in the context of selecting patients from Somerset and observing their blood type."
   ]
  },
  {
   "cell_type": "markdown",
   "metadata": {},
   "source": [
    "<div class=\"alert alert-block alert-info\">\n",
    "* <b>Rule 1</b> * The probability of an event must strictly be between 0 and 1.\n",
    "\n",
    "- 0 = Impossible event\n",
    "- 1 = Certain event\n",
    "</div>"
   ]
  },
  {
   "cell_type": "markdown",
   "metadata": {},
   "source": [
    "$P(X) = 0.35$ is in agreement with Rule 1.\n",
    "\n",
    "Note that $P(X) = -0.35$ or $P(X) = 1.35$ are not valid probabilities!"
   ]
  },
  {
   "cell_type": "markdown",
   "metadata": {},
   "source": [
    "What is the probability of selecting someone at random and them * ***not*** * being O positive?"
   ]
  },
  {
   "cell_type": "markdown",
   "metadata": {},
   "source": [
    "<div class=\"alert alert-block alert-info\">\n",
    "* <b>Rule 2 (Complement rule)</b> * The probability of an event NOT happening is 1 minus the probability of the event happening.\n",
    "</div>"
   ]
  },
  {
   "cell_type": "markdown",
   "metadata": {},
   "source": [
    "By applying rule 2, we see that $P(not X) = 1 - 0.35 = 0.65$ (65%)"
   ]
  },
  {
   "cell_type": "markdown",
   "metadata": {},
   "source": [
    "Next, we randomly select two individuals from Somerset.\n",
    "\n",
    "<b>What is the probability they are * ***both*** * O positive?</b>"
   ]
  },
  {
   "cell_type": "markdown",
   "metadata": {},
   "source": [
    "<div class=\"alert alert-block alert-info\">\n",
    "* <b>Rule 3 (Product rule)</b> * Multiply probabilities to get overall probability of a sequence of *INDIPENDANT EVENTS* (i.e., the outcome of one event does not affect the other).\n",
    "</div>"
   ]
  },
  {
   "cell_type": "markdown",
   "metadata": {},
   "source": [
    "Note that this is equivilant to the intercept in set theory (or the AND operator)."
   ]
  },
  {
   "cell_type": "markdown",
   "metadata": {},
   "source": [
    "Let's consider the event Y \"Randomly picking two individuals from Somerset and them both being O positive\"\n",
    "\n",
    "By applying rule 3,  P(Y) = $0.35\\times0.35 = 0.12$"
   ]
  },
  {
   "cell_type": "markdown",
   "metadata": {},
   "source": [
    "<b>What is the probability that at least 1 of them are O positive?</b>"
   ]
  },
  {
   "cell_type": "markdown",
   "metadata": {},
   "source": [
    "<div class=\"alert alert-block alert-info\">\n",
    "* <b>Rule 4 (Union probabilities)</b> * Sum probabilities to get overall probability of a sequence of *MUTUALLY EXCLUSIVE EVENTS* (i.e., the events can't occur at the same time).\n",
    "</div>"
   ]
  },
  {
   "cell_type": "markdown",
   "metadata": {},
   "source": [
    "Note that this is equivilent to the union in set theory (or the OR operator)."
   ]
  },
  {
   "cell_type": "markdown",
   "metadata": {},
   "source": [
    "Let's consider the event Z \"Randomly picking two individuals from Somerset and finding that either of them are O positive\""
   ]
  },
  {
   "cell_type": "markdown",
   "metadata": {},
   "source": [
    "By Rule 4 (or considering the probability tree) we can see $P(Z) = 0.12 + 0.23 + 0.23 = 0.58$. <br>\n",
    "(Note, we could have equally used Rule 2 i.e., $P(Z) = 1 - 0.42 = 0.58$)"
   ]
  },
  {
   "cell_type": "markdown",
   "metadata": {},
   "source": [
    "Let's see if we can verify rules 3 & 4 by using simulation in python!\n",
    "<br>\n",
    "To do this, we will make use of the ```random``` library (read up on the documentation here: https://docs.python.org/3/library/random.html)"
   ]
  },
  {
   "cell_type": "code",
   "execution_count": 2,
   "metadata": {},
   "outputs": [],
   "source": [
    "import random\n",
    "#We will write a function for randomly selecting patients (who has a 35% chance of being O positive).\n",
    "\n",
    "def select_patients(n):\n",
    "    outcome = [] #Initialise empty list to store patient blood type\n",
    "    for x in range(n):\n",
    "        blood_type = random.randint(1, 100) # Randomly pick a number between 1 and 100\n",
    "        if blood_type <= 35: # Therefore 35% of the time, patient will be O positive\n",
    "            outcome.append('O positive')\n",
    "        else: # The other 65% of the time, patient will have differnce blood type\n",
    "            outcome.append('NOT O positive')\n",
    "    return outcome"
   ]
  },
  {
   "cell_type": "code",
   "execution_count": 3,
   "metadata": {},
   "outputs": [
    {
     "data": {
      "text/plain": [
       "['NOT O positive', 'O positive']"
      ]
     },
     "execution_count": 3,
     "metadata": {},
     "output_type": "execute_result"
    }
   ],
   "source": [
    "# Let's run this function and randomly select 2 patients:\n",
    "select_patients(2)"
   ]
  },
  {
   "cell_type": "markdown",
   "metadata": {},
   "source": [
    "### Task (20 minutes)"
   ]
  },
  {
   "cell_type": "markdown",
   "metadata": {},
   "source": [
    "<b>1. Verifying Rule 3</b>\n",
    "\n",
    "Using the ```select_patients``` function, can you write some code that approximates the proportion of time two members are selected where we get BOTH being O positive? Is this in agreement with Rule 3 and the above probability tree diagram?\n",
    "\n",
    "HINT: Try writing a for loop and keep a count of the number of times we get ```['O positive', 'O positive']```.\n",
    "\n",
    "<b>2. Verifying Rule 4 (if you have time)</b>\n",
    "\n",
    "Modify your code from the previous task to answer the above question through simulation. In this case, we are interested in the outcomes ```['O positive', 'O positive'], ['NOT O positive', 'O positive'], ['O positive', 'NOT O positive']```\n",
    "\n",
    "HINT: Try writing a for loop and keep a count of the number of times we get ```['NOT O positive', 'NOT O positive']```"
   ]
  },
  {
   "cell_type": "code",
   "execution_count": 4,
   "metadata": {},
   "outputs": [],
   "source": [
    "#Put your code here"
   ]
  },
  {
   "cell_type": "code",
   "execution_count": 5,
   "metadata": {},
   "outputs": [
    {
     "name": "stdout",
     "output_type": "stream",
     "text": [
      "0.1216\n"
     ]
    }
   ],
   "source": [
    "## ANSWER\n",
    "runs = 5000\n",
    "counter_blood_types = 0\n",
    "for x in range(runs):\n",
    "    outcome = select_patients(2)\n",
    "    if outcome == ['O positive', 'O positive']:\n",
    "        counter_blood_types += 1\n",
    "print(counter_blood_types/runs)"
   ]
  },
  {
   "cell_type": "code",
   "execution_count": 6,
   "metadata": {},
   "outputs": [
    {
     "name": "stdout",
     "output_type": "stream",
     "text": [
      "0.5763\n"
     ]
    }
   ],
   "source": [
    "## ANSWER\n",
    "runs = 10000\n",
    "counter_blood_types = 0\n",
    "for x in range(runs):\n",
    "    outcome = select_patients(2)\n",
    "    if outcome == ['NOT O positive', 'NOT O positive']:\n",
    "        counter_blood_types += 1\n",
    "print(1 - (counter_blood_types/runs) )"
   ]
  },
  {
   "cell_type": "markdown",
   "metadata": {},
   "source": [
    "### Conditional probability and Bayes' Theorom"
   ]
  },
  {
   "cell_type": "markdown",
   "metadata": {},
   "source": [
    "Conditional probability is defined as the likelihood of an event or outcome occurring, based on the occurrence of a previous event or outcome. For example, the probability a patient has a particular disease given the presense of specific set of symptoms or by a result of a diagnostic test."
   ]
  },
  {
   "cell_type": "markdown",
   "metadata": {},
   "source": [
    "<div class=\"alert alert-block alert-info\">\n",
    "Bayes' Theorem is given by the following mathematical formulae:\n",
    "\n",
    "### $P(A|B)=\\frac{P(B|A)P(A)}{P(B)}$\n",
    "where:<br>\n",
    "* $P(A|B)$ = Probability of event A happening *given* B has happened.<br>\n",
    "* $P(B|A)$ = Probability of event B happening *given* A has happened.<br>\n",
    "* $P(A)$ = Probability of event A happening.<br>\n",
    "* $P(B)$ = Probability of event B happening.<br>\n",
    "<div/>"
   ]
  },
  {
   "cell_type": "markdown",
   "metadata": {},
   "source": [
    "Lets use a very simple example of a fire alarm going off while working.\n",
    "\n",
    "A fire alarm is defined as \"a device making a loud noise that gives warning of a fire.\", but how often have you heard an alarm and not left the building? This is due to prior experience! Let's use Bayes' Thorom to demonstrate this."
   ]
  },
  {
   "cell_type": "markdown",
   "metadata": {},
   "source": [
    "* prob_fire = 0.0001 #Very unlikely for there to be an actual fire (but this is a made up figure)\n",
    "* prob_alarm = 0.01 # Whats the probability of the alarm going off?\n",
    "* prob_alarm_given_fire = 0.95 # Should be very good at detecting fires\n",
    "* prob_fire_given_alarm = ?"
   ]
  },
  {
   "cell_type": "code",
   "execution_count": 7,
   "metadata": {},
   "outputs": [
    {
     "name": "stdout",
     "output_type": "stream",
     "text": [
      "0.0095\n"
     ]
    }
   ],
   "source": [
    "# We can plug these numbers into Bayes' Therom:\n",
    "\n",
    "prob_fire_given_alarm = (0.95*0.0001)/0.01\n",
    "print(prob_fire_given_alarm)"
   ]
  },
  {
   "cell_type": "markdown",
   "metadata": {},
   "source": [
    "So even though the alarm is very good at detecting fires, there's actually a low probability of there actually being a fire, since they occur so rarely!"
   ]
  }
 ],
 "metadata": {
  "kernelspec": {
   "display_name": "Python 3 (ipykernel)",
   "language": "python",
   "name": "python3"
  },
  "language_info": {
   "codemirror_mode": {
    "name": "ipython",
    "version": 3
   },
   "file_extension": ".py",
   "mimetype": "text/x-python",
   "name": "python",
   "nbconvert_exporter": "python",
   "pygments_lexer": "ipython3",
   "version": "3.10.8"
  }
 },
 "nbformat": 4,
 "nbformat_minor": 1
}
