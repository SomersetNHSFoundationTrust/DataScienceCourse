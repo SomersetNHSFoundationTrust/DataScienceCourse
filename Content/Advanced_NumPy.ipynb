{
 "cells": [
  {
   "cell_type": "markdown",
   "source": [
    "## Memory Management\n",
    "\n",
    "CAUTION: This section is not for the faint of heart, it's not required for the course, but provides information toward optimising code, FEEL FREE TO SKIP IT\n",
    "\n",
    "NumPy arrays are generally contiguous, meaning they are stored in memory in a single block, e.g., the array:"
   ],
   "metadata": {
    "collapsed": false
   },
   "id": "e0bd6e6fe1f7a243"
  },
  {
   "cell_type": "code",
   "execution_count": 2,
   "outputs": [
    {
     "data": {
      "text/plain": "array([[0.02341688, 0.71647735, 0.79925591],\n       [0.62802362, 0.86511259, 0.28272151],\n       [0.62962487, 0.18796037, 0.39864759]])"
     },
     "execution_count": 2,
     "metadata": {},
     "output_type": "execute_result"
    }
   ],
   "source": [
    "import numpy as np\n",
    "\n",
    "test_array = np.random.rand(3, 3)\n",
    "\n",
    "test_array"
   ],
   "metadata": {
    "collapsed": false,
    "ExecuteTime": {
     "end_time": "2024-01-16T11:57:07.562555Z",
     "start_time": "2024-01-16T11:57:07.069819Z"
    }
   },
   "id": "d44337ab95cbb1ff"
  },
  {
   "cell_type": "markdown",
   "source": [
    "Is stored in 9 blocks of memory that are next to each other, the dtype of the array is `np.float64`, this means that each element uses 64 bits or 8 bytes of memory (1 byte = 8 bits):"
   ],
   "metadata": {
    "collapsed": false
   },
   "id": "aae98f084020ee1b"
  },
  {
   "cell_type": "code",
   "execution_count": 4,
   "outputs": [
    {
     "name": "stdout",
     "output_type": "stream",
     "text": [
      "Data type of array: float64\n",
      "Each element of the array uses 8 bytes\n"
     ]
    }
   ],
   "source": [
    "print(f\"Data type of array: {test_array.dtype}\")\n",
    "print(f\"Each element of the array uses {test_array.itemsize} bytes\")"
   ],
   "metadata": {
    "collapsed": false,
    "ExecuteTime": {
     "end_time": "2024-01-16T11:57:27.025517300Z",
     "start_time": "2024-01-16T11:57:27.008185Z"
    }
   },
   "id": "a76ac0b56b719793"
  },
  {
   "cell_type": "markdown",
   "source": [
    "So to perform any task to the NumPy array, behind the scenes the \"strides\" are being used:"
   ],
   "metadata": {
    "collapsed": false
   },
   "id": "2e9b51ec6a991678"
  },
  {
   "cell_type": "code",
   "execution_count": 6,
   "outputs": [
    {
     "data": {
      "text/plain": "(24, 8)"
     },
     "execution_count": 6,
     "metadata": {},
     "output_type": "execute_result"
    }
   ],
   "source": [
    "test_array.strides"
   ],
   "metadata": {
    "collapsed": false,
    "ExecuteTime": {
     "end_time": "2024-01-16T11:57:45.885838100Z",
     "start_time": "2024-01-16T11:57:45.802556600Z"
    }
   },
   "id": "9456aa262f508b81"
  },
  {
   "cell_type": "markdown",
   "source": [
    "The latter number shows the step size for each element, the former shows the step size for each row, i.e., Our 3x3 array, is stored in memory as a 1x9 array, each element uses 8 bytes, when we move 3 elements across the data represents a new row (3x8 = 24 bytes).\n",
    "\n",
    "We can alter the strides to do all sorts of magic, but we can also break things pretty terribly. The main takeaway from this exercise is that it's more efficient to process things row by row, rather than column by column.\n",
    "\n",
    "This is known as C-type contiguous arrays (taken from the C programming language)."
   ],
   "metadata": {
    "collapsed": false
   },
   "id": "b953f317252b3962"
  }
 ],
 "metadata": {
  "kernelspec": {
   "display_name": "Python 3",
   "language": "python",
   "name": "python3"
  },
  "language_info": {
   "codemirror_mode": {
    "name": "ipython",
    "version": 2
   },
   "file_extension": ".py",
   "mimetype": "text/x-python",
   "name": "python",
   "nbconvert_exporter": "python",
   "pygments_lexer": "ipython2",
   "version": "2.7.6"
  }
 },
 "nbformat": 4,
 "nbformat_minor": 5
}
