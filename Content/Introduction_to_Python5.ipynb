{
 "cells": [
  {
   "cell_type": "markdown",
   "source": [
    "# Importing Libraries\n",
    "\n",
    "One of the biggest advantages of using Python is the access to a multitude of pre-written code known as libraries. Utilising these in code can simply be done by `import`ing them: "
   ],
   "metadata": {
    "collapsed": false
   },
   "id": "70da539fd351df88"
  },
  {
   "cell_type": "code",
   "execution_count": null,
   "outputs": [],
   "source": [
    "import datetime"
   ],
   "metadata": {
    "collapsed": false
   },
   "id": "d98fa341f19547d1"
  },
  {
   "cell_type": "markdown",
   "source": [
    "We now have access to anything in the [datetime library](https://docs.python.org/3/library/datetime.html), clicking the link will take you to the library documentation. The documentation is a great place to start when using a new library as it often includes example usage. \n",
    "\n",
    "## TASK\n",
    "\n",
    "Read about the `date` object in the documentation.\n",
    "\n",
    "Let's create a range of dates:"
   ],
   "metadata": {
    "collapsed": false
   },
   "id": "943770af05b34af"
  },
  {
   "cell_type": "code",
   "execution_count": null,
   "outputs": [],
   "source": [
    "start_date = datetime.date(2023, 10, 1) # 1/10/2023\n",
    "end_date = datetime.date(2023, 10, 31) # 31/10/2023\n",
    "\n",
    "num_days = end_date - start_date\n",
    "\n",
    "# Creates a list containing days of the month for Oct 2023\n",
    "oct_2023 = [start_date + datetime.timedelta(days) for days in range(num_days.days + 1)]\n",
    "oct_2023"
   ],
   "metadata": {
    "collapsed": false
   },
   "id": "281cc7f670350361"
  },
  {
   "cell_type": "markdown",
   "source": [
    "To try to understand what's going on above, can you answer these questions?\n",
    "\n",
    "- What type of object is num_days?\n",
    "- num_days has the attribute `days`, what type of object is this?\n",
    "- Why is the `+ 1` needed at the end of the `range`?\n",
    "\n",
    "Once your comfortable with the code above, let's use this to try and build some fake data. To do this, we need to import another library, the `random` library."
   ],
   "metadata": {
    "collapsed": false
   },
   "id": "9213cb974245c71c"
  },
  {
   "cell_type": "code",
   "execution_count": null,
   "outputs": [],
   "source": [
    "from random import gauss\n",
    "\n",
    "data = [gauss(10, 5) for _ in range(len(oct_2023))] # We use _ for variables we don't need to use, \"throwaway\" variables\n",
    "data"
   ],
   "metadata": {
    "collapsed": false
   },
   "id": "87b9d4980ca854fc"
  },
  {
   "cell_type": "markdown",
   "source": [
    "Here we've only imported the method `gauss` from the library, so we don't have access to the rest of the random library, but we can call `gauss` directly. `gauss` selects a random number from a gaussian distribution, here we set the mean to 10 and the standard deviation to 20.\n",
    "\n",
    "Examine your data, calculate any summary statistics you want to including:\n",
    "- range\n",
    "- mean\n",
    "- minimum value\n",
    "- maximum value"
   ],
   "metadata": {
    "collapsed": false
   },
   "id": "ca8debae96e663a8"
  },
  {
   "cell_type": "code",
   "execution_count": null,
   "outputs": [],
   "source": [
    "# Your code here"
   ],
   "metadata": {
    "collapsed": false
   },
   "id": "5c0e788188d15992"
  },
  {
   "cell_type": "markdown",
   "source": [
    "We can `zip` the data together:"
   ],
   "metadata": {
    "collapsed": false
   },
   "id": "7fd2c2b0365249b3"
  },
  {
   "cell_type": "code",
   "execution_count": null,
   "outputs": [],
   "source": [
    "data_table = [*zip(oct_2023, data)]\n",
    "data_table"
   ],
   "metadata": {
    "collapsed": false
   },
   "id": "6ae0618a024b9a77"
  },
  {
   "cell_type": "markdown",
   "source": [
    "With a bit of formatting, this could then be exported as a csv file, but we'll do some analysis directly on this data. We can group the data by the week number by utilising another library:"
   ],
   "metadata": {
    "collapsed": false
   },
   "id": "c99395d6d63b832f"
  },
  {
   "cell_type": "code",
   "execution_count": null,
   "outputs": [],
   "source": [
    "from itertools import groupby\n",
    "\n",
    "def group_key(row):\n",
    "    date = row[0]\n",
    "    _, week_num, _ = date.isocalendar()\n",
    "    return week_num\n",
    "\n",
    "weekly_data = {}\n",
    "for week_num, group in groupby(data_table, key = group_key):\n",
    "    # the grouped data is still in the format (date, data) we only need the data now:\n",
    "    grouped_data = [row[1] for row in group]\n",
    "    summed_data = sum(grouped_data)\n",
    "\n",
    "    weekly_data[week_num] = summed_data\n",
    "weekly_data"
   ],
   "metadata": {
    "collapsed": false
   },
   "id": "b59311ef18e64e07"
  },
  {
   "cell_type": "markdown",
   "source": [
    "In reality, you'll often see the code above written in the format below, it does the same thing as above, but is a lot more compact. When faced with something like this, try and break it down into its component pieces."
   ],
   "metadata": {
    "collapsed": false
   },
   "id": "1220c21e4872cb4f"
  },
  {
   "cell_type": "code",
   "execution_count": null,
   "outputs": [],
   "source": [
    "{week_num: sum([*zip(*group)][1]) for week_num, group in groupby(data_table, key = lambda row: row[0].isocalendar()[1])}"
   ],
   "metadata": {
    "collapsed": false
   },
   "id": "bea479c974c02eac"
  },
  {
   "cell_type": "markdown",
   "source": [
    "`{key: val for key, val in iterable}` is a dictionary comprehension, which should be a familiar format now.\n",
    "\n",
    "`iterable` here is `groupby(data_table, key = lambda row: row[0].isocalendar()[1])`, where the `key` is the method we're using the group the data by, in the explicit box we defined a function, here we're using a lambda function, which are designed to be simple inline functions and take the format `lambda input: output`.\n",
    "\n",
    "`val` here introduces unpacking `zip(*group)` unpacks the group and zips together the result, so instead of seeing \n",
    "\n",
    "`zip([(date, datum), (date, datum) etc...])`\n",
    "\n",
    "it removes the list, so each element is passed to `zip`, e.g., \n",
    "\n",
    "`zip((date, datum), (date, datum), etc...)`.\n",
    "\n",
    "The `zip` object is then unpacked into a list (`[*zip([...])]`), which would give `[(date, date, date), (datum, datum, datum)]`, we're then selecting the 1st element from that list (the data) and summing it. \n",
    "\n",
    "As is evident from this, it's easy to push a lot of processing into a single line in Python. It really highlights the importance of having sensible comments, variable and function names!"
   ],
   "metadata": {
    "collapsed": false
   },
   "id": "fca1679feeffcf53"
  },
  {
   "cell_type": "markdown",
   "source": [
    "## TASK\n",
    "\n",
    "You have been provided with a hypothetical model that takes into account the type of medical procedure and a duration and returns a forecasted wait list.\n",
    "\n",
    "You need to provide the model with all the combinations of the medical tests and the durations, create a list of tuples with the combinations, e.g., it should produce `[(\"Blood test\", 10), (\"Blood test\", 20), (\"Blood test\", 30), (\"X-ray\", 10) etc...]`"
   ],
   "metadata": {
    "collapsed": false
   },
   "id": "cb5a0ba338f94fc7"
  },
  {
   "cell_type": "code",
   "execution_count": null,
   "outputs": [],
   "source": [
    "medical_tests = [\"Blood test\", \"X-ray\", \"MRI\"]\n",
    "durations = [10, 20, 30]"
   ],
   "metadata": {
    "collapsed": false
   },
   "id": "f9fcc7cdf1f9c79d"
  },
  {
   "cell_type": "code",
   "execution_count": null,
   "outputs": [],
   "source": [
    "# Your code here"
   ],
   "metadata": {
    "collapsed": false
   },
   "id": "a6347090d626eecc"
  },
  {
   "cell_type": "markdown",
   "source": [
    "Once you've done that in native Python, take a look at the documentation for [itertools.product](https://docs.python.org/3/library/itertools.html#itertools.product), can you repeat the task above in a single line of code?"
   ],
   "metadata": {
    "collapsed": false
   },
   "id": "a9c4ed31fc7a0824"
  },
  {
   "cell_type": "code",
   "execution_count": null,
   "outputs": [],
   "source": [
    "# Your code here"
   ],
   "metadata": {
    "collapsed": false
   },
   "id": "bd4d7ec01a442fb8"
  }
 ],
 "metadata": {
  "kernelspec": {
   "display_name": "Python 3",
   "language": "python",
   "name": "python3"
  },
  "language_info": {
   "codemirror_mode": {
    "name": "ipython",
    "version": 2
   },
   "file_extension": ".py",
   "mimetype": "text/x-python",
   "name": "python",
   "nbconvert_exporter": "python",
   "pygments_lexer": "ipython2",
   "version": "2.7.6"
  }
 },
 "nbformat": 4,
 "nbformat_minor": 5
}
