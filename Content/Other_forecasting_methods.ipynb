{
 "cells": [
  {
   "cell_type": "markdown",
   "id": "b3c5791c-87a0-4d0c-99e5-de48bfd4de81",
   "metadata": {},
   "source": [
    "# Advanced Forecasting with Nixtla: Hierarchical Forecasts\n",
    "\n",
    "Welcome to this tutorial on advanced forecasting techniques using Nixtla's tools. Nixtla provides state-of-the-art libraries for time series forecasting, including neural network-based models and hierarchical forecasting methods.\n",
    "\n",
    "In this notebook, we will cover:\n",
    "- Understand cross‑sectional hierarchical structures and coherent forecasts.\n",
    "- Train base (unreconciled) forecasts with StatsForecast (AutoARIMA + Naive).\n",
    "- Reconcile forecasts using BottomUp, TopDown, and MiddleOut.\n",
    "- Evaluate performance by hierarchy level and compare against a benchmark.\n",
    "- (Advanced) Explore MinTrace / ERM.\n",
    "\n",
    "By the end of this tutorial, you will understand these concepts and implement them using Python.\n",
    "\n",
    "Hierarchical forecasting deals with time series that are organized in a hierarchy (e.g., country → region → store). It ensures coherence between aggregated and disaggregated forecasts."
   ]
  },
  {
   "cell_type": "code",
   "execution_count": null,
   "id": "2ef4c99b-fd53-484a-901c-f2ae612b3597",
   "metadata": {},
   "outputs": [],
   "source": [
    "import pandas as pd\n",
    "import numpy as np\n",
    "\n",
    "# Data\n",
    "from datasetsforecast.hierarchical import HierarchicalData\n",
    "\n",
    "# Base forecasts (unreconciled)\n",
    "from statsforecast.core import StatsForecast\n",
    "from statsforecast.models import AutoETS, AutoARIMA, Naive\n",
    "\n",
    "# Reconciliation & evaluation\n",
    "from hierarchicalforecast.core import HierarchicalReconciliation\n",
    "from hierarchicalforecast.methods import BottomUp, TopDown, MiddleOut, ERM, MinTrace\n",
    "from hierarchicalforecast.evaluation import evaluate\n",
    "\n",
    "# Metric(s)\n",
    "from utilsforecast.losses import mape, mse"
   ]
  },
  {
   "cell_type": "markdown",
   "id": "b0cf9dfe-0dd8-4485-aa38-122a361a2665",
   "metadata": {},
   "source": [
    "Using an example adapted from https://nixtlaverse.nixtla.io/hierarchicalforecast/index.html.\n",
    "\n",
    "Load the following data:\n",
    "- Y_df — long-format series (unique_id, ds, y)\n",
    "- S_df — summing/aggregation matrix encoding the hierarchy\n",
    "- tags — level name → list of unique_ids for that level"
   ]
  },
  {
   "cell_type": "code",
   "execution_count": null,
   "id": "4c0d17a2-97ee-4287-a711-3b1cce816756",
   "metadata": {},
   "outputs": [],
   "source": [
    "Y_df, S_df, tags = HierarchicalData.load('./data', 'TourismSmall')\n",
    "Y_df['ds'] = pd.to_datetime(Y_df['ds'])\n",
    "S_df = S_df.reset_index(names=\"unique_id\")"
   ]
  },
  {
   "cell_type": "markdown",
   "id": "74c1c366-e5b3-42cf-86f9-b59befd7bd5f",
   "metadata": {},
   "source": [
    "Examine each in turn, first is the `Y_df`, this contains 3 columns: the date, the values, and the label."
   ]
  },
  {
   "cell_type": "code",
   "execution_count": null,
   "id": "bd718ac3-02fd-45ec-9fec-0b653b2f7499",
   "metadata": {},
   "outputs": [],
   "source": [
    "Y_df"
   ]
  },
  {
   "cell_type": "markdown",
   "id": "60ed05b3-3fe9-4146-a169-02aeeeadaf41",
   "metadata": {},
   "source": [
    "The tags show the level of the tags: Country -> Country/Purpose -> Country/Purpose/State -> Country/Purpose/State/CityNonCity. Each tag contains the list of labels the pertains to that level."
   ]
  },
  {
   "cell_type": "code",
   "execution_count": null,
   "id": "f8ea61ce-428a-499e-b01d-2135ad070523",
   "metadata": {},
   "outputs": [],
   "source": [
    "tags"
   ]
  },
  {
   "cell_type": "markdown",
   "id": "2ca05a6b-9937-4c2a-a165-ff18ef06a084",
   "metadata": {},
   "source": [
    "`S_df` contains the summing matrix, each label shown in the tags are contained here and how they relate to one another."
   ]
  },
  {
   "cell_type": "code",
   "execution_count": null,
   "id": "c7f8ae7c-916c-42ba-b126-0627f34d66f4",
   "metadata": {},
   "outputs": [],
   "source": [
    "S_df"
   ]
  },
  {
   "cell_type": "markdown",
   "id": "97a69abe-2081-4ddb-b9f4-df9646faf699",
   "metadata": {},
   "source": [
    "With these bits of information a hierarchical forecast can be calculated.\n",
    "Let's forecast the next 4 quarters of the data:"
   ]
  },
  {
   "cell_type": "code",
   "execution_count": null,
   "id": "16bbe5a6-3a62-4a06-b9b3-dd0b88230e61",
   "metadata": {},
   "outputs": [],
   "source": [
    "Y_test_df  = Y_df.groupby('unique_id').tail(4)\n",
    "Y_train_df = Y_df.drop(Y_test_df.index)"
   ]
  },
  {
   "cell_type": "markdown",
   "id": "20ed5b45-be5a-4ec2-8f73-ac4a3ce7c194",
   "metadata": {},
   "source": [
    "We can fit any forecast models to the data, but since we've looked at ETS and baseline models previously, let's start with those:"
   ]
  },
  {
   "cell_type": "code",
   "execution_count": null,
   "id": "456b84ad-f5fc-4eae-b6bf-4a1b58643065",
   "metadata": {},
   "outputs": [],
   "source": [
    "fcst = StatsForecast(\n",
    "    models=[AutoETS(season_length=4), Naive()],\n",
    "    freq='QE',\n",
    "    n_jobs=-1\n",
    ")\n",
    "Y_hat_df = fcst.forecast(df=Y_train_df, h=4)\n",
    "Y_hat_df"
   ]
  },
  {
   "cell_type": "code",
   "execution_count": null,
   "id": "a755b0d9-03e4-4058-b143-d51bbce8d13d",
   "metadata": {},
   "outputs": [],
   "source": [
    "fcst.plot(Y_df,Y_hat_df)"
   ]
  },
  {
   "cell_type": "markdown",
   "id": "b584b7f7-5ac0-48dd-b158-549a1a0da6b6",
   "metadata": {},
   "source": [
    "Now we can reconcile the forecast, what this essentially means is altering the forecasts so that the total makes sense. There are a few methods to do this:\n",
    "- Bottom Up: Takes the lowest level forecasts and aggregates them, adjusting the top levels as it goes. Use this reconciler if the bottom level data is rich and accurate.\n",
    "- Top Down: Does the opposite, uses the top level forecast, then splits down using historical proportions. Use this when the bottom level data is sparse.\n",
    "- Middle Out: Pick a level to start at, use this to move up the hierarchy in a bottom-up approach, and go down the hierarchy with a top-down approach. Use this when the best data is at one of the middle layers.\n",
    "\n",
    "Each of these will make the forecast coherent (i.e., all predictions across all levels of a hierarchy satisfy the aggregation constraints, so that the sum of lower-level forecasts exactly equals the forecast at each higher level)."
   ]
  },
  {
   "cell_type": "markdown",
   "id": "5c33b672-c5fb-45d4-9aee-a934c157a54a",
   "metadata": {},
   "source": [
    "Now we can evaluate the forecasts:"
   ]
  },
  {
   "cell_type": "code",
   "execution_count": null,
   "id": "93d6d0f0-bb5d-4b1b-acec-46c750ef37f2",
   "metadata": {},
   "outputs": [],
   "source": [
    "df = Y_hat_df.merge(Y_test_df, on=['unique_id','ds'], how='left')\n",
    "results = evaluate(df=df, metrics=[mape], tags=tags)\n",
    "results.sort_values(['metric', 'level'])"
   ]
  },
  {
   "cell_type": "markdown",
   "id": "1030f089-388f-4b61-9d4a-8081fa540040",
   "metadata": {},
   "source": [
    "### Questions\n",
    "What does coherence mean in hierarchical forecasting, and why can unreconciled base forecasts violate it? \n",
    "\n",
    "Method trade‑offs: When might TopDown outperform BottomUp?\n",
    "\n",
    "Change h=8. Which reconcilers degrade least as horizon increases? Why?\n",
    "\n",
    "Replace AutoETS with AutoARIMA (or add it in to the list of models) and re‑evaluate. Does reconciliation change which method ranks best at each level?"
   ]
  },
  {
   "cell_type": "markdown",
   "id": "880276c5-dab0-4415-a925-292c3f115602",
   "metadata": {},
   "source": [
    "Next let's examine automatic ways to select the reconcilers.\n",
    "\n",
    "- MinTrace: minimises the variance of the reconciled forecasts by adjusting weighting of the forecasts in the reconciler.\n",
    "- Elastic Reconciliation Method: introduces an L1 regularisation term to simplify the reconciliation weights. Lambda specifies a step size to change the weights, so needs careful consideration.\n",
    "\n",
    "Unlike the approaches mentioned above, these methods use all the forecasts provided and adjust them to optimise the forecast."
   ]
  },
  {
   "cell_type": "code",
   "execution_count": null,
   "id": "5b7af653-c84f-4358-adb3-e990f7c4d045",
   "metadata": {},
   "outputs": [],
   "source": [
    "mint        = MinTrace(method='mint_shrink')\n",
    "erm_closed  = ERM(method='closed')\n",
    "erm_reg     = ERM(method='reg', lambda_reg=0.1)\n",
    "erm_reg_bu  = ERM(method='reg_bu', lambda_reg=0.1)\n",
    "\n",
    "hrec = HierarchicalReconciliation(reconcilers=[mint, erm_closed, erm_reg, erm_reg_bu])\n",
    "\n",
    "Y_rec_df = hrec.reconcile(\n",
    "    Y_hat_df=Y_hat_df,\n",
    "    Y_df=Y_fitted_df,\n",
    "    S_df=S_df,\n",
    "    tags=tags\n",
    ")\n",
    "\n",
    "df_eval = Y_rec_df.merge(Y_test_df, on=['unique_id','ds'], how='left')\n",
    "results = evaluate(df=df_eval, metrics=[mse], tags=tags, benchmark='Naive')\n",
    "results.sort_values(['metric','level'])"
   ]
  },
  {
   "cell_type": "markdown",
   "id": "e9269300-9d92-4c0c-9f7a-60e39227c0ca",
   "metadata": {},
   "source": [
    "### Questions\n",
    "Experiment with the lambda_reg values for `erm_reg` and `erm_bottom_up`, see if you can lower the mse."
   ]
  }
 ],
 "metadata": {
  "kernelspec": {
   "display_name": "Python 3 (ipykernel)",
   "language": "python",
   "name": "python3"
  },
  "language_info": {
   "codemirror_mode": {
    "name": "ipython",
    "version": 3
   },
   "file_extension": ".py",
   "mimetype": "text/x-python",
   "name": "python",
   "nbconvert_exporter": "python",
   "pygments_lexer": "ipython3",
   "version": "3.11.13"
  }
 },
 "nbformat": 4,
 "nbformat_minor": 5
}
