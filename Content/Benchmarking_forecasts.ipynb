{
 "cells": [
  {
   "cell_type": "markdown",
   "metadata": {},
   "source": [
    "# Benchmarking forecast models"
   ]
  },
  {
   "cell_type": "code",
   "execution_count": null,
   "metadata": {},
   "outputs": [],
   "source": [
    "# Required imports for workbook\n",
    "import warnings\n",
    "\n",
    "warnings.simplefilter(\"ignore\", category=FutureWarning)\n",
    "\n",
    "import numpy as np\n",
    "import pandas as pd\n",
    "from sklearn.metrics import (\n",
    "    mean_absolute_error,\n",
    "    mean_absolute_percentage_error,\n",
    "    mean_squared_error,\n",
    ")\n",
    "\n",
    "import plotly.express as px\n",
    "import plotly.graph_objects as go\n",
    "\n",
    "from statsmodels.graphics.tsaplots import plot_acf"
   ]
  },
  {
   "cell_type": "markdown",
   "metadata": {},
   "source": [
    "Once again, we will read in monthly A&E attendances from NHS England (following the same steps in the first worksheet)."
   ]
  },
  {
   "cell_type": "code",
   "execution_count": null,
   "metadata": {},
   "outputs": [],
   "source": [
    "# Import raw data\n",
    "raw_data = pd.read_excel(\n",
    "    \"https://www.england.nhs.uk/statistics/wp-content/uploads/sites/2/2024/02/Monthly-AE-Time-Series-January-2024.xls\",\n",
    "    skiprows=13,\n",
    "    sheet_name=\"Activity\",\n",
    ")\n",
    "# Make calender adjustments\n",
    "raw_data[\"Period\"] = pd.to_datetime(raw_data[\"Period\"], format=\"%Y-%m-%d\")\n",
    "raw_data = raw_data[[\"Period\", \"Total Attendances\"]].set_index(\"Period\").asfreq(\"MS\")\n",
    "# Add columns showing number of days for given month\n",
    "raw_data[\"days_per_month\"] = raw_data.index.daysinmonth\n",
    "# Add column for adjusted data\n",
    "raw_data[\"total_attendances_adjusted\"] = (\n",
    "    raw_data[\"Total Attendances\"] / raw_data[\"days_per_month\"]\n",
    ")\n",
    "# We will again initially consider data pre-COVID.\n",
    "ts_data = raw_data.loc[:\"2020-02-01\"]  # limit data to Feb 2020"
   ]
  },
  {
   "cell_type": "code",
   "execution_count": null,
   "metadata": {},
   "outputs": [],
   "source": [
    "# Plot time series of data using Plotly express line\n",
    "ts_fig = px.line(\n",
    "    ts_data,\n",
    "    x=ts_data.index,\n",
    "    y=\"total_attendances_adjusted\",\n",
    "    title=\"Monthly A&E attendances from NHS England\",\n",
    ")\n",
    "ts_fig.show()"
   ]
  },
  {
   "cell_type": "markdown",
   "metadata": {},
   "source": [
    "## Simple forecasting methods (benchmarking)"
   ]
  },
  {
   "cell_type": "markdown",
   "metadata": {},
   "source": [
    "To organise our forecast data, we'll create a new dataframe to store the output forecasts. We'll treat pre-COVID as our training data, and post-COVID as the testing data."
   ]
  },
  {
   "cell_type": "code",
   "execution_count": null,
   "metadata": {},
   "outputs": [],
   "source": [
    "forecast_horizon = 47\n",
    "forecast_data = pd.DataFrame()\n",
    "forecast_data.index = pd.date_range(\n",
    "    start=\"2020-03-01\", periods=forecast_horizon, freq=\"MS\"\n",
    ")\n",
    "forecast_data.head()"
   ]
  },
  {
   "cell_type": "markdown",
   "metadata": {},
   "source": [
    "Lets populate this pandas dataframe with some simple forecasts."
   ]
  },
  {
   "cell_type": "markdown",
   "metadata": {},
   "source": [
    "### Naive forecast"
   ]
  },
  {
   "cell_type": "markdown",
   "metadata": {},
   "source": [
    "A simple forecast is simply to take the most recent time point and forecast it forward. This means all but 1 data point is ignored."
   ]
  },
  {
   "cell_type": "code",
   "execution_count": null,
   "metadata": {},
   "outputs": [],
   "source": [
    "# Calculating Naive forecast\n",
    "\n",
    "latest_value = ts_data.iloc[-1][\"total_attendances_adjusted\"]  # Get latest data point\n",
    "forecast_data[\"naive\"] = [latest_value] * forecast_horizon  # Add to forecast_data"
   ]
  },
  {
   "cell_type": "code",
   "execution_count": null,
   "metadata": {},
   "outputs": [],
   "source": [
    "forecast_data.head()"
   ]
  },
  {
   "cell_type": "code",
   "execution_count": null,
   "metadata": {},
   "outputs": [],
   "source": [
    "simple_fcsts_fig = go.Figure()\n",
    "simple_fcsts_fig.add_trace(\n",
    "    go.Scatter(\n",
    "        x=ts_data.index, y=ts_data[\"total_attendances_adjusted\"], name=\"Historical data\"\n",
    "    )\n",
    ")\n",
    "simple_fcsts_fig.add_trace(\n",
    "    go.Scatter(x=forecast_data.index, y=forecast_data[\"naive\"], name=\"Naive forecast\")\n",
    ")\n",
    "simple_fcsts_fig.update_layout(title=\"NHS England average daily attendances\")"
   ]
  },
  {
   "cell_type": "markdown",
   "metadata": {},
   "source": [
    "### Seasonal naive forecast"
   ]
  },
  {
   "cell_type": "markdown",
   "metadata": {},
   "source": [
    "If we are working with data with clear seasonal pattern, we may want to use the most recent seasonal period. Seasonal naive uses the latest value from the same season (i.e., most recent December, or Monday, etc...). In this case, we are working with monthly data, therefore the latest value from the same season ould be the most recent months during the observational period."
   ]
  },
  {
   "cell_type": "code",
   "execution_count": null,
   "metadata": {},
   "outputs": [],
   "source": [
    "def s_naive(ts, period, forecast_horizon):\n",
    "    \"\"\"\n",
    "    Inputs:\n",
    "        ts (pandas.Series): Historical time series observations (in order)\n",
    "        period (int): Seasonal period (i.e., 12 for monthly data)\n",
    "        forecast_horizon (int): Number of timesteps forecasted into the future\n",
    "    Outputs:\n",
    "        list: Forecasted time series\n",
    "    \"\"\"\n",
    "\n",
    "    most_recent_seasonal = ts[-period:].to_list()\n",
    "\n",
    "    # We now need to make the forecast\n",
    "    # Number of times to multiply the list to ensure we meet forecast horizon\n",
    "    mult_list = int(np.ceil(forecast_horizon / period))\n",
    "\n",
    "    return (most_recent_seasonal * mult_list)[:forecast_horizon]"
   ]
  },
  {
   "cell_type": "code",
   "execution_count": null,
   "metadata": {},
   "outputs": [],
   "source": [
    "# Use custom function to calculate seasonal naive forecast\n",
    "\n",
    "forecast_data[\"snaive\"] = s_naive(\n",
    "    ts_data[\"total_attendances_adjusted\"], period=12, forecast_horizon=forecast_horizon\n",
    ")"
   ]
  },
  {
   "cell_type": "code",
   "execution_count": null,
   "metadata": {},
   "outputs": [],
   "source": [
    "forecast_data.head()"
   ]
  },
  {
   "cell_type": "code",
   "execution_count": null,
   "metadata": {},
   "outputs": [],
   "source": [
    "simple_fcsts_fig = go.Figure()\n",
    "simple_fcsts_fig.add_trace(\n",
    "    go.Scatter(\n",
    "        x=ts_data.index, y=ts_data[\"total_attendances_adjusted\"], name=\"Historical data\"\n",
    "    )\n",
    ")\n",
    "simple_fcsts_fig.add_trace(\n",
    "    go.Scatter(\n",
    "        x=forecast_data.index, y=forecast_data[\"snaive\"], name=\"Seasonal naive forecast\"\n",
    "    )\n",
    ")\n",
    "simple_fcsts_fig.update_layout(title=\"NHS England average daily attendances\")\n",
    "simple_fcsts_fig.add_vrect(\n",
    "    x0=ts_data.index[-12],\n",
    "    x1=ts_data.index[-1],\n",
    "    annotation_text=\"Latest seasonal period\",\n",
    "    annotation_position=\"top left\",\n",
    "    fillcolor=\"green\",\n",
    "    opacity=0.25,\n",
    "    line_width=0,\n",
    ")"
   ]
  },
  {
   "cell_type": "markdown",
   "metadata": {},
   "source": [
    "### Mean forecast"
   ]
  },
  {
   "cell_type": "markdown",
   "metadata": {},
   "source": [
    "We simply take the mean of historical data as our forecast."
   ]
  },
  {
   "cell_type": "code",
   "execution_count": null,
   "metadata": {},
   "outputs": [],
   "source": [
    "forecast_data[\"mean\"] = ts_data[\"total_attendances_adjusted\"].mean()"
   ]
  },
  {
   "cell_type": "code",
   "execution_count": null,
   "metadata": {},
   "outputs": [],
   "source": [
    "simple_fcsts_fig = go.Figure()\n",
    "simple_fcsts_fig.add_trace(\n",
    "    go.Scatter(\n",
    "        x=ts_data.index, y=ts_data[\"total_attendances_adjusted\"], name=\"Historical data\"\n",
    "    )\n",
    ")\n",
    "simple_fcsts_fig.add_trace(\n",
    "    go.Scatter(x=forecast_data.index, y=forecast_data[\"mean\"], name=\"Mean forecast\")\n",
    ")\n",
    "simple_fcsts_fig.update_layout(title=\"NHS England average daily attendances\")"
   ]
  },
  {
   "cell_type": "markdown",
   "metadata": {},
   "source": [
    "There is a large difference between the naive and mean forecast. This is because the naive uses only the latest data point, and the mean consideres each data point equally."
   ]
  },
  {
   "cell_type": "markdown",
   "metadata": {},
   "source": [
    "### Drift forecast"
   ]
  },
  {
   "cell_type": "markdown",
   "metadata": {},
   "source": [
    "The drift method is an extension of the Naive method that allows for increase/decrease over time. To calculate the drift, we simply look at the difference between the first and last observations."
   ]
  },
  {
   "cell_type": "code",
   "execution_count": null,
   "metadata": {},
   "outputs": [],
   "source": [
    "def drift_method(ts, forecast_horizon):\n",
    "    \"\"\"\n",
    "    Inputs:\n",
    "        ts (pandas.Series): Historical time series observations (in order)\n",
    "        forecast_horizon (int): Number of timesteps forecasted into the future\n",
    "    Outputs:\n",
    "        list: Forecasted time series\n",
    "    \"\"\"\n",
    "\n",
    "    latest_obs = ts.iloc[-1]\n",
    "    first_obs = ts.iloc[0]\n",
    "\n",
    "    slope = (latest_obs - first_obs) / (len(ts) - 1)\n",
    "\n",
    "    forecast_list = [latest_obs + slope * h for h in range(1, forecast_horizon + 1)]\n",
    "\n",
    "    return forecast_list"
   ]
  },
  {
   "cell_type": "code",
   "execution_count": null,
   "metadata": {},
   "outputs": [],
   "source": [
    "forecast_data[\"drift\"] = drift_method(\n",
    "    ts_data[\"total_attendances_adjusted\"], forecast_horizon\n",
    ")"
   ]
  },
  {
   "cell_type": "code",
   "execution_count": null,
   "metadata": {},
   "outputs": [],
   "source": [
    "forecast_data.head()"
   ]
  },
  {
   "cell_type": "code",
   "execution_count": null,
   "metadata": {},
   "outputs": [],
   "source": [
    "simple_fcsts_fig = go.Figure()\n",
    "simple_fcsts_fig.add_trace(\n",
    "    go.Scatter(\n",
    "        x=ts_data.index, y=ts_data[\"total_attendances_adjusted\"], name=\"Historical data\"\n",
    "    )\n",
    ")\n",
    "simple_fcsts_fig.add_trace(\n",
    "    go.Scatter(x=forecast_data.index, y=forecast_data[\"drift\"], name=\"Drift forecast\")\n",
    ")\n",
    "simple_fcsts_fig.update_layout(title=\"NHS England average daily attendances\")"
   ]
  },
  {
   "cell_type": "markdown",
   "metadata": {},
   "source": [
    "Plot all benchmark forecasts along with the test data"
   ]
  },
  {
   "cell_type": "code",
   "execution_count": null,
   "metadata": {},
   "outputs": [],
   "source": [
    "simple_fcsts_fig = go.Figure()\n",
    "simple_fcsts_fig.add_trace(\n",
    "    go.Scatter(\n",
    "        x=ts_data.index, y=ts_data[\"total_attendances_adjusted\"], name=\"Historical data\"\n",
    "    )\n",
    ")\n",
    "simple_fcsts_fig.add_trace(\n",
    "    go.Scatter(x=forecast_data.index, y=forecast_data[\"naive\"], name=\"Naive forecast\")\n",
    ")\n",
    "simple_fcsts_fig.add_trace(\n",
    "    go.Scatter(\n",
    "        x=forecast_data.index, y=forecast_data[\"snaive\"], name=\"Seasonal naive forecast\"\n",
    "    )\n",
    ")\n",
    "simple_fcsts_fig.add_trace(\n",
    "    go.Scatter(x=forecast_data.index, y=forecast_data[\"mean\"], name=\"Mean forecast\")\n",
    ")\n",
    "simple_fcsts_fig.add_trace(\n",
    "    go.Scatter(x=forecast_data.index, y=forecast_data[\"drift\"], name=\"Drift forecast\")\n",
    ")\n",
    "simple_fcsts_fig.add_trace(\n",
    "    go.Scatter(\n",
    "        x=raw_data.loc[\"2020-03-01\":].index,\n",
    "        y=raw_data.loc[\"2020-03-01\":][\"total_attendances_adjusted\"],\n",
    "        name=\"Post-COVID observations\",\n",
    "    )\n",
    ")\n",
    "simple_fcsts_fig.update_layout(title=\"NHS England average daily attendances\")"
   ]
  },
  {
   "cell_type": "markdown",
   "metadata": {},
   "source": [
    "## Evaluating forecast accuracy"
   ]
  },
  {
   "cell_type": "markdown",
   "metadata": {},
   "source": [
    "We can quantify how well each model performs using simple accuracy metrics, such as mean absolute percentage error (MAPE)."
   ]
  },
  {
   "cell_type": "markdown",
   "metadata": {},
   "source": [
    "MAPE has the advantage of being unit free (given as a percentage) and can therefore be compared across datasets."
   ]
  },
  {
   "cell_type": "markdown",
   "metadata": {},
   "source": [
    "Lets calculate MAPE manually to compare each forecast using data following 2022 (after the drop in attendances during COVID)"
   ]
  },
  {
   "cell_type": "code",
   "execution_count": null,
   "metadata": {},
   "outputs": [],
   "source": [
    "# Creating a function to calculate MAPE\n",
    "def mape(observed, forecasted):\n",
    "    \"\"\"\n",
    "    Inputs:\n",
    "        observed (pandas.Series): Series of observed values\n",
    "        forecasted (pandas.Series): Series of forecasted values\n",
    "    Outputs:\n",
    "        int: MAPE\n",
    "    \"\"\"\n",
    "\n",
    "    absolute_error = abs(observed - forecasted)\n",
    "    mape_t = np.mean((absolute_error / observed) * 100)\n",
    "\n",
    "    return mape_t"
   ]
  },
  {
   "cell_type": "code",
   "execution_count": null,
   "metadata": {},
   "outputs": [],
   "source": [
    "# Loop through each forecast and print the MAPE score\n",
    "for fcst in forecast_data.columns:\n",
    "\n",
    "    mape_score = mape(\n",
    "        raw_data.loc[\"2022-01-01\":][\"total_attendances_adjusted\"],  # observations\n",
    "        forecast_data.loc[\"2022-01-01\":][fcst],  # forecasts\n",
    "    )\n",
    "    print(f\"{fcst} had a MAPE score of {round(mape_score, 2)}%\")"
   ]
  },
  {
   "cell_type": "markdown",
   "metadata": {},
   "source": [
    "We could equally calculate this (and other accuracy metrics) by using sklearn (imported in the first cell)."
   ]
  },
  {
   "cell_type": "code",
   "execution_count": null,
   "metadata": {},
   "outputs": [],
   "source": [
    "for fcst in forecast_data.columns:\n",
    "\n",
    "    mape_score = mean_absolute_percentage_error(\n",
    "        raw_data.loc[\"2022-01-01\":][\"total_attendances_adjusted\"],\n",
    "        forecast_data.loc[\"2022-01-01\":][fcst],\n",
    "    )\n",
    "    print(f\"{fcst} had a MAPE score of {round(mape_score * 100, 2)}%\")"
   ]
  },
  {
   "cell_type": "markdown",
   "metadata": {},
   "source": [
    "<div class=\"alert alert-block alert-success\">\n",
    "<b>Benchmarking models key points</b>\n",
    "</div>"
   ]
  },
  {
   "cell_type": "markdown",
   "metadata": {},
   "source": [
    "* Each forecast is simple to interpret and impliment:\n",
    "    * The mean forecast is simply the mean of historical observations.\n",
    "    * The naive forecast is the most recent value\n",
    "    * The seasonal naive forecast is set to be the most recent value **from the same season**.\n",
    "    * The drift method accounts for growth (in terms of the difference between the first and last observed values).\n",
    "* These simple forecasts can be used to benchmark against more advanced time series models. However, there could be cases where this is as good as it gets!"
   ]
  },
  {
   "cell_type": "markdown",
   "metadata": {},
   "source": [
    "**Task (20-30 minutes)**"
   ]
  },
  {
   "cell_type": "markdown",
   "metadata": {},
   "source": [
    "Lets again consider the daily A&E admissions dataset."
   ]
  },
  {
   "cell_type": "code",
   "execution_count": null,
   "metadata": {},
   "outputs": [],
   "source": [
    "# Creating some fake time series data\n",
    "time_index = pd.date_range(start=\"2022-01-01\", end=\"2024-05-01\", freq=\"D\")\n",
    "\n",
    "seasonal_component = (np.sin(1 * np.pi * np.arange(len(time_index)) / 7) * 10).astype(\n",
    "    int\n",
    ")\n",
    "remainder_component = np.random.normal(loc=0, scale=5, size=len(time_index)).astype(int)\n",
    "trend_component = np.round(np.arange(len(time_index)) / 35).astype(int)\n",
    "\n",
    "time_series = 50 + seasonal_component + trend_component + remainder_component\n",
    "\n",
    "task_data = pd.DataFrame({\"date\": time_index, \"admissions_daily\": time_series})\n",
    "task_data.head()"
   ]
  },
  {
   "cell_type": "code",
   "execution_count": null,
   "metadata": {},
   "outputs": [],
   "source": [
    "training_data = task_data[: (-4 * 7)]\n",
    "testing_data = task_data[(-4 * 7) :]"
   ]
  },
  {
   "cell_type": "markdown",
   "metadata": {},
   "source": [
    "1. Using **any two** from naive, mean, seasonal naive, or drift forecast on the training data, make predictions for the next 4 weeks (length of the test data)."
   ]
  },
  {
   "cell_type": "code",
   "execution_count": null,
   "metadata": {},
   "outputs": [],
   "source": [
    "# Answer here"
   ]
  },
  {
   "cell_type": "markdown",
   "metadata": {},
   "source": [
    "2. Plot the forecast against observed data during the testing period."
   ]
  },
  {
   "cell_type": "code",
   "execution_count": null,
   "metadata": {},
   "outputs": [],
   "source": [
    "# Answer here"
   ]
  },
  {
   "cell_type": "markdown",
   "metadata": {},
   "source": [
    "3. Using the `mean_absolute_percentage_error` (or any of the accuracy metrics from `sklearn.metrics`) evaluate the accuracy of the forecasts."
   ]
  },
  {
   "cell_type": "code",
   "execution_count": null,
   "metadata": {},
   "outputs": [],
   "source": [
    "# Answer here"
   ]
  },
  {
   "cell_type": "markdown",
   "metadata": {},
   "source": [
    "4. Plot the ACF for the residuals for the best performing model. Is there any 'left over' information in the error that has been missed by the model (i.e., seasonal variation)?"
   ]
  },
  {
   "cell_type": "code",
   "execution_count": null,
   "metadata": {},
   "outputs": [],
   "source": [
    "# Answer here"
   ]
  }
 ],
 "metadata": {
  "kernelspec": {
   "display_name": "Python 3 (ipykernel)",
   "language": "python",
   "name": "python3"
  },
  "language_info": {
   "codemirror_mode": {
    "name": "ipython",
    "version": 3
   },
   "file_extension": ".py",
   "mimetype": "text/x-python",
   "name": "python",
   "nbconvert_exporter": "python",
   "pygments_lexer": "ipython3",
   "version": "3.10.8"
  }
 },
 "nbformat": 4,
 "nbformat_minor": 1
}
