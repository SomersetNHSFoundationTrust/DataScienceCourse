{
 "cells": [
  {
   "cell_type": "markdown",
   "source": [
    "# Data Structures\n",
    "\n",
    "Data structures are fundamental constructs in computer science and are used to store, and organise data efficiently. Using the correct data structure for the task at hand can make your code a lot simpler and more performant.\n",
    "\n",
    "Although there are many data structures present within Python and associated libraries, in this notebook, we'll go through the 4 fundamental building blocks native to Python: Lists, Tuples, Dictionaries and Sets.\n",
    "\n",
    "## Lists\n",
    "\n",
    "We already discussed lists briefly in [Control Structures](Introduction_to_Python2.ipynb), so we'll quickly recap, then go through some functionalities that lists provide.\n",
    "\n",
    "Lists can be instantiated as an empty object, or initialised with values:"
   ],
   "metadata": {
    "collapsed": false
   },
   "id": "deb1016ce5f7af36"
  },
  {
   "cell_type": "code",
   "execution_count": null,
   "outputs": [],
   "source": [
    "instantiated_list = [] # Defining an empty list to add values to later.\n",
    "initialised_list = [1, 2, 3] # Initialising the list with some values, this can still be added to later!"
   ],
   "metadata": {
    "collapsed": false
   },
   "id": "9a019a7be64eaffc"
  },
  {
   "cell_type": "markdown",
   "source": [
    "Each item within a list can be accessed by using its index, Python (as with all good programming languages) starts counting from 0, so the first element in a list is element 0:"
   ],
   "metadata": {
    "collapsed": false
   },
   "id": "a7b8bb66ddde138d"
  },
  {
   "cell_type": "code",
   "execution_count": null,
   "outputs": [],
   "source": [
    "initialised_list[0] # should give the first element in the list, which is 1."
   ],
   "metadata": {
    "collapsed": false
   },
   "id": "d04ae203aa9c5efe"
  },
  {
   "cell_type": "markdown",
   "source": [
    "It's also possible to select a range of values by using a slice. These can be used as `index_to_start_from:index_to_end_before`:"
   ],
   "metadata": {
    "collapsed": false
   },
   "id": "d973ec4aaa3205ff"
  },
  {
   "cell_type": "code",
   "execution_count": null,
   "outputs": [],
   "source": [
    "initialised_list[0:2] # Returns a list containing 1 and 2."
   ],
   "metadata": {
    "collapsed": false
   },
   "id": "232dd8583a074eff"
  },
  {
   "cell_type": "markdown",
   "source": [
    "Let's add some objects to out empty list:"
   ],
   "metadata": {
    "collapsed": false
   },
   "id": "a477e5fe9d1fc742"
  },
  {
   "cell_type": "code",
   "execution_count": null,
   "outputs": [],
   "source": [
    "instantiated_list.append(21) # We can add numerical values (integers, floats etc...)\n",
    "instantiated_list.append(\"Yes\") # strings\n",
    "instantiated_list.append(initialised_list) # other lists\n",
    "\n",
    "instantiated_list"
   ],
   "metadata": {
    "collapsed": false
   },
   "id": "bcedfb31edc5b100"
  },
  {
   "cell_type": "markdown",
   "source": [
    "A list is also mutable, meaning we can change any of these values, let's change the second element from `\"Yes\"` to `\"Changed\"`:"
   ],
   "metadata": {
    "collapsed": false
   },
   "id": "a540bca34fea7d58"
  },
  {
   "cell_type": "code",
   "execution_count": null,
   "outputs": [],
   "source": [
    "instantiated_list[1] = \"Changed\"\n",
    "\n",
    "instantiated_list"
   ],
   "metadata": {
    "collapsed": false
   },
   "id": "cebab6ee79e13fab"
  },
  {
   "cell_type": "markdown",
   "source": [
    "## Tuples\n",
    "\n",
    "Tuples are like immutable lists, so once they are initialised they cannot be changed. "
   ],
   "metadata": {
    "collapsed": false
   },
   "id": "a5d58215a01ba712"
  },
  {
   "cell_type": "code",
   "execution_count": null,
   "outputs": [],
   "source": [
    "first_tuple = (\"a\", \"b\", \"c\")"
   ],
   "metadata": {
    "collapsed": false
   },
   "id": "a349f916d3d0b39e"
  },
  {
   "cell_type": "markdown",
   "source": [
    "Try changing the first element in the tuple to another letter:"
   ],
   "metadata": {
    "collapsed": false
   },
   "id": "ec3c8cabd39e7a6f"
  },
  {
   "cell_type": "code",
   "execution_count": null,
   "outputs": [],
   "source": [
    "# Your code here"
   ],
   "metadata": {
    "collapsed": false
   },
   "id": "c7ad4e5a668f4502"
  },
  {
   "cell_type": "markdown",
   "source": [
    "You should see an error. Tuples are really useful if you want to protect your data from being overwritten/changed in your code.\n",
    "\n",
    "## Dictionaries\n",
    "\n",
    "Dictionaries store key-value pairs, where keys are unique and must be immutable."
   ],
   "metadata": {
    "collapsed": false
   },
   "id": "7855386ffe12ccce"
  },
  {
   "cell_type": "code",
   "execution_count": null,
   "outputs": [],
   "source": [
    "first_dict = {\"a\":0, \"b\":1, \"c\":2} # initialise a dictionary\n",
    "\n",
    "second_dict = {} # instatiate an empty dictionary\n",
    "second_dict[0] = 3 # add the key 0 to the dictionary and assign it the value 3.\n",
    "\n",
    "second_dict"
   ],
   "metadata": {
    "collapsed": false
   },
   "id": "417435224a985fbd"
  },
  {
   "cell_type": "markdown",
   "source": [
    "It's then possible to check the keys and values separately or iterate over them:"
   ],
   "metadata": {
    "collapsed": false
   },
   "id": "1bc99a3ceaa5b9fd"
  },
  {
   "cell_type": "code",
   "execution_count": null,
   "outputs": [],
   "source": [
    "print(first_dict.keys()) # Just the keys\n",
    "print(first_dict.values()) # Just the values \n",
    "\n",
    "print(first_dict.items()) # Returns tuples of (key, value)"
   ],
   "metadata": {
    "collapsed": false
   },
   "id": "647e8de0043f07b2"
  },
  {
   "cell_type": "markdown",
   "source": [
    "Can you change the value associated with `\"b\"` in `first_dict?`\n",
    "And add a new key-value pair into the same dictionary?"
   ],
   "metadata": {
    "collapsed": false
   },
   "id": "66e19a495a82c885"
  },
  {
   "cell_type": "code",
   "execution_count": null,
   "outputs": [],
   "source": [
    "# Your code here"
   ],
   "metadata": {
    "collapsed": false
   },
   "id": "b3d67bd984891c0a"
  },
  {
   "cell_type": "markdown",
   "source": [
    "## Sets\n",
    "\n",
    "Sets are an unordered collection of unique immutable objects. They're extremely useful for utilising [set theory](https://en.wikipedia.org/wiki/Set_theory) operations, such as unions, intersections and differences. "
   ],
   "metadata": {
    "collapsed": false
   },
   "id": "46a112f66a27f612"
  },
  {
   "cell_type": "code",
   "execution_count": null,
   "outputs": [],
   "source": [
    "set_a = {\"a\", \"b\", \"c\"}\n",
    "set_b = {\"c\", \"d\", \"e\"}\n",
    "\n",
    "print(set_a.union(set_b)) # Combines the sets, notice that the \"c\" is not duplicated, and the order is not preserved\n",
    "print(set_a.intersection(set_b)) # Returns a set containing values that are in both set_a and set_b\n",
    "print(set_a.difference(set_b)) # Returns a set of values that are only in set_a and not in set_b"
   ],
   "metadata": {
    "collapsed": false
   },
   "id": "125bebde41cd26df"
  },
  {
   "cell_type": "markdown",
   "source": [
    "Values can be added to an already existing set or removed:"
   ],
   "metadata": {
    "collapsed": false
   },
   "id": "e75850fb23c7208b"
  },
  {
   "cell_type": "code",
   "execution_count": null,
   "outputs": [],
   "source": [
    "set_b.remove(\"d\") # Remove \"d\" from the set\n",
    "set_b.add(\"f\") # Add in an \"f\"\n",
    "set_b"
   ],
   "metadata": {
    "collapsed": false
   },
   "id": "4fc5dcc0c1d8cda5"
  },
  {
   "cell_type": "markdown",
   "source": [
    "## Converting between data structures\n",
    "\n",
    "Converting between data structures (casting) in Python is simple!\n",
    "Each data structure has a keyword associated with it:\n",
    "- list\n",
    "- tuple\n",
    "- dict\n",
    "- set\n",
    "\n",
    "This does all the heavy lifting:"
   ],
   "metadata": {
    "collapsed": false
   },
   "id": "a2a70847804e1bd8"
  },
  {
   "cell_type": "code",
   "execution_count": null,
   "outputs": [],
   "source": [
    "my_list = [1, 2, 3, 4, 5] # initialise the list with some values\n",
    "\n",
    "my_tuple = tuple(my_list) # convert it to a tuple\n",
    "my_set = set(my_list) # convert it to a set\n",
    "\n",
    "print(my_list)\n",
    "print(my_tuple)\n",
    "print(my_set)"
   ],
   "metadata": {
    "collapsed": false
   },
   "id": "e9ca79900fba8c3b"
  },
  {
   "cell_type": "markdown",
   "source": [
    "Dictionary conversion is slightly different, because you need to provide both keys and values, but it is possible to create an empty dictionary by only providing keys:"
   ],
   "metadata": {
    "collapsed": false
   },
   "id": "45f6cab3dcaa565"
  },
  {
   "cell_type": "code",
   "execution_count": null,
   "outputs": [],
   "source": [
    "dict.fromkeys(my_list)"
   ],
   "metadata": {
    "collapsed": false
   },
   "id": "4eaa330fc82db11f"
  },
  {
   "cell_type": "markdown",
   "source": [
    "## Task\n",
    "\n",
    "You have been given a list containing duplicated below, can you remove all the duplicates and return the results in an immutable structure?"
   ],
   "metadata": {
    "collapsed": false
   },
   "id": "8e0779dae65d3495"
  },
  {
   "cell_type": "code",
   "execution_count": null,
   "outputs": [],
   "source": [
    "duplicate_containing_list = [7, 2, 3, 4, 7, 5, 9, 3]\n",
    "\n",
    "# Your code here"
   ],
   "metadata": {
    "collapsed": false
   },
   "id": "2c8a0a867b8f5ae9"
  }
 ],
 "metadata": {
  "kernelspec": {
   "display_name": "Python 3",
   "language": "python",
   "name": "python3"
  },
  "language_info": {
   "codemirror_mode": {
    "name": "ipython",
    "version": 2
   },
   "file_extension": ".py",
   "mimetype": "text/x-python",
   "name": "python",
   "nbconvert_exporter": "python",
   "pygments_lexer": "ipython2",
   "version": "2.7.6"
  }
 },
 "nbformat": 4,
 "nbformat_minor": 5
}
