{
 "cells": [
  {
   "cell_type": "markdown",
   "id": "d10d724fd773f041",
   "metadata": {},
   "source": [
    "## Introduction to Plotly Express"
   ]
  },
  {
   "cell_type": "markdown",
   "id": "cba8a1f77edbafb",
   "metadata": {},
   "source": [
    "Plotly is a data visualisation library that allows you to create interactive plots and charts in Python.\n",
    "It is made up of three parts:\n",
    "* An **Express** library for creating quick visuals.\n",
    "* A **Graph Objects** library for more comprehensive and detailed plots.\n",
    "* A **Figure Factory** for generating very specific pre-made visualisations that would take a long time to code in express or graph objects\n",
    "\n",
    "Every plotly express function uses graph_objects internally and returns a plotly.graph_objects.figure instance."
   ]
  },
  {
   "cell_type": "markdown",
   "id": "749077c7e1975512",
   "metadata": {},
   "source": [
    "We will be working with the pandas library and plotly express libraries for this module; to import these we run the below code. It is common to abbreviate plotly express to px, and in most examples you find online this is how it will be named. "
   ]
  },
  {
   "cell_type": "code",
   "execution_count": null,
   "id": "5085bead4edbae94",
   "metadata": {
    "ExecuteTime": {
     "end_time": "2024-05-17T12:21:36.259652Z",
     "start_time": "2024-05-17T12:21:35.439305Z"
    }
   },
   "outputs": [],
   "source": [
    "import pandas as pd\n",
    "import plotly.express as px"
   ]
  },
  {
   "cell_type": "markdown",
   "id": "ee3ae81964bf483e",
   "metadata": {},
   "source": [
    "We are going to be using data from NHS England on AE attendances and Emergency Admissions. \n",
    "The file [Monthly -AE-Time-Series-March-2024.xls](https://www.england.nhs.uk/statistics/wp-content/uploads/sites/2/2024/04/Monthly-AE-Time-Series-March-2024.xls) is located here [https://www.england.nhs.uk/statistics/statistical-work-areas/ae-waiting-times-and-activity/,](https://www.england.nhs.uk/statistics/statistical-work-areas/ae-waiting-times-and-activity/) but we have saved a copy in the data folder."
   ]
  },
  {
   "cell_type": "code",
   "execution_count": null,
   "id": "3e761b6b8c6048a",
   "metadata": {
    "ExecuteTime": {
     "end_time": "2024-05-17T12:21:36.322336Z",
     "start_time": "2024-05-17T12:21:36.260600Z"
    }
   },
   "outputs": [],
   "source": [
    "df = pd.read_csv('data/ae_data.csv')"
   ]
  },
  {
   "cell_type": "markdown",
   "id": "4a97be9f3652458d",
   "metadata": {},
   "source": [
    "We should check to ensure that the data has uploaded correctly, to do this we call the assigned dataframe df."
   ]
  },
  {
   "cell_type": "code",
   "execution_count": null,
   "id": "34997ad2f6edbe45",
   "metadata": {
    "ExecuteTime": {
     "end_time": "2024-05-17T12:21:36.338396Z",
     "start_time": "2024-05-17T12:21:36.323329Z"
    },
    "scrolled": false
   },
   "outputs": [],
   "source": [
    "df"
   ]
  },
  {
   "cell_type": "markdown",
   "id": "6b14b779d887c3e8",
   "metadata": {},
   "source": [
    "and we can check the format with"
   ]
  },
  {
   "cell_type": "code",
   "execution_count": null,
   "id": "e798046db3cf2a47",
   "metadata": {
    "ExecuteTime": {
     "end_time": "2024-05-17T12:21:36.352265Z",
     "start_time": "2024-05-17T12:21:36.340453Z"
    }
   },
   "outputs": [],
   "source": [
    "df.info()"
   ]
  },
  {
   "cell_type": "markdown",
   "id": "b1d100f7ec80267a",
   "metadata": {},
   "source": "It is quite common to have issues with dates when using graphs, this is due to the wide range of date formats, you should correct this before trying to plot with dates using the pd.to_datetime function in pandas."
  },
  {
   "cell_type": "code",
   "execution_count": null,
   "id": "f4dd021f47d507eb",
   "metadata": {
    "ExecuteTime": {
     "end_time": "2024-05-17T12:21:36.361816Z",
     "start_time": "2024-05-17T12:21:36.353235Z"
    }
   },
   "outputs": [],
   "source": [
    "df['month'] = pd.to_datetime(df['month'], dayfirst=True)"
   ]
  },
  {
   "cell_type": "markdown",
   "id": "4efcc19255405cc",
   "metadata": {},
   "source": "We want to create a line chart based on the month (x-axis) and ae_type_1 & emergency_admissions_via_type_1 (y-axis), plotly express allows us to work with long data frames. Therefore, we can pass the entire dataframe and call the columns explicitly. "
  },
  {
   "cell_type": "markdown",
   "id": "aec08ea0f188f339",
   "metadata": {},
   "source": [
    "**Long and wide dataframes**: <br>\n",
    "\n",
    "![alt text](pictures/wideform_longform.png \"Difference between long and wide form data\")\n",
    "\n",
    "\n",
    "In a wide dataframe, each observation is represented by a single row, and each metric/variable is represented by a separate column. <br>\n",
    "\n",
    "In a long dataframe, each observation is represented by multiple rows, and each metric/variable is represented by one or more columns.\n",
    "\n",
    "\n",
    "For plotly express it is not required to use figures, however it is good practice and required for using more complex libraries like graph objects, which will be covered later.\n",
    "\n",
    "Pass the entire dataframe, the x-axis value and the y-axis value.\n"
   ]
  },
  {
   "cell_type": "code",
   "execution_count": null,
   "id": "46cef27530794f6b",
   "metadata": {
    "ExecuteTime": {
     "end_time": "2024-05-17T12:21:36.924055Z",
     "start_time": "2024-05-17T12:21:36.363870Z"
    }
   },
   "outputs": [],
   "source": [
    "fig = px.line(data_frame=df, x='month', y=['ae_type_1', 'emergency_admissions_via_type_1'])\n",
    "\n",
    "fig.show()"
   ]
  },
  {
   "cell_type": "markdown",
   "id": "6f6e51ae5f90be24",
   "metadata": {},
   "source": [
    "Now let's apply our graphing theory to improve this chart."
   ]
  },
  {
   "cell_type": "markdown",
   "id": "d58b6f22",
   "metadata": {},
   "source": [
    "### Layout Options"
   ]
  },
  {
   "cell_type": "markdown",
   "id": "1f3ee2da628bbcc0",
   "metadata": {},
   "source": [
    "**Applying Themes and Adding a Title**"
   ]
  },
  {
   "cell_type": "markdown",
   "id": "8bac767d027d3ccd",
   "metadata": {},
   "source": [
    "We use `fig.update_layout` for adding general figure elements and properties. For now, we will add a title and look at some different theme options. <br>\n",
    "\n",
    "There are a number of themes available in plotly."
   ]
  },
  {
   "cell_type": "code",
   "execution_count": null,
   "id": "bca53c4f8b0b05b2",
   "metadata": {},
   "outputs": [],
   "source": [
    "themes_available = ['ggplot2', 'seaborn', 'simple_white', 'plotly', 'plotly_white', \n",
    "                    'plotly_dark', 'presentation', 'xgridoff', 'ygridoff', 'gridon', 'none']"
   ]
  },
  {
   "cell_type": "markdown",
   "id": "da4c75ddc843b0df",
   "metadata": {},
   "source": "Let's take a look at the differences between the themes: "
  },
  {
   "cell_type": "code",
   "execution_count": null,
   "id": "4a7e471821f8d1b0",
   "metadata": {
    "ExecuteTime": {
     "end_time": "2024-05-17T12:21:37.828227Z",
     "start_time": "2024-05-17T12:21:36.928617Z"
    },
    "scrolled": false
   },
   "outputs": [],
   "source": [
    "for i in themes_available: # loop through the list of themes\n",
    "\n",
    "    fig = px.line(data_frame=df, \n",
    "                  x='month', \n",
    "                  y=['ae_type_1', 'emergency_admissions_via_type_1'])\n",
    "    \n",
    "    fig.update_layout(template=i, # apply theme\n",
    "                      title=i + ' Theme') # adding a title\n",
    "    \n",
    "    fig.show() # show the plot"
   ]
  },
  {
   "cell_type": "markdown",
   "id": "8ae40aeeaa0643c5",
   "metadata": {},
   "source": [
    "We will continue to work with the `xgridoff` theme for our example."
   ]
  },
  {
   "cell_type": "markdown",
   "id": "01b2a117",
   "metadata": {},
   "source": [
    "**Resizing**"
   ]
  },
  {
   "cell_type": "markdown",
   "id": "49e25ee5",
   "metadata": {},
   "source": [
    "We can also resize the figure's height, width, and margin space surrounding the chart. <br>\n",
    "We will also set the location of the main title to be central."
   ]
  },
  {
   "cell_type": "code",
   "execution_count": null,
   "id": "ef32d594",
   "metadata": {
    "ExecuteTime": {
     "end_time": "2024-05-17T12:21:37.896301Z",
     "start_time": "2024-05-17T12:21:37.831343Z"
    }
   },
   "outputs": [],
   "source": [
    "fig = px.line(data_frame=df, \n",
    "              x='month', \n",
    "              y=['ae_type_1', 'emergency_admissions_via_type_1'])\n",
    "\n",
    "fig.update_layout(template='xgridoff',\n",
    "                  title='AandE Attendances and Admissions by Type',\n",
    "                  title_x=0.5, # position the title\n",
    "                  height=500, # setting the height\n",
    "                  width=900, # setting the width\n",
    "                  margin=dict(r=10) # setting the margin space bottom, top, left, right\n",
    "                 )  \n",
    "                \n",
    "fig.show()"
   ]
  },
  {
   "cell_type": "markdown",
   "id": "394ff706e5cfc698",
   "metadata": {},
   "source": [
    "**Fonts**\n",
    "\n",
    "There are a number of fonts available to use in plotly.\n",
    "The font parameter is also part of `fig.update_layout`."
   ]
  },
  {
   "cell_type": "code",
   "execution_count": null,
   "id": "74a2f9cd59aacf9a",
   "metadata": {
    "ExecuteTime": {
     "end_time": "2024-05-17T12:21:37.901421Z",
     "start_time": "2024-05-17T12:21:37.897361Z"
    }
   },
   "outputs": [],
   "source": [
    "fonts_available =  ['Arial', 'Balto', 'Courier New', 'Droid Sans', 'Droid Serif', \n",
    "                    'Droid Sans Mono', 'Gravitas One', 'Old Standard TT', 'Open Sans', \n",
    "                    'Overpass', 'PT Sans Narrow', 'Raleway', 'Times New Roman']"
   ]
  },
  {
   "cell_type": "markdown",
   "id": "fcce6aa52cd5fcc0",
   "metadata": {},
   "source": [
    "Let's take a look at the different fonts available."
   ]
  },
  {
   "cell_type": "code",
   "execution_count": null,
   "id": "2b4ac7e7052c5b2f",
   "metadata": {
    "ExecuteTime": {
     "end_time": "2024-05-17T12:21:38.547107Z",
     "start_time": "2024-05-17T12:21:37.904873Z"
    },
    "scrolled": false
   },
   "outputs": [],
   "source": [
    "for i in fonts_available: # loop through the list of fonts\n",
    "\n",
    "    fig = px.line(data_frame=df,\n",
    "                  x='month',\n",
    "                  y=['ae_type_1', 'emergency_admissions_via_type_1'])\n",
    "\n",
    "    fig.update_layout(template='xgridoff',\n",
    "                      title='AandE Attendances and Admissions - using <b>' + i + ' font </b>', # use tags to make text bold\n",
    "                      title_x=0.5,\n",
    "                      font_family=i,\n",
    "                      height=500,\n",
    "                      width=950, \n",
    "                      margin=dict(r=10)\n",
    "                      )\n",
    "    \n",
    "    fig.show()"
   ]
  },
  {
   "cell_type": "markdown",
   "id": "104b1463",
   "metadata": {},
   "source": [
    "We will select the `Arial` font going forward and remove the bold tags that were added to the title.\n"
   ]
  },
  {
   "cell_type": "markdown",
   "id": "ab6f7938714f465a",
   "metadata": {},
   "source": [
    "**Axis Titles**"
   ]
  },
  {
   "cell_type": "markdown",
   "id": "78b5aa99e7b51686",
   "metadata": {},
   "source": "By default, the axis labels are automatic based on the dataframe column names. This can be changed using `fig.update_xaxes` and `fig.update_yaxes` or can also be added the `fig.update_layout` using the `xaxis` and `yaxis` dictionary."
  },
  {
   "cell_type": "code",
   "execution_count": null,
   "id": "6361ebb55032de9e",
   "metadata": {
    "ExecuteTime": {
     "end_time": "2024-05-17T12:21:38.593794Z",
     "start_time": "2024-05-17T12:21:38.548166Z"
    }
   },
   "outputs": [],
   "source": [
    "fig = px.line(data_frame=df,\n",
    "                  x='month',\n",
    "                  y=['ae_type_1', 'emergency_admissions_via_type_1'])\n",
    "\n",
    "fig.update_layout(template='xgridoff',\n",
    "                  title='AandE Attendances and Admissions by Type',\n",
    "                  title_x=0.5,\n",
    "                  font=dict(),\n",
    "                  xaxis=dict(title='Month'), # add X axis title\n",
    "                  yaxis=dict(title='Number of Attendances/Admissions'), # add X axis title\n",
    "                  height=500,\n",
    "                  width=950,\n",
    "                  margin=dict(r=10)\n",
    "                 )  \n",
    "\n",
    "fig.show()"
   ]
  },
  {
   "cell_type": "markdown",
   "id": "15917751",
   "metadata": {},
   "source": [
    "**Activity**:\n",
    "\n",
    "Using what we have learnt so far with `px.line` and `fig.update_layout`, create a chart with two traces by 'month' using different column from the dataframe. <br>\n",
    "Include the following:\n",
    "* Apply a theme.\n",
    "* Set the height and width of the figure.\n",
    "* Apply a font the figure.\n",
    "* Set the axis titles."
   ]
  },
  {
   "cell_type": "code",
   "execution_count": null,
   "id": "b4a1db82",
   "metadata": {},
   "outputs": [],
   "source": [
    "# Your code here\n",
    "\n",
    "\n",
    "\n",
    "\n",
    "\n",
    "\n",
    "\n",
    "\n",
    "\n"
   ]
  },
  {
   "cell_type": "markdown",
   "id": "c20589fc",
   "metadata": {},
   "source": [
    "### Adding Lines and Fill Areas"
   ]
  },
  {
   "cell_type": "markdown",
   "id": "477ea220",
   "metadata": {},
   "source": [
    "**Lines**"
   ]
  },
  {
   "cell_type": "markdown",
   "id": "c73db87d0bc70c8f",
   "metadata": {},
   "source": [
    "Vertical and horizontal lines can help with communicating key change points in the data and baselines. <br>\n",
    "* For vertical lines use `fig.add_vline`.\n",
    "* For horizontal lines use `fig.add_hline`."
   ]
  },
  {
   "cell_type": "code",
   "execution_count": null,
   "id": "bbb13c02d02e2ffc",
   "metadata": {
    "ExecuteTime": {
     "end_time": "2024-05-17T12:21:38.652639Z",
     "start_time": "2024-05-17T12:21:38.594966Z"
    }
   },
   "outputs": [],
   "source": [
    "fig = px.line(data_frame=df,\n",
    "                  x='month',\n",
    "                  y=['ae_type_1', 'emergency_admissions_via_type_1'])\n",
    "\n",
    "# Adding a vertical line\n",
    "fig.add_vline(x='2020-04-01', \n",
    "              line_width=2, \n",
    "              line_color='black' )\n",
    "\n",
    "fig.update_layout(template='xgridoff',\n",
    "                  title='AandE Attendances and Admissions by Type',\n",
    "                  title_x=0,\n",
    "                  font=dict(),\n",
    "                  xaxis=dict(title='Month'), \n",
    "                  yaxis=dict(title='Number of Attendances/Admissions'),\n",
    "                  height=500,\n",
    "                  width=950,\n",
    "                  margin=dict(r=10)\n",
    "                 )  \n",
    "\n",
    "fig.show()"
   ]
  },
  {
   "cell_type": "markdown",
   "id": "6941bf43efd47f96",
   "metadata": {},
   "source": [
    "Let's change the type of vertical line from solid to dashed."
   ]
  },
  {
   "cell_type": "code",
   "execution_count": null,
   "id": "d945be55378692c8",
   "metadata": {
    "ExecuteTime": {
     "end_time": "2024-05-17T12:21:38.712694Z",
     "start_time": "2024-05-17T12:21:38.653636Z"
    }
   },
   "outputs": [],
   "source": [
    "fig = px.line(data_frame=df,\n",
    "                  x='month',\n",
    "                  y=['ae_type_1', 'emergency_admissions_via_type_1'])\n",
    "\n",
    "# changing the type of vertical line to a dashed line - use \"dot\" for a dotted line\n",
    "fig.add_vline(x='2020-04-01', \n",
    "              line_width=2, \n",
    "              line_color='black', \n",
    "              line_dash=\"dash\", \n",
    "             )\n",
    "\n",
    "fig.update_layout(template='xgridoff',\n",
    "                  title='AandE Attendances and Admissions by Type',\n",
    "                  title_x=0.5,\n",
    "                  font=dict(),\n",
    "                  xaxis=dict(title='Month'), \n",
    "                  yaxis=dict(title='Number of Attendances/Admissions'),\n",
    "                  height=500,\n",
    "                  width=950,\n",
    "                  margin=dict(r=10)\n",
    "                 )  \n",
    "\n",
    "fig.show()"
   ]
  },
  {
   "cell_type": "markdown",
   "id": "dab099aa",
   "metadata": {},
   "source": [
    "**Fill Areas**"
   ]
  },
  {
   "cell_type": "markdown",
   "id": "2f25620e5954c367",
   "metadata": {},
   "source": [
    "Another option is to add shaded areas to highlight specific sections of note. <br> To do this we use `fig.add_vrect` (or for a horizontal shaded area use `fig.add_hrect`)."
   ]
  },
  {
   "cell_type": "code",
   "execution_count": null,
   "id": "1071db234d36e169",
   "metadata": {
    "ExecuteTime": {
     "end_time": "2024-05-17T12:21:38.784957Z",
     "start_time": "2024-05-17T12:21:38.713691Z"
    }
   },
   "outputs": [],
   "source": [
    "fig = px.line(data_frame=df,\n",
    "                  x='month',\n",
    "                  y=['ae_type_1', 'emergency_admissions_via_type_1'])\n",
    "\n",
    "# add vertical shaded area\n",
    "fig.add_vrect(x0=\"2020-02-01\", \n",
    "              x1=\"2021-05-01\",\n",
    "              annotation_text=\"Covid\", \n",
    "              annotation_position=\"top left\",\n",
    "              fillcolor=\"green\", \n",
    "              opacity=0.25, \n",
    "              line_width=0)\n",
    "\n",
    "fig.update_layout(template='xgridoff',\n",
    "                  title='AandE Attendances and Admissions by Type',\n",
    "                  title_x=0.5,\n",
    "                  font=dict(),\n",
    "                  xaxis=dict(title='Month'), \n",
    "                  yaxis=dict(title='Number of Attendances/Admissions'),\n",
    "                  height=500,\n",
    "                  width=950,\n",
    "                  margin=dict(r=10)\n",
    "                 )  \n",
    "\n",
    "fig.show()"
   ]
  },
  {
   "cell_type": "markdown",
   "id": "194c5c57",
   "metadata": {},
   "source": [
    "**Activity**\n",
    "\n",
    "**Beginner**: \n",
    "Add a dashed horizontal line at 1.8M to indicate the peak of activity during Covid for trace`ae_type_1`. \n",
    "\n",
    "**Advanced**: Add a dotted line at the equivalent peak for the second trace `emergency_admissions_via_type_1`."
   ]
  },
  {
   "cell_type": "code",
   "execution_count": null,
   "id": "140f0304",
   "metadata": {},
   "outputs": [],
   "source": [
    "# Your code here\n",
    "\n",
    "\n",
    "\n",
    "\n",
    "\n",
    "\n",
    "\n",
    "\n",
    "\n",
    "\n",
    "\n",
    "\n",
    "\n",
    "\n"
   ]
  },
  {
   "cell_type": "markdown",
   "id": "b6603ffb907d625c",
   "metadata": {},
   "source": [
    "### Adding Annotation\n",
    "\n",
    "Next we are going to add some annotation text to the chart and also demonstrate adding colour background to the annotations in three different ways: \n",
    "- by naming the colour with literal names\n",
    "- by the RGB (red, green, blue) value and \n",
    "- by using the hexadecimal (hex) value for the same colour.\n",
    "\n",
    "* **Static colours** are the literal name of the colour, for example 'blue'. While easy to understand this way of assigning colours is very limited and only really useful if you want either a white or black item.\n",
    "\n",
    "* **RGB codes** define the red, green and blue required to create the colour, you can also specify the transparency in the fourth slot. The same colour above in RGB would be rgb(0, 128, 255) I could then make this have 50% opacity using rgb(0, 128, 255, .5)\n",
    "\n",
    "* **Hex codes** begin with a # and are followed by a blend of 6 numbers or letters: For example a blue colour code would look like #0080ff. You can add two additional characters to define the opacity. "
   ]
  },
  {
   "cell_type": "code",
   "execution_count": null,
   "id": "80ba20b276365850",
   "metadata": {
    "ExecuteTime": {
     "end_time": "2024-05-17T12:21:38.841Z",
     "start_time": "2024-05-17T12:21:38.785977Z"
    }
   },
   "outputs": [],
   "source": [
    "fig = px.line(data_frame=df, \n",
    "              x='month', \n",
    "              y=['ae_type_1', 'emergency_admissions_via_type_1'])\n",
    "\n",
    "fig.add_vrect(x0=\"2020-02-01\", \n",
    "              x1=\"2021-05-01\",\n",
    "              annotation_text=\"Covid\", \n",
    "              annotation_position=\"top left\",\n",
    "              fillcolor=\"green\", \n",
    "              opacity=0.25, \n",
    "              line_width=0)\n",
    "\n",
    "# Add annotations to the chart\n",
    "fig.add_annotation(x='2020-04-01',  # position of arrow head in the x-axis\n",
    "                   y=680_000,       # position of arrow head in the y-axis\n",
    "                   text=\"First Lockdown\", # annotation text\n",
    "                   showarrow=True, # show arrow\n",
    "                   arrowhead=1, # apply arrow head style (integer between 0 - 8)\n",
    "                   ay='-30', # relative position from arrow point in the y-axis\n",
    "                   ax='-60', # relative position from arrow point in the x-axis\n",
    "                   bgcolor='lightblue') # annotation background colour set as colour name\n",
    "\n",
    "fig.add_annotation(x='2020-11-01',\n",
    "                   y=1_030_000,\n",
    "                   text=\"Second Lockdown\",\n",
    "                   showarrow=True,\n",
    "                   arrowhead=1,\n",
    "                   ay='-30',\n",
    "                   ax='90',\n",
    "                   bgcolor='rgb(173, 216, 230)') # the same annotation background colour \n",
    "                                                 # set as Red/Green/Blue also known as RGB\n",
    "\n",
    "fig.add_annotation(x='2021-02-01',\n",
    "                   y=903_000,\n",
    "                   text=\"Third Lockdown\",\n",
    "                   showarrow=True,\n",
    "                   arrowhead=1,\n",
    "                   ay='25',\n",
    "                   ax='70',\n",
    "                   bgcolor='#ADD8E6') # the same annotation background colour set as hex - this is the preferred option\n",
    "\n",
    "fig.update_layout(template='xgridoff',\n",
    "                  title='AandE Attendances and Admissions by Type',\n",
    "                  title_x=0.5,\n",
    "                  font=dict(),\n",
    "                  xaxis=dict(title='Month'), \n",
    "                  yaxis=dict(title='Number of Attendances/Admissions'),\n",
    "                  height=500,\n",
    "                  width=950,\n",
    "                  margin=dict(r=10)\n",
    "                 )  \n",
    "\n",
    "fig.show()"
   ]
  },
  {
   "cell_type": "markdown",
   "id": "f37f0f6d",
   "metadata": {},
   "source": [
    "**Using Text Annotation Explaining the Visualisation**\n",
    "\n",
    "Like before with adding annotations to indicate points of interest, `fig.add_annotation` can also be used to add general explanation text to the chart. <br>\n",
    "To declutter the chart, we will remove the 'second lockdown' annotation."
   ]
  },
  {
   "cell_type": "code",
   "execution_count": null,
   "id": "d3bc6e63",
   "metadata": {
    "ExecuteTime": {
     "end_time": "2024-05-17T12:21:38.900732Z",
     "start_time": "2024-05-17T12:21:38.842015Z"
    }
   },
   "outputs": [],
   "source": [
    "fig = px.line(data_frame=df, \n",
    "              x='month', \n",
    "              y=['ae_type_1', 'emergency_admissions_via_type_1'])\n",
    "\n",
    "fig.add_vrect(x0=\"2020-02-01\", \n",
    "              x1=\"2021-05-01\",\n",
    "              annotation_text=\"Covid\", \n",
    "              annotation_position=\"top left\",\n",
    "              fillcolor=\"green\", \n",
    "              opacity=0.25, \n",
    "              line_width=0)\n",
    "\n",
    "# Annotation to describing the chart.\n",
    "fig.add_annotation(x='2014-02-01',\n",
    "                   y=850_000,\n",
    "                   text=\"Type One AE attendances and admissions <br>\"\n",
    "                        \"from Aug 2010 to Mar 2024\",\n",
    "                   showarrow=False,)\n",
    "\n",
    "fig.add_annotation(x='2020-04-01', \n",
    "                   y=680_000, \n",
    "                   text=\"First Lockdown\", \n",
    "                   showarrow=True, \n",
    "                   arrowhead=1, \n",
    "                   ay='-30', \n",
    "                   ax='-60',\n",
    "                   bgcolor='lightblue')\n",
    "\n",
    "fig.add_annotation(x='2021-02-01',\n",
    "                   y=903_000,\n",
    "                   text=\"Last Lockdown\",\n",
    "                   showarrow=True,\n",
    "                   arrowhead=1,\n",
    "                   ay='25',\n",
    "                   ax='70',\n",
    "                   bgcolor='#ADD8E6')\n",
    "\n",
    "fig.update_layout(template='xgridoff',\n",
    "                  title='AandE Attendances and Admissions by Type',\n",
    "                  title_x=0.5,\n",
    "                  font=dict(),\n",
    "                  xaxis=dict(title='Month'), \n",
    "                  yaxis=dict(title='Number of Attendances/Admissions'),\n",
    "                  height=500,\n",
    "                  width=950,\n",
    "                  margin=dict(r=10)\n",
    "                 )  \n",
    "\n",
    "fig.show()"
   ]
  },
  {
   "cell_type": "markdown",
   "id": "87e3e07d",
   "metadata": {},
   "source": [
    "**Activity**\n",
    "\n",
    "Add annotation to the chart from the last activity explaining the horizontal line(s) that were added."
   ]
  },
  {
   "cell_type": "code",
   "execution_count": null,
   "id": "feac6e06",
   "metadata": {},
   "outputs": [],
   "source": [
    "# Your code here\n",
    "\n",
    "\n",
    "\n",
    "\n",
    "\n",
    "\n",
    "\n",
    "\n",
    "\n",
    "\n",
    "\n",
    "\n",
    "\n",
    "\n"
   ]
  },
  {
   "cell_type": "markdown",
   "id": "0c18132a",
   "metadata": {},
   "source": [
    "### Legend Settings"
   ]
  },
  {
   "cell_type": "markdown",
   "id": "900d4a9986d1cb9c",
   "metadata": {},
   "source": [
    "The legend needs a title, and the placement can be specified to allow more room for the chart."
   ]
  },
  {
   "cell_type": "code",
   "execution_count": null,
   "id": "6da5ebe5f7f6e8f4",
   "metadata": {
    "ExecuteTime": {
     "end_time": "2024-05-17T12:21:38.991378Z",
     "start_time": "2024-05-17T12:21:38.901731Z"
    }
   },
   "outputs": [],
   "source": [
    "fig = px.line(data_frame=df, \n",
    "              x='month', \n",
    "              y=['ae_type_1', 'emergency_admissions_via_type_1'])\n",
    "\n",
    "fig.add_vrect(x0=\"2020-02-01\", \n",
    "              x1=\"2021-05-01\",\n",
    "              annotation_text=\"Covid\", \n",
    "              annotation_position=\"top left\",\n",
    "              fillcolor=\"green\", \n",
    "              opacity=0.25, \n",
    "              line_width=0)\n",
    "\n",
    "fig.add_annotation(x='2014-02-01',\n",
    "                   y=850_000,\n",
    "                   text=\"Type One AE attendances and admissions <br>\"\n",
    "                        \"from Aug 2010 to Mar 2024\",\n",
    "                   showarrow=False,)\n",
    "\n",
    "fig.add_annotation(x='2020-04-01', \n",
    "                   y=680_000, \n",
    "                   text=\"First Lockdown\", \n",
    "                   showarrow=True, \n",
    "                   arrowhead=1, \n",
    "                   ay='-30', \n",
    "                   ax='-60',\n",
    "                   bgcolor='lightblue')\n",
    "\n",
    "fig.add_annotation(x='2021-02-01',\n",
    "                   y=903_000,\n",
    "                   text=\"Last Lockdown\",\n",
    "                   showarrow=True,\n",
    "                   arrowhead=1,\n",
    "                   ay='25',\n",
    "                   ax='70',\n",
    "                   bgcolor='#ADD8E6')\n",
    "\n",
    "fig.update_layout(template='xgridoff',\n",
    "                  title='AandE Attendances and Admissions by Type',\n",
    "                  title_x=.5,\n",
    "                  font=dict(),\n",
    "                  xaxis=dict(title='Month'), \n",
    "                  yaxis=dict(title='Number of Attendances/Admissions'),\n",
    "                  height=500,\n",
    "                  width=950,\n",
    "                  margin=dict(r=10),\n",
    "                  legend=dict(title='Patient Type', # Adding a title to the legend \n",
    "                              x=0, # x position\n",
    "                              y=-0.35, # y position\n",
    "                              bordercolor=\"Black\", # border color\n",
    "                              borderwidth=1) # border thickness\n",
    "                 )  \n",
    "\n",
    "fig.show()"
   ]
  },
  {
   "cell_type": "markdown",
   "id": "d9cc177d",
   "metadata": {},
   "source": [
    "### Trace Types"
   ]
  },
  {
   "cell_type": "markdown",
   "id": "3793b6a355545916",
   "metadata": {},
   "source": [
    "Let's make our graph more complex and change one of the traces to a bar chart. "
   ]
  },
  {
   "cell_type": "code",
   "execution_count": null,
   "id": "14c8de7266cc6ee2",
   "metadata": {
    "ExecuteTime": {
     "end_time": "2024-05-17T12:21:39.078176Z",
     "start_time": "2024-05-17T12:21:38.994368Z"
    }
   },
   "outputs": [],
   "source": [
    "fig = px.line(data_frame=df,\n",
    "              x='month',\n",
    "              y=['ae_type_1']) # remove the second trace from here and replace it with the below.\n",
    "\n",
    "# change the second trace from line to bar\n",
    "fig.add_bar(x=df['month'],\n",
    "            y=df['emergency_admissions_via_type_1'],\n",
    "            name='ae admission via type 1', # specify the name for the legend\n",
    "            marker_color='#d1495b'), # specify the colour of the bars\n",
    "\n",
    "fig.add_vrect(x0=\"2020-02-01\", \n",
    "              x1=\"2021-05-01\",\n",
    "              annotation_text=\"Covid\", \n",
    "              annotation_position=\"top left\",\n",
    "              fillcolor=\"green\", \n",
    "              opacity=0.25, \n",
    "              line_width=0)\n",
    "\n",
    "fig.add_annotation(x='2014-02-01',\n",
    "                   y=850_000,\n",
    "                   text=\"Type One AE attendances and admissions <br>\"\n",
    "                        \"from Aug 2010 to Mar 2024\",\n",
    "                   showarrow=False,)\n",
    "\n",
    "fig.add_annotation(x='2020-04-01', \n",
    "                   y=680_000, \n",
    "                   text=\"First Lockdown\", \n",
    "                   showarrow=True, \n",
    "                   arrowhead=1, \n",
    "                   ay='-30', \n",
    "                   ax='-60',\n",
    "                   bgcolor='lightblue')\n",
    "\n",
    "fig.add_annotation(x='2021-02-01',\n",
    "                   y=903_000,\n",
    "                   text=\"Last Lockdown\",\n",
    "                   showarrow=True,\n",
    "                   arrowhead=1,\n",
    "                   ay='25',\n",
    "                   ax='70',\n",
    "                   bgcolor='#ADD8E6')\n",
    "\n",
    "fig.update_layout(template='xgridoff',\n",
    "                  title='AandE Attendances and Admissions by Type',\n",
    "                  title_x=.5,\n",
    "                  font=dict(),\n",
    "                  xaxis=dict(title='Month'), \n",
    "                  yaxis=dict(title='Number of Attendances/Admissions'),\n",
    "                  height=500,\n",
    "                  width=950,\n",
    "                  margin=dict(r=10),\n",
    "                  legend=dict(title='Patient Type',\n",
    "                              x=0, \n",
    "                              y=-0.35, \n",
    "                              bordercolor=\"Black\", \n",
    "                              borderwidth=1)          \n",
    "                 )  \n",
    "\n",
    "fig.show()"
   ]
  },
  {
   "cell_type": "markdown",
   "id": "93a2d429",
   "metadata": {},
   "source": [
    "**Activity**:\n",
    "\n",
    "Using the demonstrated example above, \n",
    "* add `ae_type_2` as and additional a line trace.\n",
    "* add `'emergency_admissions_via_type_2'` as an additional bar trace. <br>\n",
    "\n",
    "Ensuring that each trace has a different colour. <br>\n",
    "\n",
    "The resulting figure will then have a total of four traces. Two lines traces - 'ae_type_1' and 'ae_type_2' and two bar traces - 'emergency_admissions_via_type_1' and 'emergency_admissions_via_type_2'.\n",
    "\n",
    "Note: The 'emergency_admissions_via_type_2' trace has a small scale. As Plotly charts are interactive, use the 'cross-hairs' to zoom in on the figure to check that the bars are there!<br>\n",
    "To zoom back out again, double click anywhere on the figure."
   ]
  },
  {
   "cell_type": "code",
   "execution_count": null,
   "id": "6ba85139",
   "metadata": {},
   "outputs": [],
   "source": [
    "# Your code here\n",
    "\n",
    "\n",
    "\n",
    "\n",
    "\n",
    "\n",
    "\n",
    "\n",
    "\n",
    "\n",
    "\n",
    "\n",
    "\n",
    "\n"
   ]
  },
  {
   "cell_type": "markdown",
   "id": "e05ff793",
   "metadata": {},
   "source": [
    "### Standardising & Common Scales"
   ]
  },
  {
   "cell_type": "markdown",
   "id": "58b63479c24a7810",
   "metadata": {},
   "source": [
    "It is common to see graphs with altered axis, this is useful for seeing small fluctuations in data when scales are large. However, if used inconsistently it is likely to lead to misinterpretation of data. It is recommended to limit the use of manipulated scales where possible, and if it is required to do it consistently. If that is not possible then you should ensure you have made it clear to the reader that the scale on that graph is different to the graphs. \n",
    "\n",
    "For this example, lets ensure that the y-axis starts from zero."
   ]
  },
  {
   "cell_type": "code",
   "execution_count": null,
   "id": "400a58fdd3ecc82e",
   "metadata": {
    "ExecuteTime": {
     "end_time": "2024-05-17T12:21:39.153408Z",
     "start_time": "2024-05-17T12:21:39.079174Z"
    }
   },
   "outputs": [],
   "source": [
    "fig = px.line(data_frame=df,\n",
    "              x='month',\n",
    "              y=['ae_type_1'])\n",
    "\n",
    "# change the second trace from line to bar\n",
    "fig.add_bar(x=df['month'],\n",
    "            y=df['emergency_admissions_via_type_1'],\n",
    "            name='ae admission via type 1', # specify the name for the legend\n",
    "            marker_color='#d1495b'), # specify the colour of the bars\n",
    "\n",
    "fig.add_vrect(x0=\"2020-02-01\", \n",
    "              x1=\"2021-05-01\",\n",
    "              annotation_text=\"Covid\", \n",
    "              annotation_position=\"top left\",\n",
    "              fillcolor=\"green\", \n",
    "              opacity=0.25, \n",
    "              line_width=0)\n",
    "\n",
    "fig.add_annotation(x='2014-02-01',\n",
    "                   y=850_000,\n",
    "                   text=\"Type One AE attendances and admissions <br>\"\n",
    "                        \"from Aug 2010 to Mar 2024\",\n",
    "                   showarrow=False,)\n",
    "\n",
    "fig.add_annotation(x='2020-04-01', \n",
    "                   y=680_000, \n",
    "                   text=\"First Lockdown\", \n",
    "                   showarrow=True, \n",
    "                   arrowhead=1, \n",
    "                   ay='-30', \n",
    "                   ax='-60',\n",
    "                   bgcolor='lightblue')\n",
    "\n",
    "fig.add_annotation(x='2021-02-01',\n",
    "                   y=903_000,\n",
    "                   text=\"Last Lockdown\",\n",
    "                   showarrow=True,\n",
    "                   arrowhead=1,\n",
    "                   ay='25',\n",
    "                   ax='70',\n",
    "                   bgcolor='#ADD8E6')\n",
    "\n",
    "fig.update_layout(template='xgridoff',\n",
    "                  title='AandE Attendances and Admissions by Type',\n",
    "                  title_x=.5,\n",
    "                  font=dict(),\n",
    "                  xaxis=dict(title='Month'), \n",
    "                  yaxis=dict(title='Number of Attendances/Admissions',\n",
    "                            rangemode=\"tozero\"), # set the y-axis to start from zero\n",
    "                  height=500,\n",
    "                  width=950,\n",
    "                  margin=dict(r=10),\n",
    "                  legend=dict(title='Patient Type',\n",
    "                              x=0,\n",
    "                              y=-0.35,\n",
    "                              bordercolor=\"Black\",\n",
    "                              borderwidth=1)            \n",
    "                 )  \n",
    "\n",
    "fig.show()"
   ]
  },
  {
   "cell_type": "markdown",
   "id": "bd5e4d00f510fc2a",
   "metadata": {},
   "source": [
    "### Reasonable Demands\n",
    "\n",
    "Now we are going to add a slider to make the chart more interactive and allow the user to focus on areas of interest. <br>\n",
    "Note that the position of the legend also needs to be adjusted to cater for the slider."
   ]
  },
  {
   "cell_type": "code",
   "execution_count": null,
   "id": "5eb33c946d03e195",
   "metadata": {
    "ExecuteTime": {
     "end_time": "2024-05-17T12:21:39.230577Z",
     "start_time": "2024-05-17T12:21:39.155403Z"
    }
   },
   "outputs": [],
   "source": [
    "fig = px.line(data_frame=df,\n",
    "              x='month',\n",
    "              y=['ae_type_1'])\n",
    "\n",
    "fig.add_bar(x=df['month'],\n",
    "            y=df['emergency_admissions_via_type_1'],\n",
    "            name='ae admission via type 1', \n",
    "            marker_color='#d1495b'), \n",
    "\n",
    "fig.add_vrect(x0=\"2020-02-01\", \n",
    "              x1=\"2021-05-01\",\n",
    "              annotation_text=\"Covid\", \n",
    "              annotation_position=\"top left\",\n",
    "              fillcolor=\"green\", \n",
    "              opacity=0.25, \n",
    "              line_width=0)\n",
    "\n",
    "fig.add_annotation(x='2014-02-01',\n",
    "                   y=850_000,\n",
    "                   text=\"Type One AE attendances and admissions <br>\"\n",
    "                        \"from Aug 2010 to Mar 2024\",\n",
    "                   showarrow=False,)\n",
    "\n",
    "fig.add_annotation(x='2020-04-01', \n",
    "                   y=680_000, \n",
    "                   text=\"First Lockdown\", \n",
    "                   showarrow=True, \n",
    "                   arrowhead=1, \n",
    "                   ay='-30', \n",
    "                   ax='-60',\n",
    "                   bgcolor='lightblue')\n",
    "\n",
    "fig.add_annotation(x='2021-02-01',\n",
    "                   y=903_000,\n",
    "                   text=\"Last Lockdown\",\n",
    "                   showarrow=True,\n",
    "                   arrowhead=1,\n",
    "                   ay='25',\n",
    "                   ax='70',\n",
    "                   bgcolor='#ADD8E6')\n",
    "\n",
    "fig.update_layout(template='xgridoff',\n",
    "                  title='AandE Attendances and Admissions by Type',\n",
    "                  title_x=.5,\n",
    "                  font=dict(),\n",
    "                  xaxis=dict(title='Month',\n",
    "                            rangeslider=dict(visible=True), # add x axis range slider\n",
    "                             type=\"date\"),                   # add x axis range slider), \n",
    "                  yaxis=dict(title='Number of Attendances/Admissions',\n",
    "                            rangemode=\"tozero\"),\n",
    "                  height=500,\n",
    "                  width=950,\n",
    "                  margin=dict(r=10),\n",
    "                  legend=dict(title='Patient Type',\n",
    "                              x=0, \n",
    "                              y=-0.65, # y position changed to cater for the slider \n",
    "                              bordercolor=\"Black\",\n",
    "                              borderwidth=1)         \n",
    "                 )  \n",
    "\n",
    "fig.show()"
   ]
  },
  {
   "cell_type": "markdown",
   "id": "c000d63b",
   "metadata": {},
   "source": [
    "## Large Activity using Plotly Express"
   ]
  },
  {
   "cell_type": "markdown",
   "id": "4eee5963423fb07b",
   "metadata": {},
   "source": [
    "Now see if you can create an area chart based on the principles we have covered here. <br>\n",
    "Look for a source of data from: <br>\n",
    "* [https://www.england.nhs.uk/statistics/statistical-work-areas/](https://www.england.nhs.uk/statistics/statistical-work-areas/)"
   ]
  },
  {
   "cell_type": "markdown",
   "id": "c91bac019305d4d7",
   "metadata": {},
   "source": [
    "**An Example Area Chart**\n",
    "\n",
    "Here is an example of an area chart, using file: [Beds Time-series 2010-11 onwards.xls](https://view.officeapps.live.com/op/view.aspx?src=https%3A%2F%2Fwww.england.nhs.uk%2Fstatistics%2Fwp-content%2Fuploads%2Fsites%2F2%2F2024%2F02%2FBeds-Timeseries-2010-11-onwards-Q3-2023-24-POKJH.xls&wdOrigin=BROWSELINK) taken from:\n",
    "[https://www.england.nhs.uk/statistics/statistical-work-areas/bed-availability-and-occupancy/bed-availability-and-occupancy-kh03/](https://www.england.nhs.uk/statistics/statistical-work-areas/bed-availability-and-occupancy/bed-availability-and-occupancy-kh03/)\n"
   ]
  },
  {
   "cell_type": "code",
   "execution_count": null,
   "id": "e13363447f26fb49",
   "metadata": {
    "ExecuteTime": {
     "end_time": "2024-05-17T12:21:39.392998Z",
     "start_time": "2024-05-17T12:21:39.235737Z"
    }
   },
   "outputs": [],
   "source": [
    "\"\"\"\n",
    "Hide this code. \n",
    "\"\"\"\n",
    "# import\n",
    "df_example = pd.read_csv('data/beds_timeseries.csv')\n",
    "\n",
    "# format dates\n",
    "df_example['period_start'] = pd.to_datetime(df_example['period_start'], dayfirst=True)\n",
    "\n",
    "\n",
    "# plot\n",
    "fig = px.area(data_frame=df_example,\n",
    "              x='period_start',\n",
    "              y=['general_acute', 'learning_disabilities','maternity','mental_illness'],\n",
    "              color_discrete_sequence=px.colors.qualitative.Dark24)\n",
    "\n",
    "major_tickvals = pd.date_range(start=df_example['period_start'].min(), end=df_example['period_start'].max(), freq='YS')\n",
    "\n",
    "fig.add_vrect(x0=\"2020-02-01\",\n",
    "              x1=\"2021-05-01\",\n",
    "              annotation_text=\"Covid\",\n",
    "              annotation_position=\"top left\",\n",
    "              fillcolor=\"grey\",\n",
    "              opacity=0.25, line_width=0)\n",
    "\n",
    "fig.add_annotation(x='2020-04-01',\n",
    "                   y=58_000,\n",
    "                   text=\"First Lockdown\",\n",
    "                   showarrow=True,\n",
    "                   arrowhead=1,\n",
    "                   ay='30',\n",
    "                   ax='-60',\n",
    "                   bgcolor='lightblue')\n",
    "\n",
    "fig.update_layout(template='seaborn',\n",
    "                  title='<b>Average Daily Available Beds Open Overnight</b>',\n",
    "                  font=dict(family='Arial, monospace'),\n",
    "                  xaxis=dict(title='Period',\n",
    "                             rangeslider=dict(visible=True),\n",
    "                             type=\"date\",\n",
    "                             tickmode='array',\n",
    "                             tickvals=major_tickvals,\n",
    "                             ticktext=major_tickvals.strftime('%Y'),\n",
    "                             dtick='M12',\n",
    "                             ),\n",
    "                  yaxis=dict(title='Number of Available Beds', rangemode=\"tozero\"),\n",
    "                  margin=dict(b=60, r=10),\n",
    "                  legend=dict(title='Bed Type'),\n",
    "                  showlegend=True\n",
    "                  )\n",
    "fig.show()"
   ]
  },
  {
   "cell_type": "code",
   "execution_count": null,
   "id": "594951e9",
   "metadata": {},
   "outputs": [],
   "source": [
    "# Your code here\n",
    "\n",
    "\n",
    "\n",
    "\n",
    "\n",
    "\n",
    "\n",
    "\n",
    "\n",
    "\n",
    "\n",
    "\n",
    "\n",
    "\n",
    "\n",
    "\n",
    "\n",
    "\n",
    "\n"
   ]
  }
 ],
 "metadata": {
  "kernelspec": {
   "display_name": "Python 3 (ipykernel)",
   "language": "python",
   "name": "python3"
  },
  "language_info": {
   "codemirror_mode": {
    "name": "ipython",
    "version": 3
   },
   "file_extension": ".py",
   "mimetype": "text/x-python",
   "name": "python",
   "nbconvert_exporter": "python",
   "pygments_lexer": "ipython3",
   "version": "3.11.5"
  }
 },
 "nbformat": 4,
 "nbformat_minor": 5
}
