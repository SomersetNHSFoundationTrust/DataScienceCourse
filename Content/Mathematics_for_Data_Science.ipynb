{
 "cells": [
  {
   "cell_type": "markdown",
   "metadata": {},
   "source": [
    "# Mathematics and Statistics for Data Science"
   ]
  },
  {
   "cell_type": "code",
   "execution_count": null,
   "metadata": {},
   "outputs": [],
   "source": [
    "import numpy as np\n",
    "# math library provides mathematical function and constants: See more here: https://docs.python.org/3/library/math.html\n",
    "import math"
   ]
  },
  {
   "cell_type": "markdown",
   "metadata": {},
   "source": [
    "# Maths Basics and Calculus review"
   ]
  },
  {
   "cell_type": "markdown",
   "metadata": {},
   "source": [
    "## Introduction to number systems"
   ]
  },
  {
   "cell_type": "markdown",
   "metadata": {},
   "source": [
    "* **Natural Numbers:**\n",
    "These are simple counting numbers (not including zero or negative numbers) i.e., $1, 2, 3...$ etc. This is the earliest set of numbers used by humans (i.e., lines cut into stone or bone to represent a count). <br>\n",
    "```natural_number_example_list = [2, 3, 5, 7, 11, 13]``` <br> <br>\n",
    "* **Whole Numbers:** If we include the number 0 in the set of natural numbers, we have the set of whole numbers. <br>\n",
    "```whole_number_example_list = [0, 2, 3, 4, 5, 600]``` <br> <br>\n",
    "* **Integers:** These include the whole numbers, but also also negative numbers. <br>\n",
    "```integer_number_example_list = [-100, -1, 0, 2, 3]``` <br> <br>\n",
    "* **Rational numbers:** All numbers that can be expressed as fractions (i.e., $1\\over2$, $5\\over3$, $2\\over1$, $0\\over2$).<br>\n",
    "```rational_number_example_list = [-1/3, 0/4, 1/1, 500/3]``` <br> <br>\n",
    "* **Irrational numbers:** All numbers that can ***NOT*** be expressed as fractions. This includes $\\pi$ and $\\sqrt{2}$ (we can access some of these irrational numbers from the python library ```math```).<br>\n",
    "```irrational_number_example_list = [math.pi, 2**0.5]``` <br> <br>\n",
    "* **Real numbers:** Real numbers include rational and irrational numbers. All the number systems above are a subset of the real numbers.\n",
    "```real_number_example_list = [math.pi, 1/3, -500, 2.1]``` <br> <br>\n",
    "* **Complex numbers:** Imaginary numbers are defined by the square root of a negative number. We will very rarely encounter complex numbers in data science tasks. \n",
    "\n",
    "In most data science tasks, you'll be typically working with real numbers"
   ]
  },
  {
   "cell_type": "markdown",
   "metadata": {},
   "source": [
    "## Numbers in python"
   ]
  },
  {
   "cell_type": "markdown",
   "metadata": {},
   "source": [
    "In python, there are three distinct numeric types: \n",
    "* integers ```int``` (INT, SMALLINT, BIGINT etc... in SQL).\n",
    "* floating point numbers ```float``` (FLOAT, DECIMAL, etc... in SQL).\n",
    "* complex numbers ```complex``` (not supported in SQL).\n",
    "\n",
    "```type()``` is a built-in python function that returns the type of an object. For example, ```type(1)``` returns ```int```."
   ]
  },
  {
   "cell_type": "markdown",
   "metadata": {},
   "source": [
    "### Task 1 (10 minutes)"
   ]
  },
  {
   "cell_type": "markdown",
   "metadata": {},
   "source": [
    "Let's apply the concept of loops covered yesterday to inspect the different number types.\n",
    "\n",
    "Choose a list from the example number systems above (copy and paste the list below). Loop through each element in your chosen list and print the data type for each member."
   ]
  },
  {
   "cell_type": "code",
   "execution_count": null,
   "metadata": {},
   "outputs": [],
   "source": [
    "# Your code here"
   ]
  },
  {
   "cell_type": "markdown",
   "metadata": {},
   "source": [
    "Hint: See https://www.w3schools.com/python/python_numbers.asp for more information on python number types."
   ]
  },
  {
   "cell_type": "code",
   "execution_count": null,
   "metadata": {},
   "outputs": [],
   "source": [
    "# Answer\n",
    "for x in [math.pi, 1/3, -500, 2.1]:\n",
    "    display(type(x))"
   ]
  },
  {
   "cell_type": "markdown",
   "metadata": {},
   "source": [
    "## Arithmetic operations in python"
   ]
  },
  {
   "cell_type": "markdown",
   "metadata": {},
   "source": [
    "There are 7 important mathematical operations available in python (described in Day 1). As a refresher, these operations are:"
   ]
  },
  {
   "cell_type": "markdown",
   "metadata": {},
   "source": [
    "<b>1. Addition</b>"
   ]
  },
  {
   "cell_type": "code",
   "execution_count": null,
   "metadata": {},
   "outputs": [],
   "source": [
    "# Define two variables x and y\n",
    "x = 5\n",
    "y = 2"
   ]
  },
  {
   "cell_type": "code",
   "execution_count": null,
   "metadata": {},
   "outputs": [],
   "source": [
    "# using the addition operator\n",
    "output = x + y\n",
    "print(output)"
   ]
  },
  {
   "cell_type": "markdown",
   "metadata": {},
   "source": [
    "<b>2. Subtraction</b>"
   ]
  },
  {
   "cell_type": "code",
   "execution_count": null,
   "metadata": {},
   "outputs": [],
   "source": [
    "output = x - y\n",
    "print(output)"
   ]
  },
  {
   "cell_type": "markdown",
   "metadata": {},
   "source": [
    "<b>3. Multiplication</b>"
   ]
  },
  {
   "cell_type": "code",
   "execution_count": null,
   "metadata": {},
   "outputs": [],
   "source": [
    "output = x * y\n",
    "print(output)"
   ]
  },
  {
   "cell_type": "markdown",
   "metadata": {},
   "source": [
    "<b>4. Division</b>"
   ]
  },
  {
   "cell_type": "code",
   "execution_count": null,
   "metadata": {},
   "outputs": [],
   "source": [
    "output = x / y\n",
    "print(output)"
   ]
  },
  {
   "cell_type": "markdown",
   "metadata": {},
   "source": [
    "<b>5. Modulus</b>"
   ]
  },
  {
   "cell_type": "code",
   "execution_count": null,
   "metadata": {},
   "outputs": [],
   "source": [
    "output = x % y\n",
    "print(output)"
   ]
  },
  {
   "cell_type": "markdown",
   "metadata": {},
   "source": [
    "<b>6. Exponentiation</b>"
   ]
  },
  {
   "cell_type": "code",
   "execution_count": null,
   "metadata": {},
   "outputs": [],
   "source": [
    "output = x ** y\n",
    "print(output)"
   ]
  },
  {
   "cell_type": "markdown",
   "metadata": {},
   "source": [
    "<b>7. Floor division</b>"
   ]
  },
  {
   "cell_type": "code",
   "execution_count": null,
   "metadata": {},
   "outputs": [],
   "source": [
    "output = x // y\n",
    "print(output)"
   ]
  },
  {
   "cell_type": "markdown",
   "metadata": {},
   "source": [
    "<div class=\"alert alert-block alert-danger\">\n",
    "<b>Compound Assignment Operators (advanced)</b>\n",
    "</div>"
   ]
  },
  {
   "cell_type": "markdown",
   "metadata": {},
   "source": [
    "If you want to update a value of a variable, it's good practice to make use of compound assignment operations"
   ]
  },
  {
   "cell_type": "code",
   "execution_count": null,
   "metadata": {},
   "outputs": [],
   "source": [
    "# Normal arithmetic operation\n",
    "x = x * 5\n",
    "\n",
    "# Equivilant compound assignment operation\n",
    "x *= 5\n",
    "# See more information on assignemnt operations here: https://www.w3schools.com/python/gloss_python_assignment_operators.asp "
   ]
  },
  {
   "cell_type": "markdown",
   "metadata": {},
   "source": [
    "## Order of operations (BIDMAS)\n",
    "\n",
    "The order of operations are the rules that tell us the sequence in which we solve expressions with multiple operations. BIDMAS is an acronym used to remember the order of operations in arithmetic. "
   ]
  },
  {
   "cell_type": "markdown",
   "metadata": {},
   "source": [
    "***Order of operations***:\n",
    "\n",
    "1. **B**rackets: Operations involving brackets are performed first (work from the inner most set outwards). <br>\n",
    "2. **I**ndices: Next, perform operations involving exponents (indices). <br>\n",
    "3. **D**ivision & **M**ultiplication (equal priority): Next, perform operations involving division and multiplication (prioritise from left to right). <br>\n",
    "4. **A**ddition & **S**ubtraction (equal priority): Finally, perform operations involving addition and subtraction (prioritise from left to right)."
   ]
  },
  {
   "cell_type": "markdown",
   "metadata": {},
   "source": [
    "For the most part, you won't need to memorise or know how to apply these rules as python follows BIDMAS when carrying out calculations with multiple expressions.\n",
    "\n",
    "But it's important to avoid ambiguity when writing out complex equations!"
   ]
  },
  {
   "cell_type": "markdown",
   "metadata": {},
   "source": [
    "$6 \\div 2(1+2)\\$ = ?"
   ]
  },
  {
   "cell_type": "code",
   "execution_count": null,
   "metadata": {},
   "outputs": [],
   "source": [
    "#Writing it exactly as it's shown.\n",
    "6 / 2 * (1 + 2)"
   ]
  },
  {
   "cell_type": "code",
   "execution_count": null,
   "metadata": {},
   "outputs": [],
   "source": [
    "#Brackets may be implied, which gives a different answer!\n",
    "6 / (2 * (1 + 2))"
   ]
  },
  {
   "cell_type": "markdown",
   "metadata": {},
   "source": [
    "### Task 2 (5-10 minutes)"
   ]
  },
  {
   "cell_type": "markdown",
   "metadata": {},
   "source": [
    "Solve $5 + (3 \\times 2) - 4^2 \\div 2$ using the prioritisation rules from BIDMAS. Check your answer in python for the solution."
   ]
  },
  {
   "cell_type": "code",
   "execution_count": null,
   "metadata": {},
   "outputs": [],
   "source": [
    "# Your working here"
   ]
  },
  {
   "cell_type": "markdown",
   "metadata": {},
   "source": [
    "## Functions"
   ]
  },
  {
   "cell_type": "markdown",
   "metadata": {},
   "source": [
    "The concept of a function in python was discussed in Day 1 of the course. Put simply, a function can be broken down into 3 components:\n",
    "* <b>Input:</b> Sometimes called the dependant variable. A set of items/numbers (i.e., the real numbers).\n",
    "* <b>Relationship:</b> Usually, mathematical operations are applied to the input (i.e., adding/multiplication)\n",
    "* <b>Output:</b> Sometimes called the dependant variable (depends on the value of the input)."
   ]
  },
  {
   "cell_type": "markdown",
   "metadata": {},
   "source": [
    "### Function of a straight line"
   ]
  },
  {
   "cell_type": "markdown",
   "metadata": {},
   "source": [
    "The straight line function is given by $f(x) = mx + c$, where m and c are constant numbers (any real number). The linear function is used in various data science tasks, for example, linear regression & time series forecasting (topics covered in days 4 & 5)."
   ]
  },
  {
   "cell_type": "code",
   "execution_count": null,
   "metadata": {},
   "outputs": [],
   "source": [
    "# First, we create a straight line function:\n",
    "def straight_line(input_number, gradient, intercept):\n",
    "    \"\"\"\n",
    "    Equation for a straight line.\n",
    "\n",
    "    Args:\n",
    "        input_number (float): The x value for the straight line (input for function).\n",
    "        gradient (float): The gradient of the straight line.\n",
    "        intercept (float): The y-intercept for the straight line.\n",
    "\n",
    "    Returns:\n",
    "        float: The y-value of the straight line (function output).\n",
    "    \"\"\"\n",
    "    return input_number * gradient + intercept"
   ]
  },
  {
   "cell_type": "code",
   "execution_count": null,
   "metadata": {},
   "outputs": [],
   "source": [
    "# Let's feed in an input value and see the result:\n",
    "output = straight_line(input_number = 5, gradient = 5, intercept = 3)\n",
    "print(output)"
   ]
  },
  {
   "cell_type": "code",
   "execution_count": null,
   "metadata": {},
   "outputs": [],
   "source": [
    "'''\n",
    "!!Feel free to ignore this cell, data visualisations will be covered on Day 3!!\n",
    "'''\n",
    "\n",
    "# import Plotly graphing library\n",
    "import plotly.graph_objects as go\n",
    "\n",
    "def plot_straight_line(gradient, intercept):\n",
    "\n",
    "    axis_range = [-20, 20]\n",
    "    # Specify input x values\n",
    "    x_vals = np.linspace(-50, 50, 200)\n",
    "    # Use the straight_line function to calculate outputs\n",
    "    y_vals = [straight_line(i, gradient=gradient, intercept = intercept) for i in x_vals]\n",
    "\n",
    "    # Initialise figure\n",
    "    fig = go.Figure()\n",
    "    # Format axis\n",
    "    fig.update_xaxes(range=axis_range,\n",
    "                     title = 'y', \n",
    "                     tickmode = 'linear',\n",
    "                     showticklabels = False, \n",
    "                     side='left', \n",
    "                     gridcolor=\"rgba(224,224,224, 0.9)\")\n",
    "    fig.update_yaxes(range=axis_range, \n",
    "                     title = 'x', \n",
    "                     tickmode = 'linear',\n",
    "                     showticklabels = False, \n",
    "                     side='right', \n",
    "                     gridcolor=\"rgba(224,224,224, 0.9)\")\n",
    "    # Using f-strings to update figure title\n",
    "    if intercept>=0:\n",
    "        fig.update_layout(title = f'$f(x) = {gradient}x + {intercept}$')\n",
    "    else:\n",
    "        fig.update_layout(title = f'$f(x) = {gradient}x {intercept}$')\n",
    "\n",
    "    # Add traces\n",
    "    fig.add_vline(x=0, line_width=2)\n",
    "    fig.add_hline(y=0, line_width=2)\n",
    "    fig.add_trace(go.Scatter(x = x_vals, y = y_vals, mode=\"lines\",line=dict(color=\"#00789c\")))\n",
    "\n",
    "    # Update figure layout\n",
    "    fig.update_layout(plot_bgcolor='rgba(255,255,255, 0.5)', height=500, width=500, \n",
    "                     margin=dict(l=50, r=0, b=0,t=50, pad=0))\n",
    "    \n",
    "    return fig"
   ]
  },
  {
   "cell_type": "markdown",
   "metadata": {},
   "source": [
    "Make use of the custom function, ```plot_straight_line()``` which outputs a graph of the defined straight line function. Use this function and alter the value of the gradient and intercept (you can use any real numbers) for the task below. "
   ]
  },
  {
   "cell_type": "code",
   "execution_count": null,
   "metadata": {},
   "outputs": [],
   "source": [
    "plot_straight_line(gradient =5, intercept = 1)"
   ]
  },
  {
   "cell_type": "markdown",
   "metadata": {},
   "source": [
    "### Task 3 (5 minutes)"
   ]
  },
  {
   "cell_type": "markdown",
   "metadata": {},
   "source": [
    "Modify parameters of the straight line equation  in ```plot_straight_line``` and consider these questions about the gradient (m):\n",
    "1. What happens to the line when the gradient (m) increases/decreases?<br>\n",
    "2. What happens when the gradient is zero?<br>\n",
    "3. What happens when the gradient goes from positive to negative (or vice-versa)?<br>"
   ]
  },
  {
   "cell_type": "markdown",
   "metadata": {},
   "source": [
    "Straight lines are useful as they tell us the rate at which y increases (or decreases) for every unit change in x. For example, a straight line may be used for showing a trend over time i.e., \"Arrivals at a hospital's A&E department are increasing by X% per year\". "
   ]
  },
  {
   "cell_type": "markdown",
   "metadata": {},
   "source": [
    "## Tangent lines"
   ]
  },
  {
   "cell_type": "markdown",
   "metadata": {},
   "source": [
    "#### How do we quantify rates of change when a process does not have a linear relationship? "
   ]
  },
  {
   "cell_type": "markdown",
   "metadata": {},
   "source": [
    "Lets examine how drug concentration varies in the bloodstream following an initial dose.\n",
    "\n",
    "If we want to know the rate of change of the concentration of the drug at a specific time point, we can calculate the tangent line at that point. The tangent line is defined as a line that just touches a curve at a point, matching the curve's slope (i.e., gradient) there."
   ]
  },
  {
   "cell_type": "markdown",
   "metadata": {},
   "source": [
    "Reference: https://digitalcommons.usf.edu/cgi/viewcontent.cgi?article=4942&context=ujmm"
   ]
  },
  {
   "cell_type": "code",
   "execution_count": null,
   "metadata": {},
   "outputs": [],
   "source": [
    "def C_t(t, A=6.2, b=0.5):\n",
    "    '''\n",
    "    Surge function.\n",
    "    \n",
    "    Args:\n",
    "        t (float): The time (in hours) from ingesting drug.\n",
    "        A (float): Constant to define function.\n",
    "        b (float): Constant to define function.\n",
    "\n",
    "    Returns:\n",
    "        float: Concentration in bloodstream\n",
    "    '''\n",
    "    return A * (t**4) * np.exp(-b*t)\n",
    "\n",
    "# Create time points between 0 and 40 hours and use C_t to find concentration at each point\n",
    "hours = np.linspace(0, 40, 4100)\n",
    "concentration = [C_t(time) for time in hours]"
   ]
  },
  {
   "cell_type": "code",
   "execution_count": null,
   "metadata": {},
   "outputs": [],
   "source": [
    "'''\n",
    "!!Feel free to ignore this cell, data visualisations will be covered on Day 3!!\n",
    "'''\n",
    "import plotly.express as px\n",
    "\n",
    "fig = px.line(x=hours, y=concentration)\n",
    "fig.update_layout(xaxis_title=\"Hour (following drug consumption)\", \n",
    "                  yaxis_title=\"Drug concentration\", \n",
    "                  template = 'seaborn', \n",
    "                  title={\n",
    "                      'text': f'Concentration of medication in the bloodstream over time', \n",
    "                      'x': 0.07,\n",
    "                      'xanchor': 'left'\n",
    "                  })\n",
    "fig.show()"
   ]
  },
  {
   "cell_type": "code",
   "execution_count": null,
   "metadata": {},
   "outputs": [],
   "source": [
    "# Function for derivative of surge function\n",
    "def derivative(t):\n",
    "    '''\n",
    "    Function for the derivative of the surge function. \n",
    "    \n",
    "    Args:\n",
    "        t (float): time point to calculate derivate.\n",
    "    Returns:\n",
    "        float: Derivative of function at time t\n",
    "    '''\n",
    "    return -3.1*t**4*np.exp(-0.5*t) + 24.8*t**3*np.exp(-0.5*t)"
   ]
  },
  {
   "cell_type": "code",
   "execution_count": null,
   "metadata": {},
   "outputs": [],
   "source": [
    "'''\n",
    "!!Feel free to ignore this cell, data visualisations will be covered on Day 3!!\n",
    "'''\n",
    "    \n",
    "def plot_c_t(tangent_point):\n",
    "    \n",
    "    '''\n",
    "    Plot tangent line for points along the surge function.\n",
    "    \n",
    "    Args:\n",
    "        tangent_point (float, >0): time point to calculate derivate.\n",
    "    Returns:\n",
    "        fig: Plotly figure of surge function with tangent line.\n",
    "    '''\n",
    "    \n",
    "    # Define points along surge function to calculate tangent.\n",
    "    y1 = C_t(tangent_point)\n",
    "    x1 = tangent_point\n",
    "    \n",
    "    # Initialise figure\n",
    "    fig = go.Figure()\n",
    "    # Add traces\n",
    "    fig.add_trace(go.Scatter(x=hours, \n",
    "                             y=concentration, \n",
    "                             name = 'Drug concentration', \n",
    "                             line = dict(color = '#00789c')))\n",
    "    xrange = np.linspace(x1-3, x1+3, 10) # Define range of graph\n",
    "    \n",
    "    # Define points along the tangent line\n",
    "    line_eq = lambda hours, x1, y1: derivative(x1)*(hours - x1) + y1\n",
    "    fig.add_trace(go.Scatter(x=xrange, \n",
    "                             y=line_eq(xrange, x1, y1), \n",
    "                             name = 'Tangent line', \n",
    "                             mode = 'lines',\n",
    "                             line = dict(shape = 'linear', width= 4)))\n",
    "    \n",
    "    # Calculate gradient using derivative function\n",
    "    gradient = round(derivative(tangent_point), 2)\n",
    "    \n",
    "    # Update figure layout\n",
    "    fig.update_layout(title={\n",
    "            'text': f'At hour {tangent_point} the tangent line has gradient {gradient}<br><sup>Graph showing drug concentration in bloodstream changes over a 40 hour period</sup>', \n",
    "            'x': 0.07,\n",
    "            'xanchor': 'left'\n",
    "        })\n",
    "    fig.update_layout(margin=dict(r=5))\n",
    "    fig.update_layout({\n",
    "            'paper_bgcolor': 'rgba(0, 0, 0, 0)'\n",
    "            }, template = 'seaborn')\n",
    "    fig.update_layout(\n",
    "        xaxis_title=\"Hour (following drug consumption)\",\n",
    "        yaxis_title=\"Drug concentration\"\n",
    "    )\n",
    "    \n",
    "    return fig"
   ]
  },
  {
   "cell_type": "code",
   "execution_count": null,
   "metadata": {},
   "outputs": [],
   "source": [
    "plot_c_t(tangent_point = 7)"
   ]
  },
  {
   "cell_type": "markdown",
   "metadata": {},
   "source": [
    "### Task 4 (5-10 minutes)"
   ]
  },
  {
   "cell_type": "markdown",
   "metadata": {},
   "source": [
    "Modify the point of where the tangent is calculated by changing the ```tangent_point``` argument inside the ```plot_c_t``` function. From this, have a think about the following questions:\n",
    "\n",
    "1. At what time range is concentration increasing? What is the behaviour of the gradient of the tangent during this range?\n",
    "2. At approximatly which point do you think concentration reaches a maximum? What is the behaviour of the gradient of the tangent there?\n",
    "3. What happens to the gradient after reaching a maximum? "
   ]
  },
  {
   "cell_type": "code",
   "execution_count": null,
   "metadata": {},
   "outputs": [],
   "source": [
    "# Answers\n",
    "\n",
    "# With this information, you can: <br>\n",
    "# * Find the maximum or minimium (this occurs where the derivative is zero).<br>\n",
    "# * The direction of change (is it increasing or decreasing).<br>\n",
    "# * The magnitude of change i.e., what points show greatest amount of change.<br>"
   ]
  },
  {
   "cell_type": "markdown",
   "metadata": {},
   "source": [
    "### Area below functions\n",
    "\n",
    "The opposite to finding the derivative of a function is finding the integral. The integral gives the area under the function between a certain range (for example, the area under the curve between hours 0 and 8)."
   ]
  },
  {
   "cell_type": "code",
   "execution_count": null,
   "metadata": {},
   "outputs": [],
   "source": [
    "# Function to calculate integral between two time periods\n",
    "def integral(t1, t2):\n",
    "    \n",
    "    '''\n",
    "    Integral for the surge function.\n",
    "    \n",
    "    Inputs:\n",
    "        t1 (float): Initial time point\n",
    "        t2 (float): Latest time point\n",
    "    \n",
    "    returns:\n",
    "        float: Area under curve between t1 and t2\n",
    "    '''\n",
    "    \n",
    "    return (1.0*(-12.4*t2**4 - 99.2*t2**3 - 595.2*t2**2 - 2380.8*t2 - 4761.6)*np.exp(-0.5*t2)) - \\\n",
    "(1.0*(-12.4*t1**4 - 99.2*t1**3 - 595.2*t1**2 - 2380.8*t1 - 4761.6)*np.exp(-0.5*t1))\n"
   ]
  },
  {
   "cell_type": "code",
   "execution_count": null,
   "metadata": {},
   "outputs": [],
   "source": [
    "'''\n",
    "!!Feel free to ignore this cell, data visualisations will be covered on Day 3!!\n",
    "'''\n",
    "\n",
    "def plot_integral(t1, t2):\n",
    "    \n",
    "    '''\n",
    "    Plot shaded region below surge function between two points.\n",
    "    \n",
    "    Args:\n",
    "        t1 (float, >0): Lower limit of integration.\n",
    "        t2 (float, >t1): Upper limit of integration.\n",
    "    Returns:\n",
    "        fig: Plotly figure of surge function with tangent line.\n",
    "    '''\n",
    "    \n",
    "    # Initialise figure\n",
    "    fig = go.Figure()\n",
    "    xx = np.arange(t1, t2, 0.01) # define points between t1, t2\n",
    "    yy = [C_t(x) for x in xx] # define points on surge function between t1, t2\n",
    "    \n",
    "    # Add traces\n",
    "    fig.add_trace(go.Scatter(\n",
    "        x = xx,\n",
    "        y = yy, \n",
    "        fill = 'tozeroy',\n",
    "        fillcolor = '#edae49',\n",
    "        line = dict(color = '#edae49'),\n",
    "        name = 'Area under curve'\n",
    "    ))\n",
    "    fig.add_trace(go.Scatter(x=hours, \n",
    "                             y=concentration, \n",
    "                             name = 'Drug concentration', \n",
    "                             fillcolor = '#00789c', \n",
    "                             line = dict(color = '#00789c')))\n",
    "    # Update layout\n",
    "    fig.update_layout({\n",
    "            'paper_bgcolor': 'rgba(0, 0, 0, 0)'\n",
    "            }, template = 'seaborn')\n",
    "    fig.update_layout(\n",
    "        xaxis_title=\"Hour (following drug consumption)\",\n",
    "        yaxis_title=\"Drug concentration in bloodstream\"\n",
    "    )   \n",
    "    fig.update_layout(title={\n",
    "            'text': f'Finding area below function between two time points during medication process', \n",
    "            'x': 0.08,\n",
    "            'y': 0.86,\n",
    "            'xanchor': 'left'\n",
    "        })\n",
    "\n",
    "    return fig"
   ]
  },
  {
   "cell_type": "code",
   "execution_count": null,
   "metadata": {},
   "outputs": [],
   "source": [
    "# Show area below surge function between two points\n",
    "plot_integral(15, 30)"
   ]
  },
  {
   "cell_type": "markdown",
   "metadata": {},
   "source": [
    "### Task 5 (5 minutes)"
   ]
  },
  {
   "cell_type": "code",
   "execution_count": null,
   "metadata": {},
   "outputs": [],
   "source": [
    "# Calculating integral (area below curve) between hours 15 and 30\n",
    "integral(t1 = 15, t2 = 30)"
   ]
  },
  {
   "cell_type": "markdown",
   "metadata": {},
   "source": [
    "Estimate area (by eye) between hour 5 and 10 (use the square grid lines in the plot). Then, run ```integral(5, 10)``` to see whether you agree with the integral function."
   ]
  },
  {
   "cell_type": "code",
   "execution_count": null,
   "metadata": {},
   "outputs": [],
   "source": [
    "# Your working here"
   ]
  },
  {
   "cell_type": "markdown",
   "metadata": {},
   "source": [
    "<b>The study of derivatives and integrals is the branch of mathematics known as calculus </b>\n",
    "- Differentiation is concerned with finding the derivative at any point of a function.\n",
    "- Integration is concerned with finding the areas under functions."
   ]
  },
  {
   "cell_type": "markdown",
   "metadata": {},
   "source": [
    "In fact, calculating derivatives and integrals are opposite functions. That is, the oppositive of a derivative gives the integral (and vice-versa)."
   ]
  },
  {
   "cell_type": "markdown",
   "metadata": {},
   "source": [
    "<b>Why do we care about calculus in data science?</b>\n",
    "\n",
    "* <b>Gradient descent:</b> Optimisation technique used in many machine learning models used to minmise some 'cost' function (i.e., finding where the derivative is zero).\n",
    "* <b>Probability analysis:</b> Calculating area under probability density functions are essential statistical skills.\n",
    "* <b>Model evaluation:</b> Integrals are used to assess model performance, by computing areas under curves, as seen in ROC analysis."
   ]
  },
  {
   "cell_type": "markdown",
   "metadata": {},
   "source": [
    "Below are some suggested resources/ reading should you wish to learn more about calculus.\n",
    "\n",
    "<b>Suggested reading:</b>\n",
    "\n",
    "1. Esssential math for data science (chapter 1).\n",
    "2. Thomas Calculus (the gold standard textbook for calculus).\n",
    "\n",
    "<b>Further application of calculus in healthcare (epidemiological modelling):</b><br>\n",
    "https://scientific-python.readthedocs.io/en/latest/notebooks_rst/3_Ordinary_Differential_Equations/02_Examples/Epidemic_model_SIR.html"
   ]
  },
  {
   "cell_type": "markdown",
   "metadata": {},
   "source": [
    "# Probability theory"
   ]
  },
  {
   "cell_type": "markdown",
   "metadata": {},
   "source": [
    "<b>Probability is how strongly we believe an event will happen (usually expressed as a percentage)</b>"
   ]
  },
  {
   "cell_type": "markdown",
   "metadata": {},
   "source": [
    "For example:\n",
    "* What is the probability patient X arriving to A&E will require a bed?\n",
    "* Will patient Y cancel their appointment?\n",
    "* What is the likelihood patient Z has O negative blood type?"
   ]
  },
  {
   "cell_type": "markdown",
   "metadata": {},
   "source": [
    "<div class=\"alert alert-block alert-warning\">\n",
    "<b>Probability theory is a difficult and unintuitive area of statistics!</b>\n",
    "</div>"
   ]
  },
  {
   "cell_type": "markdown",
   "metadata": {},
   "source": [
    "## What is the probabilty of someone having a certain blood type?"
   ]
  },
  {
   "cell_type": "code",
   "execution_count": null,
   "metadata": {},
   "outputs": [],
   "source": [
    "# Reference: https://www.blood.co.uk/why-give-blood/blood-types/\n",
    "blood_type_data = {\n",
    "  \"Blood Type\": ['O positive', 'O negative', 'A positive', 'A negative', 'B positive', \n",
    "                 'B negative', 'AB positive', 'AB negative'],\n",
    "  \"Prevailance\": [0.35, 0.13, 0.3, 0.08, 0.08, 0.02, 0.02, 0.01]\n",
    "}"
   ]
  },
  {
   "cell_type": "markdown",
   "metadata": {},
   "source": [
    "Using our above definition and assuming the population of Somerset has the same proportions. Lets consider the following event:\n",
    "* Randomly selecting someone in Somerset and finding they are O positive\n",
    "\n",
    "Mathematically, this is written as:\n",
    "<br>\n",
    "$P(X) = 0.35$, where X is the event of interest (person selected being O positive)."
   ]
  },
  {
   "cell_type": "markdown",
   "metadata": {},
   "source": [
    "There are a number of rules of probability. We'll cover some of these rules and see how they can be applied in the context of selecting patients from Somerset and observing their blood type."
   ]
  },
  {
   "cell_type": "markdown",
   "metadata": {},
   "source": [
    "<div class=\"alert alert-block alert-info\">\n",
    "* <b>Rule 1</b> * The probability of an event must strictly be between 0 and 1.\n",
    "    \n",
    "- 0 = Impossible event\n",
    "- 1 = Certain event\n",
    "</div>"
   ]
  },
  {
   "cell_type": "markdown",
   "metadata": {},
   "source": [
    "$P(X) = 0.35$ is in agreement with Rule 1. \n",
    "\n",
    "Note that $P(X) = -0.35$ or $P(X) = 1.35$ are not valid probabilities!"
   ]
  },
  {
   "cell_type": "markdown",
   "metadata": {},
   "source": [
    "What is the probability of selecting someone at random and them * ***not*** * being O positive?"
   ]
  },
  {
   "cell_type": "markdown",
   "metadata": {},
   "source": [
    "<div class=\"alert alert-block alert-info\">\n",
    "* <b>Rule 2 (Complement rule)</b> * The probability of an event NOT happening is 1 minus the probability of the event happening.\n",
    "</div>"
   ]
  },
  {
   "cell_type": "markdown",
   "metadata": {},
   "source": [
    "By applying rule 2, we see that $P(not X) = 1 - 0.35 = 0.65$ (65%)"
   ]
  },
  {
   "cell_type": "markdown",
   "metadata": {},
   "source": [
    "Next, we randomly select two individuals from Somerset. \n",
    "\n",
    "<b>What is the probability they are * ***both*** * O positive?</b>"
   ]
  },
  {
   "cell_type": "markdown",
   "metadata": {},
   "source": [
    "<div class=\"alert alert-block alert-info\">\n",
    "* <b>Rule 3 (Product rule)</b> * Multiply probabilities to get overall probability of a sequence of *INDIPENDANT EVENTS* (i.e., the outcome of one event does not affect the other).\n",
    "</div>"
   ]
  },
  {
   "cell_type": "markdown",
   "metadata": {},
   "source": [
    "Note that this is equivilant to the intercept in set theory (or the AND operator)."
   ]
  },
  {
   "cell_type": "markdown",
   "metadata": {},
   "source": [
    "Let's consider the event Y \"Randomly picking two individuals from Somerset and them both being O positive\"\n",
    "\n",
    "By applying rule 3,  P(Y) = $0.35\\times0.35 = 0.12$"
   ]
  },
  {
   "cell_type": "markdown",
   "metadata": {},
   "source": [
    "<b>What is the probability that at least 1 of them are O positive?</b>"
   ]
  },
  {
   "cell_type": "markdown",
   "metadata": {},
   "source": [
    "<div class=\"alert alert-block alert-info\">\n",
    "* <b>Rule 4 (Union probabilities)</b> * Sum probabilities to get overall probability of a sequence of *MUTUALLY EXCLUSIVE EVENTS* (i.e., the events can't occur at the same time).\n",
    "</div>"
   ]
  },
  {
   "cell_type": "markdown",
   "metadata": {},
   "source": [
    "Note that this is equivilent to the union in set theory (or the OR operator)."
   ]
  },
  {
   "cell_type": "markdown",
   "metadata": {},
   "source": [
    "Let's consider the event Z \"Randomly picking two individuals from Somerset and finding that either of them are O positive\""
   ]
  },
  {
   "cell_type": "markdown",
   "metadata": {},
   "source": [
    "By Rule 4 (or considering the probability tree) we can see $P(Z) = 0.12 + 0.23 + 0.23 = 0.58$. <br>\n",
    "(Note, we could have equally used Rule 2 i.e., $P(Z) = 1 - 0.42 = 0.58$)"
   ]
  },
  {
   "cell_type": "markdown",
   "metadata": {},
   "source": [
    "Let's see if we can verify rules 3 & 4 by using simulation in python!\n",
    "<br>\n",
    "To do this, we will make use of the ```random``` library (read up on the documentation here: https://docs.python.org/3/library/random.html)"
   ]
  },
  {
   "cell_type": "code",
   "execution_count": null,
   "metadata": {},
   "outputs": [],
   "source": [
    "import random\n",
    "#We will write a function for randomly selecting patients (who has a 35% chance of being O positive).\n",
    "\n",
    "def select_patients(n):\n",
    "    '''\n",
    "    Simulation for selecting n patients and whether or not they are O positive.\n",
    "    \n",
    "    Inputs:\n",
    "        n (int): Number of patients to simulate.\n",
    "    \n",
    "    returns:\n",
    "        list: List of selected patients blood types.\n",
    "    '''\n",
    "    outcome = [] #Initialise empty list to store patient blood type\n",
    "    for x in range(n):\n",
    "        blood_type = random.randint(1, 100) # Randomly pick a number between 1 and 100\n",
    "        if blood_type <= 35: # Therefore 35% of the time, patient will be O positive\n",
    "            outcome.append('O positive')\n",
    "        else: # The other 65% of the time, patient will have differnce blood type\n",
    "            outcome.append('NOT O positive')\n",
    "    return outcome"
   ]
  },
  {
   "cell_type": "code",
   "execution_count": null,
   "metadata": {},
   "outputs": [],
   "source": [
    "# Let's run this function and randomly select 2 patients:\n",
    "select_patients(2)"
   ]
  },
  {
   "cell_type": "markdown",
   "metadata": {},
   "source": [
    "### Task (20 minutes)"
   ]
  },
  {
   "cell_type": "markdown",
   "metadata": {},
   "source": [
    "<b>1. Verifying Rule 3</b>\n",
    "\n",
    "Using the ```select_patients``` function, can you write some code that approximates the proportion of time two members are selected where we get BOTH being O positive? Is this in agreement with Rule 3 and the above probability tree diagram?\n",
    "\n",
    "HINT: Try writing a for loop and keep a count of the number of times we get ```['O positive', 'O positive']```.\n",
    "\n",
    "<b>2. Verifying Rule 4 (if you have time)</b>\n",
    "\n",
    "Modify your code from the previous task to answer the above question through simulation. In this case, we are interested in the outcomes ```['O positive', 'O positive'], ['NOT O positive', 'O positive'], ['O positive', 'NOT O positive']```\n",
    "\n",
    "HINT: Try writing a for loop and keep a count of the number of times we get ```['NOT O positive', 'NOT O positive']```"
   ]
  },
  {
   "cell_type": "code",
   "execution_count": null,
   "metadata": {},
   "outputs": [],
   "source": [
    "# Your code here"
   ]
  },
  {
   "cell_type": "code",
   "execution_count": null,
   "metadata": {},
   "outputs": [],
   "source": [
    "## ANSWER\n",
    "runs = 5000\n",
    "counter_blood_types = 0\n",
    "for x in range(runs):\n",
    "    outcome = select_patients(2)\n",
    "    if outcome == ['O positive', 'O positive']:\n",
    "        counter_blood_types += 1\n",
    "print(counter_blood_types/runs)    "
   ]
  },
  {
   "cell_type": "code",
   "execution_count": null,
   "metadata": {},
   "outputs": [],
   "source": [
    "## ANSWER\n",
    "runs = 10000\n",
    "counter_blood_types = 0\n",
    "for x in range(runs):\n",
    "    outcome = select_patients(2)\n",
    "    if outcome == ['NOT O positive', 'NOT O positive']:\n",
    "        counter_blood_types += 1\n",
    "print(1 - (counter_blood_types/runs) )"
   ]
  },
  {
   "cell_type": "markdown",
   "metadata": {},
   "source": [
    "### Conditional probability and Bayes' Theorom"
   ]
  },
  {
   "cell_type": "markdown",
   "metadata": {},
   "source": [
    "Conditional probability is defined as the likelihood of an event or outcome occurring, based on the occurrence of a previous event or outcome. For example, the probability a patient has a particular disease given the presense of specific set of symptoms or by a result of a diagnostic test."
   ]
  },
  {
   "cell_type": "markdown",
   "metadata": {},
   "source": [
    "<div class=\"alert alert-block alert-info\">\n",
    "Bayes' Theorem is given by the following mathematical formulae:\n",
    "    \n",
    "### $P(A|B)=\\frac{P(B|A)P(A)}{P(B)}$ \n",
    "where:<br>\n",
    "* $P(A|B)$ = Probability of event A happening *given* B has happened.<br>\n",
    "* $P(B|A)$ = Probability of event B happening *given* A has happened.<br>\n",
    "* $P(A)$ = Probability of event A happening.<br>\n",
    "* $P(B)$ = Probability of event B happening.<br>\n",
    "<div/>"
   ]
  },
  {
   "cell_type": "markdown",
   "metadata": {},
   "source": [
    "Lets use a very simple example of a fire alarm going off while working. \n",
    "\n",
    "A fire alarm is defined as \"a device making a loud noise that gives warning of a fire.\", but how often have you heard an alarm and not left the building? This is due to prior experience! Let's use Bayes' Thorom to demonstrate this."
   ]
  },
  {
   "cell_type": "markdown",
   "metadata": {},
   "source": [
    "* prob_fire = 0.0001 #Very unlikely for there to be an actual fire (but this is a made up figure)\n",
    "* prob_alarm = 0.01 # Whats the probability of the alarm going off?\n",
    "* prob_alarm_given_fire = 0.95 # Should be very good at detecting fires\n",
    "* prob_fire_given_alarm = ?"
   ]
  },
  {
   "cell_type": "code",
   "execution_count": null,
   "metadata": {},
   "outputs": [],
   "source": [
    "# We can plug these numbers into Bayes' Therom:\n",
    "\n",
    "prob_fire_given_alarm = (0.95*0.0001)/0.01\n",
    "print(prob_fire_given_alarm)"
   ]
  },
  {
   "cell_type": "markdown",
   "metadata": {},
   "source": [
    "So even though the alarm is very good at detecting fires, there's actually a low probability of there actually being a fire, since they occur so rarely!"
   ]
  },
  {
   "cell_type": "markdown",
   "metadata": {},
   "source": [
    "<b>Suggested reading:</b>\n",
    "\n",
    "1. Esssential math for data science (chapter 2)."
   ]
  },
  {
   "cell_type": "markdown",
   "metadata": {},
   "source": [
    "# Descriptive & inferential statistics"
   ]
  },
  {
   "cell_type": "markdown",
   "metadata": {},
   "source": [
    "What is statistics? Statistics is the branch of mathematics which deals with collecting, analysing, interperating and presenting data. Broadly, statistics can be divided into two main branches- descriptive and inferential statistics."
   ]
  },
  {
   "cell_type": "markdown",
   "metadata": {},
   "source": [
    "* <b>Descriptive Statistics:</b> Techniques which aims to summarise a given dataset. Broadly, we summarise data in terms of it's central tendancy (mean, median, mode) and it's variation (standard deviation, variance, skew, kurtosis).\n",
    "\n",
    "* <b>Inferential Statistics:</b> Techniques which aim to infer characteristics of a population based on a sample. The population refers to all members you are interested in. For example, if you wanted to know the height of everyone in Somerset. The population would be every single person within Somerset. A sample may be 100 people from Somerset."
   ]
  },
  {
   "cell_type": "markdown",
   "metadata": {},
   "source": [
    "## Descriptive Statistics"
   ]
  },
  {
   "cell_type": "markdown",
   "metadata": {},
   "source": [
    "### Measures of central tendancy"
   ]
  },
  {
   "cell_type": "markdown",
   "metadata": {},
   "source": [
    "<div class=\"alert alert-block alert-info\">\n",
    "<b>Mean:</b> The average (or central number) for a set of values. To calcuate the mean, we sum the values and divide by the number of values. In mathematical notation this calculation is:\n",
    "\n",
    "$\\bar{x} = \\frac{x1+x2+x3+...}{n}$\n",
    "</div>"
   ]
  },
  {
   "cell_type": "markdown",
   "metadata": {},
   "source": [
    "$\\bar{x} = \\frac{x1+x2+x3+...}{n}$"
   ]
  },
  {
   "cell_type": "markdown",
   "metadata": {},
   "source": [
    "$\\bar{x} \\pm 2\\frac{s}{\\sqrt{n}}$"
   ]
  },
  {
   "cell_type": "code",
   "execution_count": null,
   "metadata": {},
   "outputs": [],
   "source": [
    "#Let's analyse some fake data. Suppose we have data on weekly admissions at A&E stored in a list\n",
    "emerg_attendances =  [477, 513, 495, 518, 476, 470, 476, 508, 499, 528, 528, 504, 486, 554, 491]"
   ]
  },
  {
   "cell_type": "code",
   "execution_count": null,
   "metadata": {},
   "outputs": [],
   "source": [
    "#We could calculate the mean from the above definition:\n",
    "mean_attendances = sum(emerg_attendances)/len(emerg_attendances)\n",
    "print(mean_attendances)"
   ]
  },
  {
   "cell_type": "code",
   "execution_count": null,
   "metadata": {},
   "outputs": [],
   "source": [
    "#Or we could use numpy functionality\n",
    "np.mean(mean_attendances)"
   ]
  },
  {
   "cell_type": "markdown",
   "metadata": {},
   "source": [
    "If the data contains outliers, the mean may not provide the most useful summary."
   ]
  },
  {
   "cell_type": "code",
   "execution_count": null,
   "metadata": {},
   "outputs": [],
   "source": [
    "# List of integers with clear outlier value of 10_000\n",
    "emerg_attendances_with_outlier =  [477, 513, 495, 518, 476, 470, 476, 508, 499, 528, 528, 504, 486, 554, 491, 500_000]"
   ]
  },
  {
   "cell_type": "code",
   "execution_count": null,
   "metadata": {},
   "outputs": [],
   "source": [
    "np.mean(emerg_attendances_with_outlier)"
   ]
  },
  {
   "cell_type": "markdown",
   "metadata": {},
   "source": [
    "<div class=\"alert alert-block alert-info\">\n",
    "<b>Median:</b> the middle value in a set of ordered values.\n",
    "</div>"
   ]
  },
  {
   "cell_type": "code",
   "execution_count": null,
   "metadata": {},
   "outputs": [],
   "source": [
    "# Let's find the position of the middle value of a list.\n",
    "position_of_median = (len(emerg_attendances)+ 1)/2"
   ]
  },
  {
   "cell_type": "code",
   "execution_count": null,
   "metadata": {},
   "outputs": [],
   "source": [
    "position_of_median"
   ]
  },
  {
   "cell_type": "code",
   "execution_count": null,
   "metadata": {},
   "outputs": [],
   "source": [
    "# Find the median using the position_of_median\n",
    "sorted(emerg_attendances)[int(position_of_median)-1]"
   ]
  },
  {
   "cell_type": "code",
   "execution_count": null,
   "metadata": {},
   "outputs": [],
   "source": [
    "# or using built-in python functionality\n",
    "np.median(emerg_attendances)"
   ]
  },
  {
   "cell_type": "markdown",
   "metadata": {},
   "source": [
    "The median handles outliers better."
   ]
  },
  {
   "cell_type": "code",
   "execution_count": null,
   "metadata": {},
   "outputs": [],
   "source": [
    "np.median(emerg_attendances_with_outlier)"
   ]
  },
  {
   "cell_type": "markdown",
   "metadata": {},
   "source": [
    "<div class=\"alert alert-block alert-info\">\n",
    "<b>Mode:</b> the most common number in a set of data (not used often in practice).\n",
    "</div>"
   ]
  },
  {
   "cell_type": "code",
   "execution_count": null,
   "metadata": {},
   "outputs": [],
   "source": [
    "# To get a function to find the mode we will import stats from scipy\n",
    "from scipy import stats"
   ]
  },
  {
   "cell_type": "code",
   "execution_count": null,
   "metadata": {},
   "outputs": [],
   "source": [
    "stats.mode(emerg_attendances, keepdims=False)"
   ]
  },
  {
   "cell_type": "markdown",
   "metadata": {},
   "source": [
    "### Variance and standard deviation"
   ]
  },
  {
   "cell_type": "markdown",
   "metadata": {},
   "source": [
    "<div class=\"alert alert-block alert-info\">\n",
    "<b>Varience and standard deviation tell us how far each data point is away from the mean</b>\n",
    "    \n",
    "Mathematically, varience is written as:\n",
    "\n",
    "varience = $\\sigma^2 = \\frac{1}{n} \\sum_{i=1}^n (x_i - \\bar{x})^2$\n",
    "    \n",
    "standard deviation = $\\sqrt{variance} = \\sigma$\n",
    "</div>"
   ]
  },
  {
   "cell_type": "code",
   "execution_count": null,
   "metadata": {},
   "outputs": [],
   "source": [
    "# Take the mean of the attences and store in the variable mean_attendances\n",
    "mean_attendances = np.mean(emerg_attendances)\n",
    "# Calculate the difference between the mean and each value using list comprehensions\n",
    "mean_diff = [(x - mean_attendances) for x in emerg_attendances]\n",
    "mean_diff"
   ]
  },
  {
   "cell_type": "markdown",
   "metadata": {},
   "source": [
    "We don't want to cancel out the negatives and positives as this may underestimate variation. Therefore we square the difference!"
   ]
  },
  {
   "cell_type": "code",
   "execution_count": null,
   "metadata": {},
   "outputs": [],
   "source": [
    "#Using list comprehension to square each element of mean_diff\n",
    "diff_squared = [x**2 for x in mean_diff]\n",
    "diff_squared"
   ]
  },
  {
   "cell_type": "markdown",
   "metadata": {},
   "source": [
    "Finally, we take the mean of this squared difference to arrive at the variance for A&E attendances."
   ]
  },
  {
   "cell_type": "code",
   "execution_count": null,
   "metadata": {},
   "outputs": [],
   "source": [
    "variance = np.mean(diff_squared)\n",
    "print(variance)"
   ]
  },
  {
   "cell_type": "code",
   "execution_count": null,
   "metadata": {},
   "outputs": [],
   "source": [
    "# To make a value more meaningful, we can \"undo\" the squaring to arrive at the standard deviation\n",
    "\n",
    "std = variance ** 0.5\n",
    "print(std)"
   ]
  },
  {
   "cell_type": "code",
   "execution_count": null,
   "metadata": {},
   "outputs": [],
   "source": [
    "# Or we could use built-in python functionality to arrive at the same answer in a single line of code.\n",
    "np.var(emerg_attendances)**0.5"
   ]
  },
  {
   "cell_type": "code",
   "execution_count": null,
   "metadata": {},
   "outputs": [],
   "source": [
    "# Or calculate the standard deviation directly\n",
    "np.std(emerg_attendances)"
   ]
  },
  {
   "cell_type": "markdown",
   "metadata": {},
   "source": [
    "### Task 1 (10 minutes)"
   ]
  },
  {
   "cell_type": "markdown",
   "metadata": {},
   "source": [
    "A clinician has collected data on the ages of patients using their service. They have provided some data and would like some statistical KPIs. <br>\n",
    "```ages_data = [71, 81, 69, 78, 69, 63, 67, 66, 62, 69, 70, 62, 62, 70, 61, 55, 63, 78, 57, 66]```<br>\n",
    "Using this data calculate:\n",
    "1. The mean age\n",
    "2. The median age\n",
    "3. The standard deviation of ages\n"
   ]
  },
  {
   "cell_type": "code",
   "execution_count": null,
   "metadata": {},
   "outputs": [],
   "source": [
    "# Your code here"
   ]
  },
  {
   "cell_type": "markdown",
   "metadata": {},
   "source": [
    "### The normal (Guassian) distribution"
   ]
  },
  {
   "cell_type": "markdown",
   "metadata": {},
   "source": [
    "Probably the most famous distribution is the Normal (or Guassian) distribution. The bell-shaped, symmetrical distribution centered at the mean.\n",
    "<br>\n",
    "\n",
    "To define a normal distribution, you need to specify:\n",
    "- Mean\n",
    "- Standard deviation"
   ]
  },
  {
   "cell_type": "markdown",
   "metadata": {},
   "source": [
    "There are a number of real life processes which have a normal distribution, i.e., people's blood pressure. Systolic blood pressure in healthy adults has a normal distribution with mean 128.4 mmHg and standard deviation 19.6 mmHg (reference: \n",
    "https://www.sciencedirect.com/topics/mathematics/systolic-blood-pressure#:~:text=1.,a%20standard%20deviation%20of%2019.6).\n",
    "\n",
    "Mathematically, this is written as $X \\sim \\mathcal{N}(128.4,\\, 19.6^{2})$"
   ]
  },
  {
   "cell_type": "code",
   "execution_count": null,
   "metadata": {},
   "outputs": [],
   "source": [
    "'''\n",
    "Feel free to ignore this cell, data visualisations will be covered in Day 3.\n",
    "'''\n",
    "\n",
    "import matplotlib.pyplot as plt\n",
    "from scipy.stats import norm\n",
    "import scipy\n",
    "\n",
    "def plot_normal(mean, std, std_num):\n",
    "    \n",
    "    '''\n",
    "    Return normal probability distribution with shaded region showing area covered by std_num standard deviations.\n",
    "    \n",
    "    Args:\n",
    "        mean (float): Mean value.\n",
    "        std (float): Standard deviation.\n",
    "        std_num (float): Number of standard deviations above/below the mean to visualise.\n",
    "\n",
    "    Returns:\n",
    "        fig: Plotly figure of normal distribution and area within std_num standard deviations.\n",
    "    '''\n",
    "    \n",
    "    \n",
    "    x = np.arange(mean-std*5, mean+std*5, 0.001) # define x values\n",
    "    t1 = scipy.stats.norm(mean, std).cdf(mean - std_num*std) # Lower cdf\n",
    "    t2 = 1 - t1 # Upper cdf \n",
    "    lower = norm.ppf(t1, mean, std)\n",
    "    upper = norm.ppf(t2, mean, std)\n",
    "    area = round(t1*2*100, 4)\n",
    "    \n",
    "    # Initialise figure\n",
    "    fig = go.Figure()\n",
    "    xx = np.arange(lower, upper, 0.01)\n",
    "    yy = [norm.pdf(x, mean, std) for x in xx]\n",
    "\n",
    "    fig.add_trace(\n",
    "        go.Scatter(\n",
    "            x = xx,\n",
    "            y = yy, \n",
    "            fill = 'tozeroy',\n",
    "            fillcolor = '#edae49',\n",
    "            line = dict(color = '#edae49'),\n",
    "            name = f'{area}% area under curve'\n",
    "        )\n",
    "    )\n",
    "\n",
    "    fig.add_trace(go.Scatter(x=x, y=norm.pdf(x, mean, std), \n",
    "                             name = 'Normal distribution', \n",
    "                             line = dict(color = '#00789c'), fillcolor = '#edae49'))\n",
    "    \n",
    "    fig.update_layout({\n",
    "            'paper_bgcolor': 'rgba(0, 0, 0, 0)'\n",
    "            })\n",
    "    \n",
    "    fig.update_layout(\n",
    "        xaxis_title=\"Blood pressure\",\n",
    "        yaxis_title=\"Probability\"\n",
    "    )   \n",
    "    \n",
    "    fig.update_layout(title={\n",
    "\n",
    "            'text': f'Normal distribution for blood pressure', \n",
    "            'x': 0.07,\n",
    "            'xanchor': 'left'\n",
    "\n",
    "        })\n",
    "    fig.add_vline(mean, line_width=3, line_dash=\"dash\", line_color=\"#526D82\", annotation_text = 'Mean')\n",
    "\n",
    "    return fig"
   ]
  },
  {
   "cell_type": "code",
   "execution_count": null,
   "metadata": {},
   "outputs": [],
   "source": [
    "# using the plot_normal function\n",
    "plot_normal(mean = 128.4, std  =19.6, std_num=1)"
   ]
  },
  {
   "cell_type": "markdown",
   "metadata": {},
   "source": [
    "This shape of this distribution makes it very easy to spot whether a patient's blood pressure is within expected ranges. This is where the power of the normal distribution comes into play. We know that:\n",
    "* 68% of all patients blood pressure will be within 1 standard deviation of the mean. \n",
    "* 95% will be within 2 standard deviations of the mean\n",
    "* 99.7% will be within 3 standard deviations of the mean.  \n",
    "> This is often coined as the 68-95-99.7 rule (or the Empirical rule)\n",
    "\n",
    "Advanced note: This is saying the area between 1 standard deviation of the mean is equal to 68% of the total area underneath the normal function, which we could calculate using integration!"
   ]
  },
  {
   "cell_type": "code",
   "execution_count": null,
   "metadata": {},
   "outputs": [],
   "source": [
    "# Calculating bounds that contain 99.7% of patients blood pressure\n",
    "mean = 128.4\n",
    "std  =19.6\n",
    "lower_bound = 128.4 - (3*19.6)\n",
    "upper_bound = 128.4 + (3*19.6)\n",
    "print(f'Lower bound: {lower_bound}')\n",
    "print(f'Upper bound: {upper_bound}')"
   ]
  },
  {
   "cell_type": "markdown",
   "metadata": {},
   "source": [
    "What do the bounds look like that contian 99.7% of the data?\n",
    "\n",
    "To calculate this interval, you would do the following calculation:\n",
    "* Lower range: $128.4 - (3\\times19.6) = 69.6$\n",
    "* Upper range: $128.4 + (3\\times19.6) = 187.2$\n",
    "\n",
    "The graph below shows this ranges (you'll probably have to zoom in to see the area which is not covered by this region!)"
   ]
  },
  {
   "cell_type": "markdown",
   "metadata": {},
   "source": [
    "<div class=\"alert alert-block alert-warning\">\n",
    "<b>This is often how control limits for SPC charts are calculated! i.e., we expected (assuming a normal distribution) that 99.7% of data points are within the control limits!</b>\n",
    "</div>"
   ]
  },
  {
   "cell_type": "markdown",
   "metadata": {},
   "source": [
    "### Task 2 (15 minutes)"
   ]
  },
  {
   "cell_type": "markdown",
   "metadata": {},
   "source": [
    "Use simulation in python to convince yourself of the Empirical rule. Repeatedly sample from a normal distribution with mean = 128.4 and standard deviation = 19.6 and record the number of times you are outside 1, 2 and 3 standard deviations. Are the proportions in agreement with the above definition?"
   ]
  },
  {
   "cell_type": "code",
   "execution_count": null,
   "metadata": {},
   "outputs": [],
   "source": [
    "# Your code here"
   ]
  },
  {
   "cell_type": "markdown",
   "metadata": {},
   "source": [
    "Hint: You can sample from a normal distributon using ```np.random.normal(128.4, 19.6, 1)```. To calculate each proportion you may find it easier to build a function which accepts the number of standard deviations as an input."
   ]
  },
  {
   "cell_type": "code",
   "execution_count": null,
   "metadata": {},
   "outputs": [],
   "source": [
    "## ANSWER\n",
    "def proportion_norm(std_num, mean, std, runs):\n",
    "    count_patients = 0\n",
    "    for x in range(runs):\n",
    "        if np.random.normal(mean, std, 1) < (mean - std_num*std) or np.random.normal(mean, std, 1) > (mean + std_num*std):\n",
    "            continue\n",
    "        else:\n",
    "            count_patients += 1\n",
    "        \n",
    "    return (count_patients/runs)\n",
    "proportion_norm(1, 128.4, 19.6, 10000)"
   ]
  },
  {
   "cell_type": "markdown",
   "metadata": {},
   "source": [
    "## Inferential Statistics"
   ]
  },
  {
   "cell_type": "markdown",
   "metadata": {},
   "source": [
    "<div class=\"alert alert-block alert-danger\">\n",
    "<b>Some of these topics are quite advanced- it may be helpful to refer back to this notebook and look at other resources to develop a better understanding of some of these topics.</b>\n",
    "</div>"
   ]
  },
  {
   "cell_type": "markdown",
   "metadata": {},
   "source": [
    "Inferential statistics involves finding a relationship between a sample and a population. For example, suppose we are asking staff for feedback from a new change made recently to a hospital.\n",
    "\n",
    "<b>Sample</b> - We ask 50 randomly selected staff members at a hospital for their feedback.<br>\n",
    "<b>Population</b> - We ask every single staff member for their feedback (probably unrealistic!).\n",
    "\n",
    "Inferential statistics deals with infering the feedback from all staff members at the hospital, based on a sample of 50."
   ]
  },
  {
   "cell_type": "markdown",
   "metadata": {},
   "source": [
    "## Central Limit Theorem"
   ]
  },
  {
   "cell_type": "markdown",
   "metadata": {},
   "source": [
    "Now, for the purpose of this example, we will assume that a staff member can give their feedback as a score from 1-10.\n",
    "\n",
    "Additionally, we will assume a uniform distribution in responses, that is, each value from 1-10 is equally likely (this is of course not realistic). "
   ]
  },
  {
   "cell_type": "code",
   "execution_count": null,
   "metadata": {},
   "outputs": [],
   "source": [
    "# Lets generate some survey responses:\n",
    "survey_outcomes = [1, 2, 3, 4, 5, 6, 7, 8, 9, 10]\n",
    "# Randomly select (with replacement) 50 values from survey_outcomes\n",
    "generated_responses = random.choices(survey_outcomes, k=50)"
   ]
  },
  {
   "cell_type": "code",
   "execution_count": null,
   "metadata": {},
   "outputs": [],
   "source": [
    "#Lets print each of the 50 responses\n",
    "print(generated_responses)"
   ]
  },
  {
   "cell_type": "markdown",
   "metadata": {},
   "source": [
    "Lets take the mean of these responses to see the average score."
   ]
  },
  {
   "cell_type": "code",
   "execution_count": null,
   "metadata": {},
   "outputs": [],
   "source": [
    "mean_score = np.mean(generated_responses)\n",
    "print(mean_score)"
   ]
  },
  {
   "cell_type": "code",
   "execution_count": null,
   "metadata": {},
   "outputs": [],
   "source": [
    "# Let's repeat this process 1000 times and record the mean for each sample\n",
    "mean_scores = []\n",
    "for x in range(1000):\n",
    "    simulated_responses = random.choices(survey_outcomes, k=31)\n",
    "    mean_scores.append(np.mean(simulated_responses))"
   ]
  },
  {
   "cell_type": "code",
   "execution_count": null,
   "metadata": {},
   "outputs": [],
   "source": [
    "mean_scores"
   ]
  },
  {
   "cell_type": "markdown",
   "metadata": {},
   "source": [
    "It's not very easy to see how these values are distributed from observing a list with 1000 values!\n",
    "\n",
    "To easily see how the scores are distributed, we can use a histogram (more information on histograms will be covered in Day 3 of the course).\n",
    "\n",
    "The histogram will plot the frequency of obtaining ```mean_scores``` within specific values."
   ]
  },
  {
   "cell_type": "code",
   "execution_count": null,
   "metadata": {},
   "outputs": [],
   "source": [
    "'''\n",
    "!!Feel free to ignore this cell, data visualisations will be covered on Day 3!!\n",
    "'''\n",
    "\n",
    "from plotly.subplots import make_subplots\n",
    "\n",
    "fig = make_subplots(rows=2, cols=2)\n",
    "\n",
    "# Number of experiments to perform\n",
    "num_experiments = 10_000\n",
    " \n",
    "# List of sample numbers to consider\n",
    "num_samples = [1, 10, 31, 100]\n",
    "\n",
    "samples = {}\n",
    "\n",
    "for i, n in enumerate(num_samples):\n",
    "    # List to store the averages of the results of each experiment\n",
    "    means_experiments = []\n",
    " \n",
    "    # Simulation of experiments\n",
    "    for _ in range(num_experiments):\n",
    "        results = random.choices(survey_outcomes, k=n)\n",
    "        mean_experiments = np.mean(results)  # Calculation of the mean\n",
    "        means_experiments.append(mean_experiments)\n",
    "        \n",
    "    samples[n] = means_experiments\n",
    "        \n",
    "        \n",
    "fig.append_trace(go.Histogram(x=samples[1], nbinsx =10, name = 'Sample size = 1'), row=1, col=1)\n",
    "fig.append_trace(go.Histogram(x=samples[10], nbinsx =50, name = 'Sample size = 10'), row=2, col=1)\n",
    "fig.append_trace(go.Histogram(x=samples[31], nbinsx =50, name = 'Sample size = 31'), row=1, col=2)\n",
    "fig.append_trace(go.Histogram(x=samples[100], nbinsx =50, name = 'Sample size = 100'), row=2, col=2)\n",
    "\n",
    "fig.update_layout({\n",
    "        'paper_bgcolor': 'rgba(0, 0, 0, 0)'\n",
    "        }, template = 'seaborn')\n",
    "\n",
    "fig.update_layout(\n",
    "    xaxis_title=\"Feedback score\",\n",
    "    yaxis_title=\"Frequency\"\n",
    ")   \n",
    "\n",
    "fig.update_layout(title={\n",
    "\n",
    "        'text': f'Distribution of average sample scores (with varying sample sizes)<br><sup>The population mean is 5.5 (this is based on the expected value formula for a unform distribution).</sup>', \n",
    "        'x': 0.07,\n",
    "        'xanchor': 'left'\n",
    "\n",
    "    })\n",
    "\n",
    "fig.show()"
   ]
  },
  {
   "cell_type": "markdown",
   "metadata": {},
   "source": [
    "<div class=\"alert alert-block alert-info\">\n",
    "    \n",
    "Some important take aways from the central limit theorem (CLT).\n",
    "    \n",
    "1. The mean of the sample means is equal to the population mean.<br>\n",
    "2. If the population distribution is normal, the sample means will be normally distributed.<br>\n",
    "3. If the sample is not normal, but sample size is greater than 30, the means will approximate a normal distribution.<br>\n",
    "4. The standard deviation of the sample means will equal the population standard deviation divided by square root of sample size (this is known as standard error).<br>\n",
    "<div/>"
   ]
  },
  {
   "cell_type": "markdown",
   "metadata": {},
   "source": [
    "Why is the CLT important?\n",
    "\n",
    "> It allows us to infer useful things about populations based on samples, even for non-normal distributions (or even more importantly) if we don't know the underying distribution! For example, we can apply the Empirical rules to our sample.\n"
   ]
  },
  {
   "cell_type": "markdown",
   "metadata": {},
   "source": [
    "## Confidence intervals"
   ]
  },
  {
   "cell_type": "markdown",
   "metadata": {},
   "source": [
    "In reality, we are not going to collect thousands of samples and plot their distribution. Instead, we will collect 1 sample and infer a parameter (such as the mean) from the population. A confidence interval provides a measure of uncertainty associated with out sample estimate.\n",
    "\n",
    "For example, a 95% confidence interval means that, if we were to collect 100 samples, 95% of them would have confidence intervals containing the true population parameter. "
   ]
  },
  {
   "cell_type": "markdown",
   "metadata": {},
   "source": [
    "<div class=\"alert alert-block alert-warning\">\n",
    "<b>A common misconception is that there is a 95% probability the true population parameter will be within the confidence interval. This is not correct. The population parameter is fixed and will either be within, or outside of the limits.</b>\n",
    "</div>"
   ]
  },
  {
   "cell_type": "markdown",
   "metadata": {},
   "source": [
    "If our sample size is greater than 30, we can assume the sampling distribution approximates a normal distribution (by the CLT)!\n",
    "\n",
    "We can therefore apply exactly the same Empirical rules discussed in the normal distribution section to calculate confidence intervals, exept now, we approximate the mean as the sample mean and the standard deviation as the standard error!\n"
   ]
  },
  {
   "cell_type": "markdown",
   "metadata": {},
   "source": [
    "## Task 3 (15 minutes) "
   ]
  },
  {
   "cell_type": "markdown",
   "metadata": {},
   "source": [
    "We're now going to see the power of the CLT in action! To do this, I've sampled some data from a secret distribution with a unknown mean.\n",
    "\n",
    "A medical research has collected a sample of size 35 for wait times (in minutes) from patient arrival to being seen by the clinician. Can you infer the mean waiting from this sample? Provide a 95% confidence interval for the population mean."
   ]
  },
  {
   "cell_type": "code",
   "execution_count": null,
   "metadata": {},
   "outputs": [],
   "source": [
    "# List of values sampled from secret distribution\n",
    "values_from_secret_distribution = [27.24123633, 30.69024228, 26.77141759, 28.09999063, 32.66425489,\n",
    "       27.45675704, 28.97317661, 26.38920802, 29.72390196, 28.26454188,\n",
    "       27.84860273, 29.04762275, 28.45991682, 25.86601726, 29.42151903,\n",
    "       27.31891593, 31.9603106 , 25.08136538, 29.35627046, 25.37866129,\n",
    "       25.8783822 , 32.87136747, 31.8263251 , 29.41628116, 30.89600411,\n",
    "       30.2387563 , 28.73724382, 29.1861042 , 30.26480959, 29.34084346,\n",
    "       26.60515407, 27.87163869, 29.49333437, 27.41104061, 27.48373384]\n",
    "\n",
    "# HINT: You'll want to calculate sample mean and sample standard deviation. \n",
    "# Calculate standard error (SE) as sample standard deviation / square root of sample size.\n",
    "# The 95% confidence interval can then be calculated by sample mean +- SE*2"
   ]
  },
  {
   "cell_type": "code",
   "execution_count": null,
   "metadata": {},
   "outputs": [],
   "source": [
    "# Your code here"
   ]
  },
  {
   "cell_type": "code",
   "execution_count": null,
   "metadata": {},
   "outputs": [],
   "source": [
    "# Answer\n",
    "sample_mean = np.mean(values_from_secret_distribution)\n",
    "sample_std = np.std(values_from_secret_distribution)\n",
    "std_err = sample_std/(len(values_from_secret_distribution)**0.5)\n",
    "lower = sample_mean - 1.96*std_err\n",
    "upper = sample_mean + 1.96*std_err\n",
    "print(f'{lower}, {upper}')\n",
    "\n",
    "# The distribution was normal with mean=29 and std = 2"
   ]
  },
  {
   "cell_type": "markdown",
   "metadata": {},
   "source": [
    "Inferential statistics has lots of important areas, some of which we have not covered (i.e., hypothosis testing). Below gives some recommendations if you wish to learn more on inferential statistics.\n",
    "\n",
    "<b>Suggested reading:</b>\n",
    "\n",
    "1. Esssential math for data science (chapter 3)."
   ]
  }
 ],
 "metadata": {
  "kernelspec": {
   "display_name": "Python 3 (ipykernel)",
   "language": "python",
   "name": "python3"
  },
  "language_info": {
   "codemirror_mode": {
    "name": "ipython",
    "version": 3
   },
   "file_extension": ".py",
   "mimetype": "text/x-python",
   "name": "python",
   "nbconvert_exporter": "python",
   "pygments_lexer": "ipython3",
   "version": "3.10.8"
  }
 },
 "nbformat": 4,
 "nbformat_minor": 1
}
