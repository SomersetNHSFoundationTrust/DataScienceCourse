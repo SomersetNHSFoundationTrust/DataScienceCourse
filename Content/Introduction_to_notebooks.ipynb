{
 "cells": [
  {
   "cell_type": "markdown",
   "source": [
    "# Jupyter Notebooks\n",
    "\n",
    "Welcome to jupyter notebooks, where you can easily combine text, equations, code and graphs all in one convenient place.\n",
    "\n",
    "If you've installed this using the Anaconda distribution, congratulations! You already have most of the python modules you need.\n",
    "\n",
    "## What is a Jupyter Notebook?\n",
    "\n",
    "A Jupyter notebook is an interactive document that combines live code, visualizations, narrative text, and more. It's widely used in data science, research, and education. Notebooks allow you to write and execute code in small, manageable cells.\n",
    "\n",
    "## Notebook Basics\n",
    "\n",
    "### 1. Cells\n",
    "\n",
    "Jupyter notebooks are composed of cells, which can contain code or text. You can add cells using the \"Insert\" menu or by using keyboard shortcuts.\n",
    "\n",
    "### 2. Cell Types\n",
    "\n",
    "There are two main cell types:\n",
    "- Code Cells: For writing and executing code. You'll use these to perform calculations and data analysis.\n",
    "- Markdown Cells: For writing text, explanations, and documentation. This cell you're reading is a Markdown cell.\n",
    "\n",
    "### 3. Running Cells\n",
    "\n",
    "To execute a code cell, select it and press `Shift + Enter`. The output will appear below the cell. For instance, execute the code below:"
   ],
   "metadata": {
    "collapsed": false
   },
   "id": "c4c5bee0a299241"
  },
  {
   "cell_type": "code",
   "execution_count": null,
   "outputs": [],
   "source": [
    "2 + 3"
   ],
   "metadata": {
    "collapsed": false
   },
   "id": "4e0f50d160270d50"
  },
  {
   "cell_type": "markdown",
   "source": [
    "Hopefully in the output (displayed just below the code cell) you should see the number 5!\n",
    "\n",
    "### 4. Editing Cells\n",
    "\n",
    "To edit a cell, double-click on it (for code cells) or single-click (for Markdown cells). \n",
    "\n",
    "### 5. Saving and Loading Notebooks\n",
    "\n",
    "To save your work, use `Ctrl + S` or `Cmd + S`. You can load existing notebooks by clicking \"File\" > \"Open.\"\n",
    "\n",
    "## Markdown Basics\n",
    "\n",
    "Markdown is a lightweight markup language for formatting plain text. You can use it to style your text in Markdown cells.\n",
    "\n",
    "- Create headings by using `#` (e.g., `## Heading 2`).\n",
    "- Make text **bold** with `**double asterisks**`.\n",
    "- Emphasize text with *italics* by using `*single asterisks*`.\n",
    "\n",
    "## Magic Commands\n",
    "\n",
    "Jupyter provides \"magic commands\" that extend the basic functionality.\n",
    "\n",
    "- `%`-prefixed commands are line magics (run for a single line).\n",
    "- `%%`-prefixed commands are cell magics (run for the entire cell).\n",
    "\n",
    "For example, `%timeit` measures the execution time of a single line of code."
   ],
   "metadata": {
    "collapsed": false
   },
   "id": "6eb3b6dd2d1199ca"
  },
  {
   "cell_type": "code",
   "execution_count": null,
   "outputs": [],
   "source": [
    "%timeit 3 + 2;"
   ],
   "metadata": {
    "collapsed": false
   },
   "id": "a568c12dbc764a0d"
  },
  {
   "cell_type": "markdown",
   "source": [
    "## Keyboard Shortcuts\n",
    "\n",
    "Learn some useful keyboard shortcuts to improve your workflow. Access them via `Help` > `Keyboard Shortcuts`.\n",
    "\n",
    "## Conclusion\n",
    "\n",
    "You've covered the basics of Jupyter notebooks in this short tutorial. Remember, the best way to learn is by doing, so practice and explore the many features Jupyter has to offer. This is just the beginning of your journey into interactive computing and data analysis.\n",
    "\n",
    "If you have any questions or want to explore further, there are plenty of online resources and tutorials available. Happy coding!\n"
   ],
   "metadata": {
    "collapsed": false
   },
   "id": "124a0f3384105ecc"
  }
 ],
 "metadata": {
  "kernelspec": {
   "display_name": "Python 3",
   "language": "python",
   "name": "python3"
  },
  "language_info": {
   "codemirror_mode": {
    "name": "ipython",
    "version": 2
   },
   "file_extension": ".py",
   "mimetype": "text/x-python",
   "name": "python",
   "nbconvert_exporter": "python",
   "pygments_lexer": "ipython2",
   "version": "2.7.6"
  }
 },
 "nbformat": 4,
 "nbformat_minor": 5
}
