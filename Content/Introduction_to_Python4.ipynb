{
 "cells": [
  {
   "cell_type": "markdown",
   "metadata": {},
   "source": [
    "# Built-in Functions\n",
    "\n",
    "Python provides a number of built-in functions. Some of these have already been mentioned, such as `print`.\n",
    "\n",
    "## Mathematical Functions\n",
    "\n",
    "Python provides:\n",
    "- `abs` returns the absolute of a number.\n",
    "- `pow` raises a number to a specified power.\n",
    "- `round` rounds a number to specified number of decimal places."
   ]
  },
  {
   "cell_type": "code",
   "execution_count": null,
   "outputs": [],
   "source": [
    "print(abs(-10))\n",
    "print(pow(2, 2))\n",
    "print(round(2.3141572, 2))"
   ],
   "metadata": {
    "collapsed": false
   }
  },
  {
   "cell_type": "markdown",
   "source": [
    "## Iterables\n",
    "\n",
    "Iterables are objects that can be looped over, we saw some examples of them in [Data Structures](Introduction_to_Python3.ipynb), these include lists, sets, tuples etc.. but also strings. The data type contained within the iterable can determine the built-ins that can be used. \n",
    "\n",
    "On numerical data types (`int`, `float`):\n",
    "- max\n",
    "- min\n",
    "- sum\n",
    "\n",
    "On strings (`str`):\n",
    "- join\n",
    "\n",
    "On all:\n",
    "- len"
   ],
   "metadata": {
    "collapsed": false
   }
  },
  {
   "cell_type": "code",
   "execution_count": null,
   "outputs": [],
   "source": [
    "numerical_list = [0, 1, 2, 3, 4]\n",
    "\n",
    "print(max(numerical_list))\n",
    "print(min(numerical_list)) \n",
    "print(sum(numerical_list)) \n",
    "print(len(numerical_list))\n",
    "\n",
    "print(sum(numerical_list)/len(numerical_list)) # Calculates the mean\n",
    "\n",
    "string_tuple = (\"H\", \"e\", \"l\", \"l\", \"o\")\n",
    "\n",
    "print(\"\".join(string_tuple)) # joins the iterable together into a single string separated by whatever is contained within the first \"\"."
   ],
   "metadata": {
    "collapsed": false
   }
  },
  {
   "cell_type": "markdown",
   "metadata": {},
   "source": [
    "Python also provides other useful built-in functions, for instance:\n",
    "- `range`\n",
    "- `enumerate`"
   ]
  },
  {
   "cell_type": "code",
   "execution_count": null,
   "outputs": [],
   "source": [
    "initial_range = range(0, 10, 2) # starts counting from 0, finishes before 10, with a step size of 2\n",
    "\n",
    "print([x for x in initial_range]) # using list comprehension to unpack the values\n",
    "\n",
    "initial_enumerate = enumerate(range(10, 20, 2)) # enumerate provides a counter for the number of iterables\n",
    "\n",
    "print([x for x in initial_enumerate]) # the first number in each tuple is the counter, the second is the value from the range."
   ],
   "metadata": {
    "collapsed": false
   }
  },
  {
   "cell_type": "code",
   "execution_count": null,
   "metadata": {},
   "outputs": [],
   "source": [
    "my_string_list = [\"item1\", \"item2\", \"item3\"]\n",
    "for counter, value in enumerate(my_string_list):\n",
    "    if counter==2:\n",
    "        print(value)"
   ]
  },
  {
   "cell_type": "markdown",
   "metadata": {},
   "source": [
    "## Task\n",
    "\n",
    "You have been given a list of numbers below. Can you find the sum of the even numbers and the sum of the odd numbers?"
   ]
  },
  {
   "cell_type": "code",
   "execution_count": null,
   "outputs": [],
   "source": [
    "numbers = [3, 7, 8, 19, 102, 45, 78, 43]\n",
    "\n",
    "#Your code here"
   ],
   "metadata": {
    "collapsed": false
   }
  }
 ],
 "metadata": {
  "kernelspec": {
   "display_name": "Python 3",
   "language": "python",
   "name": "python3"
  },
  "language_info": {
   "codemirror_mode": {
    "name": "ipython",
    "version": 3
   },
   "file_extension": ".py",
   "mimetype": "text/x-python",
   "name": "python",
   "nbconvert_exporter": "python",
   "pygments_lexer": "ipython3",
   "version": "3.6.4"
  }
 },
 "nbformat": 4,
 "nbformat_minor": 2
}
