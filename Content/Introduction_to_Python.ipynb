{
 "cells": [
  {
   "cell_type": "markdown",
   "metadata": {},
   "source": [
    "# Introduction to Python\n",
    "\n",
    "Although there are several programming languages to choose from when working in data science, Python is the most common (other useful languages include javascript, R, SQL and Julia). The Python language ([named after Monty Python!](https://docs.python.org/3/faq/general.html#why-is-it-called-python)) is extremely versatile, has an extensive library ecosystem and is easily readable. Large open-source libraries, like Pandas, Numpy, Scikit-learn and Matplotlib have made data analysis and machine learning accessible even to beginner programmers.  \n",
    "\n",
    "In this lesson we'll cover the basics of Python, the principles of which could just as easily be applies to any programming language.\n",
    "\n",
    "## Variables\n",
    "\n",
    "As you saw in the [introduction to notebooks](Introduction_to_notebooks.ipynb), we can run code directly within a notebook. As default the output will be shown immediately below the cell, but what if we wanted to store the output for later use? That's where variables come in.\n",
    "\n",
    "In the cell below, we set a variable, named `x` to have the value 3. Variable names must contain only valid letters, digits and underscores, and must not begin with a letter, certain words are reserved like `for`, `if` etc... It's most common to define variable names as all lower case. It's also best pratice to use a descriptive name for a variable (so our name of `x` below doesn't fit this!)."
   ]
  },
  {
   "cell_type": "code",
   "execution_count": 1,
   "outputs": [],
   "source": [
    "x = 3"
   ],
   "metadata": {
    "collapsed": false,
    "ExecuteTime": {
     "end_time": "2023-10-24T11:36:03.698816300Z",
     "start_time": "2023-10-24T11:36:03.692410100Z"
    }
   }
  },
  {
   "cell_type": "markdown",
   "metadata": {},
   "source": [
    "Notice that there's no output from that cell now. But we can check that `x` has indeed been set to 3 by running the box below."
   ]
  },
  {
   "cell_type": "code",
   "execution_count": 2,
   "metadata": {
    "ExecuteTime": {
     "end_time": "2023-10-24T11:39:39.714008100Z",
     "start_time": "2023-10-24T11:39:39.686722800Z"
    }
   },
   "outputs": [
    {
     "data": {
      "text/plain": "3"
     },
     "execution_count": 2,
     "metadata": {},
     "output_type": "execute_result"
    }
   ],
   "source": [
    "x"
   ]
  },
  {
   "cell_type": "markdown",
   "metadata": {},
   "source": [
    "If 3 is displayed above, everything's good! Jupyter notebooks will display the value of any variable or calculation that is last in a cell.\n",
    "\n",
    "So what is a variable and why do we use them?\n",
    "\n",
    "Variables are used to store objects, and everything in python is an object. Python is a strongly typed, dynamic language to use the correct terminology. This means that an object won't change its type in strange ways, but you do not need to specify its type at the time of declaration.\n",
    "\n",
    "Let's examine our declaration above, `x = 3`. We are storing our integer in a variable named `x`, we can then access x at any point in the code to use this value in our calculations.\n",
    "\n",
    "Below, we'll use `x` in a few calculations and print the results to the screen."
   ]
  },
  {
   "cell_type": "code",
   "execution_count": 3,
   "metadata": {
    "ExecuteTime": {
     "end_time": "2023-10-24T11:42:29.539242900Z",
     "start_time": "2023-10-24T11:42:29.508087600Z"
    }
   },
   "outputs": [
    {
     "name": "stdout",
     "output_type": "stream",
     "text": [
      "6\n",
      "9\n",
      "1.5\n",
      "1\n",
      "5\n",
      "1\n",
      "False\n"
     ]
    }
   ],
   "source": [
    "#This is a comment\n",
    "#We can use comments to explain why we do something\n",
    "\n",
    "#e.g. Set y to a number to test the mathematics below\n",
    "y = 2\n",
    "\n",
    "print(x*y)\n",
    "print(x**y)\n",
    "print(x/y)\n",
    "print(x%y)\n",
    "print(x+y)\n",
    "print(x-y)\n",
    "print(x==y)"
   ]
  },
  {
   "cell_type": "markdown",
   "metadata": {},
   "source": [
    "There are a couple of points to make from the above code.\n",
    "\n",
    "First, comments. Comments should only really be used when you're explaining why you've done something a little strange in the code. However, variable names should go a long way toward explaining what they'll be used for. With this knowledge, do you think the above variable names and comments are useful?\n",
    "\n",
    "## Mathematic Operations\n",
    "\n",
    "The second point we need to address are the operation used above, `*`, `**`, `/`, `%`, `+`, `-` and `==`.\n",
    "\n",
    "- `*` multiplies 2 numbers together.\n",
    "- `**` raises the first number to the power of the second.\n",
    "- `/` divides the first number by the second.\n",
    "- `%` returns the result of a modulo operation, dividing the first by the second and returning the remainder.\n",
    "- `+` adds 2 numbers.\n",
    "- `-` subtracts the second number from the first.\n",
    "- `==` compares the 2 numbers, if they're equal it returns True, otherwise it returns False.\n",
    "\n",
    "NOTE: a single `=` sets a value, and a double `==` compares it.\n",
    "\n",
    "## Functions\n",
    "\n",
    "Now we can set numbers to variables and perform all sorts of mathematical operations on them! But what if we want to run 1,000,000 calculations, we don't want to have to type out our code for every step.\n",
    "\n",
    "So we break our code down into dynamic sections that we can call again and again with different inputs, in Python, we call these functions. These can be thought of as little Lego bricks, all sorts of amazing creations can be built by combining different types of bricks. Although it comes down to personal preference, good coding practices are usually to name functions all lower case, with words separated by underscores `_` and starting a function name with a verb.\n",
    "\n",
    "Let's make a function below that will return the product of 2 numbers."
   ]
  },
  {
   "cell_type": "code",
   "execution_count": 4,
   "metadata": {
    "ExecuteTime": {
     "end_time": "2023-10-24T11:53:05.561032300Z",
     "start_time": "2023-10-24T11:53:05.548334400Z"
    }
   },
   "outputs": [],
   "source": [
    "def multiply_numbers(number1, number2):\n",
    "    \"\"\"\n",
    "    Multiply two numbers and return the result.\n",
    "\n",
    "    Args:\n",
    "        number1 (float): The first number to be multiplied.\n",
    "        number2 (float): The second number to be multiplied.\n",
    "\n",
    "    Returns:\n",
    "        float: The product of number1 and number2.\n",
    "    \"\"\"\n",
    "    return number1 * number2"
   ]
  },
  {
   "cell_type": "markdown",
   "metadata": {},
   "source": [
    "We'll go through the code above in a second, for now, play around with it, we can call it by using the code below"
   ]
  },
  {
   "cell_type": "code",
   "execution_count": 5,
   "metadata": {
    "ExecuteTime": {
     "end_time": "2023-10-24T11:53:15.036460300Z",
     "start_time": "2023-10-24T11:53:15.010398700Z"
    }
   },
   "outputs": [
    {
     "data": {
      "text/plain": "6"
     },
     "execution_count": 5,
     "metadata": {},
     "output_type": "execute_result"
    }
   ],
   "source": [
    "multiply_numbers(2, 3)"
   ]
  },
  {
   "cell_type": "markdown",
   "metadata": {},
   "source": [
    "Try to:\n",
    "- Change the above numbers\n",
    "- Declare some variables and using them as an input\n",
    "- Use fractions as inputs\n",
    "- Use negative numbers\n",
    "\n",
    "When you're finished playing, try to change the funtion to return a different mathematical operation (you may want to change the function name too!)\n",
    "\n",
    "The sections of the function above are as follows:\n",
    "\n",
    "- `def` - defines a function\n",
    "- `multiply_numbers` - is the name of our function\n",
    "- `(number1, number2)` - these specify the arguments, we could have more (number1, number2, number3) or less (number1) or none ().\n",
    "- `\"\"\"...\"\"\"` - this is the docstring for the function, this should explain what the function does, the argument, the type of arguments and what the function returns. It can be viewed by calling `help(name_of_function)`.\n",
    "- `return number1 * number2` this is what the function actually feeds back into our code, in this case we multiply the 2 numbers together\n",
    "\n",
    "## Task\n",
    "\n",
    "Create a function that can take in any 2 numbers and returns the result of a modulo operation."
   ]
  },
  {
   "cell_type": "code",
   "execution_count": null,
   "outputs": [],
   "source": [],
   "metadata": {
    "collapsed": false
   }
  }
 ],
 "metadata": {
  "kernelspec": {
   "display_name": "Python 3",
   "language": "python",
   "name": "python3"
  },
  "language_info": {
   "codemirror_mode": {
    "name": "ipython",
    "version": 3
   },
   "file_extension": ".py",
   "mimetype": "text/x-python",
   "name": "python",
   "nbconvert_exporter": "python",
   "pygments_lexer": "ipython3",
   "version": "3.6.4"
  }
 },
 "nbformat": 4,
 "nbformat_minor": 2
}
