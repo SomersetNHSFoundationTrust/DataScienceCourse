{
 "cells": [
  {
   "cell_type": "markdown",
   "id": "e9bd3275",
   "metadata": {},
   "source": [
    "# Regression Workbook"
   ]
  },
  {
   "cell_type": "code",
   "execution_count": null,
   "id": "50d59412",
   "metadata": {},
   "outputs": [],
   "source": [
    "# Imports required for notebook\n",
    "\n",
    "import numpy as np\n",
    "import pandas as pd\n",
    "\n",
    "import plotly.express as px\n",
    "from plotly.subplots import make_subplots\n",
    "from plotly import graph_objects as go\n",
    "\n",
    "from sklearn.linear_model import LinearRegression\n",
    "from sklearn.model_selection import train_test_split\n",
    "from sklearn.datasets import make_regression\n",
    "\n",
    "from sklearn import metrics\n",
    "\n",
    "random_seed = 42"
   ]
  },
  {
   "cell_type": "markdown",
   "id": "121704c0",
   "metadata": {},
   "source": [
    "**Useful resources for regression concepts:**\n",
    "* Essential Math for Data Science: Thomas Nield (Chapter 5)\n",
    "* StatsQuest Guide to Machine Learning: Josh Starmer \n",
    "* ISLP: https://www.statlearning.com/ (Chapter 3)"
   ]
  },
  {
   "cell_type": "code",
   "execution_count": null,
   "id": "545685b7",
   "metadata": {},
   "outputs": [],
   "source": [
    "# Custom functions required for notebook\n",
    "\n",
    "def linear_function(b_0, b_1, x_array):\n",
    "    \"\"\"\n",
    "    Inputs:\n",
    "        b_0 (float): Coefficient of linear function\n",
    "        b_1 (float): Intercept (bias) term\n",
    "        x_array (numpy.array): Input x values\n",
    "    returns\n",
    "        numpy.array. Outputs from a linear function.\n",
    "    \"\"\"\n",
    "    return b_0 * x_array + b_1"
   ]
  },
  {
   "cell_type": "markdown",
   "id": "1352dcc0",
   "metadata": {},
   "source": [
    "## Simple Linear regression"
   ]
  },
  {
   "cell_type": "markdown",
   "id": "3a9286fd",
   "metadata": {},
   "source": [
    "### Motivation for linear regression"
   ]
  },
  {
   "cell_type": "markdown",
   "id": "341cc207",
   "metadata": {},
   "source": [
    "Suppose you want to model and predict patient length of stay. You believe age has the biggest impact on how long a patient will stay in hospital, so you collect some initial data on 50 patients, recording their age and LoS."
   ]
  },
  {
   "cell_type": "code",
   "execution_count": null,
   "id": "a46fd455",
   "metadata": {},
   "outputs": [],
   "source": [
    "# Ensure reproducible results\n",
    "np.random.seed(random_seed)\n",
    "\n",
    "# Fabricated dataset\n",
    "patient_recorded_age = np.random.normal(70, 10, 50)\n",
    "patient_recorded_los = linear_function(2, 0, patient_recorded_age) + np.random.normal(\n",
    "    15, 5, 50\n",
    ")\n",
    "\n",
    "los_data = pd.DataFrame()\n",
    "los_data[\"age\"] = patient_recorded_age\n",
    "los_data[\"los\"] = patient_recorded_los\n",
    "\n",
    "# Show the first 5 rows\n",
    "los_data.head()"
   ]
  },
  {
   "cell_type": "code",
   "execution_count": null,
   "id": "b7eebb68",
   "metadata": {},
   "outputs": [],
   "source": [
    "# Plot the relationship in Plotly using a scatter chart\n",
    "\n",
    "los_fig = px.scatter(los_data, x=\"age\", y=\"los\")\n",
    "los_fig.update_layout(\n",
    "    yaxis_title=\"Length of stay (hours)\",\n",
    "    title=\"Evaluating the relationship between age and length of stay\",\n",
    ")"
   ]
  },
  {
   "cell_type": "markdown",
   "id": "3cd54253",
   "metadata": {},
   "source": [
    "We can see that as age increases/decreases, LoS increases/decreases in a proportional amount, indicating a linear relationship:\n",
    "\n",
    "$\\hat{y} = \\beta_0 + \\beta_1x$, where $\\beta_0$ is the intercept and $\\beta_1$ is the coefficient.<br>\n",
    "Note, $\\hat{y}$ is the notation for our prediction, i.e., the predicted LoS."
   ]
  },
  {
   "cell_type": "markdown",
   "id": "e0160536",
   "metadata": {},
   "source": [
    "Lets plot a simple linear regression model to the data (aka, the line of best fit)."
   ]
  },
  {
   "cell_type": "code",
   "execution_count": null,
   "id": "bdfe1c7a",
   "metadata": {},
   "outputs": [],
   "source": [
    "# Plotting the relationship, along with a regrerssion line using the trendline parameter in px.scatter()\n",
    "\n",
    "los_fig = px.scatter(los_data, x=\"age\", y=\"los\", trendline=\"ols\")\n",
    "los_fig.update_layout(\n",
    "    yaxis_title=\"Length of stay (hours)\",\n",
    "    title=\"Evaluating the relationship between age and length of stay\",\n",
    ")"
   ]
  },
  {
   "cell_type": "markdown",
   "id": "c9142ac6",
   "metadata": {},
   "source": [
    "Note, we fit a line to minimise the error between our prediction and our observations:<br>\n",
    "$min\\sum_{i=1}^{n}(y_i - \\hat{y}_i)^2 = min\\sum_{i=1}^{n}(y_i - \\beta_0 + \\beta_1x_i)^2$"
   ]
  },
  {
   "cell_type": "markdown",
   "id": "b0ef8b86",
   "metadata": {},
   "source": [
    "This line does a good job at modelling the relationship! Let's repeat this process using sklearn."
   ]
  },
  {
   "cell_type": "markdown",
   "id": "4bf697ff",
   "metadata": {},
   "source": [
    "### Fitting a linear regression model using sklearn"
   ]
  },
  {
   "cell_type": "markdown",
   "id": "b86267a0",
   "metadata": {},
   "source": [
    "Firstly, we need to import the LinearRegression module from sklearn (which has been imported in the first cell):<br> `from sklearn.linear_model import LinearRegression`"
   ]
  },
  {
   "cell_type": "code",
   "execution_count": null,
   "id": "dc9b5011",
   "metadata": {},
   "outputs": [],
   "source": [
    "# Saving an instance of LinearRegression() to the variable linear_model\n",
    "linear_model = LinearRegression()"
   ]
  },
  {
   "cell_type": "code",
   "execution_count": null,
   "id": "ef624b7a",
   "metadata": {},
   "outputs": [],
   "source": [
    "# Separating independent (i.e., age) & dependant (i.e., LoS) variables\n",
    "X, y = los_data[[\"age\"]].values, los_data[\"los\"].values"
   ]
  },
  {
   "cell_type": "code",
   "execution_count": null,
   "id": "7a2002d2",
   "metadata": {},
   "outputs": [],
   "source": [
    "# Fitting model to los_data data (i.e., finding the line of best fit)\n",
    "linear_model.fit(X, y)"
   ]
  },
  {
   "cell_type": "code",
   "execution_count": null,
   "id": "b27fc7fe",
   "metadata": {},
   "outputs": [],
   "source": [
    "# Coefficient term\n",
    "beta_1 = linear_model.coef_[0]\n",
    "print(beta_1)"
   ]
  },
  {
   "cell_type": "code",
   "execution_count": null,
   "id": "5149736d",
   "metadata": {},
   "outputs": [],
   "source": [
    "# Intercept term\n",
    "beta_0 = linear_model.intercept_\n",
    "print(beta_0)"
   ]
  },
  {
   "cell_type": "code",
   "execution_count": null,
   "id": "aa459b93",
   "metadata": {},
   "outputs": [],
   "source": [
    "# Feel free to ignore this (showing how OLS estimates beta_0 and beta_1)\n",
    "\n",
    "def ols_estimate(x, y):\n",
    "    \n",
    "    '''\n",
    "    Function that estimates parameters of simple linear regression using OLS.\n",
    "    Check out ISLP page 71 for more info.\n",
    "    \n",
    "    Inputs:\n",
    "        x (numpy.array): Independent varable observed data.\n",
    "        y (numpy.array): Dependent variable observed data.\n",
    "    Outputs:\n",
    "        tuple: (beta_0, beta_1) \n",
    "        \n",
    "    '''\n",
    "    \n",
    "    # Calculate mean \n",
    "    x_mean = np.mean(x)\n",
    "    y_mean = np.mean(y)\n",
    "    \n",
    "    # beta 0 and beta 1 formulae\n",
    "    beta_1_est = np.sum((x - x_mean) * (y - y_mean) ) / np.sum((x - x_mean) ** 2)\n",
    "    beta_0_est = y_mean - beta_1_est*x_mean\n",
    "    \n",
    "    return beta_0_est, beta_1_est\n",
    "\n",
    "# We see the values returned are identical to sklearn\n",
    "print(ols_estimate(X, y))"
   ]
  },
  {
   "cell_type": "markdown",
   "id": "e6c55b44",
   "metadata": {},
   "source": [
    "We now have a mathematical model for the relationship between LoS and age!... now what?"
   ]
  },
  {
   "cell_type": "code",
   "execution_count": null,
   "id": "b3d9e87e",
   "metadata": {},
   "outputs": [],
   "source": [
    "# Making predictions for a new patient (i.e., expected LoS for someone aged 75)\n",
    "linear_model.predict([[75]])"
   ]
  },
  {
   "cell_type": "code",
   "execution_count": null,
   "id": "d4b253c7",
   "metadata": {},
   "outputs": [],
   "source": [
    "# We could equally make manual predictions using the fitted parameters using our prediction equation.\n",
    "prediction = beta_0 + beta_1 * 75\n",
    "print(prediction)"
   ]
  },
  {
   "cell_type": "markdown",
   "id": "e06c42cd",
   "metadata": {},
   "source": [
    "### Assessing model accuracy"
   ]
  },
  {
   "cell_type": "markdown",
   "id": "1ae627d0",
   "metadata": {},
   "source": [
    "We've fit the optimal line, but does a line really capture our process? There are plenty of metrics to evaluate the performance of the regression model. Look [here](https://scikit-learn.org/stable/modules/model_evaluation.html) for more information, or run the cell below."
   ]
  },
  {
   "cell_type": "code",
   "execution_count": null,
   "id": "eba7d850",
   "metadata": {},
   "outputs": [],
   "source": [
    "# Look at some of the available metrics in sklearn\n",
    "# dir(metrics._regression)"
   ]
  },
  {
   "cell_type": "markdown",
   "id": "6a6a97cd",
   "metadata": {},
   "source": [
    "$R^{2}$ is a metric that quantifies the proportion of variation of a dependant variable predictable by an independant variable(s), as a percentage from 0-100. This metric can be obtained by using the `.score()` method on the trained model."
   ]
  },
  {
   "cell_type": "code",
   "execution_count": null,
   "id": "eab554cb",
   "metadata": {},
   "outputs": [],
   "source": [
    "linear_model.score(X, y)"
   ]
  },
  {
   "cell_type": "markdown",
   "id": "9fd26ade",
   "metadata": {},
   "source": [
    "Note, we can easily calculate $R^{2}$ from scratch (although we wouldn't in practice):"
   ]
  },
  {
   "cell_type": "code",
   "execution_count": null,
   "id": "223fffd9",
   "metadata": {},
   "outputs": [],
   "source": [
    "mean_sum_squares = np.sum((y - np.mean(y)) ** 2)  # How \"good\" a mean line is\n",
    "model_sum_squares = np.sum(\n",
    "    (y - linear_model.predict(X)) ** 2\n",
    ")  # How \"good\" our model is\n",
    "\n",
    "# R^2 calculation\n",
    "r_2 = (mean_sum_squares - model_sum_squares) / mean_sum_squares\n",
    "# Note, if model_sum_squares=0, then r_2 = 1\n",
    "\n",
    "print(r_2)"
   ]
  },
  {
   "cell_type": "markdown",
   "id": "3e6daba3",
   "metadata": {},
   "source": [
    "$R^{2}$ returns a value between 0 and 1. A value of 0 would mean our model performs no better than a mean line, and 1 means we perfectly describe all variation in the data."
   ]
  },
  {
   "cell_type": "markdown",
   "id": "a3e01917",
   "metadata": {},
   "source": [
    "<div class=\"alert alert-block alert-success\">\n",
    "<b>Linear regression key points</b>\n",
    "</div>"
   ]
  },
  {
   "cell_type": "markdown",
   "id": "fce98d24",
   "metadata": {},
   "source": [
    "1. Now we have fit a line, we can predict new patient's LoS based on their age. For example, someone who is 75 will have a LoS of approximately 165 hours.\n",
    "2. We can quantiy the relationship. For example, every 10 year age increase (decrease) is associated with an increase (decrease) in LoS by 20 hours."
   ]
  },
  {
   "cell_type": "markdown",
   "id": "49d9d40e",
   "metadata": {},
   "source": [
    "<div class=\"alert alert-block alert-danger\">\n",
    "<b>Linear regression warnings:</b>\n",
    "</div>"
   ]
  },
  {
   "cell_type": "markdown",
   "id": "8099ce5e",
   "metadata": {},
   "source": [
    "1. We shouldn't extrapolate for predictions outside of our available age range (i.e., ages <50 or ages >95).\n",
    "2. This is only a sample of 50, the sample could be biased and not reflect the population relationship.\n",
    "3. Clearly, all data points don't fall exactly on the line i.e., a prediction is therefore associated with a degree of uncertainty."
   ]
  },
  {
   "cell_type": "markdown",
   "id": "c48c0849",
   "metadata": {},
   "source": [
    "**Task 1 (15-20 minutes)**"
   ]
  },
  {
   "cell_type": "markdown",
   "id": "d0363598",
   "metadata": {},
   "source": [
    "Data has been collected on A&E waiting times (in minutes) and bed occupancy (fake data). The department wishes to develop a model to predict patient waiting time based on bed occupancy.\n",
    "\n",
    "Use linear regression in sklearn to model the relationship between the target variable (`wait_times_mins`) and the independent variable (`beds_occ`)."
   ]
  },
  {
   "cell_type": "code",
   "execution_count": null,
   "id": "1321695e",
   "metadata": {},
   "outputs": [],
   "source": [
    "# Task data\n",
    "np.random.seed(random_seed)\n",
    "\n",
    "task_1_data = pd.DataFrame()\n",
    "task_1_data[\"wait_times_mins\"] = np.random.normal(3 * 60, 60, 50)\n",
    "task_1_data[\"beds_occ\"] = (\n",
    "    linear_function(\n",
    "        np.random.randn() + 1, np.random.randn(), task_1_data[\"wait_times_mins\"]\n",
    "    )\n",
    "    + np.random.normal(15, 15, 50)\n",
    ").astype(int)\n",
    "\n",
    "task_1_data.head()"
   ]
  },
  {
   "cell_type": "code",
   "execution_count": null,
   "id": "2a29edd1",
   "metadata": {},
   "outputs": [],
   "source": [
    "# Splitting into features and target\n",
    "X, y = task_1_data[[\"beds_occ\"]].values, task_1_data[\"wait_times_mins\"].values"
   ]
  },
  {
   "cell_type": "markdown",
   "id": "dcf80ca6",
   "metadata": {},
   "source": [
    "**Use the above A&E data to answer these questions:**"
   ]
  },
  {
   "cell_type": "markdown",
   "id": "d522f739",
   "metadata": {},
   "source": [
    "1. Plot the relationship using a scatter plot. Do you agree linear regression is appropriate here? (Remeber, what we are trying to predict usually goes along the y-axis)."
   ]
  },
  {
   "cell_type": "code",
   "execution_count": null,
   "id": "89b07693",
   "metadata": {},
   "outputs": [],
   "source": [
    "# Answer here"
   ]
  },
  {
   "cell_type": "markdown",
   "id": "61ce870f",
   "metadata": {},
   "source": [
    "2. Fit a simple linear regression model (using all the data) using `LinearRegression()`."
   ]
  },
  {
   "cell_type": "code",
   "execution_count": null,
   "id": "e44498b1",
   "metadata": {},
   "outputs": [],
   "source": [
    "# Answer here"
   ]
  },
  {
   "cell_type": "markdown",
   "id": "2bfc9dfa",
   "metadata": {},
   "source": [
    "3. Assess the accuracy of the model using `.score()` on the trained model (the $R^2$ value). Use the same data that was used to train the model to assess accuracy.<br>"
   ]
  },
  {
   "cell_type": "code",
   "execution_count": null,
   "id": "3fc16404",
   "metadata": {},
   "outputs": [],
   "source": [
    "# Answer here"
   ]
  },
  {
   "cell_type": "markdown",
   "id": "9a6d864b",
   "metadata": {},
   "source": [
    "4. A medical staff member finds there are currently 115 beds occupied. Using the trained model, can you provide an estimate waiting time?"
   ]
  },
  {
   "cell_type": "code",
   "execution_count": null,
   "id": "a2ab6318",
   "metadata": {},
   "outputs": [],
   "source": [
    "# Answer here"
   ]
  },
  {
   "cell_type": "markdown",
   "id": "eeb9f5f7",
   "metadata": {},
   "source": [
    "## Assumptions of linear regression"
   ]
  },
  {
   "cell_type": "markdown",
   "id": "dea6d951",
   "metadata": {},
   "source": [
    "### Assumption 1"
   ]
  },
  {
   "cell_type": "markdown",
   "id": "b3deff29",
   "metadata": {},
   "source": [
    "***There is a linear relationship between the independent variable(s) and the dependant variable.***"
   ]
  },
  {
   "cell_type": "markdown",
   "id": "6908b5d0",
   "metadata": {},
   "source": [
    "Suppose another hospital has looked into variables that impact patient length of stay. They have collected new data on patient age and three metrics they believe impact LoS. "
   ]
  },
  {
   "cell_type": "code",
   "execution_count": null,
   "id": "f2174540",
   "metadata": {},
   "outputs": [],
   "source": [
    "# We'll use make_regression to create a fake dataset.\n",
    "X, y, coef = make_regression(\n",
    "    n_samples=100,\n",
    "    n_features=4,\n",
    "    n_informative=2,\n",
    "    n_targets=1,\n",
    "    bias=1.5,\n",
    "    effective_rank=None,\n",
    "    tail_strength=0.5,\n",
    "    noise=15,\n",
    "    shuffle=True,\n",
    "    coef=True,\n",
    "    random_state=random_seed,\n",
    ")"
   ]
  },
  {
   "cell_type": "code",
   "execution_count": null,
   "id": "49919a7b",
   "metadata": {},
   "outputs": [],
   "source": [
    "# Store data in pandas.DataFrame\n",
    "regression_data = pd.DataFrame(X)\n",
    "regression_data[\"los\"] = y\n",
    "regression_data.columns = [\n",
    "    \"patient_health_metric_a\",\n",
    "    \"patient_health_metric_b\",\n",
    "    \"patient_health_metric_c\",\n",
    "    \"age\",\n",
    "    \"los\",\n",
    "]\n",
    "regression_data[\"age\"] += 75\n",
    "regression_data[\"los\"] += 300\n",
    "regression_data.head()"
   ]
  },
  {
   "cell_type": "code",
   "execution_count": null,
   "id": "8f1b2e21",
   "metadata": {},
   "outputs": [],
   "source": [
    "# Visualise the relationships between each feature and target, using a scatter plot\n",
    "\n",
    "scatter_figs = make_subplots(\n",
    "    rows=2,\n",
    "    cols=2,\n",
    "    subplot_titles=(\"Health metic A\", \"Health metic B\", \"Health metic C\", \"Age\"),\n",
    ")\n",
    "\n",
    "scatter_figs.add_trace(\n",
    "    go.Scatter(\n",
    "        x=regression_data[\"patient_health_metric_a\"],\n",
    "        y=regression_data.los,\n",
    "        mode=\"markers\",\n",
    "    ),\n",
    "    row=1,\n",
    "    col=1,\n",
    ")\n",
    "scatter_figs.add_trace(\n",
    "    go.Scatter(\n",
    "        x=regression_data[\"patient_health_metric_b\"],\n",
    "        y=regression_data.los,\n",
    "        mode=\"markers\",\n",
    "    ),\n",
    "    row=1,\n",
    "    col=2,\n",
    ")\n",
    "scatter_figs.add_trace(\n",
    "    go.Scatter(\n",
    "        x=regression_data[\"patient_health_metric_c\"],\n",
    "        y=regression_data.los,\n",
    "        mode=\"markers\",\n",
    "    ),\n",
    "    row=2,\n",
    "    col=1,\n",
    ")\n",
    "scatter_figs.add_trace(\n",
    "    go.Scatter(x=regression_data[\"age\"], y=regression_data.los, mode=\"markers\"),\n",
    "    row=2,\n",
    "    col=2,\n",
    ")\n",
    "scatter_figs.update_layout(margin=dict(b=5, t=100, l=5, r=5), showlegend=False)\n",
    "scatter_figs.update_layout(\n",
    "    title=\"Finding which variables have a linear relationship with LoS\"\n",
    ")\n",
    "scatter_figs.show()"
   ]
  },
  {
   "cell_type": "markdown",
   "id": "d32327fa",
   "metadata": {},
   "source": [
    "Is there a way to quantify the strength of the linear relationship between two variables...? Yes!"
   ]
  },
  {
   "cell_type": "markdown",
   "id": "ae87aeca",
   "metadata": {},
   "source": [
    "#### Pearson's correlation coefficient"
   ]
  },
  {
   "cell_type": "markdown",
   "id": "cdec5f82",
   "metadata": {},
   "source": [
    "Pearson's correlation coefficient is a measure of linear association between two variables:\n",
    "* -1 indicates a perfect negative association between two variables.\n",
    "* 0 indicates there is no relationship.\n",
    "* +1 indicates a perfect positive association between two variables.\n",
    "\n",
    "You can use the `.corr()` method on a pandas dataframe to calculate the correlation coefficient."
   ]
  },
  {
   "cell_type": "code",
   "execution_count": null,
   "id": "3b0df4d6",
   "metadata": {},
   "outputs": [],
   "source": [
    "regression_data.corr()"
   ]
  },
  {
   "cell_type": "markdown",
   "id": "6ba5abbf",
   "metadata": {},
   "source": [
    "As a rough rule for whether or not there is a linear association, we can follow these rules for absolute values:\n",
    "\n",
    "* 0-0.19: very weak\n",
    "* 0.2-0.39: weak\n",
    "* 0.4-0.59: moderate\n",
    "* 0.6-0.79: strong\n",
    "* 0.8-1: very strong\n",
    "\n",
    "More information on these rough guidlines from the BMJ [here](https://www.bmj.com/about-bmj/resources-readers/publications/statistics-square-one/11-correlation-and-regression)"
   ]
  },
  {
   "cell_type": "markdown",
   "id": "f6435764",
   "metadata": {},
   "source": [
    "Covarience is another metric used to quantify the strength of linear association between two variables, however, isn't bound betwen -1 and 1 like the correlation coefficient. \n",
    "\n",
    "$cov(x, y) = \\frac{1}{n}\\sum_{i=1}^{n}(x_i - \\bar{x})(y_i - \\bar{y})$\n",
    "\n",
    "$corr(x, y) = \\frac{cov(x, y)}{\\sqrt{var(x)}\\sqrt{var(y)}}$"
   ]
  },
  {
   "cell_type": "markdown",
   "id": "8f92bac4",
   "metadata": {},
   "source": [
    "### Assumption 2, 3, and 4"
   ]
  },
  {
   "cell_type": "markdown",
   "id": "3ae38a5f",
   "metadata": {},
   "source": [
    "***The residuals (or error terms) will:***\n",
    "* Be approximately normally distributed (with mean=0)\n",
    "* Have constant variance (homoscedasticity)\n",
    "* Be independent of one another"
   ]
  },
  {
   "cell_type": "markdown",
   "id": "e7256e10",
   "metadata": {},
   "source": [
    "What are residuals (error terms)? They are the difference between the fitted line and the actual values. They are used to fit the line (we want to minimise our error) and can be studied to provide insight into uncertainty in our predictions."
   ]
  },
  {
   "cell_type": "markdown",
   "id": "d5c9498c",
   "metadata": {},
   "source": [
    "#### Model error (residuals)"
   ]
  },
  {
   "cell_type": "markdown",
   "id": "efce017a",
   "metadata": {},
   "source": [
    "We know age has a strong linear relationship with the target variable. Lets fit a `LinearRegression()` model and study the residuals."
   ]
  },
  {
   "cell_type": "code",
   "execution_count": null,
   "id": "82d51f12",
   "metadata": {},
   "outputs": [],
   "source": [
    "# Seperate data into features and target\n",
    "X, y = regression_data[[\"age\"]].values, regression_data[\"los\"].values"
   ]
  },
  {
   "cell_type": "code",
   "execution_count": null,
   "id": "9f5c6a6f",
   "metadata": {},
   "outputs": [],
   "source": [
    "# Instantiate LinearRegression model.\n",
    "linear_model = LinearRegression()"
   ]
  },
  {
   "cell_type": "code",
   "execution_count": null,
   "id": "e43e3513",
   "metadata": {},
   "outputs": [],
   "source": [
    "# Fit model to data\n",
    "linear_model.fit(X, y)"
   ]
  },
  {
   "cell_type": "markdown",
   "id": "1a238631",
   "metadata": {},
   "source": [
    "Visualise the fitted model"
   ]
  },
  {
   "cell_type": "code",
   "execution_count": null,
   "id": "cde1ef38",
   "metadata": {},
   "outputs": [],
   "source": [
    "los_mode_fig = px.scatter(x=X.flatten(), y=y.flatten(), trendline=\"ols\")\n",
    "los_mode_fig.update_layout(\n",
    "    xaxis_title=\"Age\",\n",
    "    yaxis_title=\"Length of stay\",\n",
    "    title=\"Fitted linear regression model for predicting patient los from their age\",\n",
    ")"
   ]
  },
  {
   "cell_type": "code",
   "execution_count": null,
   "id": "80fa1181",
   "metadata": {},
   "outputs": [],
   "source": [
    "# Lets make predictions based on our training input\n",
    "fitted_values = linear_model.predict(X)"
   ]
  },
  {
   "cell_type": "code",
   "execution_count": null,
   "id": "173aaa88",
   "metadata": {},
   "outputs": [],
   "source": [
    "# The residuals are simply the error (i.e., fitted values - actual values)\n",
    "residuals = fitted_values.flatten() - y.flatten()"
   ]
  },
  {
   "cell_type": "code",
   "execution_count": null,
   "id": "0371cbc5",
   "metadata": {},
   "outputs": [],
   "source": [
    "# Show first 10 residuls\n",
    "residuals[:10]"
   ]
  },
  {
   "cell_type": "markdown",
   "id": "6d6846e8",
   "metadata": {},
   "source": [
    "### Diagnostic plots "
   ]
  },
  {
   "cell_type": "code",
   "execution_count": null,
   "id": "12f6adeb",
   "metadata": {},
   "outputs": [],
   "source": [
    "resid_figs = make_subplots(\n",
    "    rows=1,\n",
    "    cols=2,\n",
    "    subplot_titles=(\"Histogram of residuals\", \"Residuals vs fitted values\"),\n",
    ")\n",
    "\n",
    "resid_figs.add_trace(go.Histogram(x=residuals), row=1, col=1)\n",
    "resid_figs.add_trace(\n",
    "    go.Scatter(x=fitted_values.flatten(), y=residuals, mode=\"markers\"), row=1, col=2\n",
    ")\n",
    "resid_figs.update_layout(showlegend=False)"
   ]
  },
  {
   "cell_type": "markdown",
   "id": "02bd035a",
   "metadata": {},
   "source": [
    "<div class=\"alert alert-block alert-success\">\n",
    "<b>Tip: Remember LINE for linear regression assumptions</b>\n",
    "    \n",
    "* Linearity\n",
    "* Independence\n",
    "* Normality \n",
    "* Equality of variance\n",
    "</div>"
   ]
  },
  {
   "cell_type": "markdown",
   "id": "e76ca515",
   "metadata": {},
   "source": [
    "Great! We now know how to fit a linear regression model using sklearn, we can assess the performance and verify the model assumptions."
   ]
  },
  {
   "cell_type": "markdown",
   "id": "6dca8bbb",
   "metadata": {},
   "source": [
    "## Train-Test split"
   ]
  },
  {
   "cell_type": "markdown",
   "id": "ca201582",
   "metadata": {},
   "source": [
    "Lets use train, test split in order to reduce the chance of overfitting our model. Lets look again at `age` predicting `los`. Rather than training a model using all available data, lets split the data into training and testing sets."
   ]
  },
  {
   "cell_type": "code",
   "execution_count": null,
   "id": "0c7cd452",
   "metadata": {},
   "outputs": [],
   "source": [
    "X, y = regression_data[[\"age\"]].values, regression_data[\"los\"].values"
   ]
  },
  {
   "cell_type": "code",
   "execution_count": null,
   "id": "b0cf541c",
   "metadata": {},
   "outputs": [],
   "source": [
    "X_train, X_test, y_train, y_test = train_test_split(\n",
    "    X, y, random_state=random_seed, test_size=0.3, shuffle=True\n",
    ")"
   ]
  },
  {
   "cell_type": "code",
   "execution_count": null,
   "id": "84a43703",
   "metadata": {},
   "outputs": [],
   "source": [
    "# Fitting model to los_data training data\n",
    "linear_model.fit(X_train, y_train)"
   ]
  },
  {
   "cell_type": "code",
   "execution_count": null,
   "id": "cb54fa0d",
   "metadata": {},
   "outputs": [],
   "source": [
    "# Get coefficient and intercept from fitted line\n",
    "print(linear_model.coef_)"
   ]
  },
  {
   "cell_type": "code",
   "execution_count": null,
   "id": "725abe5c",
   "metadata": {},
   "outputs": [],
   "source": [
    "print(linear_model.intercept_)"
   ]
  },
  {
   "cell_type": "markdown",
   "id": "cb5c35c8",
   "metadata": {},
   "source": [
    "Plot the fitted model using the training data and the unseen testing data."
   ]
  },
  {
   "cell_type": "code",
   "execution_count": null,
   "id": "bd9a5707",
   "metadata": {},
   "outputs": [],
   "source": [
    "train_test_fig = px.scatter(x=X_train.flatten(), y=y_train.flatten(), trendline=\"ols\")\n",
    "train_test_fig.add_trace(\n",
    "    go.Scatter(\n",
    "        x=X_test.flatten(),\n",
    "        y=y_test.flatten(),\n",
    "        mode=\"markers\",\n",
    "        marker=dict(color=\"red\"),\n",
    "        name=\"Unseen test data\",\n",
    "    )\n",
    ")\n",
    "train_test_fig.update_layout(\n",
    "    xaxis_title=\"Patient age\",\n",
    "    yaxis_title=\"Length of stay\",\n",
    "    title=\"Fitting linear regression model\",\n",
    ")\n",
    "train_test_fig.show()"
   ]
  },
  {
   "cell_type": "code",
   "execution_count": null,
   "id": "8b06f2a6",
   "metadata": {},
   "outputs": [],
   "source": [
    "linear_model.score(X_train, y_train)"
   ]
  },
  {
   "cell_type": "markdown",
   "id": "78f10061",
   "metadata": {},
   "source": [
    "We can now get a much better indication on how the model will perform on unseen incoming data in the future!"
   ]
  },
  {
   "cell_type": "code",
   "execution_count": null,
   "id": "054795f7",
   "metadata": {},
   "outputs": [],
   "source": [
    "linear_model.score(X_test, y_test)"
   ]
  },
  {
   "cell_type": "markdown",
   "id": "a41eb58f",
   "metadata": {},
   "source": [
    "Note, we can extend this concept to perform multiple train-test splits, further reducing the chance of overfitting. This concept is known as cross validation. "
   ]
  },
  {
   "cell_type": "markdown",
   "id": "9f6ffdd9",
   "metadata": {},
   "source": [
    "## Multiple linear regression"
   ]
  },
  {
   "cell_type": "markdown",
   "id": "105063d5",
   "metadata": {},
   "source": [
    "Previously, we only considered a single independent variable (i.e., age) to predict some outcome (i.e., LoS). What if we wanted to predict LoS by using multiple independent variables (i.e., age and health metric C)?"
   ]
  },
  {
   "cell_type": "markdown",
   "id": "07bba8df",
   "metadata": {},
   "source": [
    "We could fit seperate simple linear regression models for each of our independent variables to the target..but this isn't the best option:\n",
    "* How would we obtain a single prediction?\n",
    "* Each of the three equations ignore the other two."
   ]
  },
  {
   "cell_type": "markdown",
   "id": "493de318",
   "metadata": {},
   "source": [
    "A better approach is to extend linear regression to include n variables:<br>\n",
    "$\\hat{y} = \\beta_1x_1 + \\beta_2x_2+...+\\beta_nx_n$\n",
    "\n",
    "All the concepts described above can be used when using more than one independent variable!"
   ]
  },
  {
   "cell_type": "markdown",
   "id": "6127fb28",
   "metadata": {},
   "source": [
    "We now interpret the coefficient for each variable as the impact of changing that variable **while holding all other independant variables constant**. Lets fit a linear regression model using both `age` and `patient_health_metric_c` to predict `los`."
   ]
  },
  {
   "cell_type": "code",
   "execution_count": null,
   "id": "870a4fc8",
   "metadata": {},
   "outputs": [],
   "source": [
    "X, y = (\n",
    "    regression_data[[\"age\", \"patient_health_metric_c\"]].values,\n",
    "    regression_data[\"los\"].values,\n",
    ")"
   ]
  },
  {
   "cell_type": "code",
   "execution_count": null,
   "id": "78f3ef6c",
   "metadata": {},
   "outputs": [],
   "source": [
    "X_train, X_test, y_train, y_test = train_test_split(\n",
    "    X, y, random_state=random_seed, test_size=0.3\n",
    ")"
   ]
  },
  {
   "cell_type": "code",
   "execution_count": null,
   "id": "125c59ec",
   "metadata": {},
   "outputs": [],
   "source": [
    "# Fitting model to training data\n",
    "linear_model.fit(X_train, y_train)"
   ]
  },
  {
   "cell_type": "code",
   "execution_count": null,
   "id": "703ec522",
   "metadata": {},
   "outputs": [],
   "source": [
    "beta_0 = linear_model.intercept_\n",
    "beta_1 = linear_model.coef_[0]\n",
    "beta_2 = linear_model.coef_[1]\n",
    "\n",
    "print(f\"Intercept = {beta_0}\")\n",
    "print(f\"Age coef. = {beta_1}\")\n",
    "print(f\"patient_health_metric_c coef. = {beta_2}\")"
   ]
  },
  {
   "cell_type": "code",
   "execution_count": null,
   "id": "0099c80a",
   "metadata": {},
   "outputs": [],
   "source": [
    "# Make a prediction on los using the .predict() method\n",
    "linear_model.predict([[75, 0.5]])"
   ]
  },
  {
   "cell_type": "code",
   "execution_count": null,
   "id": "2ccbdf68",
   "metadata": {},
   "outputs": [],
   "source": [
    "# We could again manually make this prediction (using the linear equation)\n",
    "los_prediction = beta_0 + beta_1 * 75 + beta_2 * 0.5\n",
    "print(los_prediction)"
   ]
  },
  {
   "cell_type": "code",
   "execution_count": null,
   "id": "e2323f91",
   "metadata": {},
   "outputs": [],
   "source": [
    "# Score model on test data\n",
    "linear_model.score(X_test, y_test)"
   ]
  },
  {
   "cell_type": "markdown",
   "id": "e8856463",
   "metadata": {},
   "source": [
    "This model performs much better compared with only use `age` as a predictor!"
   ]
  },
  {
   "cell_type": "markdown",
   "id": "701ace29",
   "metadata": {},
   "source": [
    "<div class=\"alert alert-block alert-success\">\n",
    "<b>Multiple linear regression key points</b>\n",
    "</div>"
   ]
  },
  {
   "cell_type": "markdown",
   "id": "ac2da1b5",
   "metadata": {},
   "source": [
    "1. We can generalise simple linear regression to include $n$ independent variables.\n",
    "2. You can interperate each coefficient as the linear relationship between the independent variable and the depedent variable, **while holding all other variables constant.**"
   ]
  },
  {
   "cell_type": "markdown",
   "id": "c002cd4c",
   "metadata": {},
   "source": [
    "<div class=\"alert alert-block alert-danger\">\n",
    "<b>Multiple linear regression warnings:</b>\n",
    "</div>"
   ]
  },
  {
   "cell_type": "markdown",
   "id": "9768d0b3",
   "metadata": {},
   "source": [
    "1. Multicollinearity (where 2 or more independant variables have high correlation) between independent variables may impact the interpretation of coefficients in the model.\n",
    "2. Variables with different scales may also impact the coefficient interpretation. This can be avoided by using standardising techniques (covered in the pre-processing session).\n",
    "3. Be cautious of using $R^2$, it does not take model complexity into account, and may lead to overfitting if it's the only metric observed."
   ]
  },
  {
   "cell_type": "markdown",
   "id": "366ac83b",
   "metadata": {},
   "source": [
    "**Task 2 (15-20 mins)**"
   ]
  },
  {
   "cell_type": "markdown",
   "id": "ded722c5",
   "metadata": {},
   "source": [
    "Additional data from an A&E department was collected. Use multiple linear regression to model the relationship between A&E waiting times and 5 other independent variables (multicollinearity not present in data). "
   ]
  },
  {
   "cell_type": "code",
   "execution_count": null,
   "id": "41c08ec0",
   "metadata": {},
   "outputs": [],
   "source": [
    "# We'll use make_regression to create a fake dataset on los.\n",
    "X, y, coef = make_regression(\n",
    "    n_samples=100,\n",
    "    n_features=5,\n",
    "    n_informative=2,\n",
    "    n_targets=1,\n",
    "    bias=1.5,\n",
    "    effective_rank=None,\n",
    "    tail_strength=0.5,\n",
    "    noise=15,\n",
    "    shuffle=True,\n",
    "    coef=True,\n",
    "    random_state=random_seed,\n",
    ")"
   ]
  },
  {
   "cell_type": "code",
   "execution_count": null,
   "id": "a106ca50",
   "metadata": {},
   "outputs": [],
   "source": [
    "# Store data in pandas.DataFrame\n",
    "task_2_data = pd.DataFrame(X)\n",
    "task_2_data.columns = [\n",
    "    \"hospital_metric\",\n",
    "    \"beds_metric\",\n",
    "    \"arrivals_metric\",\n",
    "    \"staffing_metric\",\n",
    "    \"ambulance_metric\",\n",
    "]\n",
    "task_2_data[\"wait_times_mins\"] = y + 250"
   ]
  },
  {
   "cell_type": "markdown",
   "id": "f8ed2b75",
   "metadata": {},
   "source": [
    "1. Calculate the correlation coefficient of the `task_2_data` dataframe to find the two most correlated features with the target variable (`wait_times_mins`)."
   ]
  },
  {
   "cell_type": "code",
   "execution_count": null,
   "id": "ae48b430",
   "metadata": {},
   "outputs": [],
   "source": [
    "# Answer here"
   ]
  },
  {
   "cell_type": "markdown",
   "id": "5b4005b3",
   "metadata": {},
   "source": [
    "2. Plot chosen feature(s) using a scatter plot to verify linear relationship."
   ]
  },
  {
   "cell_type": "code",
   "execution_count": null,
   "id": "927837d8",
   "metadata": {},
   "outputs": [],
   "source": [
    "# Answer here"
   ]
  },
  {
   "cell_type": "markdown",
   "id": "c87b68cd",
   "metadata": {},
   "source": [
    "3. Store selected features in a list called `seleted_features`, uncomment and run the cell below"
   ]
  },
  {
   "cell_type": "code",
   "execution_count": null,
   "id": "b0e98bdc",
   "metadata": {},
   "outputs": [],
   "source": [
    "# Answer here"
   ]
  },
  {
   "cell_type": "code",
   "execution_count": null,
   "id": "9da686d3",
   "metadata": {},
   "outputs": [],
   "source": [
    "# X, y = task_2_data[seleted_features].values, task_2_data[\"wait_times_mins\"].values"
   ]
  },
  {
   "cell_type": "markdown",
   "id": "70ade7d0",
   "metadata": {},
   "source": [
    "4. Split the data into training and testing (30% testing size with `random_state` set to 42) and train a `LinearRegression()` model using the training data. Note, in sklearn multiple linear regression is the exact same process as with simple linear regression! "
   ]
  },
  {
   "cell_type": "code",
   "execution_count": null,
   "id": "8df3848c",
   "metadata": {},
   "outputs": [],
   "source": [
    "# Answer here"
   ]
  },
  {
   "cell_type": "markdown",
   "id": "9c5d3a76",
   "metadata": {},
   "source": [
    "5. Score the model on the testing dataset. "
   ]
  },
  {
   "cell_type": "code",
   "execution_count": null,
   "id": "f7765982",
   "metadata": {},
   "outputs": [],
   "source": [
    "# Answer here"
   ]
  },
  {
   "cell_type": "markdown",
   "id": "13a0a8df",
   "metadata": {},
   "source": [
    "6. Calculate residuals and plot them in a histogram (if you have time)."
   ]
  },
  {
   "cell_type": "code",
   "execution_count": null,
   "id": "50bd5030",
   "metadata": {},
   "outputs": [],
   "source": [
    "# Answer here"
   ]
  }
 ],
 "metadata": {
  "kernelspec": {
   "display_name": "Python 3 (ipykernel)",
   "language": "python",
   "name": "python3"
  },
  "language_info": {
   "codemirror_mode": {
    "name": "ipython",
    "version": 3
   },
   "file_extension": ".py",
   "mimetype": "text/x-python",
   "name": "python",
   "nbconvert_exporter": "python",
   "pygments_lexer": "ipython3",
   "version": "3.10.8"
  }
 },
 "nbformat": 4,
 "nbformat_minor": 5
}
